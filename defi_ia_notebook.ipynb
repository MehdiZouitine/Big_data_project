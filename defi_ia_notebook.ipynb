{
 "cells": [
  {
   "cell_type": "code",
   "execution_count": 1,
   "metadata": {
    "executionInfo": {
     "elapsed": 9950,
     "status": "ok",
     "timestamp": 1603037507599,
     "user": {
      "displayName": "Zouitine Mehdi",
      "photoUrl": "",
      "userId": "12448681489671159026"
     },
     "user_tz": -120
    },
    "id": "AXSTA0Hg1L05",
    "scrolled": true
   },
   "outputs": [],
   "source": [
    "import gc\n",
    "import matplotlib.pyplot as plt\n",
    "import numpy as np\n",
    "import pandas as pd\n",
    "from sklearn.metrics import f1_score\n",
    "from sklearn.model_selection import train_test_split\n",
    "from sklearn.utils.class_weight import compute_class_weight\n",
    "import time\n",
    "import torch\n",
    "from torch.utils.data import DataLoader, Dataset\n",
    "import torch.nn as nn\n",
    "from transformers import BertTokenizerFast, AutoModel, AdamW\n",
    "from tqdm import tqdm\n",
    "from torch.optim.lr_scheduler import StepLR\n",
    "from transformers import DistilBertModel, DistilBertTokenizerFast\n",
    "from transformers import DistilBertTokenizer, DistilBertForSequenceClassification\n",
    "from transformers import BertModel, BertConfig,BertTokenizerFast\n",
    "import numpy as np"
   ]
  },
  {
   "cell_type": "code",
   "execution_count": 2,
   "metadata": {
    "executionInfo": {
     "elapsed": 4347,
     "status": "ok",
     "timestamp": 1603037525359,
     "user": {
      "displayName": "Zouitine Mehdi",
      "photoUrl": "",
      "userId": "12448681489671159026"
     },
     "user_tz": -120
    },
    "id": "Jict38JE0GLJ"
   },
   "outputs": [],
   "source": [
    "DATA_PATH = \"data\"\n",
    "train_df = pd.read_json(DATA_PATH+\"/train.json\")\n",
    "test_df = pd.read_json(DATA_PATH+\"/test.json\")\n",
    "train_label = pd.read_csv(DATA_PATH+\"/train_label.csv\")\n",
    "cate = pd.read_csv(DATA_PATH+\"/categories_string.csv\")"
   ]
  },
  {
   "cell_type": "code",
   "execution_count": 3,
   "metadata": {},
   "outputs": [],
   "source": [
    "train_df = train_df.merge(train_label,on='Id',how='left')"
   ]
  },
  {
   "cell_type": "code",
   "execution_count": 4,
   "metadata": {
    "scrolled": false
   },
   "outputs": [
    {
     "data": {
      "text/html": [
       "<div>\n",
       "<style scoped>\n",
       "    .dataframe tbody tr th:only-of-type {\n",
       "        vertical-align: middle;\n",
       "    }\n",
       "\n",
       "    .dataframe tbody tr th {\n",
       "        vertical-align: top;\n",
       "    }\n",
       "\n",
       "    .dataframe thead th {\n",
       "        text-align: right;\n",
       "    }\n",
       "</style>\n",
       "<table border=\"1\" class=\"dataframe\">\n",
       "  <thead>\n",
       "    <tr style=\"text-align: right;\">\n",
       "      <th></th>\n",
       "      <th>0</th>\n",
       "      <th>1</th>\n",
       "    </tr>\n",
       "  </thead>\n",
       "  <tbody>\n",
       "    <tr>\n",
       "      <th>0</th>\n",
       "      <td>pastor</td>\n",
       "      <td>0</td>\n",
       "    </tr>\n",
       "    <tr>\n",
       "      <th>1</th>\n",
       "      <td>model</td>\n",
       "      <td>1</td>\n",
       "    </tr>\n",
       "    <tr>\n",
       "      <th>2</th>\n",
       "      <td>yoga_teacher</td>\n",
       "      <td>2</td>\n",
       "    </tr>\n",
       "    <tr>\n",
       "      <th>3</th>\n",
       "      <td>teacher</td>\n",
       "      <td>3</td>\n",
       "    </tr>\n",
       "    <tr>\n",
       "      <th>4</th>\n",
       "      <td>personal_trainer</td>\n",
       "      <td>4</td>\n",
       "    </tr>\n",
       "    <tr>\n",
       "      <th>5</th>\n",
       "      <td>painter</td>\n",
       "      <td>5</td>\n",
       "    </tr>\n",
       "    <tr>\n",
       "      <th>6</th>\n",
       "      <td>journalist</td>\n",
       "      <td>6</td>\n",
       "    </tr>\n",
       "    <tr>\n",
       "      <th>7</th>\n",
       "      <td>interior_designer</td>\n",
       "      <td>7</td>\n",
       "    </tr>\n",
       "    <tr>\n",
       "      <th>8</th>\n",
       "      <td>surgeon</td>\n",
       "      <td>8</td>\n",
       "    </tr>\n",
       "    <tr>\n",
       "      <th>9</th>\n",
       "      <td>accountant</td>\n",
       "      <td>9</td>\n",
       "    </tr>\n",
       "    <tr>\n",
       "      <th>10</th>\n",
       "      <td>dj</td>\n",
       "      <td>10</td>\n",
       "    </tr>\n",
       "    <tr>\n",
       "      <th>11</th>\n",
       "      <td>physician</td>\n",
       "      <td>11</td>\n",
       "    </tr>\n",
       "    <tr>\n",
       "      <th>12</th>\n",
       "      <td>comedian</td>\n",
       "      <td>12</td>\n",
       "    </tr>\n",
       "    <tr>\n",
       "      <th>13</th>\n",
       "      <td>software_engineer</td>\n",
       "      <td>13</td>\n",
       "    </tr>\n",
       "    <tr>\n",
       "      <th>14</th>\n",
       "      <td>nurse</td>\n",
       "      <td>14</td>\n",
       "    </tr>\n",
       "    <tr>\n",
       "      <th>15</th>\n",
       "      <td>poet</td>\n",
       "      <td>15</td>\n",
       "    </tr>\n",
       "    <tr>\n",
       "      <th>16</th>\n",
       "      <td>dentist</td>\n",
       "      <td>16</td>\n",
       "    </tr>\n",
       "    <tr>\n",
       "      <th>17</th>\n",
       "      <td>chiropractor</td>\n",
       "      <td>17</td>\n",
       "    </tr>\n",
       "    <tr>\n",
       "      <th>18</th>\n",
       "      <td>filmmaker</td>\n",
       "      <td>18</td>\n",
       "    </tr>\n",
       "    <tr>\n",
       "      <th>19</th>\n",
       "      <td>professor</td>\n",
       "      <td>19</td>\n",
       "    </tr>\n",
       "    <tr>\n",
       "      <th>20</th>\n",
       "      <td>photographer</td>\n",
       "      <td>20</td>\n",
       "    </tr>\n",
       "    <tr>\n",
       "      <th>21</th>\n",
       "      <td>rapper</td>\n",
       "      <td>21</td>\n",
       "    </tr>\n",
       "    <tr>\n",
       "      <th>22</th>\n",
       "      <td>psychologist</td>\n",
       "      <td>22</td>\n",
       "    </tr>\n",
       "    <tr>\n",
       "      <th>23</th>\n",
       "      <td>paralegal</td>\n",
       "      <td>23</td>\n",
       "    </tr>\n",
       "    <tr>\n",
       "      <th>24</th>\n",
       "      <td>architect</td>\n",
       "      <td>24</td>\n",
       "    </tr>\n",
       "    <tr>\n",
       "      <th>25</th>\n",
       "      <td>composer</td>\n",
       "      <td>25</td>\n",
       "    </tr>\n",
       "    <tr>\n",
       "      <th>26</th>\n",
       "      <td>attorney</td>\n",
       "      <td>26</td>\n",
       "    </tr>\n",
       "    <tr>\n",
       "      <th>27</th>\n",
       "      <td>dietitian</td>\n",
       "      <td>27</td>\n",
       "    </tr>\n",
       "  </tbody>\n",
       "</table>\n",
       "</div>"
      ],
      "text/plain": [
       "                    0   1\n",
       "0              pastor   0\n",
       "1               model   1\n",
       "2        yoga_teacher   2\n",
       "3             teacher   3\n",
       "4    personal_trainer   4\n",
       "5             painter   5\n",
       "6          journalist   6\n",
       "7   interior_designer   7\n",
       "8             surgeon   8\n",
       "9          accountant   9\n",
       "10                 dj  10\n",
       "11          physician  11\n",
       "12           comedian  12\n",
       "13  software_engineer  13\n",
       "14              nurse  14\n",
       "15               poet  15\n",
       "16            dentist  16\n",
       "17       chiropractor  17\n",
       "18          filmmaker  18\n",
       "19          professor  19\n",
       "20       photographer  20\n",
       "21             rapper  21\n",
       "22       psychologist  22\n",
       "23          paralegal  23\n",
       "24          architect  24\n",
       "25           composer  25\n",
       "26           attorney  26\n",
       "27          dietitian  27"
      ]
     },
     "execution_count": 4,
     "metadata": {},
     "output_type": "execute_result"
    }
   ],
   "source": [
    "cate"
   ]
  },
  {
   "cell_type": "code",
   "execution_count": 5,
   "metadata": {},
   "outputs": [
    {
     "data": {
      "text/plain": [
       "21      783\n",
       "4       807\n",
       "10      831\n",
       "7       858\n",
       "2       944\n",
       "23      967\n",
       "17     1406\n",
       "0      1497\n",
       "12     1639\n",
       "27     2288\n",
       "9      3121\n",
       "25     3395\n",
       "13     4060\n",
       "1      4115\n",
       "18     4124\n",
       "15     4292\n",
       "5      4621\n",
       "16     5450\n",
       "24     5841\n",
       "8      6616\n",
       "3      9145\n",
       "22    10391\n",
       "11    11607\n",
       "6     12295\n",
       "14    12622\n",
       "20    14646\n",
       "26    18820\n",
       "19    70016\n",
       "Name: Category, dtype: int64"
      ]
     },
     "execution_count": 5,
     "metadata": {},
     "output_type": "execute_result"
    }
   ],
   "source": [
    "train_df['Category'].value_counts().sort_values(ascending=True)"
   ]
  },
  {
   "cell_type": "code",
   "execution_count": 6,
   "metadata": {},
   "outputs": [
    {
     "data": {
      "image/png": "[encoded data removed]",
      "text/plain": [
       "<Figure size 432x288 with 1 Axes>"
      ]
     },
     "metadata": {
      "needs_background": "light"
     },
     "output_type": "display_data"
    }
   ],
   "source": [
    "plt.hist(train_label['Category'],bins='auto');"
   ]
  },
  {
   "cell_type": "code",
   "execution_count": 10,
   "metadata": {},
   "outputs": [
    {
     "data": {
      "text/plain": [
       "' She is also a Ronald D. Asmus Policy Entrepreneur Fellow with the German Marshall Fund and is a Visiting Fellow at the Centre for International Studies (CIS) at the University of Oxford. This commentary first appeared at Sada, an online journal published by the Carnegie Endowment for International Peace.'"
      ]
     },
     "execution_count": 10,
     "metadata": {},
     "output_type": "execute_result"
    }
   ],
   "source": [
    "train_df['description'].iloc[0]"
   ]
  },
  {
   "cell_type": "code",
   "execution_count": 8,
   "metadata": {},
   "outputs": [
    {
     "data": {
      "text/plain": [
       "Category  gender\n",
       "0         M          1137\n",
       "          F           360\n",
       "1         F          3398\n",
       "          M           717\n",
       "2         F           803\n",
       "          M           141\n",
       "3         F          5420\n",
       "          M          3725\n",
       "4         M           443\n",
       "          F           364\n",
       "5         M          2490\n",
       "          F          2131\n",
       "6         M          6172\n",
       "          F          6123\n",
       "7         F           694\n",
       "          M           164\n",
       "8         M          5726\n",
       "          F           890\n",
       "9         M          1992\n",
       "          F          1129\n",
       "10        M           706\n",
       "          F           125\n",
       "11        M          7026\n",
       "          F          4581\n",
       "12        M          1294\n",
       "          F           345\n",
       "13        M          3447\n",
       "          F           613\n",
       "14        F         11493\n",
       "          M          1129\n",
       "15        F          2153\n",
       "          M          2139\n",
       "16        M          3555\n",
       "          F          1895\n",
       "17        M          1015\n",
       "          F           391\n",
       "18        M          2730\n",
       "          F          1394\n",
       "19        M         38592\n",
       "          F         31424\n",
       "20        M          9517\n",
       "          F          5129\n",
       "21        M           719\n",
       "          F            64\n",
       "22        F          6418\n",
       "          M          3973\n",
       "23        F           814\n",
       "          M           153\n",
       "24        M          4527\n",
       "          F          1314\n",
       "25        M          2842\n",
       "          F           553\n",
       "26        M         11714\n",
       "          F          7106\n",
       "27        F          2120\n",
       "          M           168\n",
       "Name: gender, dtype: int64"
      ]
     },
     "execution_count": 8,
     "metadata": {},
     "output_type": "execute_result"
    }
   ],
   "source": [
    "train_df.groupby('Category')['gender'].value_counts()"
   ]
  },
  {
   "cell_type": "code",
   "execution_count": 3,
   "metadata": {},
   "outputs": [],
   "source": [
    "import nltk\n",
    "import re\n",
    "\n",
    "\n",
    "\n"
   ]
  },
  {
   "cell_type": "code",
   "execution_count": 4,
   "metadata": {},
   "outputs": [
    {
     "ename": "KeyboardInterrupt",
     "evalue": "",
     "output_type": "error",
     "traceback": [
      "\u001b[0;31m---------------------------------------------------------------------------\u001b[0m",
      "\u001b[0;31mKeyboardInterrupt\u001b[0m                         Traceback (most recent call last)",
      "\u001b[0;32m<ipython-input-4-87c692bdeee6>\u001b[0m in \u001b[0;36m<module>\u001b[0;34m\u001b[0m\n\u001b[1;32m      1\u001b[0m \u001b[0mtrain_df\u001b[0m\u001b[0;34m[\u001b[0m\u001b[0;34m'description'\u001b[0m\u001b[0;34m]\u001b[0m \u001b[0;34m=\u001b[0m \u001b[0mtrain_df\u001b[0m\u001b[0;34m[\u001b[0m\u001b[0;34m'description'\u001b[0m\u001b[0;34m]\u001b[0m\u001b[0;34m.\u001b[0m\u001b[0mapply\u001b[0m\u001b[0;34m(\u001b[0m\u001b[0;32mlambda\u001b[0m \u001b[0mx\u001b[0m\u001b[0;34m:\u001b[0m \u001b[0mre\u001b[0m\u001b[0;34m.\u001b[0m\u001b[0msub\u001b[0m\u001b[0;34m(\u001b[0m\u001b[0;34mr\"[^a-zA-Z]+\"\u001b[0m\u001b[0;34m,\u001b[0m \u001b[0;34m' '\u001b[0m\u001b[0;34m,\u001b[0m \u001b[0mx\u001b[0m\u001b[0;34m)\u001b[0m\u001b[0;34m)\u001b[0m\u001b[0;34m\u001b[0m\u001b[0;34m\u001b[0m\u001b[0m\n\u001b[0;32m----> 2\u001b[0;31m \u001b[0mtrain_df\u001b[0m\u001b[0;34m[\u001b[0m\u001b[0;34m'description'\u001b[0m\u001b[0;34m]\u001b[0m \u001b[0;34m=\u001b[0m \u001b[0mtrain_df\u001b[0m\u001b[0;34m[\u001b[0m\u001b[0;34m'description'\u001b[0m\u001b[0;34m]\u001b[0m\u001b[0;34m.\u001b[0m\u001b[0mapply\u001b[0m\u001b[0;34m(\u001b[0m\u001b[0;32mlambda\u001b[0m \u001b[0mx\u001b[0m \u001b[0;34m:\u001b[0m \u001b[0mword_tokenize\u001b[0m\u001b[0;34m(\u001b[0m\u001b[0mx\u001b[0m\u001b[0;34m.\u001b[0m\u001b[0mlower\u001b[0m\u001b[0;34m(\u001b[0m\u001b[0;34m)\u001b[0m\u001b[0;34m)\u001b[0m\u001b[0;34m)\u001b[0m\u001b[0;34m\u001b[0m\u001b[0;34m\u001b[0m\u001b[0m\n\u001b[0m",
      "\u001b[0;32m~/anaconda3/envs/ma-gym/lib/python3.7/site-packages/pandas/core/series.py\u001b[0m in \u001b[0;36mapply\u001b[0;34m(self, func, convert_dtype, args, **kwds)\u001b[0m\n\u001b[1;32m   4198\u001b[0m             \u001b[0;32melse\u001b[0m\u001b[0;34m:\u001b[0m\u001b[0;34m\u001b[0m\u001b[0;34m\u001b[0m\u001b[0m\n\u001b[1;32m   4199\u001b[0m                 \u001b[0mvalues\u001b[0m \u001b[0;34m=\u001b[0m \u001b[0mself\u001b[0m\u001b[0;34m.\u001b[0m\u001b[0mastype\u001b[0m\u001b[0;34m(\u001b[0m\u001b[0mobject\u001b[0m\u001b[0;34m)\u001b[0m\u001b[0;34m.\u001b[0m\u001b[0m_values\u001b[0m\u001b[0;34m\u001b[0m\u001b[0;34m\u001b[0m\u001b[0m\n\u001b[0;32m-> 4200\u001b[0;31m                 \u001b[0mmapped\u001b[0m \u001b[0;34m=\u001b[0m \u001b[0mlib\u001b[0m\u001b[0;34m.\u001b[0m\u001b[0mmap_infer\u001b[0m\u001b[0;34m(\u001b[0m\u001b[0mvalues\u001b[0m\u001b[0;34m,\u001b[0m \u001b[0mf\u001b[0m\u001b[0;34m,\u001b[0m \u001b[0mconvert\u001b[0m\u001b[0;34m=\u001b[0m\u001b[0mconvert_dtype\u001b[0m\u001b[0;34m)\u001b[0m\u001b[0;34m\u001b[0m\u001b[0;34m\u001b[0m\u001b[0m\n\u001b[0m\u001b[1;32m   4201\u001b[0m \u001b[0;34m\u001b[0m\u001b[0m\n\u001b[1;32m   4202\u001b[0m         \u001b[0;32mif\u001b[0m \u001b[0mlen\u001b[0m\u001b[0;34m(\u001b[0m\u001b[0mmapped\u001b[0m\u001b[0;34m)\u001b[0m \u001b[0;32mand\u001b[0m \u001b[0misinstance\u001b[0m\u001b[0;34m(\u001b[0m\u001b[0mmapped\u001b[0m\u001b[0;34m[\u001b[0m\u001b[0;36m0\u001b[0m\u001b[0;34m]\u001b[0m\u001b[0;34m,\u001b[0m \u001b[0mSeries\u001b[0m\u001b[0;34m)\u001b[0m\u001b[0;34m:\u001b[0m\u001b[0;34m\u001b[0m\u001b[0;34m\u001b[0m\u001b[0m\n",
      "\u001b[0;32mpandas/_libs/lib.pyx\u001b[0m in \u001b[0;36mpandas._libs.lib.map_infer\u001b[0;34m()\u001b[0m\n",
      "\u001b[0;32m<ipython-input-4-87c692bdeee6>\u001b[0m in \u001b[0;36m<lambda>\u001b[0;34m(x)\u001b[0m\n\u001b[1;32m      1\u001b[0m \u001b[0mtrain_df\u001b[0m\u001b[0;34m[\u001b[0m\u001b[0;34m'description'\u001b[0m\u001b[0;34m]\u001b[0m \u001b[0;34m=\u001b[0m \u001b[0mtrain_df\u001b[0m\u001b[0;34m[\u001b[0m\u001b[0;34m'description'\u001b[0m\u001b[0;34m]\u001b[0m\u001b[0;34m.\u001b[0m\u001b[0mapply\u001b[0m\u001b[0;34m(\u001b[0m\u001b[0;32mlambda\u001b[0m \u001b[0mx\u001b[0m\u001b[0;34m:\u001b[0m \u001b[0mre\u001b[0m\u001b[0;34m.\u001b[0m\u001b[0msub\u001b[0m\u001b[0;34m(\u001b[0m\u001b[0;34mr\"[^a-zA-Z]+\"\u001b[0m\u001b[0;34m,\u001b[0m \u001b[0;34m' '\u001b[0m\u001b[0;34m,\u001b[0m \u001b[0mx\u001b[0m\u001b[0;34m)\u001b[0m\u001b[0;34m)\u001b[0m\u001b[0;34m\u001b[0m\u001b[0;34m\u001b[0m\u001b[0m\n\u001b[0;32m----> 2\u001b[0;31m \u001b[0mtrain_df\u001b[0m\u001b[0;34m[\u001b[0m\u001b[0;34m'description'\u001b[0m\u001b[0;34m]\u001b[0m \u001b[0;34m=\u001b[0m \u001b[0mtrain_df\u001b[0m\u001b[0;34m[\u001b[0m\u001b[0;34m'description'\u001b[0m\u001b[0;34m]\u001b[0m\u001b[0;34m.\u001b[0m\u001b[0mapply\u001b[0m\u001b[0;34m(\u001b[0m\u001b[0;32mlambda\u001b[0m \u001b[0mx\u001b[0m \u001b[0;34m:\u001b[0m \u001b[0mword_tokenize\u001b[0m\u001b[0;34m(\u001b[0m\u001b[0mx\u001b[0m\u001b[0;34m.\u001b[0m\u001b[0mlower\u001b[0m\u001b[0;34m(\u001b[0m\u001b[0;34m)\u001b[0m\u001b[0;34m)\u001b[0m\u001b[0;34m)\u001b[0m\u001b[0;34m\u001b[0m\u001b[0;34m\u001b[0m\u001b[0m\n\u001b[0m",
      "\u001b[0;32m~/anaconda3/envs/ma-gym/lib/python3.7/site-packages/nltk/tokenize/__init__.py\u001b[0m in \u001b[0;36mword_tokenize\u001b[0;34m(text, language, preserve_line)\u001b[0m\n\u001b[1;32m    129\u001b[0m     \u001b[0msentences\u001b[0m \u001b[0;34m=\u001b[0m \u001b[0;34m[\u001b[0m\u001b[0mtext\u001b[0m\u001b[0;34m]\u001b[0m \u001b[0;32mif\u001b[0m \u001b[0mpreserve_line\u001b[0m \u001b[0;32melse\u001b[0m \u001b[0msent_tokenize\u001b[0m\u001b[0;34m(\u001b[0m\u001b[0mtext\u001b[0m\u001b[0;34m,\u001b[0m \u001b[0mlanguage\u001b[0m\u001b[0;34m)\u001b[0m\u001b[0;34m\u001b[0m\u001b[0;34m\u001b[0m\u001b[0m\n\u001b[1;32m    130\u001b[0m     return [\n\u001b[0;32m--> 131\u001b[0;31m         \u001b[0mtoken\u001b[0m \u001b[0;32mfor\u001b[0m \u001b[0msent\u001b[0m \u001b[0;32min\u001b[0m \u001b[0msentences\u001b[0m \u001b[0;32mfor\u001b[0m \u001b[0mtoken\u001b[0m \u001b[0;32min\u001b[0m \u001b[0m_treebank_word_tokenizer\u001b[0m\u001b[0;34m.\u001b[0m\u001b[0mtokenize\u001b[0m\u001b[0;34m(\u001b[0m\u001b[0msent\u001b[0m\u001b[0;34m)\u001b[0m\u001b[0;34m\u001b[0m\u001b[0;34m\u001b[0m\u001b[0m\n\u001b[0m\u001b[1;32m    132\u001b[0m     ]\n",
      "\u001b[0;32m~/anaconda3/envs/ma-gym/lib/python3.7/site-packages/nltk/tokenize/__init__.py\u001b[0m in \u001b[0;36m<listcomp>\u001b[0;34m(.0)\u001b[0m\n\u001b[1;32m    129\u001b[0m     \u001b[0msentences\u001b[0m \u001b[0;34m=\u001b[0m \u001b[0;34m[\u001b[0m\u001b[0mtext\u001b[0m\u001b[0;34m]\u001b[0m \u001b[0;32mif\u001b[0m \u001b[0mpreserve_line\u001b[0m \u001b[0;32melse\u001b[0m \u001b[0msent_tokenize\u001b[0m\u001b[0;34m(\u001b[0m\u001b[0mtext\u001b[0m\u001b[0;34m,\u001b[0m \u001b[0mlanguage\u001b[0m\u001b[0;34m)\u001b[0m\u001b[0;34m\u001b[0m\u001b[0;34m\u001b[0m\u001b[0m\n\u001b[1;32m    130\u001b[0m     return [\n\u001b[0;32m--> 131\u001b[0;31m         \u001b[0mtoken\u001b[0m \u001b[0;32mfor\u001b[0m \u001b[0msent\u001b[0m \u001b[0;32min\u001b[0m \u001b[0msentences\u001b[0m \u001b[0;32mfor\u001b[0m \u001b[0mtoken\u001b[0m \u001b[0;32min\u001b[0m \u001b[0m_treebank_word_tokenizer\u001b[0m\u001b[0;34m.\u001b[0m\u001b[0mtokenize\u001b[0m\u001b[0;34m(\u001b[0m\u001b[0msent\u001b[0m\u001b[0;34m)\u001b[0m\u001b[0;34m\u001b[0m\u001b[0;34m\u001b[0m\u001b[0m\n\u001b[0m\u001b[1;32m    132\u001b[0m     ]\n",
      "\u001b[0;32m~/anaconda3/envs/ma-gym/lib/python3.7/site-packages/nltk/tokenize/destructive.py\u001b[0m in \u001b[0;36mtokenize\u001b[0;34m(self, text, convert_parentheses, return_str)\u001b[0m\n\u001b[1;32m    113\u001b[0m         \u001b[0;31m# Handles parentheses.\u001b[0m\u001b[0;34m\u001b[0m\u001b[0;34m\u001b[0m\u001b[0;34m\u001b[0m\u001b[0m\n\u001b[1;32m    114\u001b[0m         \u001b[0mregexp\u001b[0m\u001b[0;34m,\u001b[0m \u001b[0msubstitution\u001b[0m \u001b[0;34m=\u001b[0m \u001b[0mself\u001b[0m\u001b[0;34m.\u001b[0m\u001b[0mPARENS_BRACKETS\u001b[0m\u001b[0;34m\u001b[0m\u001b[0;34m\u001b[0m\u001b[0m\n\u001b[0;32m--> 115\u001b[0;31m         \u001b[0mtext\u001b[0m \u001b[0;34m=\u001b[0m \u001b[0mregexp\u001b[0m\u001b[0;34m.\u001b[0m\u001b[0msub\u001b[0m\u001b[0;34m(\u001b[0m\u001b[0msubstitution\u001b[0m\u001b[0;34m,\u001b[0m \u001b[0mtext\u001b[0m\u001b[0;34m)\u001b[0m\u001b[0;34m\u001b[0m\u001b[0;34m\u001b[0m\u001b[0m\n\u001b[0m\u001b[1;32m    116\u001b[0m         \u001b[0;31m# Optionally convert parentheses\u001b[0m\u001b[0;34m\u001b[0m\u001b[0;34m\u001b[0m\u001b[0;34m\u001b[0m\u001b[0m\n\u001b[1;32m    117\u001b[0m         \u001b[0;32mif\u001b[0m \u001b[0mconvert_parentheses\u001b[0m\u001b[0;34m:\u001b[0m\u001b[0;34m\u001b[0m\u001b[0;34m\u001b[0m\u001b[0m\n",
      "\u001b[0;31mKeyboardInterrupt\u001b[0m: "
     ]
    }
   ],
   "source": [
    "train_df['description'] = train_df['description'].apply(lambda x: re.sub(r\"[^a-zA-Z]+\", ' ', x))\n",
    "from nltk.tokenize import word_tokenize\n",
    "train_df['description'] = train_df['description'].apply(lambda x : word_tokenize(x.lower()))"
   ]
  },
  {
   "cell_type": "code",
   "execution_count": 5,
   "metadata": {},
   "outputs": [
    {
     "data": {
      "text/plain": [
       "0         [she, is, also, a, ronald, d, asmus, policy, e...\n",
       "1         [he, is, a, member, of, the, aicpa, and, wicpa...\n",
       "2         [dr, aster, has, held, teaching, and, research...\n",
       "4         [he, runs, a, boutique, design, studio, attend...\n",
       "5         [he, focuses, on, cloud, security, identity, a...\n",
       "                                ...                        \n",
       "271492    [a, member, of, the, uwa, cultural, collection...\n",
       "271493    [kelly, has, worked, globally, leading, teams,...\n",
       "271494    [he, s, the, lead, author, of, a, recent, stud...\n",
       "271495    [she, specializes, in, the, theoretical, and, ...\n",
       "271496    [since, she, was, years, old, she, has, become...\n",
       "Name: description, Length: 217197, dtype: object"
      ]
     },
     "execution_count": 5,
     "metadata": {},
     "output_type": "execute_result"
    }
   ],
   "source": [
    "train_df['description']"
   ]
  },
  {
   "cell_type": "code",
   "execution_count": 6,
   "metadata": {
    "scrolled": true
   },
   "outputs": [],
   "source": [
    "from nltk.corpus import stopwords\n",
    "stop = stopwords.words('english')\n",
    "\n",
    "train_df['potential'] = train_df['description'].apply(lambda x: [item for item in x if item not in stop])"
   ]
  },
  {
   "cell_type": "code",
   "execution_count": 7,
   "metadata": {},
   "outputs": [
    {
     "data": {
      "text/plain": [
       "['member',\n",
       " 'aicpa',\n",
       " 'wicpa',\n",
       " 'brent',\n",
       " 'graduated',\n",
       " 'university',\n",
       " 'wisconsin',\n",
       " 'la',\n",
       " 'crosse',\n",
       " 'degree',\n",
       " 'accountancy',\n",
       " 'lived',\n",
       " 'southern',\n",
       " 'wisconsin',\n",
       " 'entire',\n",
       " 'life',\n",
       " 'currently',\n",
       " 'resides',\n",
       " 'pardeeville',\n",
       " 'wife',\n",
       " 'sara',\n",
       " 'three',\n",
       " 'children',\n",
       " 'brent',\n",
       " 'sara',\n",
       " 'great',\n",
       " 'appreciation',\n",
       " 'music',\n",
       " 'art',\n",
       " 'theater']"
      ]
     },
     "execution_count": 7,
     "metadata": {},
     "output_type": "execute_result"
    }
   ],
   "source": [
    "train_df['potential'].iloc[1]"
   ]
  },
  {
   "cell_type": "code",
   "execution_count": 8,
   "metadata": {},
   "outputs": [],
   "source": [
    "train = train_df.merge(train_label,on='Id',how='left')\n",
    "train['potential']=train['potential'].apply(lambda row : ' '.join(row))\n",
    "\n"
   ]
  },
  {
   "cell_type": "code",
   "execution_count": 9,
   "metadata": {},
   "outputs": [
    {
     "data": {
      "text/plain": [
       "'obtained bachelor commerce college commerce gadag master degree business administration rajrambapu institute technology islampur ph university pune pune maharashtra india guiding ph students visvesvaraya technological university belagavi karnataka guided u g pg students conducted conferences workshops fdp pdp published papers national journals papers international journals'"
      ]
     },
     "execution_count": 9,
     "metadata": {},
     "output_type": "execute_result"
    }
   ],
   "source": [
    "train['potential'][217190]"
   ]
  },
  {
   "cell_type": "code",
   "execution_count": 10,
   "metadata": {},
   "outputs": [],
   "source": [
    "train['merge']= train.groupby('Category')['potential'].transform(lambda x: ' '.join(' '+x+' '))"
   ]
  },
  {
   "cell_type": "code",
   "execution_count": 11,
   "metadata": {},
   "outputs": [],
   "source": [
    "tmp = train.groupby('Category').first().reset_index()\n",
    "dist = tmp[['merge','Category']]\n"
   ]
  },
  {
   "cell_type": "code",
   "execution_count": 12,
   "metadata": {},
   "outputs": [
    {
     "name": "stderr",
     "output_type": "stream",
     "text": [
      "/home/adil/anaconda3/envs/ma-gym/lib/python3.7/site-packages/ipykernel_launcher.py:2: SettingWithCopyWarning: \n",
      "A value is trying to be set on a copy of a slice from a DataFrame.\n",
      "Try using .loc[row_indexer,col_indexer] = value instead\n",
      "\n",
      "See the caveats in the documentation: https://pandas.pydata.org/pandas-docs/stable/user_guide/indexing.html#returning-a-view-versus-a-copy\n",
      "  \n"
     ]
    }
   ],
   "source": [
    "from collections import Counter\n",
    "dist['merge'] = dist['merge'].apply(lambda x : word_tokenize(x))\n",
    "clss_dict = [dict(Counter(dist['merge'][cls]).most_common()) for cls in range (28)]"
   ]
  },
  {
   "cell_type": "code",
   "execution_count": 30,
   "metadata": {},
   "outputs": [
    {
     "data": {
      "text/plain": [
       "['access',\n",
       " 'hollywood',\n",
       " 'nbc',\n",
       " 'best',\n",
       " 'damn',\n",
       " 'sports',\n",
       " 'espn',\n",
       " 'amc',\n",
       " 'various',\n",
       " 'promos',\n",
       " 'espn',\n",
       " 'various',\n",
       " 'promos',\n",
       " 'travis',\n",
       " 'pastrana',\n",
       " 'history',\n",
       " 'espn',\n",
       " 'music',\n",
       " 'used',\n",
       " 'work',\n",
       " 'wayne',\n",
       " 'mcgregor',\n",
       " 'jane',\n",
       " 'mason',\n",
       " 'jasmin',\n",
       " 'vardimon',\n",
       " 'cathy',\n",
       " 'marston',\n",
       " 'retina',\n",
       " 'dance',\n",
       " 'company',\n",
       " 'tinderbox',\n",
       " 'theatre',\n",
       " 'company',\n",
       " 'box',\n",
       " 'clever',\n",
       " 'film',\n",
       " 'music',\n",
       " 'includes',\n",
       " 'colourkeys',\n",
       " 'director',\n",
       " 'dave',\n",
       " 'daniels',\n",
       " 'tandem',\n",
       " 'films',\n",
       " 'dance',\n",
       " 'lexie',\n",
       " 'dance',\n",
       " 'director',\n",
       " 'tim',\n",
       " 'loane',\n",
       " 'cluck',\n",
       " 'director',\n",
       " 'terry',\n",
       " 'loane',\n",
       " 'session',\n",
       " 'piano',\n",
       " 'player',\n",
       " 'songwriter',\n",
       " 'producer',\n",
       " 'worked',\n",
       " 'jacqui',\n",
       " 'dankworth',\n",
       " 'foy',\n",
       " 'vance',\n",
       " 'ken',\n",
       " 'haddock',\n",
       " 'brian',\n",
       " 'houston',\n",
       " 'u',\n",
       " 'f',\n",
       " 'f',\n",
       " 'ghears',\n",
       " 'iain',\n",
       " 'archer',\n",
       " 'songlines',\n",
       " 'project',\n",
       " 'currently',\n",
       " 'seeking',\n",
       " 'volunteer',\n",
       " 'singers',\n",
       " 'recently',\n",
       " 'pioneered',\n",
       " 'red',\n",
       " 'room',\n",
       " 'sessions',\n",
       " 'series',\n",
       " 'intimate',\n",
       " 'concerts',\n",
       " 'belfast',\n",
       " 'released',\n",
       " 'albums',\n",
       " 'bolt',\n",
       " 'hard',\n",
       " 'shoulder',\n",
       " 'candy',\n",
       " 'floss',\n",
       " 'age',\n",
       " 'took',\n",
       " 'first']"
      ]
     },
     "execution_count": 30,
     "metadata": {},
     "output_type": "execute_result"
    }
   ],
   "source": [
    "dist['merge'][25][300:400]"
   ]
  },
  {
   "cell_type": "code",
   "execution_count": 33,
   "metadata": {},
   "outputs": [
    {
     "name": "stdout",
     "output_type": "stream",
     "text": [
      "dict_keys(['church', 'years', 'pastor', 'ministry', 'also', 'god', 'university', 'children', 'seminary', 'wife', 'christian', 'theological', 'served', 'two', 'people', 'life', 'time', 'college', 'new', 'school', 'bible', 'christ', 'one', 'married', 'theology', 'family', 'currently', 'com', 'faith', 'churches', 'book', 'author', 'three', 'books', 'work', 'jesus', 'degree', 'since', 'first', 'husband', 'lives', 'community', 'women', 'ministries', 'director', 'world', 'youth', 'graduate', 'serves', 'well', 'music', 'worship', 'baptist', 'education', 'live', 'many', 'leadership', 'loves', 'passion', 'writing', 'www', 'four', 'studies', 'several', 'serving', 'preaching', 'lutheran', 'biblical', 'home', 'received', 'divinity', 'master', 'year', 'member', 'pastors', 'love', 'published', 'united', 'including', 'young', 'congregation', 'teaching', 'blog', 'working', 'local', 'board', 'co', 'state', 'spiritual', 'word', 'part', 'holds', 'mission', 'enjoys', 'father', 'hope', 'president', 'others', 'training', 'gospel', 'writes', 'full', 'recently', 'heart', 'good', 'program', 'city', 'experience', 'around', 'north', 'pastoral', 'lord', 'student', 'see', 'living', 'way', 'center', 'international', 'congregations', 'blogs', 'son', 'presbyterian', 'rev', 'call', 'leaders', 'reading', 'help', 'called', 'written', 'great', 'st', 'national', 'serve', 'texas', 'group', 'graduated', 'chaplain', 'grace', 'american', 'small', 'high', 'day', 'involved', 'passionate', 'social', 'team', 'various', 'lead', 'america', 'california', 'teacher', 'old', 'area', 'founder', 'worked', 'five', 'history', 'dr', 'grandchildren', 'masters', 'reformed', 'story', 'kids', 'b', 'south', 'study', 'conference', 'discipleship', 'last', 'students', 'works', 'institute', 'together', 'paul', 'care', 'began', 'born', 'missionary', 'teaches', 'ordained', 'articles', 'development', 'john', 'would', 'man', 'best', 'like', 'earned', 'states', 'within', 'leader', 'along', 'marriage', 'past', 'taught', 'leading', 'speaker', 'things', 'found', 'evangelical', 'age', 'daughter', 'include', 'active', 'read', 'york', 'religion', 'daughters', 'africa', 'known', 'senior', 'http', 'groups', 'make', 'helping', 'degrees', 'editor', 'based', 'mother', 'service', 'made', 'truth', 'bachelor', 'executive', 'completed', 'men', 'stories', 'arts', 'div', 'parents', 'personal', 'online', 'chicago', 'conferences', 'southern', 'says', 'speaking', 'writer', 'prayer', 'relationship', 'services', 'sons', 'become', 'six', 'religious', 'free', 'minister', 'today', 'christians', 'prior', 'believes', 'issues', 'every', 'find', 'former', 'moved', 'led', 'mark', 'even', 'org', 'testament', 'previously', 'long', 'following', 'adult', 'times', 'canada', 'network', 'power', 'website', 'magazine', 'visit', 'english', 'sunday', 'support', 'west', 'go', 'business', 'outreach', 'science', 'country', 'members', 'mike', 'counseling', 'friends', 'share', 'journey', 'information', 'recent', 'council', 'justice', 'series', 'especially', 'post', 'different', 'speaks', 'events', 'back', 'u', 'fellowship', 'holy', 'given', 'media', 'staff', 'attended', 'organization', 'christianity', 'growing', 'leads', 'may', 'get', 'assistant', 'said', 'associate', 'carolina', 'communities', 'still', 'however', 'law', 'ohio', 'facebook', 'spent', 'helped', 'grown', 'career', 'used', 'minnesota', 'joy', 'role', 'studied', 'public', 'special', 'blessed', 'general', 'c', 'authored', 'became', 'boys', 'usa', 'elca', 'health', 'regularly', 'resources', 'making', 'san', 'child', 'news', 'georgia', 'michigan', 'playing', 'always', 'days', 'central', 'ph', 'culture', 'appeared', 'david', 'award', 'radio', 'evangelism', 'throughout', 'luther', 'come', 'doctorate', 'committee', 'fiction', 'tim', 'trinity', 'campus', 'addition', 'started', 'house', 'take', 'london', 'later', 'clergy', 'body', 'calling', 'raising', 'numerous', 'building', 'coming', 'vision', 'studying', 'weekly', 'questions', 'death', 'field', 'end', 'needs', 'early', 'professor', 'jeff', 'non', 'families', 'publishing', 'retired', 'raised', 'came', 'held', 'committed', 'force', 'much', 'released', 'washington', 'often', 'little', 'originally', 'mn', 'self', 'academy', 'th', 'research', 'methodist', 'among', 'parish', 'planting', 'food', 'sermons', 'twenty', 'missions', 'steve', 'virginia', 'growth', 'something', 'number', 'relationships', 'wonderful', 'seven', 'florida', 'took', 'article', 'variety', 'across', 'schools', 'coffee', 'mary', 'includes', 'strong', 'wrote', 'next', 'running', 'kingdom', 'video', 'generation', 'de', 'department', 'human', 'couples', 'lived', 'peace', 'western', 'never', 'princeton', 'illinois', 'believers', 'beautiful', 'sports', 'bishop', 'going', 'sermon', 'week', 'ecumenical', 'experiences', 'contributed', 'east', 'press', 'missional', 'internationally', 'short', 'blogspot', 'cross', 'ten', 'words', 'founded', 'trained', 'true', 'phd', 'faculty', 'bethel', 'town', 'know', 'encouraging', 'programs', 'oregon', 'fuller', 'dallas', 'though', 'coordinator', 'adults', 'upon', 'large', 'spending', 'must', 'change', 'ba', 'commission', 'union', 'prison', 'friend', 'graduating', 'pennsylvania', 'ministers', 'society', 'n', 'coaching', 'covenant', 'project', 'desire', 'comes', 'gay', 'chapel', 'chris', 'district', 'teams', 'seeing', 'second', 'association', 'soul', 'important', 'bill', 'spirit', 'congregational', 'feels', 'left', 'healing', 'europe', 'impact', 'jim', 'urban', 'indiana', 'formation', 'daily', 'review', 'freedom', 'areas', 'place', 'teach', 'ministered', 'pastoring', 'greater', 'follow', 'organizations', 'could', 'plant', 'centered', 'political', 'doctor', 'resides', 'concordia', 'another', 'traveled', 'hospital', 'bob', 'play', 'brings', 'voice', 'sharing', 'practical', 'iowa', 'purpose', 'native', 'movement', 'view', 'everything', 'deep', 'michael', 'contributor', 'talk', 'real', 'consultant', 'mentoring', 'walking', 'message', 'air', 'right', 'offers', 'without', 'rights', 'middle', 'dedicated', 'influence', 'hard', 'particularly', 'unique', 'grew', 'brother', 'went', 'anti', 'sexual', 'popular', 'continue', 'coalition', 'parenting', 'guide', 'need', 'camp', 'twitter', 'shares', 'century', 'podcast', 'ago', 'knows', 'places', 'seeks', 'pastored', 'film', 'speak', 'hopes', 'counselor', 'use', 'coach', 'art', 'inspired', 'name', 'interest', 'eight', 'recognized', 'francisco', 'side', 'mentor', 'hundreds', 'thousands', 'lot', 'administration', 'pacific', 'african', 'preacher', 'publications', 'enjoy', 'preaches', 'novel', 'outside', 'spirituality', 'june', 'management', 'particular', 'better', 'opportunity', 'write', 'retreats', 'columbia', 'matthew', 'countries', 'initiative', 'philadelphia', 'travel', 'vice', 'james', 'wisdom', 'candidate', 'point', 'interfaith', 'conflict', 'helps', 'reside', 'en', 'simple', 'november', 'sex', 'december', 'process', 'philosophy', 'feel', 'million', 'connect', 'formerly', 'eastern', 'near', 'starting', 'got', 'hosts', 'cultural', 'seminars', 'getting', 'walk', 'tennessee', 'doctoral', 'trying', 'happily', 'germany', 'grand', 'reach', 'curriculum', 'beyond', 'say', 'turned', 'educational', 'foster', 'mdiv', 'faithful', 'learning', 'photography', 'continues', 'devotional', 'alongside', 'created', 'bring', 'focuses', 'interested', 'heard', 'brian', 'taken', 'decided', 'police', 'violence', 'atlanta', 'disciples', 'previous', 'classes', 'journal', 'adjunct', 'room', 'westminster', 'ways', 'certified', 'whose', 'volunteer', 'interests', 'gordon', 'focus', 'wayne', 'workshops', 'experienced', 'engaged', 'scripture', 'practices', 'tx', 'songs', 'thomas', 'summer', 'beach', 'portland', 'grow', 'government', 'almost', 'start', 'practice', 'amy', 'able', 'ministering', 'mennonite', 'light', 'net', 'rural', 'teachings', 'abuse', 'available', 'taking', 'attending', 'undergraduate', 'houston', 'catholic', 'advocate', 'named', 'ages', 'creating', 'politics', 'george', 'oklahoma', 'wrong', 'exploring', 'understand', 'developed', 'convention', 'term', 'activities', 'dog', 'homeschooling', 'inspiration', 'alliance', 'israel', 'web', 'joined', 'provides', 'develop', 'think', 'background', 'fun', 'according', 'planning', 'creative', 'course', 'page', 'offering', 'learned', 'set', 'synod', 'nearly', 'wisconsin', 'january', 'wants', 'medical', 'perspective', 'loss', 'month', 'knowledge', 'louis', 'missouri', 'e', 'issue', 'la', 'founding', 'using', 'hell', 'task', 'lgbt', 'major', 'finds', 'believe', 'il', 'england', 'takes', 'gifts', 'ca', 'current', 'nations', 'jersey', 'foundation', 'court', 'suffering', 'plan', 'responsible', 'joe', 'company', 'r', 'question', 'person', 'campaign', 'october', 'yet', 'road', 'join', 'chairman', 'dogs', 'secret', 'connecting', 'administrator', 'nc', 'psychology', 'likes', 'dave', 'communication', 'learn', 'focused', 'calvary', 'keep', 'teachers', 'daniel', 'order', 'build', 'water', 'show', 'begins', 'australia', 'everyone', 'gift', 'smith', 'reverend', 'empower', 'mexico', 'ethics', 'months', 'professional', 'blood', 'jones', 'quite', 'looking', 'oversees', 'kevin', 'located', 'martin', 'leave', 'salvation', 'cooking', 'umc', 'click', 'hill', 'favorite', 'claims', 'global', 'although', 'resource', 'someone', 'rob', 'devotions', 'challenges', 'passions', 'directors', 'austin', 'poetry', 'charlotte', 'means', 'language', 'literature', 'sarah', 'street', 'couple', 'nigeria', 'healthy', 'worth', 'class', 'encounter', 'amazing', 'head', 'arizona', 'coast', 'return', 'considered', 'visiting', 'ever', 'night', 'goes', 'truths', 'behind', 'presence', 'souls', 'northern', 'elder', 'column', 'topics', 'position', 'late', 'peter', 'football', 'singing', 'less', 'understanding', 'sent', 'site', 'far', 'protestant', 'primary', 'trainer', 'advocacy', 'put', 'renewal', 'county', 'bachelors', 'system', 'woman', 'motherhood', 'powerful', 'evangelicals', 'bringing', 'featured', 'teenage', 'wives', 'transformation', 'spare', 'entire', 'reformation', 'profit', 'policy', 'writers', 'monthly', 'enough', 'run', 'seeking', 'basketball', 'volunteers', 'soon', 'girl', 'extensively', 'pursuing', 'heritage', 'singer', 'future', 'toward', 'open', 'arkansas', 'loving', 'sacred', 'eventually', 'samuel', 'courses', 'wesleyan', 'related', 'cook', 'divine', 'jacob', 'girls', 'ken', 'action', 'creation', 'park', 'worldwide', 'war', 'continued', 'rock', 'seen', 'godly', 'historical', 'musician', 'liberty', 'retirement', 'dream', 'chair', 'drug', 'everyday', 'seems', 'va', 'pa', 'ontario', 'song', 'included', 'job', 'ceo', 'planted', 'leaving', 'ordination', 'awards', 'becoming', 'lessonseptember', 'spends', 'possible', 'recovery', 'felt', 'tells', 'india', 'close', 'malaysia', 'really', 'equipping', 'downtown', 'supporting', 'elders', 'gifted', 'regular', 'joseph', 'train', 'kenya', 'scott', 'annual', 'fishing', 'king', 'sam', 'manager', 'contact', 'nation', 'regional', 'reader', 'instructor', 'encourages', 'lost', 'justin', 'greatest', 'yale', 'alabama', 'doctrine', 'reaching', 'returned', 'produced', 'homeless', 'reconciliation', 'forum', 'spoken', 'struggle', 'extensive', 'season', 'email', 'birth', 'stay', 'goal', 'projects', 'tom', 'avid', 'acting', 'identity', 'interim', 'foreign', 'rich', 'form', 'posted', 'away', 'traveling', 'falls', 'truly', 'northwest', 'technology', 'lee', 'list', 'lay', 'southeastern', 'parishes', 'brought', 'besides', 'messages', 'completing', 'gary', 'cancer', 'april', 'w', 'dan', 'transformed', 'muslims', 'muslim', 'changed', 'phil', 'ga', 'played', 'kim', 'ron', 'skills', 'howard', 'toronto', 'nature', 'glory', 'beginning', 'print', 'table', 'big', 'television', 'lake', 'min', 'lecturer', 'theory', 'laura', 'internet', 'friday', 'mostly', 'encourage', 'witness', 'clear', 'effort', 'gave', 'praise', 'nebraska', 'modern', 'elementary', 'appointed', 'liturgical', 'provide', 'nashville', 'loved', 'timothy', 'followers', 'brazil', 'trust', 'prophetic', 'office', 'give', 'busy', 'proud', 'mental', 'giving', 'look', 'religions', 'apologetics', 'greg', 'cats', 'overseeing', 'believing', 'fortress', 'piano', 'southwestern', 'dead', 'step', 'travels', 'carol', 'hosted', 'response', 'hurt', 'thought', 'thinks', 'denominational', 'korean', 'challenge', 'fellow', 'lies', 'scriptures', 'writings', 'latest', 'pursue', 'greatly', 'memorial', 'colorado', 'mid', 'communications', 'theatre', 'needed', 'done', 'assembly', 'multi', 'korea', 'conversation', 'asked', 'break', 'widely', 'audience', 'cost', 'main', 'spring', 'deeper', 'style', 'asia', 'advisory', 'brooklyn', 'taylor', 'actively', 'harvard', 'scotland', 'due', 'release', 'los', 'inc', 'content', 'pre', 'line', 'frequently', 'barbara', 'makes', 'tv', 'attendance', 'madison', 'andrews', 'german', 'caleb', 'mom', 'lots', 'happy', 'design', 'mean', 'mississippi', 'neighborhood', 'talbot', 'eating', 'readers', 'wild', 'anyone', 'opportunities', 'hands', 'move', 'band', 'strategic', 'gets', 'british', 'event', 'thoughts', 'francis', 'asian', 'chinese', 'thirty', 'problems', 'settings', 'charles', 'conwell', 'land', 'homes', 'capital', 'region', 'lessons', 'honolulu', 'classical', 'secretary', 'approach', 'clark', 'rapids', 'freelance', 'uses', 'empowering', 'fall', 'initiatives', 'dialogue', 'islam', 'attend', 'temple', 'looks', 'third', 'saint', 'top', 'collection', 'diverse', 'deliverance', 'meetings', 'deeply', 'drama', 'fan', 'novels', 'provided', 'housing', 'officer', 'gays', 'fact', 'piper', 'minneapolis', 'dakota', 'materials', 'mr', 'lover', 'dean', 'encouragement', 'continuing', 'adopted', 'extension', 'fire', 'struggles', 'regent', 'christmas', 'guitar', 'kentucky', 'almighty', 'critical', 'morning', 'teens', 'saved', 'nonprofit', 'consulting', 'robert', 'cornerstone', 'wedding', 'lessonjuly', 'entitled', 'principles', 'evil', 'listening', 'easy', 'believer', 'changing', 'watch', 'face', 'haiti', 'successful', 'financial', 'locations', 'alive', 'kansas', 'revolution', 'white', 'ladies', 'participated', 'dance', 'moving', 'spiritually', 'excited', 'todd', 'colleges', 'louisiana', 'winning', 'huffington', 'revitalization', 'hannah', 'jason', 'search', 'revival', 'johnson', 'nine', 'franklin', 'case', 'turn', 'responsibility', 'model', 'july', 'karen', 'establish', 'empowerment', 'wide', 'idaho', 'hear', 'kind', 'providing', 'asks', 'funds', 'wilson', 'significant', 'designed', 'ask', 'alone', 'bride', 'workshop', 'via', 'engineering', 'keeps', 'estate', 'seattle', 'bread', 'equip', 'columns', 'manchester', 'twin', 'mountains', 'angeles', 'plays', 'meeting', 'frequent', 'commitment', 'host', 'posts', 'effective', 'workers', 'acts', 'might', 'forced', 'missionaries', 'ideas', 'ethnic', 'publication', 'access', 'star', 'engineer', 'entered', 'abroad', 'homosexual', 'lifestyle', 'streets', 'carry', 'organizing', 'september', 'p', 'matt', 'canadian', 'grade', 'wordpress', 'supported', 'maryland', 'fresh', 'directed', 'performing', 'mind', 'ocean', 'authors', 'pulpit', 'begun', 'sets', 'tanzania', 'shepherd', 'nazarene', 'immigration', 'refugee', 'mo', 'anderson', 'homosexuality', 'thing', 'highly', 'success', 'half', 'biggest', 'dissertation', 'reaches', 'sees', 'jay', 'ministerial', 'terms', 'vineyard', 'importance', 'sometimes', 'tell', 'memphis', 'type', 'shows', 'watching', 'conservative', 'nancy', 'august', 'charge', 'resident', 'february', 'newsletter', 'breaking', 'convinced', 'massachusetts', 'industry', 'farm', 'cities', 'emory', 'broken', 'engaging', 'redemption', 'representative', 'outdoors', 'whether', 'homiletics', 'comments', 'window', 'constantly', 'visited', 'contributing', 'low', 'teen', 'titles', 'met', 'fort', 'gender', 'coolidge', 'built', 'relations', 'appeal', 'teenagers', 'mystery', 'forthcoming', 'honest', 'bass', 'chase', 'alcohol', 'intimate', 'gardening', 'decade', 'adventist', 'letter', 'lesbian', 'tea', 'selling', 'fight', 'inspire', 'happens', 'unity', 'veteran', 'marine', 'albums', 'front', 'answers', 'create', 'cleveland', 'praying', 'christine', 'calls', 'either', 'revelation', 'lgbtq', 'relevant', 'pursuit', 'columbus', 'fully', 'linda', 'aaron', 'considers', 'meets', 'car', 'runs', 'money', 'privilege', 'sound', 'picture', 'communion', 'example', 'store', 'preach', 'corporate', 'village', 'centre', 'chinh', 'pico', 'egypt', 'iran', 'teenager', 'allow', 'ahead', 'overseas', 'island', 'billy', 'crusade', 'suburban', 'movie', 'obama', 'views', 'expressed', 'discovered', 'accomplished', 'liberia', 'additional', 'nothing', 'comfort', 'deal', 'biology', 'administrative', 'hungary', 'fund', 'raise', 'parishioners', 'poor', 'edition', 'titus', 'mandate', 'levels', 'sites', 'idea', 'notes', 'blogger', 'reached', 'interview', 'valerie', 'ed', 'denver', 'luke', 'lucas', 'impacted', 'ability', 'reason', 'nathan', 'noah', 'square', 'marketing', 'martial', 'civil', 'attends', 'outdoor', 'hiking', 'despite', 'persecution', 'universities', 'birmingham', 'dreams', 'ha', 'proclaim', 'zach', 'kurt', 'visits', 'coordinates', 'meet', 'connected', 'ucc', 'latin', 'harvest', 'begin', 'expression', 'bethany', 'assists', 'eat', 'calvin', 'detroit', 'ill', 'weekend', 'encouraged', 'game', 'hunter', 'roles', 'candler', 'continually', 'sense', 'paris', 'anything', 'drugs', 'licensed', 'owner', 'prepare', 'neighbors', 'edited', 'institutions', 'boy', 'pasadena', 'club', 'die', 'positions', 'heaven', 'earth', 'spoke', 'describes', 'complete', 'driven', 'reviews', 'sovereign', 'listen', 'decades', 'lagos', 'governor', 'branch', 'creativity', 'sweetheart', 'chance', 'battle', 'liz', 'titled', 'values', 'gloria', 'established', 'sign', 'lucy', 'independent', 'md', 'sought', 'gained', 'plans', 'joining', 'michelle', 'organizational', 'common', 'followed', 'rest', 'trafficking', 'victims', 'enforcement', 'seller', 'simply', 'petersburg', 'sources', 'eden', 'primarily', 'homelessness', 'total', 'concern', 'majority', 'enjoyed', 'safe', 'setting', 'referred', 'joel', 'presently', 'williams', 'jonathan', 'queens', 'australian', 'behalf', 'associated', 'permission', 'baking', 'al', 'album', 'pastorate', 'whole', 'evangelist', 'fifteen', 'therapist', 'lighthouse', 'athens', 'mars', 'check', 'gives', 'follower', 'apostolic', 'worker', 'principal', 'please', 'prayers', 'openly', 'blessings', 'northwestern', 'reflection', 'roots', 'hospitality', 'junior', 'pittsburgh', 'interesting', 'starts', 'character', 'multiple', 'mccormick', 'drawing', 'excellence', 'male', 'apply', 'secular', 'link', 'russell', 'desires', 'css', 'potential', 'nelson', 'walks', 'wartburg', 'cascade', 'ben', 'assisting', 'positive', 'digital', 'phoenix', 'jack', 'filled', 'towards', 'green', 'davies', 'orange', 'advanced', 'etc', 'el', 'su', 'magazines', 'jeremiah', 'red', 'jon', 'lincoln', 'mosaic', 'black', 'j', 'durham', 'forty', 'susan', 'amazon', 'ordinary', 'keller', 'inner', 'ryan', 'relocated', 'charlie', 'sportsman', 'allowed', 'ghana', 'heights', 'hawaii', 'driving', 'heavenly', 'private', 'residents', 'explains', 'want', 'decision', 'directly', 'opens', 'piece', 'thesis', 'bank', 'conducted', 'corps', 'noticed', 'closely', 'generations', 'sr', 'edinburgh', 'lessondecember', 'lessonmarch', 'lessonoctober', 'lisa', 'joys', 'poverty', 'heads', 'counselling', 'mercy', 'hold', 'twins', 'developing', 'fred', 'military', 'discover', 'destiny', 'earning', 'inside', 'actually', 'sue', 'lewis', 'longer', 'joshua', 'greek', 'difference', 'curtis', 'lady', 'imago', 'dei', 'kyle', 'communicator', 'boards', 'channel', 'act', 'intersection', 'attempt', 'chief', 'orphans', 'thrive', 'ancient', 'officially', 'partnership', 'interactive', 'addiction', 'trauma', 'gathering', 'santa', 'understands', 'mobile', 'broadcast', 'cell', 'dennis', 'camps', 'multicultural', 'l', 'fields', 'radical', 'certificate', 'mat', 'immigrants', 'problem', 'prophets', 'mba', 'result', 'allen', 'papua', 'guinea', 'disease', 'launched', 'knoxville', 'wales', 'tn', 'rivera', 'higher', 'traditional', 'kitchen', 'duke', 'complex', 'tangible', 'reality', 'searching', 'lines', 'redding', 'bilingual', 'ongoing', 'told', 'unexpected', 'mainstream', 'helpful', 'reflect', 'rod', 'talents', 'range', 'harris', 'rather', 'mountain', 'ultimately', 'finished', 'specializes', 'netherlands', 'oakland', 'bennett', 'ward', 'listed', 'victoria', 'eighteen', 'presbytery', 'racial', 'contributes', 'realized', 'capitol', 'certification', 'already', 'dynamic', 'journalism', 'membership', 'straight', 'permit', 'arrested', 'charged', 'mma', 'wrestling', 'title', 'connection', 'discipline', 'bike', 'riding', 'border', 'lindsey', 'natural', 'privileged', 'eager', 'seminaries', 'jan', 'cnn', 'copyright', 'efforts', 'bay', 'eleven', 'moody', 'hanging', 'parent', 'van', 'hot', 'chad', 'lasting', 'dark', 'clinical', 'tool', 'hobbies', 'beliefs', 'therefore', 'sexuality', 'topic', 'characters', 'talented', 'cliff', 'hollywood', 'blessing', 'hunting', 'devoted', 'enthusiastic', 'humor', 'preached', 'software', 'consistent', 'initiated', 'fashion', 'defense', 'tried', 'supply', 'rooted', 'intervarsity', 'intercultural', 'latino', 'decides', 'holding', 'discussion', 'explores', 'educator', 'sc', 'longs', 'sounds', 'situations', 'volume', 'parker', 'trains', 'ran', 'storytelling', 'blue', 'alley', 'communicate', 'occasionally', 'offer', 'receive', 'killed', 'dozen', 'difficult', 'literally', 'eternity', 'mature', 'loyola', 'largely', 'grandparents', 'islamic', 'forces', 'mukhtar', 'emmanuel', 'alberta', 'stone', 'islands', 'adam', 'statement', 'penalty', 'reform', 'chaplains', 'depth', 'promoted', 'uganda', 'strange', 'songwriter', 'anna', 'weight', 'pressure', 'lakes', 'exposition', 'companion', 'stated', 'finance', 'depressed', 'rhema', 'assist', 'liturgy', 'weeks', 'resolution', 'christina', 'g', 'transition', 'andrew', 'bi', 'historic', 'clearly', 'realizing', 'combat', 'presents', 'adams', 'lifelong', 'pounds', 'cairo', 'arabic', 'interreligious', 'crisis', 'raleigh', 'k', 'ray', 'performed', 'movies', 'forward', 'sends', 'miracle', 'urgent', 'russian', 'guidance', 'hospitals', 'hearts', 'savior', 'completely', 'healed', 'arrest', 'sentence', 'province', 'wednesday', 'retreat', 'approximately', 'scholar', 'opening', 'river', 'hiv', 'aids', 'sioux', 'contemporary', 'es', 'proclaimed', 'residency', 'barry', 'melissa', 'horse', 'blair', 'space', 'matters', 'relating', 'fr', 'testified', 'jeremy', 'systems', 'restoring', 'journeys', 'disciple', 'locally', 'forms', 'clothing', 'marketplace', 'jazz', 'oaks', 'present', 'theologian', 'sacrament', 'redeemer', 'extremely', 'behavior', 'draws', 'chapter', 'contains', 'fast', 'moravian', 'specific', 'jennifer', 'republic', 'congo', 'happened', 'https', 'pregnancy', 'martha', 'roberts', 'productions', 'pope', 'additionally', 'houses', 'controversy', 'implications', 'conviction', 'f', 'ghost', 'directs', 'advent', 'solutions', 'talks', 'dubuque', 'faithfulness', 'investment', 'atlantic', 'musical', 'ruby', 'rome', 'challenged', 'lesson', 'shop', 'hours', 'catch', 'scale', 'uk', 'resurrection', 'creek', 'debbie', 'parts', 'original', 'antonio', 'claimed', 'funny', 'instead', 'mothers', 'emily', 'ruth', 'solid', 'eternal', 'companies', 'organ', 'wyoming', 'lack', 'pastorates', 'craft', 'wholeness', 'ceremony', 'accepted', 'leg', 'kari', 'section', 'cause', 'twelve', 'advocating', 'comics', 'bear', 'americans', 'recipient', 'production', 'brothers', 'devotionals', 'units', 'credit', 'encounters', 'saw', 'fighting', 'hungry', 'evangelistic', 'closer', 'hillsong', 'violent', 'carefully', 'easter', 'dad', 'died', 'save', 'lessonaugust', 'lessonjanuary', 'lessonjune', 'brandon', 'inter', 'rescue', 'wealth', 'win', 'emotional', 'remain', 'spreading', 'survey', 'systematic', 'platform', 'angela', 'hypocrisy', 'doubt', 'entering', 'supernatural', 'compassion', 'crazy', 'grammy', 'broadcasting', 'china', 'silent', 'explore', 'baseball', 'diana', 'wing', 'solidarity', 'persecuted', 'terry', 'isaac', 'voter', 'embrace', 'brief', 'negative', 'richard', 'escape', 'ranging', 'graduation', 'worshipers', 'musicians', 'perfect', 'craig', 'engage', 'servant', 'affected', 'lab', 'amongst', 'extraordinary', 'affairs', 'beth', 'legal', 'fl', 'individuals', 'let', 'vivian', 'wi', 'stop', 'charges', 'missiology', 'authentic', 'delivers', 'mt', 'zion', 'partner', 'counts', 'stuff', 'lawrence', 'laugh', 'jared', 'involves', 'waiting', 'millennial', 'andy', 'honoring', 'launching', 'operates', 'empowered', 'businesses', 'abandoned', 'pray', 'transforming', 'larger', 'ready', 'visual', 'folk', 'consequences', 'focusing', 'computer', 'stang', 'prince', 'garden', 'toler', 'respected', 'thanksgiving', 'hamburg', 'legacy', 'loopholes', 'bell', 'paper', 'intimacy', 'chartres', 'photographer', 'verse', 'maturity', 'superintendent', 'sweet', 'burden', 'secondary', 'moltmann', 'pain', 'kelsey', 'desmond', 'nurture', 'patterson', 'pat', 'ground', 'race', 'march', 'reagan', 'cotton', 'nova', 'equipped', 'guns', 'evidence', 'racism', 'navy', 'winners', 'mitch', 'discusses', 'messiah', 'deaf', 'stages', 'bro', 'expositor', 'intergenerational', 'lectures', 'graham', 'denominations', 'intention', 'enable', 'purity', 'spouses', 'enter', 'louisville', 'voices', 'caring', 'accepting', 'affair', 'attorney', 'pulled', 'quick', 'answer', 'single', 'prosperity', 'promoting', 'needy', 'elizabeth', 'bs', 'dealt', 'springs', 'rice', 'conducting', 'answered', 'asbury', 'photo', 'context', 'orphanage', 'answering', 'remains', 'outstanding', 'duncan', 'reference', 'committees', 'moderator', 'sojourners', 'kept', 'telling', 'send', 'relevance', 'determined', 'laws', 'pet', 'introducing', 'churchleaders', 'torn', 'valparaiso', 'arbor', 'renovar', 'partners', 'direction', 'nationally', 'spend', 'absolute', 'formal', 'shooting', 'facts', 'unfortunately', 'legally', 'thus', 'requirement', 'mechanical', 'fighter', 'presidential', 'capacities', 'simonelake', 'gail', 'darrel', 'agent', 'banking', 'relates', 'cup', 'milwaukee', 'grows', 'incredible', 'britain', 'doctrinal', 'literary', 'motorcycle', 'hebrew', 'hometown', 'reads', 'choose', 'individual', 'seventh', 'dating', 'shane', 'indianapolis', 'costa', 'rica', 'warren', 'tape', 'jayne', 'childhood', 'chocolate', 'jo', 'rules', 'regardless', 'threatening', 'artist', 'mobilizing', 'accomplish', 'honey', 'discussions', 'aspects', 'strategy', 'biking', 'nonfiction', 'shared', 'division', 'paula', 'shoots', 'equipment', 'safety', 'boyd', 'receiving', 'mcgee', 'willow', 'energy', 'memoir', 'perhaps', 'phase', 'designer', 'acceptance', 'performs', 'pictures', 'accounts', 'crashes', 'losing', 'concerned', 'demonstrated', 'record', 'dozens', 'academic', 'tired', 'pursued', 'dordt', 'promises', 'transform', 'magna', 'cum', 'laude', 'marion', 'struggling', 'texts', 'unpublished', 'tulsa', 'editorial', 'synods', 'adventures', 'technical', 'hamstra', 'honorary', 'illustrated', 'mcmaster', 'showing', 'precious', 'survivor', 'physical', 'valley', 'firsthand', 'obtained', 'obstacles', 'sociology', 'fluent', 'interned', 'complained', 'sell', 'endorsed', 'earn', 'youtube', 'else', 'carson', 'sabbatical', 'debate', 'stockton', 'globe', 'inspiring', 'pioneered', 'attendees', 'loser', 'grandmother', 'visitor', 'laughter', 'invited', 'emphasis', 'strategies', 'summit', 'courageous', 'kendrick', 'advice', 'guides', 'fastest', 'mama', 'base', 'tenn', 'rediscover', 'criminals', 'bridges', 'ideal', 'license', 'amsterdam', 'maluku', 'homeland', 'fond', 'accident', 'jewish', 'unlikely', 'saturday', 'v', 'protect', 'collaborative', 'ambassador', 'fruits', 'repentance', 'authority', 'robin', 'currie', 'items', 'largest', 'lakewood', 'russia', 'nixon', 'structuring', 'jose', 'apostasy', 'suspect', 'date', 'monday', 'entertainment', 'vocation', 'catechist', 'demanded', 'authorities', 'refused', 'poems', 'sea', 'educated', 'attracted', 'priest', 'victim', 'reprinted', 'nearby', 'thriving', 'con', 'liberal', 'cedarville', 'younger', 'kings', 'rose', 'cathedral', 'horses', 'pepperdine', 'manages', 'anyway', 'sheep', 'moral', 'fought', 'effectively', 'wars', 'portrait', 'viewing', 'steinke', 'amish', 'zondervan', 'ame', 'offered', 'convert', 'homosexuals', 'healthier', 'languages', 'volunteering', 'pantry', 'nursing', 'sport', 'mart', 'expositional', 'results', 'reflections', 'pay', 'except', 'enthusiast', 'fans', 'devotion', 'appears', 'pressing', 'increased', 'responsibilities', 'oversight', 'lwf', 'dignity', 'emmaus', 'feed', 'cheryl', 'speech', 'manner', 'thanks', 'gayle', 'conversations', 'actions', 'hills', 'herald', 'wa', 'moons', 'resigned', 'knowing', 'oral', 'add', 'joint', 'eric', 'internship', 'connections', 'roof', 'obtain', 'believed', 'plaintiff', 'vocational', 'engagement', 'grasp', 'anabaptist', 'banner', 'careful', 'scriptural', 'westbow', 'sales', 'westbowpress', 'campaigns', 'famous', 'vital', 'exodus', 'chapters', 'sydney', 'kelly', 'jessica', 'tweets', 'granddaughter', 'female', 'hit', 'bishops', 'delivered', 'onto', 'suicide', 'deals', 'discovery', 'vacant', 'seat', 'passing', 'distinguished', 'confidence', 'generally', 'supports', 'gente', 'que', 'insight', 'samantha', 'heather', 'fictional', 'discussing', 'parks', 'electronics', 'upper', 'touch', 'calgary', 'kjv', 'double', 'practiced', 'golf', 'strongly', 'esther', 'practitioner', 'stage', 'saints', 'avenue', 'station', 'oldest', 'kate', 'kit', 'howe', 'federal', 'emerging', 'theologically', 'ones', 'target', 'pro', 'venues', 'regents', 'depths', 'illness', 'decline', 'choir', 'ethan', 'energetic', 'journalist', 'racing', 'hartmann', 'meditation', 'heal', 'damaged', 'shut', 'contributions', 'defect', 'camping', 'viewed', 'regulations', 'internal', 'activism', 'electronic', 'frank', 'minute', 'grandchild', 'boakye', 'facilities', 'affect', 'butterfield', 'conversion', 'kent', 'provider', 'looked', 'physics', 'operated', 'anne', 'nationwide', 'attention', 'grandfather', 'conclusion', 'presenter', 'h', 'roseville', 'inception', 'golden', 'semi', 'sacramento', 'army', 'moss', 'noted', 'fifty', 'doug', 'mutual', 'jimmy', 'officials', 'allows', 'otherwise', 'alaska', 'restoration', 'bea', 'william', 'oh', 'desert', 'enjoying', 'recant', 'attack', 'failed', 'prevent', 'heading', 'imagination', 'ex', 'prime', 'becomes', 'report', 'implementation', 'charismatic', 'interpretation', 'cristo', 'huge', 'gulf', 'jets', 'finding', 'professionalism', 'recorded', 'walker', 'keepers', 'scholarly', 'meant', 'maybe', 'faced', 'ross', 'stock', 'commitments', 'trusted', 'overcome', 'chasing', 'pentecostal', 'palm', 'whenever', 'ambrose', 'posting', 'guys', 'vanderbilt', 'fulfill', 'nineteen', 'lovely', 'jean', 'shaped', 'adoption', 'lectionary', 'commentary', 'newton', 'adriana', 'wofford', 'moment', 'returns', 'holland', 'diagnosed', 'welcomed', 'sgm', 'chaplaincy', 'winter', 'sun', 'goat', 'northeast', 'rapidly', 'dunedin', 'trips', 'frazer', 'patrick', 'eli', 'evening', 'firm', 'immediately', 'gardener', 'feeling', 'economic', 'track', 'definitely', 'aid', 'marriages', 'forming', 'essays', 'omega', 'tampa', 'seminar', 'facilitator', 'sing', 'hospice', 'plants', 'assyrian', 'awarded', 'prize', 'donna', 'southwest', 'baltimore', 'roll', 'ear', 'denomination', 'founders', 'worse', 'nominated', 'preparing', 'vintage', 'eyes', 'combines', 'democracy', 'oversee', 'cut', 'harrisburg', 'sudanese', 'refugees', 'sudan', 'widows', 'specifically', 'globally', 'blind', 'natalie', 'cups', 'widow', 'lydia', 'evolution', 'applied', 'opc', 'subjects', 'rise', 'operate', 'increasingly', 'memories', 'olive', 'sciences', 'abingdon', 'accounting', 'diploma', 'furthermore', 'inclusive', 'knitting', 'realize', 'backyard', 'spread', 'discovering', 'importantly', 'row', 'log', 'republicans', 'cultivate', 'similar', 'sail', 'wind', 'angel', 'laurie', 'seriously', 'harassment', 'port', 'georgetown', 'responds', 'holden', 'victory', 'meaningful', 'sensed', 'southeast', 'drinking', 'official', 'carmen', 'chose', 'usually', 'inventive', 'faces', 'boston', 'concentration', 'buck', 'naked', 'nvc', 'missoula', 'manitoba', 'yoga', 'equality', 'counsel', 'obviously', 'wheaton', 'population', 'manhood', 'shape', 'ecumenism', 'programme', 'whitney', 'moms', 'bayly', 'federation', 'fitness', 'forever', 'pop', 'angie', 'cooper', 'kathy', 'rethinking', 'ashley', 'tries', 'invaluable', 'clint', 'challenging', 'barcelona', 'nicole', 'schooled', 'cole', 'test', 'feature', 'hopelessness', 'returning', 'christopher', 'invitation', 'card', 'subject', 'newspaper', 'guatemala', 'assemblies', 'parables', 'attraction', 'deerfield', 'explained', 'benefits', 'connects', 'choirs', 'gibson', 'mrs', 'supportive', 'pauses', 'abiding', 'instagram', 'breakthrough', 'behavioral', 'fill', 'suggests', 'participates', 'biltz', 'bestseller', 'roads', 'planet', 'nyc', 'vernon', 'burundi', 'yi', 'monash', 'ann', 'everywhere', 'soviet', 'syndrome', 'mainline', 'ft', 'adventure', 'choral', 'lucky', 'igniting', 'stepping', 'peters', 'sept', 'sda', 'prairie', 'wonders', 'period', 'professionals', 'jerome', 'midwestern', 'jumps', 'earlier', 'taiwan', 'driver', 'seek', 'scotty', 'boyles', 'exorcism', 'gu', 'seasons', 'rachel', 'scotia', 'educators', 'bentley', 'richest', 'larson', 'fair', 'batavia', 'budapest', 'coauthored', 'profile', 'armed', 'games', 'injustice', 'prostitution', 'level', 'flying', 'ufo', 'recruitment', 'tens', 'spouse', 'wendell', 'disabilities', 'math', 'minor', 'crosby', 'bethlehem', 'schilt', 'firmly', 'basic', 'schooling', 'mcqueen', 'renee', 'palitha', 'syria', 'hange', 'prospects', 'alex', 'establishment', 'maranatha', 'imparted', 'miriam', 'rhode', 'reframing', 'tribal', 'tribalchurch', 'generational', 'countless', 'carries', 'prays', 'runaway', 'hits', 'dear', 'searches', 'dangerous', 'lose', 'partnered', 'successfully', 'brenda', 'marilyn', 'ky', 'sbc', 'isaiah', 'bicultural', 'deacon', 'wesley', 'wnd', 'rug', 'judge', 'abusive', 'necessarily', 'confirm', 'individually', 'integrity', 'comfortable', 'editing', 'bright', 'reserve', 'delegate', 'nadia', 'belief', 'influenced', 'ms', 'funerals', 'deaths', 'babies', 'fear', 'opera', 'toured', 'transformational', 'credits', 'emphases', 'mott', 'library', 'wiesner', 'badly', 'vibrant', 'launch', 'counties', 'mothering', 'ligon', 'apartment', 'sky', 'evanston', 'influential', 'edits', 'discerning', 'broader', 'pm', 'session', 'severe', 'suffer', 'murderer', 'troublesome', 'abc', 'boulder', 'lane', 'invitations', 'bedside', 'stating', 'argued', 'delicious', 'hone', 'details', 'peers', 'preachers', 'clinton', 'agreed', 'progressive', 'prominent', 'mts', 'randall', 'simone', 'kayaking', 'sewing', 'homemaking', 'senses', 'horrific', 'unforgettable', 'recommended', 'glasgow', 'confessing', 'beeson', 'debut', 'wears', 'represented', 'agency', 'afternoons', 'heartlight', 'overwhelmed', 'clean', 'frustrated', 'rejection', 'hyacinth', 'threatens', 'reveal', 'keenly', 'patheos', 'reyes', 'ridge', 'planters', 'travelling', 'shopping', 'crossway', 'granddaughters', 'breakfast', 'dinner', 'alban', 'landon', 'lifechurch', 'metro', 'entrepreneur', 'gina', 'dmin', 'ironman', 'triathlons', 'lunch', 'category', 'hannover', 'zealand', 'depression', 'rick', 'box', 'soma', 'pathway', 'peer', 'loyal', 'betty', 'tomatoes', 'informed', 'stance', 'palestine', 'creatives', 'locust', 'graphic', 'rutgers', 'integrating', 'apple', 'lively', 'bed', 'lingering', 'partnerships', 'accountability', 'fullerton', 'crafted', 'elections', 'election', 'pierce', 'introduce', 'enrolled', 'quickly', 'hooked', 'satisfied', 'vehicle', 'dvd', 'couchpotatoclub', 'akin', 'motors', 'servants', 'oriented', 'sampling', 'useful', 'arena', 'opposition', 'linked', 'unlimited', 'gangs', 'attempted', 'ol', 'sandy', 'massacre', 'mexican', 'hates', 'havard', 'expand', 'applications', 'corner', 'spokesman', 'sat', 'zygon', 'affiliate', 'centro', 'complicated', 'bad', 'door', 'suddenly', 'accidentally', 'talent', 'casa', 'ag', 'fascinating', 'agriculture', 'collections', 'philippians', 'paralegal', 'substance', 'florence', 'vince', 'impossible', 'jaisy', 'refers', 'pan', 'predominantly', 'melody', 'religiously', 'vatican', 'villages', 'chheng', 'cambodia', 'delaware', 'advises', 'gateway', 'emotionally', 'abraham', 'ebute', 'genres', 'causing', 'trinitarian', 'gerald', 'computers', 'relief', 'encountered', 'resurgence', 'records', 'punk', 'pioneer', 'teresa', 'visitors', 'hamilton', 'juvenile', 'traces', 'whatever', 'reasons', 'bryant', 'qualified', 'indeed', 'walton', 'nsw', 'respect', 'documents', 'dichotomy', 'ronald', 'lie', 'eldon', 'disasters', 'argentina', 'spanish', 'norwegian', 'militants', 'masih', 'pakistan', 'muhammad', 'ashraf', 'relatives', 'property', 'demands', 'winner', 'lily', 'loma', 'azusa', 'convicted', 'trial', 'anywhere', 'newman', 'jefferson', 'tammy', 'phillips', 'profound', 'absolutely', 'presentations', 'intensely', 'optimism', 'attitudes', 'attract', 'planter', 'rim', 'mathematics', 'suffers', 'sleep', 'bookkeeping', 'fundamentalist', 'calif', 'survivors', 'domestic', 'fulltime', 'clerk', 'classis', 'civic', 'rotary', 'associations', 'missed', 'seemed', 'browne', 'kenneth', 'phenomena', 'direct', 'awareness', 'hymn', 'facing', 'giants', 'stephen', 'dare', 'sherry', 'biblically', 'sunshine', 'promotes', 'accompany', 'conduct', 'broadway', 'grades', 'x', 'rising', 'curator', 'tree', 'inauguration', 'abortion', 'episode', 'aib', 'profiles', 'hide', 'closet', 'weighs', 'diabetes', 'switzerland', 'researcher', 'erupted', 'tradition', 'harmony', 'mlc', 'sdg', 'du', 'lac', 'bicycle', 'nurse', 'henning', 'belongs', 'jews', 'dressing', 'brest', 'stade', 'le', 'versus', 'fourth', 'match', 'overseers', 'scientists', 'unite', 'friendship', 'baby', 'sold', 'copies', 'audiences', 'millions', 'broadcasts', 'bestselling', 'masses', 'marginalized', 'imparting', 'minds', 'laity', 'upheld', 'appeals', 'overturned', 'sessions', 'shock', 'rating', 'inspirational', 'blueprint', 'bail', 'bbc', 'audio', 'immanuel', 'exegetics', 'helsinki', 'hindu', 'websites', 'arthur', 'afflicted', 'patients', 'messenger', 'walteria', 'assumed', 'false', 'marathon', 'climbing', 'matamoros', 'xico', 'educate', 'distinctively', 'dubbed', 'sincere', 'graduates', 'wellesley', 'converts', 'discipled', 'purdue', 'affiliated', 'brazos', 'chickens', 'pass', 'publisher', 'mindset', 'mute', 'christi', 'fourteen', 'delight', 'reputation', 'authenticity', 'suspense', 'zone', 'bend', 'killian', 'holmes', 'lit', 'recruit', 'lesbians', 'wilderness', 'heterosexuals', 'tips', 'mistakes', 'creator', 'dollar', 'register', 'nylc', 'subsequently', 'nichols', 'strengthen', 'baker', 'pastorcare', 'moore', 'references', 'wonder', 'actor', 'engages', 'styles', 'alternative', 'thinking', 'henderson', 'cpc', 'innovative', 'balance', 'julie', 'abbott', 'boissoin', 'ordered', 'version', 'pretty', 'opposed', 'attributes', 'soldiers', 'iraq', 'advocates', 'mix', 'champaign', 'urbana', 'gazette', 'welcoming', 'makumira', 'appear', 'saying', 'boundaries', 'recognize', 'communicated', 'chances', 'easily', 'extended', 'joann', 'immigrant', 'concerns', 'foremost', 'supervision', 'perry', 'unites', 'democratic', 'billed', 'expects', 'intentional', 'nurturing', 'increasing', 'sale', 'contest', 'guest', 'brat', 'participating', 'mops', 'kristi', 'storm', 'survival', 'kennewick', 'consecutive', 'tomorrow', 'meditations', 'stepped', 'scandal', 'removed', 'admitted', 'maintained', 'testimony', 'excellent', 'holiday', 'clubs', 'catholics', 'plain', 'intern', 'fm', 'text', 'innovation', 'communal', 'lancaster', 'postmodern', 'religiosity', 'raymond', 'construct', 'moyer', 'constructed', 'gravelin', 'lori', 'minutes', 'trent', 'montreat', 'vis', 'youths', 'incitement', 'joni', 'kathleen', 'foundations', 'super', 'thousand', 'grateful', 'commentaries', 'understandable', 'lenten', 'llc', 'duties', 'davenport', 'honor', 'narrative', 'pickwick', 'stacy', 'desiring', 'rivers', 'contribution', 'howwisethen', 'morgan', 'briefcase', 'ticket', 'restore', 'survive', 'sample', 'audible', 'bk', 'observed', 'vancouver', 'pentateuch', 'refuge', 'pianist', 'heroes', 'recover', 'entrepreneurship', 'philly', 'stephenlutz', 'emphasize', 'jons', 'compilation', 'wonky', 'patterns', 'mangled', 'singers', 'cassette', 'archbishop', 'demonstrating', 'emeritus', 'sphere', 'suit', 'player', 'jasmine', 'core', 'vivaldi', 'puerto', 'rico', 'appointment', 'englewood', 'lima', 'advance', 'padovani', 'darkest', 'map', 'congregants', 'readings', 'sanctuary', 'models', 'awesome', 'shortly', 'barrington', 'southland', 'describe', 'ministerio', 'para', 'amar', 'dios', 'sus', 'bookstore', 'opened', 'considerwithme', 'facilitate', 'cds', 'volumes', 'reflecting', 'module', 'fredericksburg', 'chancellor', 'tgc', 'pavel', 'moscow', 'eurasia', 'awaken', 'brad', 'asurf', 'confront', 'qualifications', 'superior', 'forest', 'diego', 'selah', 'civilization', 'catechism', 'professionally', 'constant', 'nazi', 'sacrifice', 'worldview', 'cornwall', 'experts', 'stewardship', 'environment', 'musser', 'terrorism', 'cancel', 'commentator', 'newark', 'salem', 'manhattan', 'sixteen', 'rebekah', 'micah', 'christiana', 'swartz', 'oswego', 'adjemian', 'cambridge', 'wright', 'providence', 'wood', 'damien', 'request', 'cts', 'trek', 'sin', 'jerusalem', 'videos', 'endeavors', 'era', 'irish', 'ireland', 'puppy', 'depicted', 'risk', 'shepherds', 'correct', 'voted', 'minivan', 'curse', 'obedience', 'parental', 'abandonment', 'congress', 'fell', 'bills', 'dirty', 'congressional', 'jody', 'defending', 'deadly', 'selected', 'revealed', 'forgiveness', 'feet', 'guidelines', 'require', 'identify', 'headlines', 'handful', 'anthropology', 'hand', 'stand', 'improvement', 'manage', 'jesse', 'ct', 'discuss', 'develops', 'platforms', 'carlton', 'industries', 'accessible', 'account', 'broad', 'naval', 'elly', 'reed', 'sheppard', 'beneficial', 'eldest', 'exposed', 'exposure', 'jordan', 'cpe', 'relate', 'sickness', 'worlds', 'gareth', 'communism', 'cuban', 'rafael', 'generosity', 'increase', 'viral', 'harvey', 'roman', 'stroud', 'vietnam', 'newborn', 'aged', 'retriever', 'revgalblogpals', 'matter', 'pancakes', 'reminded', 'hymns', 'hair', 'wiping', 'grove', 'composed', 'baguio', 'binalonan', 'pangasinan', 'abilities', 'proper', 'carried', 'instrumental', 'understood', 'lessonfebruary', 'lessonmay', 'lessonnovember', 'zimbabwe', 'orleans', 'bomb', 'mail', 'preschoolers', 'address', 'fatherhood', 'contagious', 'beauty', 'kid', 'talked', 'swaggart', 'nd', 'beals', 'ultimate', 'quit', 'twice', 'slow', 'patience', 'rarely', 'material', 'factor', 'silk', 'ratio', 'imaginary', 'fostering', 'friendships', 'crime', 'alumni', 'hermeneutics', 'dc', 'philippines', 'moorhead', 'conflicted', 'battleground', 'key', 'solving', 'murder', 'crusades', 'recordings', 'fox', 'flourish', 'courage', 'formative', 'literal', 'manifest', 'del', 'oraci', 'fuego', 'un', 'shocked', 'appalled', 'watched', 'evident', 'ended', 'crosses', 'sudden', 'apart', 'crowd', 'passionately', 'giftings', 'uplifting', 'radically', 'renaissance', 'overseer', 'charisma', 'driscoll', 'fantasy', 'adulthood', 'wider', 'romania', 'nz', 'witnesses', 'agrees', 'katie', 'acbc', 'elsewhere', 'appoint', 'limit', 'gospels', 'handle', 'outspoken', 'weddings', 'romance', 'fern', 'older', 'pca', 'eco', 'josh', 'expose', 'gaby', 'decide', 'trip', 'provoking', 'addicted', 'slightly', 'keith', 'landscape', 'andover', 'highlights', 'hearings', 'reluctant', 'produces', 'lauren', 'gmail', 'hosting', 'sundays', 'greeters', 'kulick', 'carrollton', 'transparent', 'brouwer', 'rule', 'drusilla', 'thrown', 'midst', 'supposed', 'homestead', 'source', 'bipolar', 'disorder', 'tumor', 'harass', 'placed', 'abbey', 'peterson', 'tough', 'hauling', 'apocalypse', 'cleaning', 'alcoholic', 'kidnapping', 'wanted', 'miami', 'staying', 'cuba', 'integrated', 'der', 'examples', 'illustrate', 'mckinney', 'sherman', 'parachute', 'vista', 'trojan', 'traitor', 'admissions', 'detail', 'consuming', 'vegetables', 'elevated', 'cooperative', 'surgeon', 'denison', 'pillars', 'tower', 'realm', 'gozo', 'git', 'basis', 'anthony', 'mornings', 'nerd', 'metanoia', 'shalem', 'cool', 'okc', 'value', 'honors', 'chernobyl', 'ukraine', 'charity', 'claiborne', 'arrival', 'relational', 'organizes', 'tara', 'swimming', 'mention', 'party', 'haitian', 'relies', 'dramatic', 'larry', 'outreaches', 'witnessed', 'enabling', 'brite', 'songwriters', 'birds', 'contexts', 'grandson', 'seem', 'mills', 'closed', 'methods', 'neighborhoods', 'efcsw', 'regensburg', 'munich', 'czech', 'sixth', 'courting', 'cystic', 'fibrosis', 'andrea', 'alyson', 'soccer', 'specialist', 'gowns', 'clarity', 'fairly', 'contemplative', 'curricula', 'jenn', 'fruitful', 'ethiopia', 'granted', 'status', 'newly', 'numbers', 'megan', 'tyndale', 'experiencing', 'jokes', 'milton', 'finally', 'larissa', 'moments', 'ny', 'repeatedly', 'suggestion', 'involvement', 'paradigm', 'blogging', 'neighbourhood', 'ball', 'cufi', 'rites', 'barnabas', 'immediate', 'sheer', 'saving', 'admittedly', 'contained', 'surprises', 'sticky', 'approaches', 'habits', 'cycle', 'societies', 'fulfilling', 'confused', 'judgment', 'kimberly', 'enrichment', 'messianic', 'eleanor', 'canberra', 'aerospace', 'routledge', 'genetic', 'vandenhoeck', 'ruprecht', 'scientific', 'darwin', 'species', 'wondered', 'elected', 'duty', 'readiness', 'operating', 'songwriting', 'keyboard', 'cat', 'attitude', 'yellow', 'yousef', 'stress', 'cbn', 'certainly', 'dies', 'sits', 'dna', 'familiar', 'personally', 'strives', 'republican', 'cabin', 'environmental', 'protection', 'logan', 'spiritualist', 'metaphor', 'buddhism', 'hinduism', 'sails', 'raises', 'murray', 'thrift', 'activists', 'disillusioned', 'eventual', 'visitation', 'saskatoon', 'bc', 'regina', 'feminist', 'fairy', 'tales', 'violet', 'albuquerque', 'bre', 'gaming', 'festival', 'caretaker', 'advisors', 'regarding', 'tolkien', 'kardinia', 'campuses', 'melbourne', 'ballarat', 'childcare', 'kindergarten', 'outlet', 'pull', 'oasis', 'dawn', 'franciscan', 'steubenville', 'mount', 'lakeland', 'fulfillment', 'dominic', 'influences', 'asking', 'recognizes', 'certainty', 'podcasts', 'interviewed', 'ride', 'path', 'romans', 'virtual', 'physician', 'perception', 'berglund', 'outlines', 'flipped', 'sparkhouse', 'entrepreneurial', 'assault', 'arlington', 'component', 'ivan', 'hour', 'practicing', 'melanie', 'winnipeg', 'coordination', 'oak', 'newspapers', 'size', 'loudly', 'perfectly', 'upside', 'hispanic', 'affirmation', 'alfred', 'arm', 'favor', 'pleasure', 'carey', 'perspectives', 'openness', 'marvel', 'corruption', 'tax', 'mysteries', 'seeds', 'performance', 'intends', 'preface', 'welead', 'bellevue', 'critique', 'misguided', 'charmaine', 'pilgrim', 'emw', 'geneva', 'gomez', 'dragon', 'beginnings', 'womanhood', 'canon', 'clearnote', 'fulfil', 'instructors', 'belo', 'clay', 'addressing', 'jenny', 'reconciled', 'ibid', 'plus', 'recording', 'guy', 'serna', 'preyed', 'invest', 'fraud', 'proficient', 'grandkids', 'themes', 'ezekiel', 'occurred', 'biola', 'steward', 'simplicity', 'geoff', 'jamin', 'kristin', 'strobel', 'beloved', 'realization', 'richmond', 'decatur', 'presumably', 'likely', 'holiness', 'mentioned', 'winfaq', 'html', 'maintains', 'bold', 'rebecca', 'height', 'walls', 'az', 'ignored', 'durban', 'hillcrest', 'emergent', 'apostle', 'managed', 'disclosure', 'caldwell', 'marital', 'hunger', 'missing', 'essence', 'rutheverhart', 'labyrinth', 'pilgrims', 'retreatants', 'continents', 'myth', 'fantastic', 'partnering', 'bart', 'cincinnati', 'clayton', 'intentionally', 'sisters', 'criminal', 'honiara', 'absence', 'associates', 'supreme', 'struggled', 'revolves', 'leaves', 'periodicals', 'ccc', 'wagih', 'fbc', 'ecc', 'anger', 'righteous', 'troop', 'windy', 'funeral', 'extends', 'gamer', 'owned', 'organisations', 'antonianum', 'pontifical', 'worshipping', 'pure', 'occupations', 'truck', 'participant', 'vigil', 'hsp', 'apparently', 'liked', 'harbor', 'brick', 'oven', 'route', 'finchale', 'anglican', 'mccain', 'rio', 'aog', 'tasmania', 'fired', 'lawsuit', 'block', 'timeless', 'thank', 'emt', 'painting', 'discernment', 'kottke', 'iliff', 'welch', 'alicia', 'promo', 'romantic', 'verses', 'burton', 'salvador', 'planned', 'homily', 'pipim', 'gyc', 'boyfriend', 'lands', 'drums', 'presenting', 'mindoro', 'collecting', 'miles', 'marks', 'wheat', 'simeon', 'tech', 'endurance', 'causes', 'encountering', 'baptists', 'hagee', 'passage', 'moon', 'apocalyptic', 'documentary', 'bloomfield', 'umejiaku', 'sophomore', 'upcoming', 'humble', 'explosion', 'yankees', 'bit', 'choice', 'humanitarian', 'anointing', 'acres', 'traffic', 'rwanda', 'marc', 'bloc', 'woodside', 'decisions', 'guiding', 'mindfulness', 'pillar', 'worships', 'oxford', 'spindle', 'namibia', 'metropolitan', 'chosen', 'exile', 'tony', 'newport', 'robust', 'teri', 'lynne', 'atmosphere', 'knox', 'applying', 'composition', 'weekends', 'fueled', 'profoundly', 'surrey', 'collaboration', 'treatment', 'commercial', 'handed', 'nicaragua', 'shelter', 'admired', 'kelechi', 'custody', 'try', 'cover', 'addresses', 'evils', 'drake', 'rodriguez', 'arguments', 'described', 'organized', 'retiring', 'carolyn', 'stayed', 'signs', 'reflects', 'robertson', 'candidates', 'auckland', 'fathers', 'ingrid', 'ferreira', 'elderly', 'counterfeit', 'lucifer', 'marcos', 'icons', 'solicitor', 'preparation', 'serious', 'cult', 'pagan', 'grandsons', 'centers', 'hutch', 'industrial', 'hardly', 'booklets', 'changes', 'prestigious', 'trail', 'paddleboard', 'opinions', 'rewards', 'metcalf', 'pub', 'elliot', 'odds', 'dealers', 'nj', 'ethical', 'hall', 'midland', 'creatively', 'hero', 'customer', 'crew', 'labor', 'consistently', 'imprisoned', 'shoucheng', 'notions', 'activist', 'preparatory', 'stranger', 'insights', 'pyle', 'bought', 'afternoon', 'utk', 'redeeming', 'phillip', 'maximize', 'cold', 'specializing', 'trash', 'payne', 'rd', 'covered', 'presented', 'orientation', 'rccg', 'adoptive', 'chairperson', 'reported', 'alleged', 'interviews', 'sentenced', 'danny', 'carpentry', 'none', 'medicine', 'pete', 'thompson', 'essential', 'gls', 'insurgency', 'boko', 'haram', 'charter', 'foot', 'crumpton', 'gabriel', 'organisation', 'resume', 'assessment', 'adolph', 'faiths', 'buddhist', 'cindi', 'sao', 'paulo', 'philip', 'rhetoric', 'josef', 'pie', 'columba', 'prolific', 'acclaimed', 'atheists', 'bssm', 'hike', 'lcms', 'marburg', 'redeemed', 'evan', 'france', 'newest', 'osu', 'farmers', 'orphanages', 'surgeries', 'sweep', 'turkish', 'demanding', 'demonstration', 'urged', 'unlike', 'viejo', 'owns', 'ties', 'rides', 'drop', 'stephanie', 'turkey', 'slavic', 'newnan', 'mei', 'chan', 'misophonia', 'mclaren', 'ethically', 'ecclesiology', 'weathers', 'puebla', 'episodes', 'wrestle', 'crossroads', 'dismantling', 'racist', 'diversity', 'barndt', 'bowel', 'mentorship', 'geared', 'collegiate', 'saskatchewan', 'keen', 'boynton', 'candle', 'lasalle', 'homemaker', 'fortune', 'publishes', 'lastly', 'elitist', 'peoria', 'ok', 'morningside', 'clearwater', 'dianna', 'nepal', 'managing', 'guard', 'stolen', 'agencies', 'transplant', 'ccm', 'jessyka', 'costumes', 'linkedin', 'adelakun', 'isreal', 'olukayode', 'mccoy', 'competitive', 'distance', 'kelowna', 'suppression', 'imprisonment', 'comprehensive', 'assistance', 'dithmarschen', 'anniversary', 'deb', 'gregg', 'billionaire', 'expertise', 'zackery', 'sanity', 'stuck', 'famed', 'benjamin', 'nbs', 'jude', 'rigsby', 'composer', 'iloilo', 'communicating', 'ncc', 'horrible', 'mantofa', 'sings', 'asher', 'operations', 'lynn', 'corporation', 'singapore', 'lifeguide', 'supervisor', 'lloyd', 'casual', 'transitional', 'lund', 'climate', 'psychotherapy', 'chestertown', 'lindstrom', 'kinds', 'vincent', 'universe', 'kanata', 'depaul', 'shift', 'lebanon', 'moyo', 'amherst', 'rapture', 'tribulational', 'schaumburg', 'coleman', 'listeners', 'urges', 'listener', 'belgium', 'tung', 'ling', 'thechristian', 'derrick', 'weston', 'shifts', 'strictly', 'minding', 'feelings', 'meantime', 'tragedy', 'loses', 'rightfully', 'withheld', 'trouble', 'crossed', 'beni', 'seth', 'flow', 'minsters', 'producing', 'borrowed', 'mikeleake', 'nikki', 'jasper', 'illustrations', 'sparked', 'popcorn', 'publicized', 'barack', 'eligibility', 'yesterday', 'lawyers', 'dishonest', 'reveals', 'systematically', 'pulpits', 'blatant', 'sole', 'editors', 'uniquely', 'godsprosperityplan', 'rodnichols', 'belle', 'effects', 'boarders', 'monrovia', 'misses', 'tongue', 'kitaveta', 'kiswahili', 'unreached', 'fortunate', 'alcoholics', 'eliaichi', 'sarmiento', 'jurisdiction', 'observer', 'connectional', 'tattooed', 'profane', 'surprisingly', 'unconcerned', 'sorts', 'transformative', 'cham', 'officiated', 'deceased', 'plethora', 'fly', 'relaxing', 'erica', 'manitou', 'durring', 'phones', 'antje', 'presidium', 'european', 'livingston', 'horal', 'orr', 'tour', 'porgy', 'bess', 'debrecen', 'utrecht', 'hendrik', 'kraemer', 'johannes', 'hoekendijk', 'willem', 'visser', 'hooft', 'papers', 'augustine', 'dormitory', 'relied', 'goodness', 'landing', 'gathered', 'boee', 'willie', 'controversial', 'statements', 'smallest', 'tamara', 'hardcover', 'links', 'linc', 'highs', 'peacemaking', 'seoul', 'charleston', 'yes', 'deluxe', 'pg', 'storyteller', 'resisted', 'garrett', 'challies', 'cruciform', 'revealing', 'personalities', 'recounts', 'repression', 'mistreatment', 'obey', 'unjust', 'exception', 'cease', 'disobey', 'admonition', 'willingly', 'suffered', 'thief', 'evildoer', 'meddler', 'gladly', 'missiorelate', 'shawna', 'mscottboren', 'caucus', 'coauthor', 'navpress', 'arnold', 'skype', 'temperance', 'mich', 'bgsu', 'otto', 'zimmann', 'strengthening', 'uncanny', 'asset', 'juliette', 'texan', 'proclaiming', 'necessity', 'manor', 'justified', 'securing', 'mandated', 'occasion', 'trespass', 'unconstitutional', 'amendment', 'fined', 'undefeated', 'mixed', 'highschool', 'hence', 'headlock', 'digg', 'retweet', 'noticing', 'dabble', 'sane', 'miak', 'sg', 'concord', 'ebony', 'bestowed', 'medal', 'advocated', 'formed', 'canyon', 'collie', 'scout', 'pasco', 'investor', 'mortgage', 'crafting', 'cuddling', 'hubby', 'cataloging', 'proverbs', 'singleness', 'grab', 'tap', 'stronger', 'tron', 'uccf', 'scottish', 'alexander', 'dances', 'sacagawea', 'biker', 'boots', 'mnn', 'homepage', 'hartline', 'autism', 'alzheimer', 'rambunctious', 'smoky', 'shlomit', 'israeli', 'exists', 'karmiel', 'yossi', 'ovadia', 'sha', 'ar', 'emek', 'yonatan', 'preschool', 'gulley', 'tinged', 'humour', 'refreshing', 'proposals', 'revamp', 'parishioner', 'bureaucracy', 'conscience', 'chronicle', 'chow', 'weekdays', 'martie', 'sunny', 'bargains', 'invested', 'doxa', 'headed', 'nuys', 'icujp', 'chairpersons', 'sabeel', 'cinema', 'companionship', 'initiate', 'nutritious', 'weekday', 'whitsitt', 'thq', 'luxury', 'construction', 'thewayitcouldbe', 'ver', 'steeg', 'lisw', 'shalom', 'jeffreygang', 'suburbia', 'bietz', 'gang', 'braden', 'mckenna', 'competes', 'ups', 'rookie', 'tags', 'sandpaper', 'publishers', 'waxhaw', 'protected', 'marysoutherland', 'tacoma', 'haylee', 'maggie', 'emphasizing', 'redwood', 'bequeathed', 'fiercely', 'avidly', 'tigers', 'ssempa', 'unless', 'chained', 'punished', 'enshrine', 'fabric', 'condoms', 'symptomatic', 'anchored', 'sadist', 'stealing', 'gratification', 'ebel', 'robards', 'controlling', 'purecreative', 'studio', 'gulfport', 'leanne', 'beside', 'sand', 'toes', 'smell', 'seafood', 'ponders', 'postulates', 'goings', 'compasstrinity', 'hangs', 'laughing', 'novella', 'harbourlight', 'pelican', 'seer', 'paulamowery', 'christianonlinemagazine', 'suppers', 'dove', 'skeet', 'orchestrate', 'donated', 'gather', 'fish', 'edgar', 'certificates', 'renowned', 'snl', 'sudeikis', 'comedy', 'script', 'hitting', 'nuts', 'comread', 'earliest', 'packaged', 'friendliness', 'claremont', 'uniting', 'berlin', 'vienna', 'duggan', 'convictions', 'stood', 'staunchly', 'pervasive', 'liberalism', 'sinful', 'repented', 'ronaiah', 'hoops', 'etobicoke', 'gun', 'pistol', 'packing', 'thwarting', 'robbery', 'mcabee', 'hook', 'concealed', 'handgun', 'resolvedforchrist', 'playstation', 'lock', 'ins', 'caffeine', 'keys', 'wallet', 'appealed', 'admits', 'hillside', 'residential', 'wilsonville', 'lecturing', 'appointments', 'commissions', 'ivp', 'unnetwork', 'salvatierra', 'facilitating', 'dixie', 'mejia', 'thursday', 'sb', 'presentation', 'gain', 'sake', 'goodwin', 'webster', 'meditating', 'usher', 'counseled', 'seemingly', 'koreans', 'rare', 'zachkvet', 'vow', 'transmitted', 'diseases', 'landed', 'bestsellers', 'springtime', 'prek', 'ambel', 'sre', 'treng', 'sophorn', 'preserved', 'incarnation', 'rostered', 'fehring', 'toddlerhood', 'everydayawe', 'disabled', 'springdale', 'ibadan', 'respectively', 'meta', 'elements', 'spices', 'mischief', 'seasoned', 'salt', 'pepperbasham', 'delivering', 'magicians', 'magic', 'farway', 'wells', 'tooth', 'nail', 'ninety', 'pound', 'wuss', 'hideous', 'thieves', 'echocardiography', 'mohawk', 'meredith', 'jarod', 'newcomers', 'godspreciouschildren', 'brighter', 'goliath', 'psalms', 'vol', 'interpreter', 'manual', 'deborah', 'matterhorn', 'brave', 'stumbling', 'shadow', 'catastrophes', 'buses', 'counting', 'wofe', 'kirra', 'cruise', 'speedboat', 'shore', 'pinning', 'alan', 'submarine', 'excursion', 'erupts', 'criswell', 'theolgical', 'unfair', 'kibera', 'slum', 'awana', 'gwenyth', 'malyon', 'btcq', 'holder', 'latter', 'sturt', 'dissertations', 'divorce', 'remarriage', 'protestants', 'memoirs', 'absolutes', 'uncle', 'trials', 'emails', 'selfless', 'ignatius', 'casassa', 'marymount', 'concentrated', 'globalization', 'denmark', 'danish', 'andreas', 'holm', 'sweden', 'norway', 'mf', 'grandchil', 'detailsmike', 'jonesstaff', 'mattcapps', 'colony', 'sheikhupura', 'punjab', 'fundamentalists', 'whilst', 'coveted', 'hostile', 'threaten', 'terrorise', 'fled', 'araf', 'lawyer', 'shareholders', 'extortion', 'occupied', 'buchanan', 'callaway', 'jeanette', 'oke', 'smooth', 'cayman', 'thabiti', 'kristie', 'karie', 'pictured', 'pearl', 'orchid', 'brand', 'honda', 'jodi', 'arias', 'pleads', 'raw', 'jury', 'foxnews', 'ardyss', 'distributor', 'mercer', 'macon', 'faculties', 'bellarmine', 'oricl', 'yearlong', 'migration', 'shed', 'migrating', 'culver', 'sitting', 'chastity', 'trenches', 'delightfully', 'shirley', 'consulted', 'drafting', 'ugandan', 'parliamentarians', 'slanderous', 'minorities', 'culminating', 'brennan', 'manning', 'smack', 'dab', 'filtered', 'brass', 'knuckled', 'gratefulness', 'descendant', 'gradually', 'weighing', 'lbs', 'apnea', 'puzzles', 'bored', 'wordcasters', 'blogzorg', 'ning', 'fairhaven', 'chesterton', 'pensacola', 'comparative', 'episcopal', 'fortuna', 'tent', 'sankey', 'zeeland', 'lamont', 'crwm', 'efficient', 'kojo', 'quartey', 'marti', 'architects', 'thoughtful', 'stagnated', 'reinvigorate', 'rodney', 'hagin', 'arnott', 'airport', 'manifestations', 'randy', 'designing', 'multigenerational', 'sherwood', 'entity', 'flywheel', 'fireproof', 'paperback', 'misc', 'harney', 'coauthors', 'corinth', 'sar', 'claudia', 'naturally', 'cottage', 'atlittlenaturalcottage', 'conservation', 'renewable', 'rally', 'labeling', 'genetically', 'modified', 'foods', 'shaping', 'puppets', 'storiesforliving', 'gen', 'reporter', 'editions', 'genxrising', 'covers', 'theoklesia', 'jeremybouma', 'climbed', 'shouted', 'protester', 'zealous', 'distraction', 'joanna', 'acted', 'fantasies', 'gossipers', 'busybodies', 'confident', 'widower', 'wishes', 'softball', 'disneyland', 'weighed', 'eliminated', 'nile', 'bossy', 'olga', 'chimczak', 'poland', 'vrije', 'universiteit', 'indonesian', 'consortium', 'icrs', 'yogyakarta', 'indonesia', 'ambon', 'festivities', 'mosques', 'maple', 'trumpet', 'winnebago', 'comfy', 'dull', 'routine', 'befriends', 'hanne', 'abrahasen', 'berates', 'resistance', 'ste', 'incidentally', 'captains', 'bl', 'ligue', 'tienne', 'clash', 'default', 'marseille', 'eagerly', 'anticipated', 'rennes', 'postponed', 'rainstorm', 'proportions', 'flooded', 'pitch', 'lodrome', 'fourfourtwo', 'aberdeen', 'bsc', 'edinburg', 'diped', 'signer', 'creationcareforpastors', 'akron', 'valedictorian', 'harrass', 'librarians', 'storybook', 'villa', 'osteen', 'prophesized', 'destruction', 'arabs', 'excerpts', 'visions', 'liberating', 'proclaims', 'unadulterated', 'casting', 'pallanes', 'introduced', 'impetus', 'asthma', 'shown', 'rasht', 'gilan', 'pending', 'naderkhani', 'mpaa', 'notrated', 'chicagoan', 'athletic', 'paprocki', 'catechetical', 'mass', 'toolbox', 'dastgerd', 'uncertainty', 'tomans', 'usd', 'judicial', 'belfast', 'jaffa', 'caspari', 'riska', 'external', 'docent', 'ot', 'specialized', 'scrolls', 'mumbai', 'hindus', 'ineffective', 'irrelevant', 'motivation', 'serenity', 'tattoo', 'parlor', 'meneutics', 'labors', 'ark', 'moretopicsrelationshipsadulthoodfaithfeaturesblogpodcastadviceaboutour', 'visionour', 'teamour', 'valuesdonatecontact', 'uslegal', 'stuffconnectfacebooktwitteryoutubeitunesrsse', 'vanuatu', 'nambucca', 'revesby', 'burwood', 'periodical', 'ap', 'vianney', 'northlake', 'priestly', 'approved', 'cardinal', 'apostles', 'apostlesofjesuschrist', 'miskin', 'mukhanyo', 'kwandebele', 'sonya', 'gynecologist', 'clinic', 'shrinking', 'diane', 'dedication', 'percent', 'augustana', 'sd', 'roberta', 'hutchinson', 'trends', 'frontera', 'luncheon', 'trajectory', 'cholesterol', 'acid', 'reflux', 'alfredo', 'ramos', 'ordenado', 'iglesia', 'presbiteriana', 'originario', 'trabajado', 'misi', 'mundo', 'plantaci', 'iglesias', 'unaccredited', 'institution', 'pushing', 'objective', 'broadly', 'wrot', 'apr', 'biosketch', 'svetlana', 'evgeni', 'automotive', 'hom', 'sensual', 'orthodoxy', 'critters', 'jeans', 'flannel', 'shirts', 'mason', 'jars', 'diamonds', 'virtuous', 'avirtuouswoman', 'peggy', 'rychwa', 'dressed', 'shameless', 'aubrey', 'shame', 'flock', 'hart', 'lambs', 'induces', 'laryngitis', 'darryl', 'fredrick', 'adegboye', 'stigma', 'discrimination', 'camillus', 'usc', 'pax', 'inmates', 'longsuffering', 'alissa', 'delightful', 'hearted', 'wanderer', 'breathing', 'organisms', 'evaluates', 'sponsorship', 'belvidere', 'seymour', 'whitaker', 'treble', 'acfw', 'href', 'horseshoe', 'archibald', 'quality', 'cure', 'reorientation', 'alittlebitdifferent', 'fat', 'infantese', 'toddlerspeak', 'teenlingo', 'husbandism', 'overs', 'purposed', 'galaxy', 'coltharp', 'leapin', 'kirkpatrick', 'arms', 'cba', 'trombone', 'initiating', 'liturgies', 'voltage', 'sagu', 'sponsoring', 'logon', 'toll', 'tracey', 'connor', 'clea', 'roy', 'express', 'fitlyspoken', 'directory', 'christianbaptists', 'dsherman', 'penetrating', 'illumines', 'captivating', 'wal', 'breakroom', 'bethelehem', 'exultation', 'nehemiah', 'siren', 'powerfully', 'musings', 'offsite', 'supervisory', 'sw', 'lengthy', 'hearing', 'tribunal', 'hate', 'damages', 'apologize', 'extremist', 'alienated', 'comprised', 'indian', 'tsunami', 'tolerance', 'commanded', 'combine', 'intent', 'factual', 'fridays', 'eprops', 'itnext', 'welcome', 'distills', 'accessibility', 'suggestions', 'readily', 'adaptable', 'ponderings', 'scary', 'karin', 'gaithersburg', 'rhea', 'richie', 'troy', 'mbcpathway', 'newsjournal', 'mungure', 'filibus', 'urge', 'prayerfully', 'tragic', 'destroy', 'bruckart', 'chairs', 'organize', 'trucks', 'castle', 'wilmington', 'proactive', 'individuality', 'majored', 'majors', 'minors', 'regards', 'forgive', 'standards', 'farther', 'nurtured', 'monterey', 'seaside', 'adviser', 'composes', 'gratitude', 'glendora', 'katerina', 'isolation', 'individualism', 'length', 'pinches', 'finalists', 'bookseller', 'edison', 'beane', 'fatherhollywood', 'gottesdienst', 'gottesdiesnt', 'gottesdienstonline', 'lew', 'rockwell', 'lewrockwell', 'libertarian', 'leonidas', 'feline', 'midlands', 'antics', 'naomi', 'circle', 'rainbows', 'grieving', 'cloth', 'diapers', 'babywearing', 'integrate', 'louder', 'interpret', 'luginbill', 'tri', 'newsroom', 'canal', 'drive', 'lluginbill', 'tricityherald', 'shaking', 'lunar', 'eclipses', 'intervals', 'installed', 'idlewild', 'ladder', 'cane', 'bottom', 'exiles', 'allegations', 'prostitute', 'haggard', 'denied', 'acknowledged', 'accusations', 'purchasing', 'methamphetamine', 'confessed', 'immorality', 'untrue', 'pink', 'lid', 'alyssa', 'neumann', 'ii', 'pontiff', 'collaborating', 'motlministries', 'muhlenberg', 'bd', 'ltsp', 'user', 'commons', 'sa', 'fascinated', 'environments', 'cohesiveness', 'hintsala', 'constructions', 'negotiated', 'buildings', 'barn', 'contractor', 'safely', 'complaints', 'arrived', 'install', 'satellite', 'dish', 'bedridden', 'surgery', 'maeve', 'metaphorically', 'carpool', 'vying', 'sponsored', 'macedonian', 'keynote', 'coached', 'practitioners', 'ballot', 'graceworks', 'quasi', 'sociopolity', 'hegedus', 'voluntarily', 'renounced', 'parliamentary', 'immunity', 'suspended', 'quashed', 'grounds', 'represent', 'magyar', 'hirlap', 'nepszabadsag', 'rfe', 'rl', 'newsline', 'stressing', 'teh', 'tribulation', 'denise', 'freezing', 'bbq', 'chips', 'warm', 'credentials', 'harrisonburg', 'sessional', 'postdoctoral', 'premeditated', 'tweet', 'omaha', 'homiletical', 'windows', 'grieved', 'statewide', 'impacting', 'leighton', 'monica', 'celebrated', 'exciting', 'lynnwood', 'wreath', 'candles', 'jarboe', 'patty', 'harpercollins', 'evaluated', 'wade', 'sweaty', 'dilemma', 'killing', 'hebrews', 'shuttling', 'exercising', 'riveting', 'backdrop', 'shipwreck', 'fairfield', 'locked', 'maiden', 'voyage', 'titanic', 'deliver', 'wavering', 'icy', 'waters', 'narrator', 'woodman', 'samples', 'reco', 'rhde', 'mp', 'audiobook', 'aax', 'trusting', 'categories', 'missionaltraining', 'focusses', 'lexham', 'refereed', 'authoring', 'chick', 'corea', 'wynton', 'penn', 'boalsburg', 'danville', 'joan', 'madeline', 'roost', 'peacemakers', 'goshen', 'responses', 'warrior', 'tuesday', 'defuse', 'basics', 'sublime', 'shangaan', 'electro', 'hjr', 'cd', 'lp', 'startling', 'palette', 'sampled', 'synthesized', 'signature', 'whistle', 'marimba', 'rough', 'skittering', 'drum', 'brimming', 'aching', 'plaintive', 'mournful', 'trace', 'fractured', 'faceted', 'surging', 'harmonies', 'unmistakably', 'vocal', 'reissue', 'benedict', 'xvi', 'resignation', 'sacra', 'liturgia', 'memorable', 'regard', 'hesitating', 'explain', 'motu', 'proprio', 'summorum', 'pontificum', 'behaves', 'priests', 'embodies', 'prelates', 'prefer', 'cassock', 'tie', 'thrust', 'playoffs', 'fit', 'compounding', 'situation', 'girlfriend', 'shook', 'capturing', 'interactions', 'walkerton', 'democrat', 'unelectable', 'considering', 'falsified', 'application', 'submitted', 'consideration', 'falsification', 'document', 'stems', 'felony', 'vet', 'wittenberg', 'hamma', 'object', 'enrich', 'davison', 'labrosse', 'tune', 'realities', 'stocked', 'acre', 'putting', 'ease', 'receptive', 'bait', 'playwriting', 'copywriting', 'proofreader', 'thereafter', 'brett', 'muses', 'lexington', 'breaux', 'sido', 'maestro', 'desde', 'ano', 'entusiasmo', 'practico', 'atrae', 'anima', 'dondequiera', 'este', 'andar', 'espiritual', 'fue', 'jovenes', 'trabajo', 'actual', 'como', 'juvenil', 'grane', 'aplica', 'misma', 'filosofia', 'franca', 'ente', 'guaido', 'correr', 'anos', 'ocupados', 'generar', 'propias', 'ondas', 'candidly', 'samanthakrieger', 'navajo', 'crc', 'tohatchi', 'expanded', 'navaho', 'mesa', 'eads', 'diaper', 'thd', 'myers', 'tear', 'joomla', 'catherine', 'erik', 'cathparks', 'reviving', 'polytechnic', 'belarus', 'ru', 'mesto', 'vstrechi', 'ashionye', 'raccah', 'bellanaija', 'equal', 'conjunction', 'films', 'oluseyi', 'amuwa', 'amvca', 'adored', 'hidden', 'psychologically', 'violates', 'heretical', 'concerning', 'wake', 'probate', 'callings', 'kccc', 'caris', 'kayla', 'acquaintance', 'translations', 'buff', 'kahler', 'grapevine', 'ngumc', 'javascript', 'powered', 'disqus', 'elaborate', 'theatric', 'kicks', 'counterculture', 'redemptive', 'angle', 'reprint', 'judeo', 'holocaust', 'wrath', 'angry', 'theologians', 'academics', 'balanced', 'reply', 'replyyou', 'logged', 'comment', 'dysfunctional', 'debbiewebbmcdaniel', 'freshdayahead', 'comand', 'debbmcdaniel', 'expert', 'analyst', 'techno', 'futurist', 'ethicist', 'transhumanist', 'tenure', 'winston', 'quest', 'orlando', 'senate', 'kfgg', 'marble', 'preborn', 'sandra', 'levi', 'jesiah', 'elisha', 'mercedes', 'evangeline', 'rpcna', 'slugging', 'lindy', 'mockingbird', 'mockingcast', 'persuasive', 'belligerent', 'borrer', 'suburbs', 'peninsula', 'intensive', 'waits', 'flay', 'savvy', 'repost', 'newmediaproject', 'edu', 'yeagley', 'pastured', 'connecticut', 'amber', 'jungle', 'somewhere', 'preferably', 'weavings', 'cresset', 'capture', 'thistemporaryhome', 'treating', 'sid', 'pentecost', 'macedonia', 'filmed', 'covington', 'rhonda', 'legon', 'dela', 'beatitudes', 'ligonier', 'trilogy', 'bereaved', 'fowler', 'airs', 'nevada', 'contacted', 'kennethhumphries', 'hotmail', 'cute', 'kofi', 'kona', 'unlock', 'greatness', 'enjoyment', 'amusing', 'carlos', 'serrano', 'jr', 'diocese', 'laid', 'institutionalisation', 'appreciation', 'behaving', 'worthy', 'promptly', 'dropping', 'steadfastly', 'honing', 'manuscript', 'revisions', 'coasts', 'parentally', 'cast', 'catalog', 'illustrating', 'neglect', 'unconditional', 'pdp', 'oshiomhole', 'lakey', 'performers', 'voting', 'renewing', 'contract', 'wrecking', 'forked', 'bankrupt', 'broun', 'hice', 'handling', 'snakes', 'folks', 'scared', 'jump', 'marshall', 'planner', 'devine', 'tools', 'steps', 'brush', 'miraculous', 'inches', 'shorter', 'lengthened', 'rebound', 'striving', 'williamstown', 'videowatch', 'livetrendingmost', 'celibacy', 'defiance', 'caused', 'dilettante', 'backpacking', 'astrophysics', 'stitching', 'leather', 'goods', 'obtaining', 'morebernie', 'clemmons', 'rigid', 'compass', 'productivity', 'navigation', 'delegation', 'continuous', 'scripturally', 'arvind', 'kejriwal', 'unsettling', 'hierarchy', 'fine', 'ridgefield', 'prevention', 'inclusion', 'technologist', 'tier', 'proprietary', 'arenas', 'sunnyvale', 'meagan', 'moreclick', 'reddit', 'arrogant', 'jerks', 'max', 'lucado', 'alluding', 'attributed', 'typically', 'stays', 'trump', 'architecture', 'boeing', 'aircraft', 'manufacturing', 'supporter', 'cmi', 'delano', 'generated', 'dialog', 'playwright', 'birdsal', 'terte', 'actors', 'andrichmond', 'dutch', 'perfectionist', 'geography', 'herbs', 'johns', 'oshkosh', 'wis', 'ashanti', 'plumber', 'kumasi', 'siblings', 'culminated', 'pharmacology', 'optometry', 'detailing', 'tenured', 'syracuse', 'chilliwack', 'periodically', 'inapril', 'equivalent', 'afraid', 'deviant', 'pigs', 'prayed', 'gregcoates', 'anastasis', 'ship', 'ywam', 'moderated', 'surrogate', 'dispute', 'castro', 'kluth', 'generouslife', 'info', 'maximum', 'availability', 'olden', 'feud', 'bingen', 'stassbourg', 'trialogue', 'baptism', 'sogang', 'hansei', 'sergeant', 'fifth', 'cavalry', 'regiment', 'toddler', 'labrador', 'julia', 'inimitable', 'ring', 'supporters', 'fascination', 'logically', 'introduction', 'genesis', 'budget', 'cuts', 'lawmaker', 'fidgety', 'unfocused', 'snack', 'wolfing', 'glue', 'spilled', 'experiments', 'gallimaufry', 'abounds', 'aria', 'chart', 'luzon', 'hurrying', 'gaza', 'jabaliya', 'chilly', 'groceries', 'palestinian', 'wrapped', 'semiautomatic', 'weapon', 'milk', 'crate', 'basket', 'rode', 'transmission', 'bonded', 'fervent', 'compensate', 'distant', 'someday', 'ought', 'benefit', 'repent', 'officiate', 'ugaritic', 'hal', 'halbradyministries', 'lessonsapril', 'miss', 'crippling', 'doctors', 'miraculously', 'spared', 'pipe', 'exploded', 'lap', 'karenwarejackson', 'morehouse', 'inequity', 'cooperation', 'shades', 'sexperiment', 'mirror', 'outrageous', 'groundwork', 'beamed', 'kenyans', 'enabled', 'tribes', 'gabe', 'donnie', 'nscdc', 'forcefully', 'counselled', 'vast', 'gym', 'diehard', 'beal', 'grave', 'embracing', 'contiguous', 'usic', 'undertaking', 'failing', 'scrutiny', 'levelheadedness', 'networking', 'uptake', 'curiosity', 'begrudging', 'runner', 'foothills', 'incoherently', 'akukla', 'pretends', 'awkukla', 'defining', 'argues', 'applicable', 'classified', 'testosterone', 'pumping', 'veins', 'workbook', 'feminine', 'pretend', 'evenings', 'pillow', 'pinterest', 'apparent', 'ancestry', 'disfigured', 'corrections', 'yav', 'cycling', 'learns', 'fianc', 'murdered', 'possibly', 'demonic', 'ritual', 'catapulted', 'tormented', 'entities', 'aidan', 'medium', 'fishermen', 'aung', 'abe', 'zeke', 'harrisons', 'bobby', 'devon', 'kristine', 'weightlifting', 'doses', 'gracecoversme', 'evaluation', 'laying', 'tongues', 'khathide', 'podium', 'thembisa', 'rand', 'hartley', 'presidente', 'colegio', 'internacional', 'escrito', 'veinte', 'libros', 'incluyendo', 'conducir', 'encuentro', 'presencia', 'manifiesta', 'pasi', 'tambi', 'disfruta', 'corer', 'jugar', 'pasar', 'tiempo', 'jugando', 'nietos', 'megachurches', 'featuring', 'ranking', 'flag', 'patriotic', 'thundered', 'split', 'sick', 'combination', 'edifying', 'twenties', 'nightclubs', 'consumed', 'frontline', 'nominations', 'household', 'favored', 'mayor', 'minority', 'distinction', 'mistake', 'seriousness', 'appropriated', 'footnotes', 'endnotes', 'bibliography', 'treat', 'error', 'americana', 'blend', 'soft', 'gritty', 'bluesy', 'cigarettes', 'esl', 'nanny', 'cia', 'dvr', 'veritable', 'spies', 'gaggle', 'erynnnewman', 'hong', 'kong', 'ventures', 'braila', 'amg', 'ghita', 'mioara', 'otago', 'beasts', 'chiastic', 'lsnt', 'likeness', 'emery', 'pd', 'cliche', 'detective', 'ketchem', 'bryanston', 'za', 'rosslester', 'fellows', 'branded', 'contextualizing', 'wipf', 'sbts', 'lambert', 'leverage', 'mohler', 'disparage', 'count', 'epistles', 'competent', 'gossips', 'troublemakers', 'mouths', 'grit', 'barriers', 'exist', 'yard', 'fw', 'tahoe', 'exhibits', 'facets', 'anabel', 'algebra', 'unscripted', 'sacramental', 'hardie', 'incheon', 'immigrated', 'sates', 'lauderdale', 'typology', 'surveys', 'broward', 'coconut', 'devote', 'coral', 'cori', 'normalcy', 'crush', 'bailey', 'silver', 'lining', 'persuaded', 'rita', 'fade', 'delves', 'professing', 'tremendous', 'yrs', 'bwap', 'embraced', 'hesed', 'jd', 'zedek', 'jerry', 'williamsport', 'poyzer', 'portlife', 'adelaide', 'ht', 'drift', 'observations', 'flourishing', 'enyart', 'masons', 'turns', 'pair', 'disgruntled', 'agitators', 'dani', 'kekoa', 'personhood', 'frauds', 'slavery', 'mommy', 'daddy', 'pose', 'whimsical', 'protector', 'intoxicated', 'revisits', 'discovers', 'maps', 'technologies', 'odyssey', 'blogos', 'laurel', 'charlton', 'reluctantfirstlady', 'ada', 'gonzales', 'dinners', 'samford', 'highview', 'rachael', 'chickmauga', 'chrissy', 'antioch', 'idi', 'partisan', 'participation', 'aggressive', 'slogan', 'bouwer', 'humming', 'till', 'navigating', 'diagnosis', 'deny', 'framlings', 'determines', 'suitable', 'tigress', 'lavinia', 'peacock', 'glimpse', 'reclaim', 'endeavor', 'thess', 'swirl', 'walked', 'cbmw', 'handled', 'improperly', 'failure', 'notify', 'brain', 'struggler', 'rascal', 'mentally', 'limp', 'bryan', 'brokenbelievers', 'scofield', 'format', 'tameka', 'sit', 'barrier', 'harassing', 'chanting', 'loud', 'imaginative', 'franklinton', 'specialize', 'pediatric', 'riley', 'alana', 'shines', 'lights', 'midnight', 'surviving', 'mosquito', 'stalls', 'belt', 'molested', 'neighbor', 'psych', 'mcc', 'kirker', 'mailed', 'esperanza', 'subversion', 'rinaldo', 'changeless', 'excelled', 'customers', 'davidrexgosnell', 'slidell', 'surrendering', 'roach', 'montgomery', 'paints', 'eine', 'exegetische', 'und', 'hermeneutische', 'untersuchung', 'vivid', 'molly', 'libby', 'barbour', 'xoxo', 'davids', 'quarterfinaled', 'abna', 'releases', 'whitewashed', 'rogers', 'fastidious', 'unbelievable', 'hardship', 'gently', 'admission', 'beds', 'watering', 'wicking', 'unh', 'gardeners', 'hampshire', 'mishawka', 'bariatric', 'ailee', 'happening', 'utah', 'cheech', 'remaining', 'ivory', 'seiler', 'rubber', 'malta', 'achieve', 'goals', 'mainly', 'treasurer', 'trustees', 'keeping', 'lovers', 'concoct', 'scheme', 'fake', 'awry', 'awakens', 'rite', 'starring', 'hopkins', 'lifetouch', 'adopt', 'orphan', 'bracing', 'twist', 'chill', 'lectionarylab', 'harnessing', 'ubiglobal', 'fouts', 'yukon', 'stinky', 'socks', 'grocery', 'noise', 'whispers', 'columnist', 'humorous', 'underrated', 'weldon', 'involving', 'iraqis', 'imminent', 'antichrist', 'muiruri', 'orthodox', 'compels', 'honesty', 'transparency', 'ignite', 'trisha', 'maintaining', 'diligent', 'directorate', 'jewels', 'lombard', 'scot', 'mcknight', 'mfa', 'residence', 'lenoir', 'rhyne', 'kimmel', 'harding', 'economy', 'image', 'honorable', 'stewart', 'loan', 'sharking', 'endangering', 'welfare', 'lent', 'rate', 'solely', 'donations', 'clothes', 'pschyo', 'smyrna', 'rockhampton', 'parshall', 'buchholz', 'spearheaded', 'varied', 'mediation', 'imagine', 'eph', 'mmin', 'mats', 'samochstein', 'kick', 'starter', 'breathes', 'soulfulness', 'lyrics', 'distinguish', 'dude', 'flat', 'joda', 'collins', 'deck', 'waves', 'deannamorris', 'simplylife', 'chandler', 'lissa', 'cityteam', 'movements', 'essay', 'aptly', 'homilies', 'monologues', 'moorehead', 'carthage', 'kenosha', 'sheboygan', 'stoughton', 'gamaliel', 'permitted', 'aramaic', 'victor', 'tehran', 'remained', 'comply', 'ban', 'assyrians', 'farsi', 'treasure', 'hunts', 'draw', 'adaptation', 'flinders', 'puritan', 'cellphone', 'dphil', 'theol', 'graeme', 'invented', 'bionic', 'boar', 'prague', 'syndicated', 'gold', 'medallion', 'aim', 'improve', 'healthcare', 'bcmh', 'hoffman', 'pleasant', 'regeneration', 'sleeping', 'gospelregeneration', 'alexmartindean', 'brown', 'rider', 'varsity', 'cheerleading', 'theater', 'antique', 'collector', 'evolving', 'silhouette', 'positioned', 'partnershipministries', 'lower', 'groans', 'suny', 'cortland', 'multiculturalism', 'biographies', 'bevan', 'deepest', 'maine', 'hazel', 'seavey', 'amarillo', 'coaches', 'rocky', 'thorny', 'unhelpful', 'sowing', 'economics', 'miscellaneous', 'clendineng', 'electrical', 'fullness', 'danica', 'hang', 'directtv', 'packages', 'relive', 'represents', 'paramount', 'adoration', 'blocked', 'undergoing', 'intense', 'debates', 'raptured', 'alpha', 'negst', 'blocks', 'wrigley', 'loath', 'accept', 'resists', 'hinder', 'primer', 'impassible', 'assortment', 'freshly', 'baked', 'juice', 'giftedness', 'multifaceted', 'gentrification', 'dtes', 'stomach', 'heartbreak', 'bsw', 'eswine', 'notre', 'dame', 'zackeswine', 'ethnically', 'sentiment', 'echoed', 'sealing', 'initiation', 'bertolini', 'wubker', 'wore', 'sharon', 'bryanstoudt', 'derivative', 'breadth', 'fishbowl', 'acuity', 'troubles', 'unfavorable', 'horizons', 'sad', 'hostility', 'scripturalists', 'surprising', 'favorable', 'assuming', 'osborne', 'dumb', 'smart', 'silence', 'ethos', 'motivated', 'mpact', 'promote', 'rounded', 'bodies', 'bunmi', 'bedazzling', 'redefine', 'modesty', 'sexy', 'jewelry', 'accessories', 'revivalist', 'deviates', 'crumb', 'marrying', 'fisher', 'assigned', 'gals', 'devout', 'powerless', 'desolate', 'sect', 'lightning', 'expressing', 'hus', 'creates', 'realizes', 'baruch', 'hashem', 'chaverim', 'homegroup', 'hineh', 'yeshua', 'merged', 'aviation', 'cumberland', 'roster', 'lura', 'ashgate', 'determinism', 'anticipating', 'origin', 'bridging', 'scm', 'ctns', 'funded', 'templeton', 'lucie', 'empire', 'ryerson', 'multination', 'amfcc', 'harare', 'rumors', 'denies', 'berea', 'psr', 'utilizing', 'recalled', 'expeditionary', 'norfolk', 'stopracialprofiling', 'weaving', 'charcoal', 'gray', 'khaleesi', 'tortoiseshell', 'accustomed', 'sadie', 'beagle', 'aclj', 'csc', 'disenfranchised', 'reruns', 'frasier', 'fabulous', 'surely', 'partaking', 'parkinson', 'patient', 'nowadays', 'rocking', 'idly', 'staring', 'withering', 'lilies', 'cigars', 'wongel', 'mermera', 'kidane', 'sustain', 'testimonial', 'darrow', 'mbbs', 'mrcgp', 'equippers', 'marie', 'mitchell', 'spunky', 'forministry', 'uskssdadvisaci', 'prisoners', 'tattered', 'centrist', 'stints', 'neomugwump', 'morris', 'felix', 'dana', 'shepherding', 'mackenzie', 'zoe', 'kirk', 'xpastor', 'triplets', 'chula', 'topless', 'chiding', 'agreeing', 'havick', 'hipps', 'valid', 'excerpt', 'referring', 'instance', 'catches', 'hunt', 'goodwill', 'cart', 'antiques', 'cor', 'hughes', 'parking', 'blogburst', 'spotlighted', 'wyff', 'westie', 'terror', 'contracts', 'shamanic', 'footprint', 'iwith', 'surveillance', 'chu', 'demonstrator', 'tiananmen', 'traumatised', 'protestantism', 'exactly', 'organised', 'communist', 'fears', 'seffner', 'attempting', 'printmaking', 'landscapes', 'alberni', 'zs', 'fi', 'argue', 'merits', 'miniature', 'versions', 'cultivating', 'crown', 'taleh', 'demonstrate', 'melinda', 'charmingly', 'molecular', 'cellular', 'tucson', 'berkeley', 'enchantment', 'tattoos', 'costume', 'novice', 'quilter', 'cow', 'drizzt', 'circumstances', 'kraft', 'mhc', 'traffichikng', 'butler', 'worhsip', 'ibm', 'candidacy', 'inklings', 'dorothy', 'sayers', 'viola', 'museum', 'geelong', 'warrnambool', 'centres', 'indoor', 'playcafe', 'caf', 'hurriedly', 'nights', 'glorified', 'supplying', 'wv', 'volunteered', 'counter', 'errors', 'sojo', 'seekers', 'auburn', 'sender', 'cares', 'meal', 'porridge', 'underfed', 'bahavalpur', 'policeman', 'assi', 'sending', 'fassifern', 'queensland', 'kayleen', 'allison', 'guests', 'redman', 'tomlin', 'jobe', 'louie', 'giglio', 'tyler', 'eliana', 'motorhome', 'bfc', 'startup', 'rebellion', 'dealer', 'choices', 'crash', 'coma', 'malakh', 'standard', 'radiant', 'eldridge', 'lamplighter', 'sterling', 'attached', 'fiat', 'portia', 'rebelliouspastorswife', 'attracts', 'informing', 'opposite', 'displayed', 'centurion', 'mechanisms', 'categorical', 'pagitt', 'random', 'possibility', 'generative', 'enlist', 'dougpagitt', 'added', 'britt', 'cofounded', 'carpinteria', 'ventura', 'schulze', 'slack', 'subgenius', 'devival', 'ropeleash', 'shat', 'stole', 'needless', 'schism', 'separate', 'nonviolent', 'facilitated', 'pella', 'sidney', 'interims', 'billings', 'helena', 'boise', 'id', 'settled', 'skill', 'disbelief', 'taskforce', 'parole', 'fry', 'matthews', 'margins', 'interplay', 'playfulness', 'animals', 'cfo', 'downplay', 'bragging', 'ass', 'asinine', 'legitimate', 'postures', 'priorities', 'cbge', 'lejeune', 'headquarters', 'brigade', 'kaneohe', 'geology', 'mining', 'jos', 'microsoft', 'mcsa', 'mcp', 'palace', 'establishing', 'counselors', 'roseline', 'ekuma', 'noble', 'updates', 'messy', 'dandelion', 'burnout', 'uncentered', 'immersive', 'walt', 'disney', 'broke', 'breach', 'evasion', 'warehouse', 'eastside', 'vulnerable', 'themosaic', 'coordinating', 'theologisches', 'leipzig', 'greenfaith', 'newseum', 'tends', 'knits', 'devours', 'moccasin', 'notable', 'concurrently', 'lisu', 'chloe', 'groth', 'violinist', 'suzuki', 'violin', 'oberlin', 'conservatory', 'stan', 'introduces', 'aspiring', 'willing', 'consulltant', 'chartered', 'ltd', 'income', 'medina', 'filmmaker', 'rhoads', 'kristen', 'dkdc', 'appreciatively', 'respectfully', 'sacrifices', 'outset', 'noting', 'zeal', 'ix', 'candid', 'app', 'taboo', 'intimately', 'knowledgeable', 'jehle', 'richardson', 'imad', 'ruba', 'bochum', 'missionsacademy', 'jensen', 'kolleg', 'breklum', 'utc', 'bangalore', 'bossey', 'ete', 'coordinated', 'chemistry', 'dentistry', 'warmed', 'transfered', 'slayer', 'thoroughly', 'sandibrown', 'gadsden', 'baylyblog', 'baylys', 'certain', 'flaunts', 'dispenses', 'nuggets', 'interestingly', 'flippant', 'charme', 'interrupted', 'camille', 'archer', 'barracking', 'mighty', 'hawks', 'governing', 'bavaria', 'fms', 'undocumented', 'filipino', 'overworked', 'underpaid', 'justly', 'humbly', 'wahba', 'etsc', 'maliana', 'lasted', 'mob', 'fidelity', 'kpmg', 'ksbj', 'outfitters', 'crihi', 'meaningfully', 'edmonton', 'interfaithhousing', 'tina', 'wins', 'vaudeville', 'comedian', 'unbeliever', 'unannounced', 'astonished', 'loophole', 'evade', 'evasions', 'attempts', 'awful', 'plenty', 'spencer', 'collaborators', 'invites', 'erika', 'dramatically', 'definitions', 'normal', 'joked', 'redmond', 'tucker', 'majesticdestinybook', 'tactic', 'whisperer', 'noses', 'motto', 'corinthians', 'cru', 'cal', 'poly', 'luis', 'obispo', 'ronin', 'glorifies', 'conditionalism', 'conventions', 'sustainability', 'bikes', 'trailer', 'hikes', 'skis', 'wave', 'alternatives', 'simpleliving', 'halls', 'pours', 'carpet', 'holdingtheplumbline', 'metamorpha', 'lamb', 'dust', 'edge', 'shocking', 'devil', 'ruining', 'librarian', 'unversity', 'facilitators', 'bridgebuilder', 'marylyn', 'huff', 'psi', 'isp', 'tos', 'reselling', 'representing', 'distinctive', 'fore', 'users', 'rcn', 'sadams', 'enteract', 'adamsemail', 'sowingseedsoffaith', 'requests', 'nina', 'brooks', 'copious', 'amounts', 'junk', 'babyboso', 'joyfully', 'prisons', 'consist', 'seminarians', 'discussed', 'pineville', 'faye', 'ptl', 'popularity', 'scandals', 'underbelly', 'kelli', 'miller', 'rejected', 'ally', 'lgbtqi', 'baylor', 'thunder', 'famine', 'layed', 'confusion', 'confession', 'wallows', 'marsh', 'modernism', 'traverses', 'crags', 'winds', 'twisting', 'creed', 'brigette', 'activity', 'waldemar', 'pytel', 'cheers', 'sk', 'wroc', 'aw', 'fc', 'cecily', 'neher', 'golfing', 'bush', 'indictment', 'wire', 'laundering', 'defrauding', 'investors', 'kirbyjon', 'estimated', 'accommodate', 'barb', 'ccv', 'slingshot', 'eatart', 'artfully', 'ending', 'livecurious', 'ly', 'rene', 'separation', 'shortage', 'limping', 'dry', 'intellectualism', 'ruined', 'rutheverhartauthor', 'geoffrion', 'tourists', 'installations', 'devoting', 'acute', 'repeating', 'annoyed', 'worthwhile', 'paragraph', 'fundies', 'litmus', 'exceptions', 'conceived', 'incest', 'flair', 'protagonist', 'choosing', 'humanist', 'wenatchee', 'goldfish', 'merry', 'fuel', 'camper', 'jacksonville', 'prides', 'notch', 'cheer', 'baseballs', 'fidelia', 'unemployed', 'malaita', 'guadalcanal', 'emptied', 'vacuum', 'displaced', 'guilt', 'tavarez', 'multiethnic', 'vivo', 'employs', 'mentors', 'christy', 'qmha', 'healer', 'natasha', 'finley', 'autotrader', 'defleet', 'reduced', 'restless', 'streak', 'empty', 'nest', 'sexually', 'oman', 'karate', 'hotel', 'graceway', 'kcbt', 'kc', 'giza', 'lois', 'uprooting', 'destroying', 'monster', 'trap', 'uprootinganger', 'steadily', 'baptized', 'puberty', 'assemble', 'touched', 'ably', 'moses', 'sainthood', 'tenderhearts', 'classically', 'flutist', 'steamy', 'vacation', 'reichmuth', 'gurian', 'brevard', 'patricia', 'lacey', 'alexandria', 'geek', 'recommendations', 'jakea', 'ballard', 'yahoo', 'ifollow', 'advertising', 'corporations', 'franciscans', 'carbajo', 'alfonsianum', 'lateran', 'royal', 'shamsa', 'lea', 'amira', 'boxing', 'loosely', 'amillennialism', 'belong', 'pious', 'martyr', 'premillennialist', 'trypho', 'jew', 'ad', 'panmillenialist', 'printing', 'kidron', 'ks', 'collegeville', 'prose', 'themoneyfile', 'successdimensionchurch', 'successgalore', 'mindi', 'remember', 'involve', 'rituals', 'final', 'rohrer', 'requested', 'instantly', 'hearth', 'transgender', 'anxious', 'mamft', 'highland', 'mayan', 'petri', 'ia', 'screen', 'shot', 'notice', 'unbecoming', 'chevy', 'repugnicans', 'wendt', 'butterworth', 'transitioning', 'bryce', 'ovens', 'roshelle', 'stubborn', 'ericspeir', 'colm', 'incorporation', 'ports', 'corunna', 'ferrol', 'claim', 'kilometer', 'bonnie', 'booksellers', 'sunglasses', 'faux', 'hawk', 'davis', 'palin', 'cape', 'girardeau', 'mere', 'janeiro', 'opponent', 'malafaia', 'attacking', 'politicians', 'dysautonomia', 'condition', 'homebound', 'cranberry', 'chronic', 'recognised', 'reflected', 'chaired', 'instrumentalist', 'devoto', 'glcstatecollege', 'technique', 'talking', 'compromise', 'lays', 'recognizing', 'incisive', 'cyber', 'brethren', 'pointing', 'alexia', 'rocked', 'mamas', 'awaits', 'jackson', 'claire', 'teds', 'emma', 'tabletop', 'torch', 'busan', 'sodomy', 'employer', 'walsh', 'countered', 'expat', 'krumseig', 'rehabbed', 'hebert', 'scenarios', 'spectrum', 'tgif', 'owe', 'apology', 'karengirlfriday', 'percussion', 'gallon', 'jug', 'kyla', 'vevia', 'biltmore', 'asheville', 'bruce', 'musing', 'firefighter', 'incident', 'responder', 'legion', 'uncover', 'developer', 'hillsdale', 'worshippers', 'uywi', 'fordham', 'forbids', 'indulge', 'denial', 'foundational', 'loneliness', 'greeting', 'jeanettelevellie', 'burtons', 'specialty', 'spain', 'inmigrants', 'juez', 'cremas', 'maghrebi', 'pmi', 'zacatecoluca', 'paz', 'resigning', 'henrietta', 'woodward', 'immaculate', 'greenville', 'scotus', 'redefining', 'thirteenth', 'sevy', 'celebrity', 'heavily', 'eagelsonline', 'downward', 'spiral', 'schultze', 'ndudi', 'ezeife', 'gorder', 'yemen', 'saudi', 'arabia', 'infertility', 'heidi', 'katy', 'nt', 'allegiance', 'tours', 'players', 'bernard', 'cel', 'evangelique', 'lutherien', 'au', 'coracess', 'leogane', 'portion', 'cutting', 'deaconess', 'birthplace', 'palawan', 'shepparton', 'coffs', 'harbour', 'undertaken', 'mollie', 'palo', 'cedro', 'benalla', 'panics', 'plaza', 'cheering', 'alma', 'mater', 'airline', 'passportkids', 'comprises', 'reaction', 'unfaithfulness', 'finland', 'proved', 'opposes', 'bullied', 'defrocked', 'surrounded', 'rugged', 'expanses', 'circus', 'incorporates', 'blogged', 'houghton', 'finlandia', 'judy', 'manu', 'ty', 'triathlon', 'races', 'vegetarian', 'feedtheflock', 'xanga', 'rgen', 'seminarian', 'tenets', 'wish', 'calvinist', 'lions', 'den', 'neighboring', 'thirteen', 'seized', 'sackcloth', 'suing', 'packed', 'proudly', 'governess', 'professors', 'ifca', 'chima', 'favour', 'jil', 'chidirim', 'maximizes', 'dupe', 'osho', 'quaint', 'happiness', 'interaction', 'confesses', 'cahaba', 'fairfax', 'farewell', 'bands', 'beast', 'rappers', 'burritos', 'skeen', 'ethic', 'barber', 'loveland', 'misfit', 'nets', 'gallatin', 'individualized', 'elisa', 'yup', 'ponies', 'unclear', 'curable', 'eap', 'rape', 'lacking', 'esteem', 'stroke', 'intercessory', 'navigators', 'cannon', 'numerically', 'financially', 'themtvernon', 'congestion', 'isle', 'relatively', 'muskegon', 'cooperating', 'allowing', 'define', 'immense', 'secure', 'emmanuella', 'ella', 'shine', 'sorrow', 'cuisine', 'liberative', 'ricketts', 'archdiocese', 'evangelisation', 'ordinator', 'interface', 'kashmir', 'shaivism', 'rated', 'blending', 'dwelling', 'garmans', 'annie', 'mayhem', 'meaning', 'anniebgarman', 'gastonia', 'unbound', 'saviour', 'profits', 'delta', 'muddy', 'decomp', 'freshwater', 'hash', 'mud', 'ovs', 'penwood', 'pisgah', 'prick', 'images', 'dartmouth', 'malawi', 'cafe', 'thebarefootpastor', 'spills', 'kemmerer', 'dai', 'skate', 'boarder', 'dj', 'pontypool', 'rumi', 'protecting', 'mbale', 'bisexual', 'hawkes', 'forefront', 'atheistic', 'indoctrination', 'fredy', 'lenka', 'zachary', 'acquainted', 'griffin', 'comer', 'corrosive', 'soil', 'secularized', 'hampton', 'jolene', 'kerry', 'hellenic', 'derrida', 'caputo', 'hopeful', 'mayflower', 'hyphenateds', 'emergence', 'traditioning', 'sangre', 'kareus', 'guess', 'prayersforgirls', 'cheerleader', 'campbellsville', 'anona', 'miracles', 'bases', 'burial', 'crucified', 'colossians', 'beers', 'kara', 'rangers', 'bacon', 'tunes', 'passages', 'tumaini', 'ethnomusicology', 'kaghondi', 'owatonna', 'commuting', 'visitng', 'applegate', 'method', 'conveys', 'warmth', 'pews', 'hyper', 'wickedness', 'sinners', 'damnation', 'executing', 'rookiepreacher', 'sermoncentral', 'churchplants', 'elias', 'cabarcas', 'fac', 'sustainable', 'ch', 'uh', 'enquire', 'geographically', 'prep', 'indie', 'lance', 'afghanistan', 'almaty', 'yerkin', 'heroin', 'buy', 'addict', 'desperate', 'freed', 'therapy', 'freeing', 'grasping', 'straw', 'aa', 'insane', 'beagles', 'crayon', 'unusual', 'testimonies', 'scrapbooking', 'interior', 'trey', 'stonybrook', 'gahanna', 'modifications', 'assured', 'sylph', 'morph', 'dominance', 'guardian', 'angels', 'bodyguards', 'data', 'trustworthy', 'remarkable', 'attenders', 'backgrounds', 'bent', 'spark', 'unhappy', 'gbolahan', 'huntersville', 'denouncement', 'recruited', 'underage', 'filed', 'accused', 'forcing', 'ind', 'enrolling', 'seward', 'neb', 'cecil', 'bethesda', 'copeland', 'overlooked', 'internally', 'materialistic', 'trappings', 'doubts', 'floodgates', 'laments', 'shoes', 'chip', 'rift', 'demise', 'expanding', 'submissive', 'kenzie', 'underlying', 'piercings', 'somewhat', 'disapprove', 'extent', 'mariological', 'sbcplodder', 'sbcvoices', 'diligently', 'tend', 'stdy', 'presenters', 'tosc', 'critiqued', 'anaylsis', 'opposing', 'ordinationtruth', 'dollars', 'seats', 'iwu', 'gcts', 'manuscripts', 'attic', 'hoefs', 'adequately', 'widespread', 'revitalize', 'jax', 'collects', 'tabor', 'channels', 'ebf', 'monitoring', 'input', 'eighties', 'unsuccessful', 'mobilized', 'sunitha', 'freshman', 'transitioned', 'interprofessional', 'camino', 'rushing', 'yards', 'maio', 'liners', 'ucm', 'cma', 'sixty', 'ilf', 'greats', 'benner', 'undiscerning', 'recovering', 'addicts', 'nobel', 'rhodes', 'witty', 'sayings', 'copied', 'rewrote', 'sara', 'laholmes', 'lukeholmes', 'perkins', 'smu', 'sermonsuite', 'killen', 'bird', 'multiplying', 'actuated', 'longed', 'impoverished', 'cupcake', 'wordsmith', 'lindsayhausch', 'bolivia', 'pug', 'semipostals', 'scandannvia', 'europa', 'topical', 'philatelic', 'wfsc', 'atfp', 'enriching', 'bless', 'ronke', 'profession', 'fiyinfolu', 'ajibola', 'monetary', 'tying', 'knot', 'premarital', 'provoke', 'strength', 'revaustinmiles', 'bigot', 'miserable', 'pedophilia', 'promiscuous', 'filthy', 'brainwashing', 'activit', 'ies', 'compared', 'mormonism', 'andsaid', 'evangelizes', 'generously', 'signing', 'grooming', 'sibling', 'hundred', 'span', 'strategizing', 'screenwriting', 'ish', 'discount', 'ski', 'lift', 'tickets', 'smug', 'parties', 'scoutmaster', 'bsa', 'cyndi', 'torchbearers', 'colors', 'labeled', 'skiing', 'sector', 'curates', 'timothysgift', 'avalon', 'tunghai', 'cheng', 'cuny', 'goof', 'wait', 'pathfinder', 'camporee', 'pakistani', 'pickel', 'donaldson', 'touching', 'lovingly', 'grappling', 'affordable', 'agenda', 'tweaks', 'lamplight', 'akpami', 'apapa', 'metta', 'architect', 'ahmadu', 'bello', 'bako', 'mastered', 'gluten', 'buttermilk', 'biscuits', 'lately', 'revs', 'rafu', 'shimpo', 'greensboro', 'cary', 'steady', 'christie', 'purifoy', 'traded', 'classroom', 'farmhouse', 'placemakers', 'average', 'quadrupled', 'talbotdavis', 'linguistics', 'lakota', 'atrocities', 'slowly', 'repairs', 'rooms', 'conditions', 'cavaliers', 'alaina', 'twinsburg', 'pr', 'dedmin', 'discerningdaughters', 'excerpted', 'commonsense', 'gracepoint', 'lidcombe', 'gddiv', 'sherilyn', 'secularism', 'treated', 'equally', 'constitution', 'sharia', 'sadat', 'inserted', 'sectarian', 'egyptian', 'amended', 'shari', 'ahs', 'treaties', 'legislation', 'nyagatare', 'ntidendeza', 'mukundwa', 'kaliza', 'gikundiro', 'bahizi', 'carrie', 'plaguing', 'corrupting', 'addictions', 'backed', 'enemies', 'policemen', 'corrupted', 'acquaintances', 'suspecting', 'smugglers', 'believable', 'madness', 'hookman', 'grabs', 'pits', 'nascar', 'northland', 'lansdale', 'cromwell', 'pillsbury', 'passed', 'tourist', 'speechless', 'steven', 'chapman', 'unveiled', 'objects', 'affection', 'heavenward', 'ucla', 'pentacostals', 'embassy', 'voa', 'eve', 'dwight', 'angelo', 'hallettsville', 'bees', 'bereavement', 'kerrville', 'ham', 'operator', 'fearless', 'defenders', 'longevity', 'champions', 'mankind', 'features', 'selfie', 'transphobic', 'rant', 'neutral', 'bathrooms', 'representatives', 'donation', 'parenthood', 'successor', 'rousing', 'occasional', 'waning', 'sham', 'tow', 'sweetzer', 'nell', 'bargained', 'affirming', 'overnight', 'flourished', 'chriskratzer', 'shadows', 'oppressed', 'residing', 'dialogues', 'etiquette', 'terri', 'deuteronomistic', 'investigate', 'stubbornly', 'conceptions', 'condemn', 'disseminate', 'fallacies', 'disrupt', 'jarvis', 'scouts', 'asociacion', 'ministros', 'evangelicos', 'amedal', 'merrimack', 'apoyo', 'erie', 'nyack', 'cults', 'sunset', 'swope', 'warfare', 'paranormal', 'fayetteville', 'humanities', 'conway', 'dealing', 'tackles', 'influx', 'genre', 'evans', 'bessey', 'complementarian', 'egalitarian', 'commented', 'alarming', 'mistreated', 'stereotypes', 'emerita', 'everist', 'enhance', 'traveller', 'outlets', 'finish', 'showers', 'drives', 'shower', 'hygiene', 'supplies', 'greener', 'grass', 'conspiracy', 'gallery', 'owners', 'faulkner', 'margaret', 'archambault', 'relocate', 'responded', 'recruiter', 'provisions', 'odom', 'karis', 'penelope', 'relocating', 'advisor', 'brentwood', 'katherine', 'cheesehead', 'tomball', 'courtney', 'artista', 'videography', 'smile', 'breaks', 'garage', 'transforms', 'treasures', 'eastland', 'oru', 'magnolia', 'mpcpnpa', 'muchison', 'inaction', 'negatively', 'midwest', 'drea', 'rovc', 'ridiculously', 'doting', 'grandma', 'hospitalization', 'pen', 'dowell', 'shepherdess', 'hobby', 'huffpost', 'q', 'beng', 'choo', 'zephaniah', 'ondo', 'accountant', 'biyi', 'daniels', 'rejoice', 'informs', 'sally', 'behaviors', 'jamaica', 'reared', 'genuine', 'centennial', 'westchester', 'dixon', 'intelligence', 'beaufort', 'judah', 'draven', 'shark', 'paramilitary', 'destroyed', 'violated', 'beatings', 'sabotaging', 'divisiveness', 'jail', 'tacf', 'sells', 'products', 'dvds', 'endorsements', 'commissioning', 'bently', 'update', 'wondering', 'hurricane', 'disaster', 'hurricanes', 'anecdotal', 'readable', 'barnes', 'bout', 'citrus', 'bancheros', 'itinerant', 'orphanology', 'platt', 'musicology', 'composers', 'hymnody', 'carl', 'schalk', 'walter', 'bouman', 'progress', 'appreciate', 'familial', 'powerlifting', 'amateur', 'imperfect', 'sequel', 'motivate', 'northridge', 'circleville', 'stony', 'referees', 'theme', 'publish', 'traditions', 'exposited', 'humanity', 'hendrickson', 'behold', 'christologies', 'macquarrie', 'wolfhart', 'pannenburg', 'emotions', 'onecry', 'awakening', 'complacency', 'pointed', 'defines', 'bridgeport', 'location', 'toni', 'abigail', 'josiah', 'motorcycles', 'tailor', 'debi', 'douglas', 'complement', 'neuro', 'delray', 'emphasizes', 'components', 'astute', 'businessman', 'ina', 'kosa', 'kantaka', 'surprise', 'gtu', 'survived', 'counsels', 'clients', 'acknowledges', 'indebtedness', 'peacemaker', 'margie', 'tommy', 'note', 'suni', 'islamist', 'militant', 'julius', 'lifting', 'extemporaneous', 'leonard', 'birthed', 'tiny', 'bakery', 'ends', 'disciplines', 'mershimer', 'hobe', 'inspirationally', 'motivates', 'charismatically', 'uplifts', 'touches', 'psalmist', 'motivator', 'exclusively', 'declining', 'grant', 'innovator', 'preachbetweenthelines', 'pearson', 'currrently', 'oletu', 'anatomy', 'nigerian', 'prayerideas', 'fb', 'terminal', 'ironworker', 'sarnia', 'consists', 'barren', 'prevail', 'succeed', 'haul', 'discern', 'coordinate', 'niece', 'nephew', 'updating', 'kenny', 'churchonenow', 'rebuilding', 'turner', 'churched', 'circles', 'tabitha', 'treacherous', 'tiger', 'primers', 'marketed', 'inventions', 'outdoorsmen', 'certifications', 'ymtoday', 'scattering', 'specialties', 'rethinkingyouthministry', 'initially', 'croydon', 'vic', 'indooroopilly', 'qld', 'inspires', 'crosswalk', 'homelife', 'leak', 'katrina', 'mckeever', 'ielb', 'ulbra', 'semin', 'conc', 'rdia', 'leopoldo', 'hereditary', 'eye', 'slowed', 'facility', 'wanting', 'rewarding', 'danie', 'excess', 'churchlife', 'adapted', 'shannon', 'shannonblosser', 'gone', 'athletics', 'youngest', 'athlete', 'fearful', 'sway', 'prevailing', 'patriotism', 'risks', 'counteract', 'facist', 'hrer', 'manifesting', 'saintsinnerseeker', 'hungarian', 'welcomes', 'hungarians', 'foreigners', 'versa', 'demand', 'dweller', 'integration', 'capacity', 'refuel', 'uncomplicated', 'cathy', 'figured', 'plate', 'minus', 'warfield', 'summary', 'elevating', 'awakened', 'impassioned', 'revive', 'earnest', 'travailing', 'bba', 'ruzicka', 'ilikemycoffeeblack', 'kezia', 'tozer', 'iphone', 'ipad', 'shoot', 'reproductive', 'abortive', 'joost', 'spokane', 'boasted', 'schlissel', 'pamphlet', 'instructing', 'consider', 'typical', 'aol', 'usteach', 'courtship', 'daddysgirl', 'pdf', 'gideons', 'eadvocate', 'sohopeful', 'sohopefulny', 'sosen', 'caution', 'governments', 'occasions', 'merrill', 'lynch', 'sth', 'onsite', 'unaware', 'fergus', 'pfeiffer', 'misenheimer', 'drew', 'emphasized', 'qualities', 'footsteps', 'expansion', 'ajayi', 'adeniran', 'fostered', 'respite', 'protective', 'placements', 'mugabe', 'ousted', 'emmerson', 'mnangagwa', 'promised', 'mawarire', 'perelman', 'towne', 'exegetical', 'renovation', 'frazee', 'rozanne', 'paved', 'speakers', 'movieguide', 'michellelazurek', 'musicals', 'susanna', 'holmstrom', 'dooley', 'ashland', 'bev', 'singles', 'palestinians', 'symbolic', 'groves', 'resolving', 'essentials', 'arrests', 'coup', 'recep', 'tayyip', 'erdogan', 'spying', 'unnamed', 'terrorist', 'sentences', 'casper', 'finishing', 'wicked', 'carved', 'rolling', 'cherishes', 'edgebrook', 'pointe', 'aliza', 'connector', 'fulfilled', 'colby', 'cade', 'rests', 'braxton', 'climax', 'channeling', 'fosdick', 'coffin', 'bigotry', 'unions', 'imperialism', 'provocatively', 'riverside', 'condom', 'curb', 'sterns', 'churchless', 'examined', 'wichita', 'florencio', 'flores', 'euceda', 'grad', 'shores', 'cain', 'prophet', 'wimber', 'promise', 'jewel', 'merwe', 'petting', 'beer', 'proven', 'uncompromised', 'minjung', 'hermeneutic', 'levinas', 'confucianism', 'knit', 'zumba', 'intellectuals', 'flocked', 'massy', 'palaiseau', 'montpellier', 'fundavida', 'battles', 'ravages', 'outs', 'disadvantage', 'classrooms', 'samson', 'quiet', 'minimum', 'lacks', 'dilemmas', 'triumph', 'thwarted', 'dustin', 'molli', 'embittered', 'rage', 'justifies', 'proof', 'texting', 'mccranie', 'scholars', 'workforce', 'producer', 'saxton', 'pastorsteph', 'kazakhstan', 'jennie', 'brenna', 'dairy', 'ronnie', 'gerogia', 'gwinnett', 'douglasville', 'bhd', 'indigenous', 'bahasa', 'miso', 'sufferers', 'follows', 'coverage', 'misos', 'persevere', 'relativism', 'wounded', 'smashwords', 'debling', 'staffs', 'kristyn', 'investing', 'laboring', 'bikram', 'round', 'radicalized', 'politically', 'crises', 'articulate', 'ensures', 'misfortune', 'blame', 'vices', 'revenge', 'messengers', 'disturbed', 'henry', 'hoping', 'mets', 'doctrate', 'youthworker', 'ugly', 'phone', 'islington', 'wycliffe', 'fancy', 'shops', 'stores', 'apollo', 'ghanaian', 'hi', 'jake', 'jamie', 'aden', 'cosmology', 'abwe', 'hartwick', 'saucers', 'parting', 'revelations', 'expands', 'downing', 'mufon', 'aliens', 'copernican', 'quantum', 'mechanics', 'string', 'dominican', 'panama', 'achok', 'nairobi', 'sickle', 'anaemia', 'votes', 'spot', 'visionaries', 'mahairas', 'michele', 'product', 'maceo', 'pembroke', 'journeying', 'organizer', 'profess', 'witchcraft', 'celebrates', 'hallowe', 'threatened', 'wyman', 'stall', 'distributes', 'cocoa', 'continent', 'mattersey', 'narratives', 'interact', 'personnel', 'hickory', 'peg', 'bfp', 'divestment', 'brookfield', 'adolescents', 'kilometers', 'laval', 'relieve', 'muppet', 'reluctantprophets', 'promisesandperspective', 'yacht', 'li', 'ian', 'kendra', 'offshoot', 'centrepoint', 'cockburn', 'perth', 'turning', 'counsellor', 'permanent', 'voodoo', 'governmental', 'resolve', 'julio', 'endured', 'inflicted', 'lifetime', 'christwardcollective', 'teachinglikerain', 'panelist', 'edwards', 'petty', 'callahan', 'jodie', 'shippensburg', 'ballet', 'cowboy', 'globallead', 'drawn', 'multiply', 'introductory', 'endeavours', 'threat', 'stare', 'hemorrhoids', 'stool', 'bloody', 'practicums', 'beta', 'upsilon', 'chi', 'fraternity', 'normandale', 'formally', 'intervention', 'heterosexual', 'catharines', 'ntario', 'mcgill', 'demonological', 'treatise', 'stick', 'dedicates', 'eleventh', 'haight', 'hardy', 'semester', 'hispanics', 'caroline', 'chamblee', 'doraville', 'mobilizer', 'ili', 'darren', 'stirring', 'plastic', 'jaws', 'perilous', 'agonizing', 'painful', 'incomplete', 'endemic', 'routinely', 'garbage', 'dumps', 'refuses', 'ignore', 'rejects', 'showed', 'keizer', 'nonetheless', 'paschal', 'sputters', 'darkness', 'embarrassed', 'risen', 'peru', 'salguero', 'nalec', 'nae', 'espa', 'telemundo', 'brandi', 'invests', 'permeate', 'grey', 'landmark', 'paulsen', 'sonja', 'anchor', 'wbz', 'resulted', 'emmys', 'edward', 'murrow', 'rance', 'kecia', 'oprah', 'rolled', 'wall', 'conducts', 'facilitates', 'interpersonal', 'saintsbynature', 'hollow', 'signed', 'figure', 'vicki', 'wildly', 'legend', 'tract', 'cox', 'plnu', 'toughest', 'smuggle', 'bibles', 'underground', 'nsa', 'moonlight', 'yun', 'practising', 'psychiatrist', 'freddie', 'esccc', 'pets', 'kay', 'batesville', 'meridian', 'booklet', 'methodism', 'rozeboom', 'racine', 'assassination', 'segregated', 'pleuss', 'rochester', 'imagining', 'liberation', 'heartbeat', 'cells', 'meditational', 'reconnect', 'collapse', 'mixture', 'injecting', 'herion', 'gennadiy', 'appreciated', 'clarence', 'orchard', 'goodly', 'pk', 'istanbul', 'wendy', 'victories', 'perfectionism', 'discouragement', 'grady', 'celebrations', 'elaine', 'compassionate', 'notably', 'reformative', 'rtc', 'changi', 'khoo', 'offenders', 'savings', 'ppid', 'deputy', 'kigali', 'operation', 'iraqi', 'deployments', 'surgical', 'mortuary', 'usmc', 'deploying', 'branches', 'ships', 'heliclopter', 'squadrons', 'foxholes', 'zacharias', 'bother', 'sonia', 'aboriginals', 'aboriginal', 'forcibly', 'assimilate', 'volleyball', 'medals', 'changers', 'traci', 'constraints', 'agc', 'markets', 'wherever', 'debra', 'ecclesiastical', 'ruling', 'constitutional', 'printed', 'dorm', 'asb', 'discipling', 'gods', 'uptempo', 'beats', 'danceable', 'rhythms', 'colonel', 'vendesteeg', 'affiliation', 'vandesteeg', 'preside', 'subs', 'meyer', 'parished', 'hilo', 'commenter', 'lists', 'employment', 'germantown', 'sort', 'taiwo', 'dolapo', 'abeokuta', 'definite', 'adedayo', 'chronicles', 'goers', 'bizarrely', 'sued', 'dismissed', 'admonishment', 'gymnast', 'cyclist', 'oly', 'triathlete', 'brokenyethopeful', 'montero', 'overall', 'brianna', 'journaling', 'strengths', 'weaknesses', 'righteousness', 'kalaman', 'archaeological', 'excavation', 'journals', 'weeping', 'jade', 'insurance', 'creations', 'kelleybenson', 'evangelists', 'necessities', 'undermining', 'penal', 'code', 'detained', 'gia', 'lai', 'corrielus', 'deacons', 'supper', 'sister', 'meriline', 'neglected', 'visibility', 'defender', 'kyampisi', 'kcm', 'sacrificial', 'danger', 'falling', 'psychosocial', 'purchased', 'bern', 'eutin', 'hlbrand', 'beck', 'heikendorf', 'velkd', 'gnc', 'heide', 'meldorf', 'confronted', 'minnestoa', 'employed', 'valdosta', 'acquisition', 'bekah', 'woods', 'windmill', 'popping', 'surroundings', 'christa', 'edaleen', 'ice', 'cream', 'cone', 'flierl', 'maurer', 'gnostic', 'kayiwa', 'designation', 'phobice', 'tweheyo', 'samalie', 'satisfaction', 'scholarship', 'endowment', 'ravencrest', 'tactical', 'duo', 'conrad', 'billboard', 'charting', 'liam', 'minn', 'courtesy', 'marboe', 'caption', 'educates', 'wounds', 'defecting', 'megachurch', 'replaced', 'brunch', 'buffet', 'armageddon', 'color', 'rescued', 'forties', 'burning', 'puts', 'pageant', 'bearing', 'pads', 'pigeon', 'prima', 'twinkle', 'skateboard', 'dorito', 'bellflower', 'nov', 'cynthia', 'cc', 'downey', 'mirada', 'calendars', 'summers', 'ngo', 'veng', 'mathematical', 'physicist', 'sir', 'eddington', 'solar', 'eclipse', 'relativity', 'traveler', 'icf', 'storytellers', 'augsburg', 'elcic', 'subscription', 'flexible', 'sundaysandseasons', 'colorful', 'tiles', 'havana', 'illustrates', 'suzanne', 'excitement', 'narrated', 'sinise', 'forrest', 'gump', 'narration', 'minimal', 'admirers', 'mel', 'braveheart', 'ragtime', 'joplin', 'kerith', 'yea', 'bracknell', 'cricket', 'bonfires', 'pocock', 'benpocock', 'aiming', 'ciprian', 'liliana', 'humpty', 'dumpty', 'modules', 'sweeten', 'uptown', 'gabbard', 'tabernacle', 'picked', 'instruments', 'endless', 'hopeless', 'unseen', 'duyen', 'chemotherapy', 'radiation', 'praising', 'honored', 'rbergfalk', 'thereby', 'cater', 'unanticipated', 'instruction', 'xi', 'scientist', 'wyeth', 'pharmaceuticals', 'pfizer', 'yan', 'feng', 'tennis', 'tortures', 'befallen', 'neither', 'hallucination', 'physically', 'bodily', 'intact', 'wiese', 'conscious', 'harrowing', 'vashon', 'davidson', 'evangelicalsforsocialaction', 'advised', 'ted', 'cruz', 'effecting', 'championing', 'echols', 'lusaka', 'woodlands', 'mpika', 'zambia', 'oversaw', 'elisabeth', 'mbe', 'recognition', 'scroll', 'listened', 'canton', 'rosemary', 'nick', 'overflow', 'undeserved', 'beholding', 'robinson', 'sdmw', 'bakes', 'spinach', 'needles', 'maneuvers', 'exhibit', 'dekalb', 'beulah', 'dreadful', 'flood', 'washes', 'dismiss', 'kidnaps', 'flees', 'reconcile', 'wit', 'erudite', 'citizens', 'meyersdale', 'agricultural', 'retail', 'barefoot', 'getaway', 'subsidiaries', 'nasdaq', 'smucker', 'dorcas', 'eugene', 'compiled', 'shoe', 'jacalyn', 'nevertheless', 'westhampton', 'sandfields', 'sizes', 'cultures', 'extend', 'contribute', 'crs', 'splichal', 'termed', 'earthquake', 'broadcaster', 'newsreader', 'sri', 'lanka', 'preachingplatform', 'sheriah', 'sheramiah', 'peopleschurch', 'lk', 'uae', 'arab', 'emirates', 'wapahani', 'coffmans', 'grain', 'betsy', 'emmett', 'leo', 'westin', 'churchome', 'personality', 'spaces', 'glover', 'bethea', 'nypd', 'merton', 'bach', 'somehow', 'lets', 'todas', 'na', 'credo', 'extra', 'grounded', 'trails', 'commissioned', 'trustee', 'presbyteries', 'moderating', 'liaison', 'floors', 'collaborator', 'merge', 'sigma', 'harrison', 'milthaler', 'springboro', 'fbi', 'deterring', 'oscar', 'negron', 'paulskirche', 'schenefeld', 'intersections', 'salam', 'standing', 'montana', 'bristol', 'agree', 'lukan', 'psychologist', 'liminal', 'problematic', 'consultation', 'sinnott', 'parachurch', 'nagle', 'skydiving', 'kills', 'janet', 'carrying', 'upstairs', 'heartbroken', 'tillman', 'dig', 'linking', 'meticulous', 'kayak', 'canoe', 'preserver', 'reasonably', 'tastes', 'recipes', 'hawaiian', 'stewards', 'lademma', 'veritas', 'erin', 'wellness', 'kiddos', 'amanda', 'gorgeous', 'reward', 'sws', 'nobody', 'vote', 'grip', 'possibilities', 'manitoumie', 'collected', 'poet', 'ceremonies', 'rockford', 'sallyann', 'saluki', 'panther', 'unfortunate', 'kill', 'ignoring', 'dubai', 'doula', 'mobilization', 'extreme', 'treatable', 'preventable', 'totally', 'stripped', 'funding', 'ottawa', 'kenichi', 'uc', 'migratory', 'venezuelans', 'passport', 'hammond', 'tribute', 'jimmie', 'tracks', 'rutledge', 'trend', 'saxonburg', 'gentle', 'usual', 'dikaio', 'elea', 'roasting', 'nerdy', 'chic', 'restored', 'ignited', 'infused', 'equips', 'heavy', 'regionally', 'maarten', 'occurs', 'tithing', 'purposes', 'reminiscing', 'monastery', 'dharma', 'pilgrimage', 'prostrating', 'ukiah', 'sutra', 'veganism', 'kecskem', 'szabads', 'interruption', 'oct', 'inquisitive', 'throng', 'pouring', 'sanford', 'stadium', 'selflessly', 'headhearthand', 'mandolin', 'mandola', 'sang', 'baritone', 'tenor', 'sung', 'innocence', 'reclaims', 'restores', 'floundering', 'rediscovers', 'rust', 'tale', 'bind', 'bred', 'elim', 'riverwalk', 'exercise', 'willowdale', 'fredericton', 'brunswick', 'chesley', 'wilfrid', 'laurier', 'waterloo', 'albrecht', 'gilbert', 'sullivan', 'tweener', 'onebyone', 'kilns', 'paradox', 'vs', 'copy', 'appearing', 'uncovering', 'vanguard', 'tasha', 'briar', 'netflix', 'recreation', 'documentaries', 'fonts', 'leighpowers', 'pastorswives'])\n"
     ]
    }
   ],
   "source": [
    "print(clss_dict[0].keys())"
   ]
  },
  {
   "cell_type": "code",
   "execution_count": 31,
   "metadata": {},
   "outputs": [
    {
     "name": "stdout",
     "output_type": "stream",
     "text": [
      "['church', 'years', 'pastor', 'ministry', 'also', 'god', 'university', 'children', 'seminary', 'wife', 'christian', 'theological', 'served', 'two', 'people', 'life', 'time', 'college', 'new', 'school', 'bible', 'christ', 'one', 'married', 'theology', 'family', 'currently', 'com', 'faith', 'churches', 'book', 'author', 'three', 'books', 'work', 'jesus', 'degree', 'since', 'first', 'husband', 'lives', 'community', 'women', 'ministries', 'director', 'world', 'youth', 'graduate', 'serves', 'well', 'music', 'worship', 'baptist', 'education', 'live', 'many', 'leadership', 'loves', 'passion', 'writing', 'www', 'four', 'studies', 'several', 'serving', 'preaching', 'lutheran', 'biblical', 'home', 'received', 'divinity', 'master', 'year', 'member', 'pastors', 'love', 'published', 'united', 'including', 'young', 'congregation', 'teaching', 'blog', 'working', 'local', 'board', 'co', 'state', 'spiritual', 'word', 'part', 'holds', 'mission', 'enjoys', 'father', 'hope', 'president', 'others', 'training', 'gospel', 'writes', 'full', 'recently', 'heart', 'good', 'program', 'city', 'experience', 'around', 'north', 'pastoral', 'lord', 'student', 'see', 'living', 'way', 'center', 'international', 'congregations', 'blogs', 'son', 'presbyterian', 'rev', 'call', 'leaders', 'reading', 'help', 'called', 'written', 'great', 'st', 'national', 'serve', 'texas', 'group', 'graduated', 'chaplain', 'grace', 'american', 'small', 'high', 'day', 'involved', 'passionate', 'social', 'team', 'various', 'lead', 'america', 'california', 'teacher', 'old', 'area', 'founder', 'worked', 'five', 'history', 'dr', 'grandchildren', 'masters', 'reformed', 'story', 'kids', 'b', 'south', 'study', 'conference', 'discipleship', 'last', 'students', 'works', 'institute', 'together', 'paul', 'care', 'began', 'born', 'missionary', 'teaches', 'ordained', 'articles', 'development', 'john', 'would', 'man', 'best', 'like', 'earned', 'states', 'within', 'leader', 'along', 'marriage', 'past', 'taught', 'leading', 'speaker', 'things', 'found', 'evangelical', 'age', 'daughter', 'include', 'active', 'read', 'york', 'religion', 'daughters', 'africa', 'known', 'senior', 'http', 'groups', 'make', 'helping', 'degrees', 'editor', 'based', 'mother', 'service', 'made', 'truth', 'bachelor', 'executive', 'completed', 'men', 'stories', 'arts', 'div', 'parents', 'personal', 'online', 'chicago', 'conferences', 'southern', 'says', 'speaking', 'writer', 'prayer', 'relationship', 'services', 'sons', 'become', 'six', 'religious', 'free', 'minister', 'today', 'christians', 'prior', 'believes', 'issues', 'every', 'find', 'former', 'moved', 'led', 'mark', 'even', 'org', 'testament', 'previously', 'long', 'following', 'adult', 'times', 'canada', 'network', 'power', 'website', 'magazine', 'visit', 'english', 'sunday', 'support', 'west', 'go', 'business', 'outreach', 'science', 'country', 'members', 'mike', 'counseling', 'friends', 'share', 'journey', 'information', 'recent', 'council', 'justice', 'series', 'especially', 'post', 'different', 'speaks', 'events', 'back', 'u', 'fellowship', 'holy', 'given', 'media', 'staff', 'attended', 'organization', 'christianity', 'growing', 'leads', 'may', 'get', 'assistant', 'said', 'associate', 'carolina', 'communities', 'still', 'however', 'law', 'ohio', 'facebook', 'spent', 'helped', 'grown', 'career', 'used', 'minnesota', 'joy', 'role', 'studied', 'public', 'special', 'blessed', 'general', 'c', 'authored', 'became', 'boys', 'usa', 'elca', 'health', 'regularly', 'resources', 'making', 'san', 'child', 'news', 'georgia', 'michigan', 'playing', 'always', 'days', 'central', 'ph', 'culture', 'appeared', 'david', 'award', 'radio', 'evangelism', 'throughout', 'luther', 'come', 'doctorate', 'committee', 'fiction', 'tim', 'trinity', 'campus', 'addition', 'started', 'house', 'take', 'london', 'later', 'clergy', 'body', 'calling', 'raising', 'numerous', 'building', 'coming', 'vision', 'studying', 'weekly', 'questions', 'death', 'field', 'end', 'needs', 'early', 'professor', 'jeff', 'non', 'families', 'publishing', 'retired', 'raised', 'came', 'held', 'committed', 'force', 'much', 'released', 'washington', 'often', 'little', 'originally', 'mn', 'self', 'academy', 'th', 'research', 'methodist', 'among', 'parish', 'planting', 'food', 'sermons', 'twenty', 'missions', 'steve', 'virginia', 'growth', 'something', 'number', 'relationships', 'wonderful', 'seven', 'florida', 'took', 'article', 'variety', 'across', 'schools', 'coffee', 'mary', 'includes', 'strong', 'wrote', 'next', 'running', 'kingdom', 'video', 'generation', 'de', 'department', 'human', 'couples', 'lived', 'peace', 'western', 'never', 'princeton', 'illinois', 'believers', 'beautiful', 'sports', 'bishop', 'going', 'sermon', 'week', 'ecumenical', 'experiences', 'contributed', 'east', 'press', 'missional', 'internationally', 'short', 'blogspot', 'cross', 'ten', 'words', 'founded', 'trained', 'true', 'phd', 'faculty', 'bethel', 'town', 'know', 'encouraging', 'programs', 'oregon', 'fuller', 'dallas', 'though', 'coordinator', 'adults', 'upon', 'large', 'spending', 'must', 'change', 'ba', 'commission', 'union', 'prison', 'friend', 'graduating', 'pennsylvania', 'ministers', 'society', 'n', 'coaching', 'covenant', 'project', 'desire', 'comes', 'gay', 'chapel', 'chris', 'district', 'teams', 'seeing', 'second', 'association', 'soul', 'important', 'bill', 'spirit', 'congregational', 'feels', 'left', 'healing', 'europe', 'impact', 'jim', 'urban', 'indiana', 'formation', 'daily', 'review', 'freedom', 'areas', 'place', 'teach', 'ministered', 'pastoring', 'greater', 'follow', 'organizations', 'could', 'plant', 'centered', 'political', 'doctor', 'resides', 'concordia', 'another', 'traveled', 'hospital', 'bob', 'play', 'brings', 'voice', 'sharing', 'practical', 'iowa', 'purpose', 'native', 'movement', 'view', 'everything', 'deep', 'michael', 'contributor', 'talk', 'real', 'consultant', 'mentoring', 'walking', 'message', 'air', 'right', 'offers', 'without', 'rights', 'middle', 'dedicated', 'influence', 'hard', 'particularly', 'unique', 'grew', 'brother', 'went', 'anti', 'sexual', 'popular', 'continue', 'coalition', 'parenting', 'guide', 'need', 'camp', 'twitter', 'shares', 'century', 'podcast', 'ago', 'knows', 'places', 'seeks', 'pastored', 'film', 'speak', 'hopes', 'counselor', 'use', 'coach', 'art', 'inspired', 'name', 'interest', 'eight', 'recognized', 'francisco', 'side', 'mentor', 'hundreds', 'thousands', 'lot', 'administration', 'pacific', 'african', 'preacher', 'publications', 'enjoy', 'preaches', 'novel', 'outside', 'spirituality', 'june', 'management', 'particular', 'better', 'opportunity', 'write', 'retreats', 'columbia', 'matthew', 'countries', 'initiative', 'philadelphia', 'travel', 'vice', 'james', 'wisdom', 'candidate', 'point', 'interfaith', 'conflict', 'helps', 'reside', 'en', 'simple', 'november', 'sex', 'december', 'process', 'philosophy', 'feel', 'million', 'connect', 'formerly', 'eastern', 'near', 'starting', 'got', 'hosts', 'cultural', 'seminars', 'getting', 'walk', 'tennessee', 'doctoral', 'trying', 'happily', 'germany', 'grand', 'reach', 'curriculum', 'beyond', 'say', 'turned', 'educational', 'foster', 'mdiv', 'faithful', 'learning', 'photography', 'continues', 'devotional', 'alongside', 'created', 'bring', 'focuses', 'interested', 'heard', 'brian', 'taken', 'decided', 'police', 'violence', 'atlanta', 'disciples', 'previous', 'classes', 'journal', 'adjunct', 'room', 'westminster', 'ways', 'certified', 'whose', 'volunteer', 'interests', 'gordon', 'focus', 'wayne', 'workshops', 'experienced', 'engaged', 'scripture', 'practices', 'tx', 'songs', 'thomas', 'summer', 'beach', 'portland', 'grow', 'government', 'almost', 'start', 'practice', 'amy', 'able', 'ministering', 'mennonite', 'light', 'net', 'rural', 'teachings', 'abuse', 'available', 'taking', 'attending', 'undergraduate', 'houston', 'catholic', 'advocate', 'named', 'ages', 'creating', 'politics', 'george', 'oklahoma', 'wrong', 'exploring', 'understand', 'developed', 'convention', 'term', 'activities', 'dog', 'homeschooling', 'inspiration', 'alliance', 'israel', 'web', 'joined', 'provides', 'develop', 'think', 'background', 'fun', 'according', 'planning', 'creative', 'course', 'page', 'offering', 'learned', 'set', 'synod', 'nearly', 'wisconsin', 'january', 'wants', 'medical', 'perspective', 'loss', 'month', 'knowledge', 'louis', 'missouri', 'e', 'issue', 'la', 'founding', 'using', 'hell', 'task', 'lgbt', 'major', 'finds', 'believe', 'il', 'england', 'takes', 'gifts', 'ca', 'current', 'nations', 'jersey', 'foundation', 'court', 'suffering', 'plan', 'responsible', 'joe', 'company', 'r', 'question', 'person', 'campaign', 'october', 'yet', 'road', 'join', 'chairman', 'dogs', 'secret', 'connecting', 'administrator', 'nc', 'psychology', 'likes', 'dave', 'communication', 'learn', 'focused', 'calvary', 'keep', 'teachers', 'daniel', 'order', 'build', 'water', 'show', 'begins', 'australia', 'everyone', 'gift', 'smith', 'reverend', 'empower', 'mexico', 'ethics', 'months', 'professional', 'blood', 'jones', 'quite', 'looking', 'oversees', 'kevin', 'located', 'martin', 'leave', 'salvation', 'cooking', 'umc', 'click', 'hill', 'favorite', 'claims', 'global', 'although', 'resource', 'someone', 'rob', 'devotions', 'challenges', 'passions', 'directors', 'austin', 'poetry', 'charlotte', 'means', 'language', 'literature', 'sarah', 'street', 'couple', 'nigeria', 'healthy', 'worth', 'class', 'encounter', 'amazing', 'head', 'arizona', 'coast', 'return', 'considered', 'visiting', 'ever', 'night', 'goes', 'truths', 'behind', 'presence', 'souls', 'northern', 'elder', 'column', 'topics', 'position', 'late', 'peter', 'football', 'singing', 'less', 'understanding', 'sent', 'site', 'far', 'protestant', 'primary', 'trainer', 'advocacy', 'put', 'renewal', 'county', 'bachelors', 'system', 'woman', 'motherhood', 'powerful', 'evangelicals', 'bringing', 'featured', 'teenage', 'wives', 'transformation', 'spare', 'entire', 'reformation', 'profit', 'policy', 'writers', 'monthly', 'enough', 'run', 'seeking', 'basketball', 'volunteers', 'soon', 'girl', 'extensively', 'pursuing', 'heritage', 'singer', 'future', 'toward', 'open', 'arkansas', 'loving', 'sacred', 'eventually', 'samuel', 'courses', 'wesleyan', 'related', 'cook', 'divine', 'jacob', 'girls', 'ken', 'action', 'creation', 'park', 'worldwide', 'war', 'continued', 'rock', 'seen', 'godly', 'historical', 'musician', 'liberty', 'retirement', 'dream', 'chair', 'drug', 'everyday', 'seems', 'va', 'pa', 'ontario', 'song', 'included', 'job', 'ceo', 'planted', 'leaving', 'ordination', 'awards', 'becoming', 'lessonseptember', 'spends', 'possible', 'recovery', 'felt', 'tells', 'india', 'close', 'malaysia', 'really', 'equipping', 'downtown', 'supporting', 'elders', 'gifted', 'regular', 'joseph', 'train', 'kenya', 'scott', 'annual', 'fishing', 'king', 'sam', 'manager', 'contact', 'nation', 'regional', 'reader', 'instructor', 'encourages', 'lost', 'justin', 'greatest', 'yale', 'alabama', 'doctrine', 'reaching', 'returned', 'produced', 'homeless', 'reconciliation', 'forum', 'spoken', 'struggle', 'extensive', 'season', 'email', 'birth', 'stay', 'goal', 'projects', 'tom', 'avid', 'acting', 'identity', 'interim', 'foreign', 'rich', 'form', 'posted', 'away', 'traveling', 'falls', 'truly', 'northwest', 'technology', 'lee', 'list', 'lay', 'southeastern', 'parishes', 'brought', 'besides', 'messages', 'completing', 'gary', 'cancer', 'april', 'w', 'dan', 'transformed', 'muslims', 'muslim', 'changed', 'phil', 'ga', 'played', 'kim', 'ron', 'skills', 'howard', 'toronto', 'nature', 'glory', 'beginning', 'print', 'table', 'big', 'television', 'lake', 'min', 'lecturer', 'theory', 'laura', 'internet', 'friday', 'mostly', 'encourage', 'witness', 'clear', 'effort', 'gave', 'praise', 'nebraska', 'modern', 'elementary', 'appointed', 'liturgical', 'provide', 'nashville', 'loved', 'timothy', 'followers', 'brazil', 'trust', 'prophetic', 'office', 'give', 'busy', 'proud', 'mental', 'giving', 'look', 'religions', 'apologetics', 'greg', 'cats', 'overseeing', 'believing', 'fortress', 'piano', 'southwestern', 'dead', 'step', 'travels', 'carol', 'hosted', 'response', 'hurt', 'thought', 'thinks', 'denominational', 'korean', 'challenge', 'fellow', 'lies', 'scriptures', 'writings', 'latest', 'pursue', 'greatly', 'memorial', 'colorado', 'mid', 'communications', 'theatre', 'needed', 'done', 'assembly', 'multi', 'korea', 'conversation', 'asked', 'break', 'widely', 'audience', 'cost', 'main', 'spring', 'deeper', 'style', 'asia', 'advisory', 'brooklyn', 'taylor', 'actively', 'harvard', 'scotland', 'due', 'release', 'los', 'inc', 'content', 'pre', 'line', 'frequently', 'barbara', 'makes', 'tv', 'attendance', 'madison', 'andrews', 'german', 'caleb', 'mom', 'lots', 'happy', 'design', 'mean', 'mississippi', 'neighborhood', 'talbot', 'eating', 'readers', 'wild', 'anyone', 'opportunities', 'hands', 'move', 'band', 'strategic', 'gets', 'british', 'event', 'thoughts', 'francis', 'asian', 'chinese', 'thirty', 'problems', 'settings', 'charles', 'conwell', 'land', 'homes', 'capital', 'region', 'lessons', 'honolulu', 'classical', 'secretary', 'approach', 'clark', 'rapids', 'freelance', 'uses', 'empowering', 'fall', 'initiatives', 'dialogue', 'islam', 'attend', 'temple', 'looks', 'third', 'saint', 'top', 'collection', 'diverse', 'deliverance', 'meetings', 'deeply', 'drama', 'fan', 'novels', 'provided', 'housing', 'officer', 'gays', 'fact', 'piper', 'minneapolis', 'dakota', 'materials', 'mr', 'lover', 'dean', 'encouragement', 'continuing', 'adopted', 'extension', 'fire', 'struggles', 'regent', 'christmas', 'guitar', 'kentucky', 'almighty', 'critical', 'morning', 'teens', 'saved', 'nonprofit', 'consulting', 'robert', 'cornerstone', 'wedding', 'lessonjuly', 'entitled', 'principles', 'evil', 'listening', 'easy', 'believer', 'changing', 'watch', 'face', 'haiti', 'successful', 'financial', 'locations', 'alive', 'kansas', 'revolution', 'white', 'ladies', 'participated', 'dance', 'moving', 'spiritually', 'excited', 'todd', 'colleges', 'louisiana', 'winning', 'huffington', 'revitalization', 'hannah', 'jason', 'search', 'revival', 'johnson', 'nine', 'franklin', 'case', 'turn', 'responsibility', 'model', 'july', 'karen', 'establish', 'empowerment', 'wide', 'idaho', 'hear', 'kind', 'providing', 'asks', 'funds', 'wilson', 'significant', 'designed', 'ask', 'alone', 'bride', 'workshop', 'via', 'engineering', 'keeps', 'estate', 'seattle', 'bread', 'equip', 'columns', 'manchester', 'twin', 'mountains', 'angeles', 'plays', 'meeting', 'frequent', 'commitment', 'host', 'posts', 'effective', 'workers', 'acts', 'might', 'forced', 'missionaries', 'ideas', 'ethnic', 'publication', 'access', 'star', 'engineer', 'entered', 'abroad', 'homosexual', 'lifestyle', 'streets', 'carry', 'organizing', 'september', 'p', 'matt', 'canadian', 'grade', 'wordpress', 'supported', 'maryland', 'fresh', 'directed', 'performing', 'mind', 'ocean', 'authors', 'pulpit', 'begun', 'sets', 'tanzania', 'shepherd', 'nazarene', 'immigration', 'refugee', 'mo', 'anderson', 'homosexuality', 'thing', 'highly', 'success', 'half', 'biggest', 'dissertation', 'reaches', 'sees', 'jay', 'ministerial', 'terms', 'vineyard', 'importance', 'sometimes', 'tell', 'memphis', 'type', 'shows', 'watching', 'conservative', 'nancy', 'august', 'charge', 'resident', 'february', 'newsletter', 'breaking', 'convinced', 'massachusetts', 'industry', 'farm', 'cities', 'emory', 'broken', 'engaging', 'redemption', 'representative', 'outdoors', 'whether', 'homiletics', 'comments', 'window', 'constantly', 'visited', 'contributing', 'low', 'teen', 'titles', 'met', 'fort', 'gender', 'coolidge', 'built', 'relations', 'appeal', 'teenagers', 'mystery', 'forthcoming', 'honest', 'bass', 'chase', 'alcohol', 'intimate', 'gardening', 'decade', 'adventist', 'letter', 'lesbian', 'tea', 'selling', 'fight', 'inspire', 'happens', 'unity', 'veteran', 'marine', 'albums', 'front', 'answers', 'create', 'cleveland', 'praying', 'christine', 'calls', 'either', 'revelation', 'lgbtq', 'relevant', 'pursuit', 'columbus', 'fully', 'linda', 'aaron', 'considers', 'meets', 'car', 'runs', 'money', 'privilege', 'sound', 'picture', 'communion', 'example', 'store', 'preach', 'corporate', 'village', 'centre', 'chinh', 'pico', 'egypt', 'iran', 'teenager', 'allow', 'ahead', 'overseas', 'island', 'billy', 'crusade', 'suburban', 'movie', 'obama', 'views', 'expressed', 'discovered', 'accomplished', 'liberia', 'additional', 'nothing', 'comfort', 'deal', 'biology', 'administrative', 'hungary', 'fund', 'raise', 'parishioners', 'poor', 'edition', 'titus', 'mandate', 'levels', 'sites', 'idea', 'notes', 'blogger', 'reached', 'interview', 'valerie', 'ed', 'denver', 'luke', 'lucas', 'impacted', 'ability', 'reason', 'nathan', 'noah', 'square', 'marketing', 'martial', 'civil', 'attends', 'outdoor', 'hiking', 'despite', 'persecution', 'universities', 'birmingham', 'dreams', 'ha', 'proclaim', 'zach', 'kurt', 'visits', 'coordinates', 'meet', 'connected', 'ucc', 'latin', 'harvest', 'begin', 'expression', 'bethany', 'assists', 'eat', 'calvin', 'detroit', 'ill', 'weekend', 'encouraged', 'game', 'hunter', 'roles', 'candler', 'continually', 'sense', 'paris', 'anything', 'drugs', 'licensed', 'owner', 'prepare', 'neighbors', 'edited', 'institutions', 'boy', 'pasadena', 'club', 'die', 'positions', 'heaven', 'earth', 'spoke', 'describes', 'complete', 'driven', 'reviews', 'sovereign', 'listen', 'decades', 'lagos', 'governor', 'branch', 'creativity', 'sweetheart', 'chance', 'battle', 'liz', 'titled', 'values', 'gloria', 'established', 'sign', 'lucy', 'independent', 'md', 'sought', 'gained', 'plans', 'joining', 'michelle', 'organizational', 'common', 'followed', 'rest', 'trafficking', 'victims', 'enforcement', 'seller', 'simply', 'petersburg', 'sources', 'eden', 'primarily', 'homelessness', 'total', 'concern', 'majority', 'enjoyed', 'safe', 'setting', 'referred', 'joel', 'presently', 'williams', 'jonathan', 'queens', 'australian', 'behalf', 'associated', 'permission', 'baking', 'al', 'album', 'pastorate', 'whole', 'evangelist', 'fifteen', 'therapist', 'lighthouse', 'athens', 'mars', 'check', 'gives', 'follower', 'apostolic', 'worker', 'principal', 'please', 'prayers', 'openly', 'blessings', 'northwestern', 'reflection', 'roots', 'hospitality', 'junior', 'pittsburgh', 'interesting', 'starts', 'character', 'multiple', 'mccormick', 'drawing', 'excellence', 'male', 'apply', 'secular', 'link', 'russell', 'desires', 'css', 'potential', 'nelson', 'walks', 'wartburg', 'cascade', 'ben', 'assisting', 'positive', 'digital', 'phoenix', 'jack', 'filled', 'towards', 'green', 'davies', 'orange', 'advanced', 'etc', 'el', 'su', 'magazines', 'jeremiah', 'red', 'jon', 'lincoln', 'mosaic', 'black', 'j', 'durham', 'forty', 'susan', 'amazon', 'ordinary', 'keller', 'inner', 'ryan', 'relocated', 'charlie', 'sportsman', 'allowed', 'ghana', 'heights', 'hawaii', 'driving', 'heavenly', 'private', 'residents', 'explains', 'want', 'decision', 'directly', 'opens', 'piece', 'thesis', 'bank', 'conducted', 'corps', 'noticed', 'closely', 'generations', 'sr', 'edinburgh', 'lessondecember', 'lessonmarch', 'lessonoctober', 'lisa', 'joys', 'poverty', 'heads', 'counselling', 'mercy', 'hold', 'twins', 'developing', 'fred', 'military', 'discover', 'destiny', 'earning', 'inside', 'actually', 'sue', 'lewis', 'longer', 'joshua', 'greek', 'difference', 'curtis', 'lady', 'imago', 'dei', 'kyle', 'communicator', 'boards', 'channel', 'act', 'intersection', 'attempt', 'chief', 'orphans', 'thrive', 'ancient', 'officially', 'partnership', 'interactive', 'addiction', 'trauma', 'gathering', 'santa', 'understands', 'mobile', 'broadcast', 'cell', 'dennis', 'camps', 'multicultural', 'l', 'fields', 'radical', 'certificate', 'mat', 'immigrants', 'problem', 'prophets', 'mba', 'result', 'allen', 'papua', 'guinea', 'disease', 'launched', 'knoxville', 'wales', 'tn', 'rivera', 'higher', 'traditional', 'kitchen', 'duke', 'complex', 'tangible', 'reality', 'searching', 'lines', 'redding', 'bilingual', 'ongoing', 'told', 'unexpected', 'mainstream', 'helpful', 'reflect', 'rod', 'talents', 'range', 'harris', 'rather', 'mountain', 'ultimately', 'finished', 'specializes', 'netherlands', 'oakland', 'bennett', 'ward', 'listed', 'victoria', 'eighteen', 'presbytery', 'racial', 'contributes', 'realized', 'capitol', 'certification', 'already', 'dynamic', 'journalism', 'membership', 'straight', 'permit', 'arrested', 'charged', 'mma', 'wrestling', 'title', 'connection', 'discipline', 'bike', 'riding', 'border', 'lindsey', 'natural', 'privileged', 'eager', 'seminaries', 'jan', 'cnn', 'copyright', 'efforts', 'bay', 'eleven', 'moody', 'hanging', 'parent', 'van', 'hot', 'chad', 'lasting', 'dark', 'clinical', 'tool', 'hobbies', 'beliefs', 'therefore', 'sexuality', 'topic', 'characters', 'talented', 'cliff', 'hollywood', 'blessing', 'hunting', 'devoted', 'enthusiastic', 'humor', 'preached', 'software', 'consistent', 'initiated', 'fashion', 'defense', 'tried', 'supply', 'rooted', 'intervarsity', 'intercultural', 'latino', 'decides', 'holding', 'discussion', 'explores', 'educator', 'sc', 'longs', 'sounds', 'situations', 'volume', 'parker', 'trains', 'ran', 'storytelling', 'blue', 'alley', 'communicate', 'occasionally', 'offer', 'receive', 'killed', 'dozen', 'difficult', 'literally', 'eternity', 'mature', 'loyola', 'largely', 'grandparents', 'islamic', 'forces', 'mukhtar', 'emmanuel', 'alberta', 'stone', 'islands', 'adam', 'statement', 'penalty', 'reform', 'chaplains', 'depth', 'promoted', 'uganda', 'strange', 'songwriter', 'anna', 'weight', 'pressure', 'lakes', 'exposition', 'companion', 'stated', 'finance', 'depressed', 'rhema', 'assist', 'liturgy', 'weeks', 'resolution', 'christina', 'g', 'transition', 'andrew', 'bi', 'historic', 'clearly', 'realizing', 'combat', 'presents', 'adams', 'lifelong', 'pounds', 'cairo', 'arabic', 'interreligious', 'crisis', 'raleigh', 'k', 'ray', 'performed', 'movies', 'forward', 'sends', 'miracle', 'urgent', 'russian', 'guidance', 'hospitals', 'hearts', 'savior', 'completely', 'healed', 'arrest', 'sentence', 'province', 'wednesday', 'retreat', 'approximately', 'scholar', 'opening', 'river', 'hiv', 'aids', 'sioux', 'contemporary', 'es', 'proclaimed', 'residency', 'barry', 'melissa', 'horse', 'blair', 'space', 'matters', 'relating', 'fr', 'testified', 'jeremy', 'systems', 'restoring', 'journeys', 'disciple', 'locally', 'forms', 'clothing', 'marketplace', 'jazz', 'oaks', 'present', 'theologian', 'sacrament', 'redeemer', 'extremely', 'behavior', 'draws', 'chapter', 'contains', 'fast', 'moravian', 'specific', 'jennifer', 'republic', 'congo', 'happened', 'https', 'pregnancy', 'martha', 'roberts', 'productions', 'pope', 'additionally', 'houses', 'controversy', 'implications', 'conviction', 'f', 'ghost', 'directs', 'advent', 'solutions', 'talks', 'dubuque', 'faithfulness', 'investment', 'atlantic', 'musical', 'ruby', 'rome', 'challenged', 'lesson', 'shop', 'hours', 'catch', 'scale', 'uk', 'resurrection', 'creek', 'debbie', 'parts', 'original', 'antonio', 'claimed', 'funny', 'instead', 'mothers', 'emily', 'ruth', 'solid', 'eternal', 'companies', 'organ', 'wyoming', 'lack', 'pastorates', 'craft', 'wholeness', 'ceremony', 'accepted', 'leg', 'kari', 'section', 'cause', 'twelve', 'advocating', 'comics', 'bear', 'americans', 'recipient', 'production', 'brothers', 'devotionals', 'units', 'credit', 'encounters', 'saw', 'fighting', 'hungry', 'evangelistic', 'closer', 'hillsong', 'violent', 'carefully', 'easter', 'dad', 'died', 'save', 'lessonaugust', 'lessonjanuary', 'lessonjune', 'brandon', 'inter', 'rescue', 'wealth', 'win', 'emotional', 'remain', 'spreading', 'survey', 'systematic', 'platform', 'angela', 'hypocrisy', 'doubt', 'entering', 'supernatural', 'compassion', 'crazy', 'grammy', 'broadcasting', 'china', 'silent', 'explore', 'baseball', 'diana', 'wing', 'solidarity', 'persecuted', 'terry', 'isaac', 'voter', 'embrace', 'brief', 'negative', 'richard', 'escape', 'ranging', 'graduation', 'worshipers', 'musicians', 'perfect', 'craig', 'engage', 'servant', 'affected', 'lab', 'amongst', 'extraordinary', 'affairs', 'beth', 'legal', 'fl', 'individuals', 'let', 'vivian', 'wi', 'stop', 'charges', 'missiology', 'authentic', 'delivers', 'mt', 'zion', 'partner', 'counts', 'stuff', 'lawrence', 'laugh', 'jared', 'involves', 'waiting', 'millennial', 'andy', 'honoring', 'launching', 'operates', 'empowered', 'businesses', 'abandoned', 'pray', 'transforming', 'larger', 'ready', 'visual', 'folk', 'consequences', 'focusing', 'computer', 'stang', 'prince', 'garden', 'toler', 'respected', 'thanksgiving', 'hamburg', 'legacy', 'loopholes', 'bell', 'paper', 'intimacy', 'chartres', 'photographer', 'verse', 'maturity', 'superintendent', 'sweet', 'burden', 'secondary', 'moltmann', 'pain', 'kelsey', 'desmond', 'nurture', 'patterson', 'pat', 'ground', 'race', 'march', 'reagan', 'cotton', 'nova', 'equipped', 'guns', 'evidence', 'racism', 'navy', 'winners', 'mitch', 'discusses', 'messiah', 'deaf', 'stages', 'bro', 'expositor', 'intergenerational', 'lectures', 'graham', 'denominations', 'intention', 'enable', 'purity', 'spouses', 'enter', 'louisville', 'voices', 'caring', 'accepting', 'affair', 'attorney', 'pulled', 'quick', 'answer', 'single', 'prosperity', 'promoting', 'needy', 'elizabeth', 'bs', 'dealt', 'springs', 'rice', 'conducting', 'answered', 'asbury', 'photo', 'context', 'orphanage', 'answering', 'remains', 'outstanding', 'duncan', 'reference', 'committees', 'moderator', 'sojourners', 'kept', 'telling', 'send', 'relevance', 'determined', 'laws', 'pet', 'introducing', 'churchleaders', 'torn', 'valparaiso', 'arbor', 'renovar', 'partners', 'direction', 'nationally', 'spend', 'absolute', 'formal', 'shooting', 'facts', 'unfortunately', 'legally', 'thus', 'requirement', 'mechanical', 'fighter', 'presidential', 'capacities', 'simonelake', 'gail', 'darrel', 'agent', 'banking', 'relates', 'cup', 'milwaukee', 'grows', 'incredible', 'britain', 'doctrinal', 'literary', 'motorcycle', 'hebrew', 'hometown', 'reads', 'choose', 'individual', 'seventh', 'dating', 'shane', 'indianapolis', 'costa', 'rica', 'warren', 'tape', 'jayne', 'childhood', 'chocolate', 'jo', 'rules', 'regardless', 'threatening', 'artist', 'mobilizing', 'accomplish', 'honey', 'discussions', 'aspects', 'strategy', 'biking', 'nonfiction', 'shared', 'division', 'paula', 'shoots', 'equipment', 'safety', 'boyd', 'receiving', 'mcgee', 'willow', 'energy', 'memoir', 'perhaps', 'phase', 'designer', 'acceptance', 'performs', 'pictures', 'accounts', 'crashes', 'losing', 'concerned', 'demonstrated', 'record', 'dozens', 'academic', 'tired', 'pursued', 'dordt', 'promises', 'transform', 'magna', 'cum', 'laude', 'marion', 'struggling', 'texts', 'unpublished', 'tulsa', 'editorial', 'synods', 'adventures', 'technical', 'hamstra', 'honorary', 'illustrated', 'mcmaster', 'showing', 'precious', 'survivor', 'physical', 'valley', 'firsthand', 'obtained', 'obstacles', 'sociology', 'fluent', 'interned', 'complained', 'sell', 'endorsed', 'earn', 'youtube', 'else', 'carson', 'sabbatical', 'debate', 'stockton', 'globe', 'inspiring', 'pioneered', 'attendees', 'loser', 'grandmother', 'visitor', 'laughter', 'invited', 'emphasis', 'strategies', 'summit', 'courageous', 'kendrick', 'advice', 'guides', 'fastest', 'mama', 'base', 'tenn', 'rediscover', 'criminals', 'bridges', 'ideal', 'license', 'amsterdam', 'maluku', 'homeland', 'fond', 'accident', 'jewish', 'unlikely', 'saturday', 'v', 'protect', 'collaborative', 'ambassador', 'fruits', 'repentance', 'authority', 'robin', 'currie', 'items', 'largest', 'lakewood', 'russia', 'nixon', 'structuring', 'jose', 'apostasy', 'suspect', 'date', 'monday', 'entertainment', 'vocation', 'catechist', 'demanded', 'authorities', 'refused', 'poems', 'sea', 'educated', 'attracted', 'priest', 'victim', 'reprinted', 'nearby', 'thriving', 'con', 'liberal', 'cedarville', 'younger', 'kings', 'rose', 'cathedral', 'horses', 'pepperdine', 'manages', 'anyway', 'sheep', 'moral', 'fought', 'effectively', 'wars', 'portrait', 'viewing', 'steinke', 'amish', 'zondervan', 'ame', 'offered', 'convert', 'homosexuals', 'healthier', 'languages', 'volunteering', 'pantry', 'nursing', 'sport', 'mart', 'expositional', 'results', 'reflections', 'pay', 'except', 'enthusiast', 'fans', 'devotion', 'appears', 'pressing', 'increased', 'responsibilities', 'oversight', 'lwf', 'dignity', 'emmaus', 'feed', 'cheryl', 'speech', 'manner', 'thanks', 'gayle', 'conversations', 'actions', 'hills', 'herald', 'wa', 'moons', 'resigned', 'knowing', 'oral', 'add', 'joint', 'eric', 'internship', 'connections', 'roof', 'obtain', 'believed', 'plaintiff', 'vocational', 'engagement', 'grasp', 'anabaptist', 'banner', 'careful', 'scriptural', 'westbow', 'sales', 'westbowpress', 'campaigns', 'famous', 'vital', 'exodus', 'chapters', 'sydney', 'kelly', 'jessica', 'tweets', 'granddaughter', 'female', 'hit', 'bishops', 'delivered', 'onto', 'suicide', 'deals', 'discovery', 'vacant', 'seat', 'passing', 'distinguished', 'confidence', 'generally', 'supports', 'gente', 'que', 'insight', 'samantha', 'heather', 'fictional', 'discussing', 'parks', 'electronics', 'upper', 'touch', 'calgary', 'kjv', 'double', 'practiced', 'golf', 'strongly', 'esther', 'practitioner', 'stage', 'saints', 'avenue', 'station', 'oldest', 'kate', 'kit', 'howe', 'federal', 'emerging', 'theologically', 'ones', 'target', 'pro', 'venues', 'regents', 'depths', 'illness', 'decline', 'choir', 'ethan', 'energetic', 'journalist', 'racing', 'hartmann', 'meditation', 'heal', 'damaged', 'shut', 'contributions', 'defect', 'camping', 'viewed', 'regulations', 'internal', 'activism', 'electronic', 'frank', 'minute', 'grandchild', 'boakye', 'facilities', 'affect', 'butterfield', 'conversion', 'kent', 'provider', 'looked', 'physics', 'operated', 'anne', 'nationwide', 'attention', 'grandfather', 'conclusion', 'presenter', 'h', 'roseville', 'inception', 'golden', 'semi', 'sacramento', 'army', 'moss', 'noted', 'fifty', 'doug', 'mutual', 'jimmy', 'officials', 'allows', 'otherwise', 'alaska', 'restoration', 'bea', 'william', 'oh', 'desert', 'enjoying', 'recant', 'attack', 'failed', 'prevent', 'heading', 'imagination', 'ex', 'prime', 'becomes', 'report', 'implementation', 'charismatic', 'interpretation', 'cristo', 'huge', 'gulf', 'jets', 'finding', 'professionalism', 'recorded', 'walker', 'keepers', 'scholarly', 'meant', 'maybe', 'faced', 'ross', 'stock', 'commitments', 'trusted', 'overcome', 'chasing', 'pentecostal', 'palm', 'whenever', 'ambrose', 'posting', 'guys', 'vanderbilt', 'fulfill', 'nineteen', 'lovely', 'jean', 'shaped', 'adoption', 'lectionary', 'commentary', 'newton', 'adriana', 'wofford', 'moment', 'returns', 'holland', 'diagnosed', 'welcomed', 'sgm', 'chaplaincy', 'winter', 'sun', 'goat', 'northeast', 'rapidly', 'dunedin', 'trips', 'frazer', 'patrick', 'eli', 'evening', 'firm', 'immediately', 'gardener', 'feeling', 'economic', 'track', 'definitely', 'aid', 'marriages', 'forming', 'essays', 'omega', 'tampa', 'seminar', 'facilitator', 'sing', 'hospice', 'plants', 'assyrian', 'awarded', 'prize', 'donna', 'southwest', 'baltimore', 'roll', 'ear', 'denomination', 'founders', 'worse', 'nominated', 'preparing', 'vintage', 'eyes', 'combines', 'democracy', 'oversee', 'cut', 'harrisburg', 'sudanese', 'refugees', 'sudan', 'widows', 'specifically', 'globally', 'blind', 'natalie', 'cups', 'widow', 'lydia', 'evolution', 'applied', 'opc', 'subjects', 'rise', 'operate', 'increasingly', 'memories', 'olive', 'sciences', 'abingdon', 'accounting', 'diploma', 'furthermore', 'inclusive', 'knitting', 'realize', 'backyard', 'spread', 'discovering', 'importantly', 'row', 'log', 'republicans', 'cultivate', 'similar', 'sail', 'wind', 'angel', 'laurie', 'seriously', 'harassment', 'port', 'georgetown', 'responds', 'holden', 'victory', 'meaningful', 'sensed', 'southeast', 'drinking', 'official', 'carmen', 'chose', 'usually', 'inventive', 'faces', 'boston', 'concentration', 'buck', 'naked', 'nvc', 'missoula', 'manitoba', 'yoga', 'equality', 'counsel', 'obviously', 'wheaton', 'population', 'manhood', 'shape', 'ecumenism', 'programme', 'whitney', 'moms', 'bayly', 'federation', 'fitness', 'forever', 'pop', 'angie', 'cooper', 'kathy', 'rethinking', 'ashley', 'tries', 'invaluable', 'clint', 'challenging', 'barcelona', 'nicole', 'schooled', 'cole', 'test', 'feature', 'hopelessness', 'returning', 'christopher', 'invitation', 'card', 'subject', 'newspaper', 'guatemala', 'assemblies', 'parables', 'attraction', 'deerfield', 'explained', 'benefits', 'connects', 'choirs', 'gibson', 'mrs', 'supportive', 'pauses', 'abiding', 'instagram', 'breakthrough', 'behavioral', 'fill', 'suggests', 'participates', 'biltz', 'bestseller', 'roads', 'planet', 'nyc', 'vernon', 'burundi', 'yi', 'monash', 'ann', 'everywhere', 'soviet', 'syndrome', 'mainline', 'ft', 'adventure', 'choral', 'lucky', 'igniting', 'stepping', 'peters', 'sept', 'sda', 'prairie', 'wonders', 'period', 'professionals', 'jerome', 'midwestern', 'jumps', 'earlier', 'taiwan', 'driver', 'seek', 'scotty', 'boyles', 'exorcism', 'gu', 'seasons', 'rachel', 'scotia', 'educators', 'bentley', 'richest', 'larson', 'fair', 'batavia', 'budapest', 'coauthored', 'profile', 'armed', 'games', 'injustice', 'prostitution', 'level', 'flying', 'ufo', 'recruitment', 'tens', 'spouse', 'wendell', 'disabilities', 'math', 'minor', 'crosby', 'bethlehem', 'schilt', 'firmly', 'basic', 'schooling', 'mcqueen', 'renee', 'palitha', 'syria', 'hange', 'prospects', 'alex', 'establishment', 'maranatha', 'imparted', 'miriam', 'rhode', 'reframing', 'tribal', 'tribalchurch', 'generational', 'countless', 'carries', 'prays', 'runaway', 'hits', 'dear', 'searches', 'dangerous', 'lose', 'partnered', 'successfully', 'brenda', 'marilyn', 'ky', 'sbc', 'isaiah', 'bicultural', 'deacon', 'wesley', 'wnd', 'rug', 'judge', 'abusive', 'necessarily', 'confirm', 'individually', 'integrity', 'comfortable', 'editing', 'bright', 'reserve', 'delegate', 'nadia', 'belief', 'influenced', 'ms', 'funerals', 'deaths', 'babies', 'fear', 'opera', 'toured', 'transformational', 'credits', 'emphases', 'mott', 'library', 'wiesner', 'badly', 'vibrant', 'launch', 'counties', 'mothering', 'ligon', 'apartment', 'sky', 'evanston', 'influential', 'edits', 'discerning', 'broader', 'pm', 'session', 'severe', 'suffer', 'murderer', 'troublesome', 'abc', 'boulder', 'lane', 'invitations', 'bedside', 'stating', 'argued', 'delicious', 'hone', 'details', 'peers', 'preachers', 'clinton', 'agreed', 'progressive', 'prominent', 'mts', 'randall', 'simone', 'kayaking', 'sewing', 'homemaking', 'senses', 'horrific', 'unforgettable', 'recommended', 'glasgow', 'confessing', 'beeson', 'debut', 'wears', 'represented', 'agency', 'afternoons', 'heartlight', 'overwhelmed', 'clean', 'frustrated', 'rejection', 'hyacinth', 'threatens', 'reveal', 'keenly', 'patheos', 'reyes', 'ridge', 'planters', 'travelling', 'shopping', 'crossway', 'granddaughters', 'breakfast', 'dinner', 'alban', 'landon', 'lifechurch', 'metro', 'entrepreneur', 'gina', 'dmin', 'ironman', 'triathlons', 'lunch', 'category', 'hannover', 'zealand', 'depression', 'rick', 'box', 'soma', 'pathway', 'peer', 'loyal', 'betty', 'tomatoes', 'informed', 'stance', 'palestine', 'creatives', 'locust', 'graphic', 'rutgers', 'integrating', 'apple', 'lively', 'bed', 'lingering', 'partnerships', 'accountability', 'fullerton', 'crafted', 'elections', 'election', 'pierce', 'introduce', 'enrolled', 'quickly', 'hooked', 'satisfied', 'vehicle', 'dvd', 'couchpotatoclub', 'akin', 'motors', 'servants', 'oriented', 'sampling', 'useful', 'arena', 'opposition', 'linked', 'unlimited', 'gangs', 'attempted', 'ol', 'sandy', 'massacre', 'mexican', 'hates', 'havard', 'expand', 'applications', 'corner', 'spokesman', 'sat', 'zygon', 'affiliate', 'centro', 'complicated', 'bad', 'door', 'suddenly', 'accidentally', 'talent', 'casa', 'ag', 'fascinating', 'agriculture', 'collections', 'philippians', 'paralegal', 'substance', 'florence', 'vince', 'impossible', 'jaisy', 'refers', 'pan', 'predominantly', 'melody', 'religiously', 'vatican', 'villages', 'chheng', 'cambodia', 'delaware', 'advises', 'gateway', 'emotionally', 'abraham', 'ebute', 'genres', 'causing', 'trinitarian', 'gerald', 'computers', 'relief', 'encountered', 'resurgence', 'records', 'punk', 'pioneer', 'teresa', 'visitors', 'hamilton', 'juvenile', 'traces', 'whatever', 'reasons', 'bryant', 'qualified', 'indeed', 'walton', 'nsw', 'respect', 'documents', 'dichotomy', 'ronald', 'lie', 'eldon', 'disasters', 'argentina', 'spanish', 'norwegian', 'militants', 'masih', 'pakistan', 'muhammad', 'ashraf', 'relatives', 'property', 'demands', 'winner', 'lily', 'loma', 'azusa', 'convicted', 'trial', 'anywhere', 'newman', 'jefferson', 'tammy', 'phillips', 'profound', 'absolutely', 'presentations', 'intensely', 'optimism', 'attitudes', 'attract', 'planter', 'rim', 'mathematics', 'suffers', 'sleep', 'bookkeeping', 'fundamentalist', 'calif', 'survivors', 'domestic', 'fulltime', 'clerk', 'classis', 'civic', 'rotary', 'associations', 'missed', 'seemed', 'browne', 'kenneth', 'phenomena', 'direct', 'awareness', 'hymn', 'facing', 'giants', 'stephen', 'dare', 'sherry', 'biblically', 'sunshine', 'promotes', 'accompany', 'conduct', 'broadway', 'grades', 'x', 'rising', 'curator', 'tree', 'inauguration', 'abortion', 'episode', 'aib', 'profiles', 'hide', 'closet', 'weighs', 'diabetes', 'switzerland', 'researcher', 'erupted', 'tradition', 'harmony', 'mlc', 'sdg', 'du', 'lac', 'bicycle', 'nurse', 'henning', 'belongs', 'jews', 'dressing', 'brest', 'stade', 'le', 'versus', 'fourth', 'match', 'overseers', 'scientists', 'unite', 'friendship', 'baby', 'sold', 'copies', 'audiences', 'millions', 'broadcasts', 'bestselling', 'masses', 'marginalized', 'imparting', 'minds', 'laity', 'upheld', 'appeals', 'overturned', 'sessions', 'shock', 'rating', 'inspirational', 'blueprint', 'bail', 'bbc', 'audio', 'immanuel', 'exegetics', 'helsinki', 'hindu', 'websites', 'arthur', 'afflicted', 'patients', 'messenger', 'walteria', 'assumed', 'false', 'marathon', 'climbing', 'matamoros', 'xico', 'educate', 'distinctively', 'dubbed', 'sincere', 'graduates', 'wellesley', 'converts', 'discipled', 'purdue', 'affiliated', 'brazos', 'chickens', 'pass', 'publisher', 'mindset', 'mute', 'christi', 'fourteen', 'delight', 'reputation', 'authenticity', 'suspense', 'zone', 'bend', 'killian', 'holmes', 'lit', 'recruit', 'lesbians', 'wilderness', 'heterosexuals', 'tips', 'mistakes', 'creator', 'dollar', 'register', 'nylc', 'subsequently', 'nichols', 'strengthen', 'baker', 'pastorcare', 'moore', 'references', 'wonder', 'actor', 'engages', 'styles', 'alternative', 'thinking', 'henderson', 'cpc', 'innovative', 'balance', 'julie', 'abbott', 'boissoin', 'ordered', 'version', 'pretty', 'opposed', 'attributes', 'soldiers', 'iraq', 'advocates', 'mix', 'champaign', 'urbana', 'gazette', 'welcoming', 'makumira', 'appear', 'saying', 'boundaries', 'recognize', 'communicated', 'chances', 'easily', 'extended', 'joann', 'immigrant', 'concerns', 'foremost', 'supervision', 'perry', 'unites', 'democratic', 'billed', 'expects', 'intentional', 'nurturing', 'increasing', 'sale', 'contest', 'guest', 'brat', 'participating', 'mops', 'kristi', 'storm', 'survival', 'kennewick', 'consecutive', 'tomorrow', 'meditations', 'stepped', 'scandal', 'removed', 'admitted', 'maintained', 'testimony', 'excellent', 'holiday', 'clubs', 'catholics', 'plain', 'intern', 'fm', 'text', 'innovation', 'communal', 'lancaster', 'postmodern', 'religiosity', 'raymond', 'construct', 'moyer', 'constructed', 'gravelin', 'lori', 'minutes', 'trent', 'montreat', 'vis', 'youths', 'incitement', 'joni', 'kathleen', 'foundations', 'super', 'thousand', 'grateful', 'commentaries', 'understandable', 'lenten', 'llc', 'duties', 'davenport', 'honor', 'narrative', 'pickwick', 'stacy', 'desiring', 'rivers', 'contribution', 'howwisethen', 'morgan', 'briefcase', 'ticket', 'restore', 'survive', 'sample', 'audible', 'bk', 'observed', 'vancouver', 'pentateuch', 'refuge', 'pianist', 'heroes', 'recover', 'entrepreneurship', 'philly', 'stephenlutz', 'emphasize', 'jons', 'compilation', 'wonky', 'patterns', 'mangled', 'singers', 'cassette', 'archbishop', 'demonstrating', 'emeritus', 'sphere', 'suit', 'player', 'jasmine', 'core', 'vivaldi', 'puerto', 'rico', 'appointment', 'englewood', 'lima', 'advance', 'padovani', 'darkest', 'map', 'congregants', 'readings', 'sanctuary', 'models', 'awesome', 'shortly', 'barrington', 'southland', 'describe', 'ministerio', 'para', 'amar', 'dios', 'sus', 'bookstore', 'opened', 'considerwithme', 'facilitate', 'cds', 'volumes', 'reflecting', 'module', 'fredericksburg', 'chancellor', 'tgc', 'pavel', 'moscow', 'eurasia', 'awaken', 'brad', 'asurf', 'confront', 'qualifications', 'superior', 'forest', 'diego', 'selah', 'civilization', 'catechism', 'professionally', 'constant', 'nazi', 'sacrifice', 'worldview', 'cornwall', 'experts', 'stewardship', 'environment', 'musser', 'terrorism', 'cancel', 'commentator', 'newark', 'salem', 'manhattan', 'sixteen', 'rebekah', 'micah', 'christiana', 'swartz', 'oswego', 'adjemian', 'cambridge', 'wright', 'providence', 'wood', 'damien', 'request', 'cts', 'trek', 'sin', 'jerusalem', 'videos', 'endeavors', 'era', 'irish', 'ireland', 'puppy', 'depicted', 'risk', 'shepherds', 'correct', 'voted', 'minivan', 'curse', 'obedience', 'parental', 'abandonment', 'congress', 'fell', 'bills', 'dirty', 'congressional', 'jody', 'defending', 'deadly', 'selected', 'revealed', 'forgiveness', 'feet', 'guidelines', 'require', 'identify', 'headlines', 'handful', 'anthropology', 'hand', 'stand', 'improvement', 'manage', 'jesse', 'ct', 'discuss', 'develops', 'platforms', 'carlton', 'industries', 'accessible', 'account', 'broad', 'naval', 'elly', 'reed', 'sheppard', 'beneficial', 'eldest', 'exposed', 'exposure', 'jordan', 'cpe', 'relate', 'sickness', 'worlds', 'gareth', 'communism', 'cuban', 'rafael', 'generosity', 'increase', 'viral', 'harvey', 'roman', 'stroud', 'vietnam', 'newborn', 'aged', 'retriever', 'revgalblogpals', 'matter', 'pancakes', 'reminded', 'hymns', 'hair', 'wiping', 'grove', 'composed', 'baguio', 'binalonan', 'pangasinan', 'abilities', 'proper', 'carried', 'instrumental', 'understood', 'lessonfebruary', 'lessonmay', 'lessonnovember', 'zimbabwe', 'orleans', 'bomb', 'mail', 'preschoolers', 'address', 'fatherhood', 'contagious', 'beauty', 'kid', 'talked', 'swaggart', 'nd', 'beals', 'ultimate', 'quit', 'twice', 'slow', 'patience', 'rarely', 'material', 'factor', 'silk', 'ratio', 'imaginary', 'fostering', 'friendships', 'crime', 'alumni', 'hermeneutics', 'dc', 'philippines', 'moorhead', 'conflicted', 'battleground', 'key', 'solving', 'murder', 'crusades', 'recordings', 'fox', 'flourish', 'courage', 'formative', 'literal', 'manifest', 'del', 'oraci', 'fuego', 'un', 'shocked', 'appalled', 'watched', 'evident', 'ended', 'crosses', 'sudden', 'apart', 'crowd', 'passionately', 'giftings', 'uplifting', 'radically', 'renaissance', 'overseer', 'charisma', 'driscoll', 'fantasy', 'adulthood', 'wider', 'romania', 'nz', 'witnesses', 'agrees', 'katie', 'acbc', 'elsewhere', 'appoint', 'limit', 'gospels', 'handle', 'outspoken', 'weddings', 'romance', 'fern', 'older', 'pca', 'eco', 'josh', 'expose', 'gaby', 'decide', 'trip', 'provoking', 'addicted', 'slightly', 'keith', 'landscape', 'andover', 'highlights', 'hearings', 'reluctant', 'produces', 'lauren', 'gmail', 'hosting', 'sundays', 'greeters', 'kulick', 'carrollton', 'transparent', 'brouwer', 'rule', 'drusilla', 'thrown', 'midst', 'supposed', 'homestead', 'source', 'bipolar', 'disorder', 'tumor', 'harass', 'placed', 'abbey', 'peterson', 'tough', 'hauling', 'apocalypse', 'cleaning', 'alcoholic', 'kidnapping', 'wanted', 'miami', 'staying', 'cuba', 'integrated', 'der', 'examples', 'illustrate', 'mckinney', 'sherman', 'parachute', 'vista', 'trojan', 'traitor', 'admissions', 'detail', 'consuming', 'vegetables', 'elevated', 'cooperative', 'surgeon', 'denison', 'pillars', 'tower', 'realm', 'gozo', 'git', 'basis', 'anthony', 'mornings', 'nerd', 'metanoia', 'shalem', 'cool', 'okc', 'value', 'honors', 'chernobyl', 'ukraine', 'charity', 'claiborne', 'arrival', 'relational', 'organizes', 'tara', 'swimming', 'mention', 'party', 'haitian', 'relies', 'dramatic', 'larry', 'outreaches', 'witnessed', 'enabling', 'brite', 'songwriters', 'birds', 'contexts', 'grandson', 'seem', 'mills', 'closed', 'methods', 'neighborhoods', 'efcsw', 'regensburg', 'munich', 'czech', 'sixth', 'courting', 'cystic', 'fibrosis', 'andrea', 'alyson', 'soccer', 'specialist', 'gowns', 'clarity', 'fairly', 'contemplative', 'curricula', 'jenn', 'fruitful', 'ethiopia', 'granted', 'status', 'newly', 'numbers', 'megan', 'tyndale', 'experiencing', 'jokes', 'milton', 'finally', 'larissa', 'moments', 'ny', 'repeatedly', 'suggestion', 'involvement', 'paradigm', 'blogging', 'neighbourhood', 'ball', 'cufi', 'rites', 'barnabas', 'immediate', 'sheer', 'saving', 'admittedly', 'contained', 'surprises', 'sticky', 'approaches', 'habits', 'cycle', 'societies', 'fulfilling', 'confused', 'judgment', 'kimberly', 'enrichment', 'messianic', 'eleanor', 'canberra', 'aerospace', 'routledge', 'genetic', 'vandenhoeck', 'ruprecht', 'scientific', 'darwin', 'species', 'wondered', 'elected', 'duty', 'readiness', 'operating', 'songwriting', 'keyboard', 'cat', 'attitude', 'yellow', 'yousef', 'stress', 'cbn', 'certainly', 'dies', 'sits', 'dna', 'familiar', 'personally', 'strives', 'republican', 'cabin', 'environmental', 'protection', 'logan', 'spiritualist', 'metaphor', 'buddhism', 'hinduism', 'sails', 'raises', 'murray', 'thrift', 'activists', 'disillusioned', 'eventual', 'visitation', 'saskatoon', 'bc', 'regina', 'feminist', 'fairy', 'tales', 'violet', 'albuquerque', 'bre', 'gaming', 'festival', 'caretaker', 'advisors', 'regarding', 'tolkien', 'kardinia', 'campuses', 'melbourne', 'ballarat', 'childcare', 'kindergarten', 'outlet', 'pull', 'oasis', 'dawn', 'franciscan', 'steubenville', 'mount', 'lakeland', 'fulfillment', 'dominic', 'influences', 'asking', 'recognizes', 'certainty', 'podcasts', 'interviewed', 'ride', 'path', 'romans', 'virtual', 'physician', 'perception', 'berglund', 'outlines', 'flipped', 'sparkhouse', 'entrepreneurial', 'assault', 'arlington', 'component', 'ivan', 'hour', 'practicing', 'melanie', 'winnipeg', 'coordination', 'oak', 'newspapers', 'size', 'loudly', 'perfectly', 'upside', 'hispanic', 'affirmation', 'alfred', 'arm', 'favor', 'pleasure', 'carey', 'perspectives', 'openness', 'marvel', 'corruption', 'tax', 'mysteries', 'seeds', 'performance', 'intends', 'preface', 'welead', 'bellevue', 'critique', 'misguided', 'charmaine', 'pilgrim', 'emw', 'geneva', 'gomez', 'dragon', 'beginnings', 'womanhood', 'canon', 'clearnote', 'fulfil', 'instructors', 'belo', 'clay', 'addressing', 'jenny', 'reconciled', 'ibid', 'plus', 'recording', 'guy', 'serna', 'preyed', 'invest', 'fraud', 'proficient', 'grandkids', 'themes', 'ezekiel', 'occurred', 'biola', 'steward', 'simplicity', 'geoff', 'jamin', 'kristin', 'strobel', 'beloved', 'realization', 'richmond', 'decatur', 'presumably', 'likely', 'holiness', 'mentioned', 'winfaq', 'html', 'maintains', 'bold', 'rebecca', 'height', 'walls', 'az', 'ignored', 'durban', 'hillcrest', 'emergent', 'apostle', 'managed', 'disclosure', 'caldwell', 'marital', 'hunger', 'missing', 'essence', 'rutheverhart', 'labyrinth', 'pilgrims', 'retreatants', 'continents', 'myth', 'fantastic', 'partnering', 'bart', 'cincinnati', 'clayton', 'intentionally', 'sisters', 'criminal', 'honiara', 'absence', 'associates', 'supreme', 'struggled', 'revolves', 'leaves', 'periodicals', 'ccc', 'wagih', 'fbc', 'ecc', 'anger', 'righteous', 'troop', 'windy', 'funeral', 'extends', 'gamer', 'owned', 'organisations', 'antonianum', 'pontifical', 'worshipping', 'pure', 'occupations', 'truck', 'participant', 'vigil', 'hsp', 'apparently', 'liked', 'harbor', 'brick', 'oven', 'route', 'finchale', 'anglican', 'mccain', 'rio', 'aog', 'tasmania', 'fired', 'lawsuit', 'block', 'timeless', 'thank', 'emt', 'painting', 'discernment', 'kottke', 'iliff', 'welch', 'alicia', 'promo', 'romantic', 'verses', 'burton', 'salvador', 'planned', 'homily', 'pipim', 'gyc', 'boyfriend', 'lands', 'drums', 'presenting', 'mindoro', 'collecting', 'miles', 'marks', 'wheat', 'simeon', 'tech', 'endurance', 'causes', 'encountering', 'baptists', 'hagee', 'passage', 'moon', 'apocalyptic', 'documentary', 'bloomfield', 'umejiaku', 'sophomore', 'upcoming', 'humble', 'explosion', 'yankees', 'bit', 'choice', 'humanitarian', 'anointing', 'acres', 'traffic', 'rwanda', 'marc', 'bloc', 'woodside', 'decisions', 'guiding', 'mindfulness', 'pillar', 'worships', 'oxford', 'spindle', 'namibia', 'metropolitan', 'chosen', 'exile', 'tony', 'newport', 'robust', 'teri', 'lynne', 'atmosphere', 'knox', 'applying', 'composition', 'weekends', 'fueled', 'profoundly', 'surrey', 'collaboration', 'treatment', 'commercial', 'handed', 'nicaragua', 'shelter', 'admired', 'kelechi', 'custody', 'try', 'cover', 'addresses', 'evils', 'drake', 'rodriguez', 'arguments', 'described', 'organized', 'retiring', 'carolyn', 'stayed', 'signs', 'reflects', 'robertson', 'candidates', 'auckland', 'fathers', 'ingrid', 'ferreira', 'elderly', 'counterfeit', 'lucifer', 'marcos', 'icons', 'solicitor', 'preparation', 'serious', 'cult', 'pagan', 'grandsons', 'centers', 'hutch', 'industrial', 'hardly', 'booklets', 'changes', 'prestigious', 'trail', 'paddleboard', 'opinions', 'rewards', 'metcalf', 'pub', 'elliot', 'odds', 'dealers', 'nj', 'ethical', 'hall', 'midland', 'creatively', 'hero', 'customer', 'crew', 'labor', 'consistently', 'imprisoned', 'shoucheng', 'notions', 'activist', 'preparatory', 'stranger', 'insights', 'pyle', 'bought', 'afternoon', 'utk', 'redeeming', 'phillip', 'maximize', 'cold', 'specializing', 'trash', 'payne', 'rd', 'covered', 'presented', 'orientation', 'rccg', 'adoptive', 'chairperson', 'reported', 'alleged', 'interviews', 'sentenced', 'danny', 'carpentry', 'none', 'medicine', 'pete', 'thompson', 'essential', 'gls', 'insurgency', 'boko', 'haram', 'charter', 'foot', 'crumpton', 'gabriel', 'organisation', 'resume', 'assessment', 'adolph', 'faiths', 'buddhist', 'cindi', 'sao', 'paulo', 'philip', 'rhetoric', 'josef', 'pie', 'columba', 'prolific', 'acclaimed', 'atheists', 'bssm', 'hike', 'lcms', 'marburg', 'redeemed', 'evan', 'france', 'newest', 'osu', 'farmers', 'orphanages', 'surgeries', 'sweep', 'turkish', 'demanding', 'demonstration', 'urged', 'unlike', 'viejo', 'owns', 'ties', 'rides', 'drop', 'stephanie', 'turkey', 'slavic', 'newnan', 'mei', 'chan', 'misophonia', 'mclaren', 'ethically', 'ecclesiology', 'weathers', 'puebla', 'episodes', 'wrestle', 'crossroads', 'dismantling', 'racist', 'diversity', 'barndt', 'bowel', 'mentorship', 'geared', 'collegiate', 'saskatchewan', 'keen', 'boynton', 'candle', 'lasalle', 'homemaker', 'fortune', 'publishes', 'lastly', 'elitist', 'peoria', 'ok', 'morningside', 'clearwater', 'dianna', 'nepal', 'managing', 'guard', 'stolen', 'agencies', 'transplant', 'ccm', 'jessyka', 'costumes', 'linkedin', 'adelakun', 'isreal', 'olukayode', 'mccoy', 'competitive', 'distance', 'kelowna', 'suppression', 'imprisonment', 'comprehensive', 'assistance', 'dithmarschen', 'anniversary', 'deb', 'gregg', 'billionaire', 'expertise', 'zackery', 'sanity', 'stuck', 'famed', 'benjamin', 'nbs', 'jude', 'rigsby', 'composer', 'iloilo', 'communicating', 'ncc', 'horrible', 'mantofa', 'sings', 'asher', 'operations', 'lynn', 'corporation', 'singapore', 'lifeguide', 'supervisor', 'lloyd', 'casual', 'transitional', 'lund', 'climate', 'psychotherapy', 'chestertown', 'lindstrom', 'kinds', 'vincent', 'universe', 'kanata', 'depaul', 'shift', 'lebanon', 'moyo', 'amherst', 'rapture', 'tribulational', 'schaumburg', 'coleman', 'listeners', 'urges', 'listener', 'belgium', 'tung', 'ling', 'thechristian', 'derrick', 'weston', 'shifts', 'strictly', 'minding', 'feelings', 'meantime', 'tragedy', 'loses', 'rightfully', 'withheld', 'trouble', 'crossed', 'beni', 'seth', 'flow', 'minsters', 'producing', 'borrowed', 'mikeleake', 'nikki', 'jasper', 'illustrations', 'sparked', 'popcorn', 'publicized', 'barack', 'eligibility', 'yesterday', 'lawyers', 'dishonest', 'reveals', 'systematically', 'pulpits', 'blatant', 'sole', 'editors', 'uniquely', 'godsprosperityplan', 'rodnichols', 'belle', 'effects', 'boarders', 'monrovia', 'misses', 'tongue', 'kitaveta', 'kiswahili', 'unreached', 'fortunate', 'alcoholics', 'eliaichi', 'sarmiento', 'jurisdiction', 'observer', 'connectional', 'tattooed', 'profane', 'surprisingly', 'unconcerned', 'sorts', 'transformative', 'cham', 'officiated', 'deceased', 'plethora', 'fly', 'relaxing', 'erica', 'manitou', 'durring', 'phones', 'antje', 'presidium', 'european', 'livingston', 'horal', 'orr', 'tour', 'porgy', 'bess', 'debrecen', 'utrecht', 'hendrik', 'kraemer', 'johannes', 'hoekendijk', 'willem', 'visser', 'hooft', 'papers', 'augustine', 'dormitory', 'relied', 'goodness', 'landing', 'gathered', 'boee', 'willie', 'controversial', 'statements', 'smallest', 'tamara', 'hardcover', 'links', 'linc', 'highs', 'peacemaking', 'seoul', 'charleston', 'yes', 'deluxe', 'pg', 'storyteller', 'resisted', 'garrett', 'challies', 'cruciform', 'revealing', 'personalities', 'recounts', 'repression', 'mistreatment', 'obey', 'unjust', 'exception', 'cease', 'disobey', 'admonition', 'willingly', 'suffered', 'thief', 'evildoer', 'meddler', 'gladly', 'missiorelate', 'shawna', 'mscottboren', 'caucus', 'coauthor', 'navpress', 'arnold', 'skype', 'temperance', 'mich', 'bgsu', 'otto', 'zimmann', 'strengthening', 'uncanny', 'asset', 'juliette', 'texan', 'proclaiming', 'necessity', 'manor', 'justified', 'securing', 'mandated', 'occasion', 'trespass', 'unconstitutional', 'amendment', 'fined', 'undefeated', 'mixed', 'highschool', 'hence', 'headlock', 'digg', 'retweet', 'noticing', 'dabble', 'sane', 'miak', 'sg', 'concord', 'ebony', 'bestowed', 'medal', 'advocated', 'formed', 'canyon', 'collie', 'scout', 'pasco', 'investor', 'mortgage', 'crafting', 'cuddling', 'hubby', 'cataloging', 'proverbs', 'singleness', 'grab', 'tap', 'stronger', 'tron', 'uccf', 'scottish', 'alexander', 'dances', 'sacagawea', 'biker', 'boots', 'mnn', 'homepage', 'hartline', 'autism', 'alzheimer', 'rambunctious', 'smoky', 'shlomit', 'israeli', 'exists', 'karmiel', 'yossi', 'ovadia', 'sha', 'ar', 'emek', 'yonatan', 'preschool', 'gulley', 'tinged', 'humour', 'refreshing', 'proposals', 'revamp', 'parishioner', 'bureaucracy', 'conscience', 'chronicle', 'chow', 'weekdays', 'martie', 'sunny', 'bargains', 'invested', 'doxa', 'headed', 'nuys', 'icujp', 'chairpersons', 'sabeel', 'cinema', 'companionship', 'initiate', 'nutritious', 'weekday', 'whitsitt', 'thq', 'luxury', 'construction', 'thewayitcouldbe', 'ver', 'steeg', 'lisw', 'shalom', 'jeffreygang', 'suburbia', 'bietz', 'gang', 'braden', 'mckenna', 'competes', 'ups', 'rookie', 'tags', 'sandpaper', 'publishers', 'waxhaw', 'protected', 'marysoutherland', 'tacoma', 'haylee', 'maggie', 'emphasizing', 'redwood', 'bequeathed', 'fiercely', 'avidly', 'tigers', 'ssempa', 'unless', 'chained', 'punished', 'enshrine', 'fabric', 'condoms', 'symptomatic', 'anchored', 'sadist', 'stealing', 'gratification', 'ebel', 'robards', 'controlling', 'purecreative', 'studio', 'gulfport', 'leanne', 'beside', 'sand', 'toes', 'smell', 'seafood', 'ponders', 'postulates', 'goings', 'compasstrinity', 'hangs', 'laughing', 'novella', 'harbourlight', 'pelican', 'seer', 'paulamowery', 'christianonlinemagazine', 'suppers', 'dove', 'skeet', 'orchestrate', 'donated', 'gather', 'fish', 'edgar', 'certificates', 'renowned', 'snl', 'sudeikis', 'comedy', 'script', 'hitting', 'nuts', 'comread', 'earliest', 'packaged', 'friendliness', 'claremont', 'uniting', 'berlin', 'vienna', 'duggan', 'convictions', 'stood', 'staunchly', 'pervasive', 'liberalism', 'sinful', 'repented', 'ronaiah', 'hoops', 'etobicoke', 'gun', 'pistol', 'packing', 'thwarting', 'robbery', 'mcabee', 'hook', 'concealed', 'handgun', 'resolvedforchrist', 'playstation', 'lock', 'ins', 'caffeine', 'keys', 'wallet', 'appealed', 'admits', 'hillside', 'residential', 'wilsonville', 'lecturing', 'appointments', 'commissions', 'ivp', 'unnetwork', 'salvatierra', 'facilitating', 'dixie', 'mejia', 'thursday', 'sb', 'presentation', 'gain', 'sake', 'goodwin', 'webster', 'meditating', 'usher', 'counseled', 'seemingly', 'koreans', 'rare', 'zachkvet', 'vow', 'transmitted', 'diseases', 'landed', 'bestsellers', 'springtime', 'prek', 'ambel', 'sre', 'treng', 'sophorn', 'preserved', 'incarnation', 'rostered', 'fehring', 'toddlerhood', 'everydayawe', 'disabled', 'springdale', 'ibadan', 'respectively', 'meta', 'elements', 'spices', 'mischief', 'seasoned', 'salt', 'pepperbasham', 'delivering', 'magicians', 'magic', 'farway', 'wells', 'tooth', 'nail', 'ninety', 'pound', 'wuss', 'hideous', 'thieves', 'echocardiography', 'mohawk', 'meredith', 'jarod', 'newcomers', 'godspreciouschildren', 'brighter', 'goliath', 'psalms', 'vol', 'interpreter', 'manual', 'deborah', 'matterhorn', 'brave', 'stumbling', 'shadow', 'catastrophes', 'buses', 'counting', 'wofe', 'kirra', 'cruise', 'speedboat', 'shore', 'pinning', 'alan', 'submarine', 'excursion', 'erupts', 'criswell', 'theolgical', 'unfair', 'kibera', 'slum', 'awana', 'gwenyth', 'malyon', 'btcq', 'holder', 'latter', 'sturt', 'dissertations', 'divorce', 'remarriage', 'protestants', 'memoirs', 'absolutes', 'uncle', 'trials', 'emails', 'selfless', 'ignatius', 'casassa', 'marymount', 'concentrated', 'globalization', 'denmark', 'danish', 'andreas', 'holm', 'sweden', 'norway', 'mf', 'grandchil', 'detailsmike', 'jonesstaff', 'mattcapps', 'colony', 'sheikhupura', 'punjab', 'fundamentalists', 'whilst', 'coveted', 'hostile', 'threaten', 'terrorise', 'fled', 'araf', 'lawyer', 'shareholders', 'extortion', 'occupied', 'buchanan', 'callaway', 'jeanette', 'oke', 'smooth', 'cayman', 'thabiti', 'kristie', 'karie', 'pictured', 'pearl', 'orchid', 'brand', 'honda', 'jodi', 'arias', 'pleads', 'raw', 'jury', 'foxnews', 'ardyss', 'distributor', 'mercer', 'macon', 'faculties', 'bellarmine', 'oricl', 'yearlong', 'migration', 'shed', 'migrating', 'culver', 'sitting', 'chastity', 'trenches', 'delightfully', 'shirley', 'consulted', 'drafting', 'ugandan', 'parliamentarians', 'slanderous', 'minorities', 'culminating', 'brennan', 'manning', 'smack', 'dab', 'filtered', 'brass', 'knuckled', 'gratefulness', 'descendant', 'gradually', 'weighing', 'lbs', 'apnea', 'puzzles', 'bored', 'wordcasters', 'blogzorg', 'ning', 'fairhaven', 'chesterton', 'pensacola', 'comparative', 'episcopal', 'fortuna', 'tent', 'sankey', 'zeeland', 'lamont', 'crwm', 'efficient', 'kojo', 'quartey', 'marti', 'architects', 'thoughtful', 'stagnated', 'reinvigorate', 'rodney', 'hagin', 'arnott', 'airport', 'manifestations', 'randy', 'designing', 'multigenerational', 'sherwood', 'entity', 'flywheel', 'fireproof', 'paperback', 'misc', 'harney', 'coauthors', 'corinth', 'sar', 'claudia', 'naturally', 'cottage', 'atlittlenaturalcottage', 'conservation', 'renewable', 'rally', 'labeling', 'genetically', 'modified', 'foods', 'shaping', 'puppets', 'storiesforliving', 'gen', 'reporter', 'editions', 'genxrising', 'covers', 'theoklesia', 'jeremybouma', 'climbed', 'shouted', 'protester', 'zealous', 'distraction', 'joanna', 'acted', 'fantasies', 'gossipers', 'busybodies', 'confident', 'widower', 'wishes', 'softball', 'disneyland', 'weighed', 'eliminated', 'nile', 'bossy', 'olga', 'chimczak', 'poland', 'vrije', 'universiteit', 'indonesian', 'consortium', 'icrs', 'yogyakarta', 'indonesia', 'ambon', 'festivities', 'mosques', 'maple', 'trumpet', 'winnebago', 'comfy', 'dull', 'routine', 'befriends', 'hanne', 'abrahasen', 'berates', 'resistance', 'ste', 'incidentally', 'captains', 'bl', 'ligue', 'tienne', 'clash', 'default', 'marseille', 'eagerly', 'anticipated', 'rennes', 'postponed', 'rainstorm', 'proportions', 'flooded', 'pitch', 'lodrome', 'fourfourtwo', 'aberdeen', 'bsc', 'edinburg', 'diped', 'signer', 'creationcareforpastors', 'akron', 'valedictorian', 'harrass', 'librarians', 'storybook', 'villa', 'osteen', 'prophesized', 'destruction', 'arabs', 'excerpts', 'visions', 'liberating', 'proclaims', 'unadulterated', 'casting', 'pallanes', 'introduced', 'impetus', 'asthma', 'shown', 'rasht', 'gilan', 'pending', 'naderkhani', 'mpaa', 'notrated', 'chicagoan', 'athletic', 'paprocki', 'catechetical', 'mass', 'toolbox', 'dastgerd', 'uncertainty', 'tomans', 'usd', 'judicial', 'belfast', 'jaffa', 'caspari', 'riska', 'external', 'docent', 'ot', 'specialized', 'scrolls', 'mumbai', 'hindus', 'ineffective', 'irrelevant', 'motivation', 'serenity', 'tattoo', 'parlor', 'meneutics', 'labors', 'ark', 'moretopicsrelationshipsadulthoodfaithfeaturesblogpodcastadviceaboutour', 'visionour', 'teamour', 'valuesdonatecontact', 'uslegal', 'stuffconnectfacebooktwitteryoutubeitunesrsse', 'vanuatu', 'nambucca', 'revesby', 'burwood', 'periodical', 'ap', 'vianney', 'northlake', 'priestly', 'approved', 'cardinal', 'apostles', 'apostlesofjesuschrist', 'miskin', 'mukhanyo', 'kwandebele', 'sonya', 'gynecologist', 'clinic', 'shrinking', 'diane', 'dedication', 'percent', 'augustana', 'sd', 'roberta', 'hutchinson', 'trends', 'frontera', 'luncheon', 'trajectory', 'cholesterol', 'acid', 'reflux', 'alfredo', 'ramos', 'ordenado', 'iglesia', 'presbiteriana', 'originario', 'trabajado', 'misi', 'mundo', 'plantaci', 'iglesias', 'unaccredited', 'institution', 'pushing', 'objective', 'broadly', 'wrot', 'apr', 'biosketch', 'svetlana', 'evgeni', 'automotive', 'hom', 'sensual', 'orthodoxy', 'critters', 'jeans', 'flannel', 'shirts', 'mason', 'jars', 'diamonds', 'virtuous', 'avirtuouswoman', 'peggy', 'rychwa', 'dressed', 'shameless', 'aubrey', 'shame', 'flock', 'hart', 'lambs', 'induces', 'laryngitis', 'darryl', 'fredrick', 'adegboye', 'stigma', 'discrimination', 'camillus', 'usc', 'pax', 'inmates', 'longsuffering', 'alissa', 'delightful', 'hearted', 'wanderer', 'breathing', 'organisms', 'evaluates', 'sponsorship', 'belvidere', 'seymour', 'whitaker', 'treble', 'acfw', 'href', 'horseshoe', 'archibald', 'quality', 'cure', 'reorientation', 'alittlebitdifferent', 'fat', 'infantese', 'toddlerspeak', 'teenlingo', 'husbandism', 'overs', 'purposed', 'galaxy', 'coltharp', 'leapin', 'kirkpatrick', 'arms', 'cba', 'trombone', 'initiating', 'liturgies', 'voltage', 'sagu', 'sponsoring', 'logon', 'toll', 'tracey', 'connor', 'clea', 'roy', 'express', 'fitlyspoken', 'directory', 'christianbaptists', 'dsherman', 'penetrating', 'illumines', 'captivating', 'wal', 'breakroom', 'bethelehem', 'exultation', 'nehemiah', 'siren', 'powerfully', 'musings', 'offsite', 'supervisory', 'sw', 'lengthy', 'hearing', 'tribunal', 'hate', 'damages', 'apologize', 'extremist', 'alienated', 'comprised', 'indian', 'tsunami', 'tolerance', 'commanded', 'combine', 'intent', 'factual', 'fridays', 'eprops', 'itnext', 'welcome', 'distills', 'accessibility', 'suggestions', 'readily', 'adaptable', 'ponderings', 'scary', 'karin', 'gaithersburg', 'rhea', 'richie', 'troy', 'mbcpathway', 'newsjournal', 'mungure', 'filibus', 'urge', 'prayerfully', 'tragic', 'destroy', 'bruckart', 'chairs', 'organize', 'trucks', 'castle', 'wilmington', 'proactive', 'individuality', 'majored', 'majors', 'minors', 'regards', 'forgive', 'standards', 'farther', 'nurtured', 'monterey', 'seaside', 'adviser', 'composes', 'gratitude', 'glendora', 'katerina', 'isolation', 'individualism', 'length', 'pinches', 'finalists', 'bookseller', 'edison', 'beane', 'fatherhollywood', 'gottesdienst', 'gottesdiesnt', 'gottesdienstonline', 'lew', 'rockwell', 'lewrockwell', 'libertarian', 'leonidas', 'feline', 'midlands', 'antics', 'naomi', 'circle', 'rainbows', 'grieving', 'cloth', 'diapers', 'babywearing', 'integrate', 'louder', 'interpret', 'luginbill', 'tri', 'newsroom', 'canal', 'drive', 'lluginbill', 'tricityherald', 'shaking', 'lunar', 'eclipses', 'intervals', 'installed', 'idlewild', 'ladder', 'cane', 'bottom', 'exiles', 'allegations', 'prostitute', 'haggard', 'denied', 'acknowledged', 'accusations', 'purchasing', 'methamphetamine', 'confessed', 'immorality', 'untrue', 'pink', 'lid', 'alyssa', 'neumann', 'ii', 'pontiff', 'collaborating', 'motlministries', 'muhlenberg', 'bd', 'ltsp', 'user', 'commons', 'sa', 'fascinated', 'environments', 'cohesiveness', 'hintsala', 'constructions', 'negotiated', 'buildings', 'barn', 'contractor', 'safely', 'complaints', 'arrived', 'install', 'satellite', 'dish', 'bedridden', 'surgery', 'maeve', 'metaphorically', 'carpool', 'vying', 'sponsored', 'macedonian', 'keynote', 'coached', 'practitioners', 'ballot', 'graceworks', 'quasi', 'sociopolity', 'hegedus', 'voluntarily', 'renounced', 'parliamentary', 'immunity', 'suspended', 'quashed', 'grounds', 'represent', 'magyar', 'hirlap', 'nepszabadsag', 'rfe', 'rl', 'newsline', 'stressing', 'teh', 'tribulation', 'denise', 'freezing', 'bbq', 'chips', 'warm', 'credentials', 'harrisonburg', 'sessional', 'postdoctoral', 'premeditated', 'tweet', 'omaha', 'homiletical', 'windows', 'grieved', 'statewide', 'impacting', 'leighton', 'monica', 'celebrated', 'exciting', 'lynnwood', 'wreath', 'candles', 'jarboe', 'patty', 'harpercollins', 'evaluated', 'wade', 'sweaty', 'dilemma', 'killing', 'hebrews', 'shuttling', 'exercising', 'riveting', 'backdrop', 'shipwreck', 'fairfield', 'locked', 'maiden', 'voyage', 'titanic', 'deliver', 'wavering', 'icy', 'waters', 'narrator', 'woodman', 'samples', 'reco', 'rhde', 'mp', 'audiobook', 'aax', 'trusting', 'categories', 'missionaltraining', 'focusses', 'lexham', 'refereed', 'authoring', 'chick', 'corea', 'wynton', 'penn', 'boalsburg', 'danville', 'joan', 'madeline', 'roost', 'peacemakers', 'goshen', 'responses', 'warrior', 'tuesday', 'defuse', 'basics', 'sublime', 'shangaan', 'electro', 'hjr', 'cd', 'lp', 'startling', 'palette', 'sampled', 'synthesized', 'signature', 'whistle', 'marimba', 'rough', 'skittering', 'drum', 'brimming', 'aching', 'plaintive', 'mournful', 'trace', 'fractured', 'faceted', 'surging', 'harmonies', 'unmistakably', 'vocal', 'reissue', 'benedict', 'xvi', 'resignation', 'sacra', 'liturgia', 'memorable', 'regard', 'hesitating', 'explain', 'motu', 'proprio', 'summorum', 'pontificum', 'behaves', 'priests', 'embodies', 'prelates', 'prefer', 'cassock', 'tie', 'thrust', 'playoffs', 'fit', 'compounding', 'situation', 'girlfriend', 'shook', 'capturing', 'interactions', 'walkerton', 'democrat', 'unelectable', 'considering', 'falsified', 'application', 'submitted', 'consideration', 'falsification', 'document', 'stems', 'felony', 'vet', 'wittenberg', 'hamma', 'object', 'enrich', 'davison', 'labrosse', 'tune', 'realities', 'stocked', 'acre', 'putting', 'ease', 'receptive', 'bait', 'playwriting', 'copywriting', 'proofreader', 'thereafter', 'brett', 'muses', 'lexington', 'breaux', 'sido', 'maestro', 'desde', 'ano', 'entusiasmo', 'practico', 'atrae', 'anima', 'dondequiera', 'este', 'andar', 'espiritual', 'fue', 'jovenes', 'trabajo', 'actual', 'como', 'juvenil', 'grane', 'aplica', 'misma', 'filosofia', 'franca', 'ente', 'guaido', 'correr', 'anos', 'ocupados', 'generar', 'propias', 'ondas', 'candidly', 'samanthakrieger', 'navajo', 'crc', 'tohatchi', 'expanded', 'navaho', 'mesa', 'eads', 'diaper', 'thd', 'myers', 'tear', 'joomla', 'catherine', 'erik', 'cathparks', 'reviving', 'polytechnic', 'belarus', 'ru', 'mesto', 'vstrechi', 'ashionye', 'raccah', 'bellanaija', 'equal', 'conjunction', 'films', 'oluseyi', 'amuwa', 'amvca', 'adored', 'hidden', 'psychologically', 'violates', 'heretical', 'concerning', 'wake', 'probate', 'callings', 'kccc', 'caris', 'kayla', 'acquaintance', 'translations', 'buff', 'kahler', 'grapevine', 'ngumc', 'javascript', 'powered', 'disqus', 'elaborate', 'theatric', 'kicks', 'counterculture', 'redemptive', 'angle', 'reprint', 'judeo', 'holocaust', 'wrath', 'angry', 'theologians', 'academics', 'balanced', 'reply', 'replyyou', 'logged', 'comment', 'dysfunctional', 'debbiewebbmcdaniel', 'freshdayahead', 'comand', 'debbmcdaniel', 'expert', 'analyst', 'techno', 'futurist', 'ethicist', 'transhumanist', 'tenure', 'winston', 'quest', 'orlando', 'senate', 'kfgg', 'marble', 'preborn', 'sandra', 'levi', 'jesiah', 'elisha', 'mercedes', 'evangeline', 'rpcna', 'slugging', 'lindy', 'mockingbird', 'mockingcast', 'persuasive', 'belligerent', 'borrer', 'suburbs', 'peninsula', 'intensive', 'waits', 'flay', 'savvy', 'repost', 'newmediaproject', 'edu', 'yeagley', 'pastured', 'connecticut', 'amber', 'jungle', 'somewhere', 'preferably', 'weavings', 'cresset', 'capture', 'thistemporaryhome', 'treating', 'sid', 'pentecost', 'macedonia', 'filmed', 'covington', 'rhonda', 'legon', 'dela', 'beatitudes', 'ligonier', 'trilogy', 'bereaved', 'fowler', 'airs', 'nevada', 'contacted', 'kennethhumphries', 'hotmail', 'cute', 'kofi', 'kona', 'unlock', 'greatness', 'enjoyment', 'amusing', 'carlos', 'serrano', 'jr', 'diocese', 'laid', 'institutionalisation', 'appreciation', 'behaving', 'worthy', 'promptly', 'dropping', 'steadfastly', 'honing', 'manuscript', 'revisions', 'coasts', 'parentally', 'cast', 'catalog', 'illustrating', 'neglect', 'unconditional', 'pdp', 'oshiomhole', 'lakey', 'performers', 'voting', 'renewing', 'contract', 'wrecking', 'forked', 'bankrupt', 'broun', 'hice', 'handling', 'snakes', 'folks', 'scared', 'jump', 'marshall', 'planner', 'devine', 'tools', 'steps', 'brush', 'miraculous', 'inches', 'shorter', 'lengthened', 'rebound', 'striving', 'williamstown', 'videowatch', 'livetrendingmost', 'celibacy', 'defiance', 'caused', 'dilettante', 'backpacking', 'astrophysics', 'stitching', 'leather', 'goods', 'obtaining', 'morebernie', 'clemmons', 'rigid', 'compass', 'productivity', 'navigation', 'delegation', 'continuous', 'scripturally', 'arvind', 'kejriwal', 'unsettling', 'hierarchy', 'fine', 'ridgefield', 'prevention', 'inclusion', 'technologist', 'tier', 'proprietary', 'arenas', 'sunnyvale', 'meagan', 'moreclick', 'reddit', 'arrogant', 'jerks', 'max', 'lucado', 'alluding', 'attributed', 'typically', 'stays', 'trump', 'architecture', 'boeing', 'aircraft', 'manufacturing', 'supporter', 'cmi', 'delano', 'generated', 'dialog', 'playwright', 'birdsal', 'terte', 'actors', 'andrichmond', 'dutch', 'perfectionist', 'geography', 'herbs', 'johns', 'oshkosh', 'wis', 'ashanti', 'plumber', 'kumasi', 'siblings', 'culminated', 'pharmacology', 'optometry', 'detailing', 'tenured', 'syracuse', 'chilliwack', 'periodically', 'inapril', 'equivalent', 'afraid', 'deviant', 'pigs', 'prayed', 'gregcoates', 'anastasis', 'ship', 'ywam', 'moderated', 'surrogate', 'dispute', 'castro', 'kluth', 'generouslife', 'info', 'maximum', 'availability', 'olden', 'feud', 'bingen', 'stassbourg', 'trialogue', 'baptism', 'sogang', 'hansei', 'sergeant', 'fifth', 'cavalry', 'regiment', 'toddler', 'labrador', 'julia', 'inimitable', 'ring', 'supporters', 'fascination', 'logically', 'introduction', 'genesis', 'budget', 'cuts', 'lawmaker', 'fidgety', 'unfocused', 'snack', 'wolfing', 'glue', 'spilled', 'experiments', 'gallimaufry', 'abounds', 'aria', 'chart', 'luzon', 'hurrying', 'gaza', 'jabaliya', 'chilly', 'groceries', 'palestinian', 'wrapped', 'semiautomatic', 'weapon', 'milk', 'crate', 'basket', 'rode', 'transmission', 'bonded', 'fervent', 'compensate', 'distant', 'someday', 'ought', 'benefit', 'repent', 'officiate', 'ugaritic', 'hal', 'halbradyministries', 'lessonsapril', 'miss', 'crippling', 'doctors', 'miraculously', 'spared', 'pipe', 'exploded', 'lap', 'karenwarejackson', 'morehouse', 'inequity', 'cooperation', 'shades', 'sexperiment', 'mirror', 'outrageous', 'groundwork', 'beamed', 'kenyans', 'enabled', 'tribes', 'gabe', 'donnie', 'nscdc', 'forcefully', 'counselled', 'vast', 'gym', 'diehard', 'beal', 'grave', 'embracing', 'contiguous', 'usic', 'undertaking', 'failing', 'scrutiny', 'levelheadedness', 'networking', 'uptake', 'curiosity', 'begrudging', 'runner', 'foothills', 'incoherently', 'akukla', 'pretends', 'awkukla', 'defining', 'argues', 'applicable', 'classified', 'testosterone', 'pumping', 'veins', 'workbook', 'feminine', 'pretend', 'evenings', 'pillow', 'pinterest', 'apparent', 'ancestry', 'disfigured', 'corrections', 'yav', 'cycling', 'learns', 'fianc', 'murdered', 'possibly', 'demonic', 'ritual', 'catapulted', 'tormented', 'entities', 'aidan', 'medium', 'fishermen', 'aung', 'abe', 'zeke', 'harrisons', 'bobby', 'devon', 'kristine', 'weightlifting', 'doses', 'gracecoversme', 'evaluation', 'laying', 'tongues', 'khathide', 'podium', 'thembisa', 'rand', 'hartley', 'presidente', 'colegio', 'internacional', 'escrito', 'veinte', 'libros', 'incluyendo', 'conducir', 'encuentro', 'presencia', 'manifiesta', 'pasi', 'tambi', 'disfruta', 'corer', 'jugar', 'pasar', 'tiempo', 'jugando', 'nietos', 'megachurches', 'featuring', 'ranking', 'flag', 'patriotic', 'thundered', 'split', 'sick', 'combination', 'edifying', 'twenties', 'nightclubs', 'consumed', 'frontline', 'nominations', 'household', 'favored', 'mayor', 'minority', 'distinction', 'mistake', 'seriousness', 'appropriated', 'footnotes', 'endnotes', 'bibliography', 'treat', 'error', 'americana', 'blend', 'soft', 'gritty', 'bluesy', 'cigarettes', 'esl', 'nanny', 'cia', 'dvr', 'veritable', 'spies', 'gaggle', 'erynnnewman', 'hong', 'kong', 'ventures', 'braila', 'amg', 'ghita', 'mioara', 'otago', 'beasts', 'chiastic', 'lsnt', 'likeness', 'emery', 'pd', 'cliche', 'detective', 'ketchem', 'bryanston', 'za', 'rosslester', 'fellows', 'branded', 'contextualizing', 'wipf', 'sbts', 'lambert', 'leverage', 'mohler', 'disparage', 'count', 'epistles', 'competent', 'gossips', 'troublemakers', 'mouths', 'grit', 'barriers', 'exist', 'yard', 'fw', 'tahoe', 'exhibits', 'facets', 'anabel', 'algebra', 'unscripted', 'sacramental', 'hardie', 'incheon', 'immigrated', 'sates', 'lauderdale', 'typology', 'surveys', 'broward', 'coconut', 'devote', 'coral', 'cori', 'normalcy', 'crush', 'bailey', 'silver', 'lining', 'persuaded', 'rita', 'fade', 'delves', 'professing', 'tremendous', 'yrs', 'bwap', 'embraced', 'hesed', 'jd', 'zedek', 'jerry', 'williamsport', 'poyzer', 'portlife', 'adelaide', 'ht', 'drift', 'observations', 'flourishing', 'enyart', 'masons', 'turns', 'pair', 'disgruntled', 'agitators', 'dani', 'kekoa', 'personhood', 'frauds', 'slavery', 'mommy', 'daddy', 'pose', 'whimsical', 'protector', 'intoxicated', 'revisits', 'discovers', 'maps', 'technologies', 'odyssey', 'blogos', 'laurel', 'charlton', 'reluctantfirstlady', 'ada', 'gonzales', 'dinners', 'samford', 'highview', 'rachael', 'chickmauga', 'chrissy', 'antioch', 'idi', 'partisan', 'participation', 'aggressive', 'slogan', 'bouwer', 'humming', 'till', 'navigating', 'diagnosis', 'deny', 'framlings', 'determines', 'suitable', 'tigress', 'lavinia', 'peacock', 'glimpse', 'reclaim', 'endeavor', 'thess', 'swirl', 'walked', 'cbmw', 'handled', 'improperly', 'failure', 'notify', 'brain', 'struggler', 'rascal', 'mentally', 'limp', 'bryan', 'brokenbelievers', 'scofield', 'format', 'tameka', 'sit', 'barrier', 'harassing', 'chanting', 'loud', 'imaginative', 'franklinton', 'specialize', 'pediatric', 'riley', 'alana', 'shines', 'lights', 'midnight', 'surviving', 'mosquito', 'stalls', 'belt', 'molested', 'neighbor', 'psych', 'mcc', 'kirker', 'mailed', 'esperanza', 'subversion', 'rinaldo', 'changeless', 'excelled', 'customers', 'davidrexgosnell', 'slidell', 'surrendering', 'roach', 'montgomery', 'paints', 'eine', 'exegetische', 'und', 'hermeneutische', 'untersuchung', 'vivid', 'molly', 'libby', 'barbour', 'xoxo', 'davids', 'quarterfinaled', 'abna', 'releases', 'whitewashed', 'rogers', 'fastidious', 'unbelievable', 'hardship', 'gently', 'admission', 'beds', 'watering', 'wicking', 'unh', 'gardeners', 'hampshire', 'mishawka', 'bariatric', 'ailee', 'happening', 'utah', 'cheech', 'remaining', 'ivory', 'seiler', 'rubber', 'malta', 'achieve', 'goals', 'mainly', 'treasurer', 'trustees', 'keeping', 'lovers', 'concoct', 'scheme', 'fake', 'awry', 'awakens', 'rite', 'starring', 'hopkins', 'lifetouch', 'adopt', 'orphan', 'bracing', 'twist', 'chill', 'lectionarylab', 'harnessing', 'ubiglobal', 'fouts', 'yukon', 'stinky', 'socks', 'grocery', 'noise', 'whispers', 'columnist', 'humorous', 'underrated', 'weldon', 'involving', 'iraqis', 'imminent', 'antichrist', 'muiruri', 'orthodox', 'compels', 'honesty', 'transparency', 'ignite', 'trisha', 'maintaining', 'diligent', 'directorate', 'jewels', 'lombard', 'scot', 'mcknight', 'mfa', 'residence', 'lenoir', 'rhyne', 'kimmel', 'harding', 'economy', 'image', 'honorable', 'stewart', 'loan', 'sharking', 'endangering', 'welfare', 'lent', 'rate', 'solely', 'donations', 'clothes', 'pschyo', 'smyrna', 'rockhampton', 'parshall', 'buchholz', 'spearheaded', 'varied', 'mediation', 'imagine', 'eph', 'mmin', 'mats', 'samochstein', 'kick', 'starter', 'breathes', 'soulfulness', 'lyrics', 'distinguish', 'dude', 'flat', 'joda', 'collins', 'deck', 'waves', 'deannamorris', 'simplylife', 'chandler', 'lissa', 'cityteam', 'movements', 'essay', 'aptly', 'homilies', 'monologues', 'moorehead', 'carthage', 'kenosha', 'sheboygan', 'stoughton', 'gamaliel', 'permitted', 'aramaic', 'victor', 'tehran', 'remained', 'comply', 'ban', 'assyrians', 'farsi', 'treasure', 'hunts', 'draw', 'adaptation', 'flinders', 'puritan', 'cellphone', 'dphil', 'theol', 'graeme', 'invented', 'bionic', 'boar', 'prague', 'syndicated', 'gold', 'medallion', 'aim', 'improve', 'healthcare', 'bcmh', 'hoffman', 'pleasant', 'regeneration', 'sleeping', 'gospelregeneration', 'alexmartindean', 'brown', 'rider', 'varsity', 'cheerleading', 'theater', 'antique', 'collector', 'evolving', 'silhouette', 'positioned', 'partnershipministries', 'lower', 'groans', 'suny', 'cortland', 'multiculturalism', 'biographies', 'bevan', 'deepest', 'maine', 'hazel', 'seavey', 'amarillo', 'coaches', 'rocky', 'thorny', 'unhelpful', 'sowing', 'economics', 'miscellaneous', 'clendineng', 'electrical', 'fullness', 'danica', 'hang', 'directtv', 'packages', 'relive', 'represents', 'paramount', 'adoration', 'blocked', 'undergoing', 'intense', 'debates', 'raptured', 'alpha', 'negst', 'blocks', 'wrigley', 'loath', 'accept', 'resists', 'hinder', 'primer', 'impassible', 'assortment', 'freshly', 'baked', 'juice', 'giftedness', 'multifaceted', 'gentrification', 'dtes', 'stomach', 'heartbreak', 'bsw', 'eswine', 'notre', 'dame', 'zackeswine', 'ethnically', 'sentiment', 'echoed', 'sealing', 'initiation', 'bertolini', 'wubker', 'wore', 'sharon', 'bryanstoudt', 'derivative', 'breadth', 'fishbowl', 'acuity', 'troubles', 'unfavorable', 'horizons', 'sad', 'hostility', 'scripturalists', 'surprising', 'favorable', 'assuming', 'osborne', 'dumb', 'smart', 'silence', 'ethos', 'motivated', 'mpact', 'promote', 'rounded', 'bodies', 'bunmi', 'bedazzling', 'redefine', 'modesty', 'sexy', 'jewelry', 'accessories', 'revivalist', 'deviates', 'crumb', 'marrying', 'fisher', 'assigned', 'gals', 'devout', 'powerless', 'desolate', 'sect', 'lightning', 'expressing', 'hus', 'creates', 'realizes', 'baruch', 'hashem', 'chaverim', 'homegroup', 'hineh', 'yeshua', 'merged', 'aviation', 'cumberland', 'roster', 'lura', 'ashgate', 'determinism', 'anticipating', 'origin', 'bridging', 'scm', 'ctns', 'funded', 'templeton', 'lucie', 'empire', 'ryerson', 'multination', 'amfcc', 'harare', 'rumors', 'denies', 'berea', 'psr', 'utilizing', 'recalled', 'expeditionary', 'norfolk', 'stopracialprofiling', 'weaving', 'charcoal', 'gray', 'khaleesi', 'tortoiseshell', 'accustomed', 'sadie', 'beagle', 'aclj', 'csc', 'disenfranchised', 'reruns', 'frasier', 'fabulous', 'surely', 'partaking', 'parkinson', 'patient', 'nowadays', 'rocking', 'idly', 'staring', 'withering', 'lilies', 'cigars', 'wongel', 'mermera', 'kidane', 'sustain', 'testimonial', 'darrow', 'mbbs', 'mrcgp', 'equippers', 'marie', 'mitchell', 'spunky', 'forministry', 'uskssdadvisaci', 'prisoners', 'tattered', 'centrist', 'stints', 'neomugwump', 'morris', 'felix', 'dana', 'shepherding', 'mackenzie', 'zoe', 'kirk', 'xpastor', 'triplets', 'chula', 'topless', 'chiding', 'agreeing', 'havick', 'hipps', 'valid', 'excerpt', 'referring', 'instance', 'catches', 'hunt', 'goodwill', 'cart', 'antiques', 'cor', 'hughes', 'parking', 'blogburst', 'spotlighted', 'wyff', 'westie', 'terror', 'contracts', 'shamanic', 'footprint', 'iwith', 'surveillance', 'chu', 'demonstrator', 'tiananmen', 'traumatised', 'protestantism', 'exactly', 'organised', 'communist', 'fears', 'seffner', 'attempting', 'printmaking', 'landscapes', 'alberni', 'zs', 'fi', 'argue', 'merits', 'miniature', 'versions', 'cultivating', 'crown', 'taleh', 'demonstrate', 'melinda', 'charmingly', 'molecular', 'cellular', 'tucson', 'berkeley', 'enchantment', 'tattoos', 'costume', 'novice', 'quilter', 'cow', 'drizzt', 'circumstances', 'kraft', 'mhc', 'traffichikng', 'butler', 'worhsip', 'ibm', 'candidacy', 'inklings', 'dorothy', 'sayers', 'viola', 'museum', 'geelong', 'warrnambool', 'centres', 'indoor', 'playcafe', 'caf', 'hurriedly', 'nights', 'glorified', 'supplying', 'wv', 'volunteered', 'counter', 'errors', 'sojo', 'seekers', 'auburn', 'sender', 'cares', 'meal', 'porridge', 'underfed', 'bahavalpur', 'policeman', 'assi', 'sending', 'fassifern', 'queensland', 'kayleen', 'allison', 'guests', 'redman', 'tomlin', 'jobe', 'louie', 'giglio', 'tyler', 'eliana', 'motorhome', 'bfc', 'startup', 'rebellion', 'dealer', 'choices', 'crash', 'coma', 'malakh', 'standard', 'radiant', 'eldridge', 'lamplighter', 'sterling', 'attached', 'fiat', 'portia', 'rebelliouspastorswife', 'attracts', 'informing', 'opposite', 'displayed', 'centurion', 'mechanisms', 'categorical', 'pagitt', 'random', 'possibility', 'generative', 'enlist', 'dougpagitt', 'added', 'britt', 'cofounded', 'carpinteria', 'ventura', 'schulze', 'slack', 'subgenius', 'devival', 'ropeleash', 'shat', 'stole', 'needless', 'schism', 'separate', 'nonviolent', 'facilitated', 'pella', 'sidney', 'interims', 'billings', 'helena', 'boise', 'id', 'settled', 'skill', 'disbelief', 'taskforce', 'parole', 'fry', 'matthews', 'margins', 'interplay', 'playfulness', 'animals', 'cfo', 'downplay', 'bragging', 'ass', 'asinine', 'legitimate', 'postures', 'priorities', 'cbge', 'lejeune', 'headquarters', 'brigade', 'kaneohe', 'geology', 'mining', 'jos', 'microsoft', 'mcsa', 'mcp', 'palace', 'establishing', 'counselors', 'roseline', 'ekuma', 'noble', 'updates', 'messy', 'dandelion', 'burnout', 'uncentered', 'immersive', 'walt', 'disney', 'broke', 'breach', 'evasion', 'warehouse', 'eastside', 'vulnerable', 'themosaic', 'coordinating', 'theologisches', 'leipzig', 'greenfaith', 'newseum', 'tends', 'knits', 'devours', 'moccasin', 'notable', 'concurrently', 'lisu', 'chloe', 'groth', 'violinist', 'suzuki', 'violin', 'oberlin', 'conservatory', 'stan', 'introduces', 'aspiring', 'willing', 'consulltant', 'chartered', 'ltd', 'income', 'medina', 'filmmaker', 'rhoads', 'kristen', 'dkdc', 'appreciatively', 'respectfully', 'sacrifices', 'outset', 'noting', 'zeal', 'ix', 'candid', 'app', 'taboo', 'intimately', 'knowledgeable', 'jehle', 'richardson', 'imad', 'ruba', 'bochum', 'missionsacademy', 'jensen', 'kolleg', 'breklum', 'utc', 'bangalore', 'bossey', 'ete', 'coordinated', 'chemistry', 'dentistry', 'warmed', 'transfered', 'slayer', 'thoroughly', 'sandibrown', 'gadsden', 'baylyblog', 'baylys', 'certain', 'flaunts', 'dispenses', 'nuggets', 'interestingly', 'flippant', 'charme', 'interrupted', 'camille', 'archer', 'barracking', 'mighty', 'hawks', 'governing', 'bavaria', 'fms', 'undocumented', 'filipino', 'overworked', 'underpaid', 'justly', 'humbly', 'wahba', 'etsc', 'maliana', 'lasted', 'mob', 'fidelity', 'kpmg', 'ksbj', 'outfitters', 'crihi', 'meaningfully', 'edmonton', 'interfaithhousing', 'tina', 'wins', 'vaudeville', 'comedian', 'unbeliever', 'unannounced', 'astonished', 'loophole', 'evade', 'evasions', 'attempts', 'awful', 'plenty', 'spencer', 'collaborators', 'invites', 'erika', 'dramatically', 'definitions', 'normal', 'joked', 'redmond', 'tucker', 'majesticdestinybook', 'tactic', 'whisperer', 'noses', 'motto', 'corinthians', 'cru', 'cal', 'poly', 'luis', 'obispo', 'ronin', 'glorifies', 'conditionalism', 'conventions', 'sustainability', 'bikes', 'trailer', 'hikes', 'skis', 'wave', 'alternatives', 'simpleliving', 'halls', 'pours', 'carpet', 'holdingtheplumbline', 'metamorpha', 'lamb', 'dust', 'edge', 'shocking', 'devil', 'ruining', 'librarian', 'unversity', 'facilitators', 'bridgebuilder', 'marylyn', 'huff', 'psi', 'isp', 'tos', 'reselling', 'representing', 'distinctive', 'fore', 'users', 'rcn', 'sadams', 'enteract', 'adamsemail', 'sowingseedsoffaith', 'requests', 'nina', 'brooks', 'copious', 'amounts', 'junk', 'babyboso', 'joyfully', 'prisons', 'consist', 'seminarians', 'discussed', 'pineville', 'faye', 'ptl', 'popularity', 'scandals', 'underbelly', 'kelli', 'miller', 'rejected', 'ally', 'lgbtqi', 'baylor', 'thunder', 'famine', 'layed', 'confusion', 'confession', 'wallows', 'marsh', 'modernism', 'traverses', 'crags', 'winds', 'twisting', 'creed', 'brigette', 'activity', 'waldemar', 'pytel', 'cheers', 'sk', 'wroc', 'aw', 'fc', 'cecily', 'neher', 'golfing', 'bush', 'indictment', 'wire', 'laundering', 'defrauding', 'investors', 'kirbyjon', 'estimated', 'accommodate', 'barb', 'ccv', 'slingshot', 'eatart', 'artfully', 'ending', 'livecurious', 'ly', 'rene', 'separation', 'shortage', 'limping', 'dry', 'intellectualism', 'ruined', 'rutheverhartauthor', 'geoffrion', 'tourists', 'installations', 'devoting', 'acute', 'repeating', 'annoyed', 'worthwhile', 'paragraph', 'fundies', 'litmus', 'exceptions', 'conceived', 'incest', 'flair', 'protagonist', 'choosing', 'humanist', 'wenatchee', 'goldfish', 'merry', 'fuel', 'camper', 'jacksonville', 'prides', 'notch', 'cheer', 'baseballs', 'fidelia', 'unemployed', 'malaita', 'guadalcanal', 'emptied', 'vacuum', 'displaced', 'guilt', 'tavarez', 'multiethnic', 'vivo', 'employs', 'mentors', 'christy', 'qmha', 'healer', 'natasha', 'finley', 'autotrader', 'defleet', 'reduced', 'restless', 'streak', 'empty', 'nest', 'sexually', 'oman', 'karate', 'hotel', 'graceway', 'kcbt', 'kc', 'giza', 'lois', 'uprooting', 'destroying', 'monster', 'trap', 'uprootinganger', 'steadily', 'baptized', 'puberty', 'assemble', 'touched', 'ably', 'moses', 'sainthood', 'tenderhearts', 'classically', 'flutist', 'steamy', 'vacation', 'reichmuth', 'gurian', 'brevard', 'patricia', 'lacey', 'alexandria', 'geek', 'recommendations', 'jakea', 'ballard', 'yahoo', 'ifollow', 'advertising', 'corporations', 'franciscans', 'carbajo', 'alfonsianum', 'lateran', 'royal', 'shamsa', 'lea', 'amira', 'boxing', 'loosely', 'amillennialism', 'belong', 'pious', 'martyr', 'premillennialist', 'trypho', 'jew', 'ad', 'panmillenialist', 'printing', 'kidron', 'ks', 'collegeville', 'prose', 'themoneyfile', 'successdimensionchurch', 'successgalore', 'mindi', 'remember', 'involve', 'rituals', 'final', 'rohrer', 'requested', 'instantly', 'hearth', 'transgender', 'anxious', 'mamft', 'highland', 'mayan', 'petri', 'ia', 'screen', 'shot', 'notice', 'unbecoming', 'chevy', 'repugnicans', 'wendt', 'butterworth', 'transitioning', 'bryce', 'ovens', 'roshelle', 'stubborn', 'ericspeir', 'colm', 'incorporation', 'ports', 'corunna', 'ferrol', 'claim', 'kilometer', 'bonnie', 'booksellers', 'sunglasses', 'faux', 'hawk', 'davis', 'palin', 'cape', 'girardeau', 'mere', 'janeiro', 'opponent', 'malafaia', 'attacking', 'politicians', 'dysautonomia', 'condition', 'homebound', 'cranberry', 'chronic', 'recognised', 'reflected', 'chaired', 'instrumentalist', 'devoto', 'glcstatecollege', 'technique', 'talking', 'compromise', 'lays', 'recognizing', 'incisive', 'cyber', 'brethren', 'pointing', 'alexia', 'rocked', 'mamas', 'awaits', 'jackson', 'claire', 'teds', 'emma', 'tabletop', 'torch', 'busan', 'sodomy', 'employer', 'walsh', 'countered', 'expat', 'krumseig', 'rehabbed', 'hebert', 'scenarios', 'spectrum', 'tgif', 'owe', 'apology', 'karengirlfriday', 'percussion', 'gallon', 'jug', 'kyla', 'vevia', 'biltmore', 'asheville', 'bruce', 'musing', 'firefighter', 'incident', 'responder', 'legion', 'uncover', 'developer', 'hillsdale', 'worshippers', 'uywi', 'fordham', 'forbids', 'indulge', 'denial', 'foundational', 'loneliness', 'greeting', 'jeanettelevellie', 'burtons', 'specialty', 'spain', 'inmigrants', 'juez', 'cremas', 'maghrebi', 'pmi', 'zacatecoluca', 'paz', 'resigning', 'henrietta', 'woodward', 'immaculate', 'greenville', 'scotus', 'redefining', 'thirteenth', 'sevy', 'celebrity', 'heavily', 'eagelsonline', 'downward', 'spiral', 'schultze', 'ndudi', 'ezeife', 'gorder', 'yemen', 'saudi', 'arabia', 'infertility', 'heidi', 'katy', 'nt', 'allegiance', 'tours', 'players', 'bernard', 'cel', 'evangelique', 'lutherien', 'au', 'coracess', 'leogane', 'portion', 'cutting', 'deaconess', 'birthplace', 'palawan', 'shepparton', 'coffs', 'harbour', 'undertaken', 'mollie', 'palo', 'cedro', 'benalla', 'panics', 'plaza', 'cheering', 'alma', 'mater', 'airline', 'passportkids', 'comprises', 'reaction', 'unfaithfulness', 'finland', 'proved', 'opposes', 'bullied', 'defrocked', 'surrounded', 'rugged', 'expanses', 'circus', 'incorporates', 'blogged', 'houghton', 'finlandia', 'judy', 'manu', 'ty', 'triathlon', 'races', 'vegetarian', 'feedtheflock', 'xanga', 'rgen', 'seminarian', 'tenets', 'wish', 'calvinist', 'lions', 'den', 'neighboring', 'thirteen', 'seized', 'sackcloth', 'suing', 'packed', 'proudly', 'governess', 'professors', 'ifca', 'chima', 'favour', 'jil', 'chidirim', 'maximizes', 'dupe', 'osho', 'quaint', 'happiness', 'interaction', 'confesses', 'cahaba', 'fairfax', 'farewell', 'bands', 'beast', 'rappers', 'burritos', 'skeen', 'ethic', 'barber', 'loveland', 'misfit', 'nets', 'gallatin', 'individualized', 'elisa', 'yup', 'ponies', 'unclear', 'curable', 'eap', 'rape', 'lacking', 'esteem', 'stroke', 'intercessory', 'navigators', 'cannon', 'numerically', 'financially', 'themtvernon', 'congestion', 'isle', 'relatively', 'muskegon', 'cooperating', 'allowing', 'define', 'immense', 'secure', 'emmanuella', 'ella', 'shine', 'sorrow', 'cuisine', 'liberative', 'ricketts', 'archdiocese', 'evangelisation', 'ordinator', 'interface', 'kashmir', 'shaivism', 'rated', 'blending', 'dwelling', 'garmans', 'annie', 'mayhem', 'meaning', 'anniebgarman', 'gastonia', 'unbound', 'saviour', 'profits', 'delta', 'muddy', 'decomp', 'freshwater', 'hash', 'mud', 'ovs', 'penwood', 'pisgah', 'prick', 'images', 'dartmouth', 'malawi', 'cafe', 'thebarefootpastor', 'spills', 'kemmerer', 'dai', 'skate', 'boarder', 'dj', 'pontypool', 'rumi', 'protecting', 'mbale', 'bisexual', 'hawkes', 'forefront', 'atheistic', 'indoctrination', 'fredy', 'lenka', 'zachary', 'acquainted', 'griffin', 'comer', 'corrosive', 'soil', 'secularized', 'hampton', 'jolene', 'kerry', 'hellenic', 'derrida', 'caputo', 'hopeful', 'mayflower', 'hyphenateds', 'emergence', 'traditioning', 'sangre', 'kareus', 'guess', 'prayersforgirls', 'cheerleader', 'campbellsville', 'anona', 'miracles', 'bases', 'burial', 'crucified', 'colossians', 'beers', 'kara', 'rangers', 'bacon', 'tunes', 'passages', 'tumaini', 'ethnomusicology', 'kaghondi', 'owatonna', 'commuting', 'visitng', 'applegate', 'method', 'conveys', 'warmth', 'pews', 'hyper', 'wickedness', 'sinners', 'damnation', 'executing', 'rookiepreacher', 'sermoncentral', 'churchplants', 'elias', 'cabarcas', 'fac', 'sustainable', 'ch', 'uh', 'enquire', 'geographically', 'prep', 'indie', 'lance', 'afghanistan', 'almaty', 'yerkin', 'heroin', 'buy', 'addict', 'desperate', 'freed', 'therapy', 'freeing', 'grasping', 'straw', 'aa', 'insane', 'beagles', 'crayon', 'unusual', 'testimonies', 'scrapbooking', 'interior', 'trey', 'stonybrook', 'gahanna', 'modifications', 'assured', 'sylph', 'morph', 'dominance', 'guardian', 'angels', 'bodyguards', 'data', 'trustworthy', 'remarkable', 'attenders', 'backgrounds', 'bent', 'spark', 'unhappy', 'gbolahan', 'huntersville', 'denouncement', 'recruited', 'underage', 'filed', 'accused', 'forcing', 'ind', 'enrolling', 'seward', 'neb', 'cecil', 'bethesda', 'copeland', 'overlooked', 'internally', 'materialistic', 'trappings', 'doubts', 'floodgates', 'laments', 'shoes', 'chip', 'rift', 'demise', 'expanding', 'submissive', 'kenzie', 'underlying', 'piercings', 'somewhat', 'disapprove', 'extent', 'mariological', 'sbcplodder', 'sbcvoices', 'diligently', 'tend', 'stdy', 'presenters', 'tosc', 'critiqued', 'anaylsis', 'opposing', 'ordinationtruth', 'dollars', 'seats', 'iwu', 'gcts', 'manuscripts', 'attic', 'hoefs', 'adequately', 'widespread', 'revitalize', 'jax', 'collects', 'tabor', 'channels', 'ebf', 'monitoring', 'input', 'eighties', 'unsuccessful', 'mobilized', 'sunitha', 'freshman', 'transitioned', 'interprofessional', 'camino', 'rushing', 'yards', 'maio', 'liners', 'ucm', 'cma', 'sixty', 'ilf', 'greats', 'benner', 'undiscerning', 'recovering', 'addicts', 'nobel', 'rhodes', 'witty', 'sayings', 'copied', 'rewrote', 'sara', 'laholmes', 'lukeholmes', 'perkins', 'smu', 'sermonsuite', 'killen', 'bird', 'multiplying', 'actuated', 'longed', 'impoverished', 'cupcake', 'wordsmith', 'lindsayhausch', 'bolivia', 'pug', 'semipostals', 'scandannvia', 'europa', 'topical', 'philatelic', 'wfsc', 'atfp', 'enriching', 'bless', 'ronke', 'profession', 'fiyinfolu', 'ajibola', 'monetary', 'tying', 'knot', 'premarital', 'provoke', 'strength', 'revaustinmiles', 'bigot', 'miserable', 'pedophilia', 'promiscuous', 'filthy', 'brainwashing', 'activit', 'ies', 'compared', 'mormonism', 'andsaid', 'evangelizes', 'generously', 'signing', 'grooming', 'sibling', 'hundred', 'span', 'strategizing', 'screenwriting', 'ish', 'discount', 'ski', 'lift', 'tickets', 'smug', 'parties', 'scoutmaster', 'bsa', 'cyndi', 'torchbearers', 'colors', 'labeled', 'skiing', 'sector', 'curates', 'timothysgift', 'avalon', 'tunghai', 'cheng', 'cuny', 'goof', 'wait', 'pathfinder', 'camporee', 'pakistani', 'pickel', 'donaldson', 'touching', 'lovingly', 'grappling', 'affordable', 'agenda', 'tweaks', 'lamplight', 'akpami', 'apapa', 'metta', 'architect', 'ahmadu', 'bello', 'bako', 'mastered', 'gluten', 'buttermilk', 'biscuits', 'lately', 'revs', 'rafu', 'shimpo', 'greensboro', 'cary', 'steady', 'christie', 'purifoy', 'traded', 'classroom', 'farmhouse', 'placemakers', 'average', 'quadrupled', 'talbotdavis', 'linguistics', 'lakota', 'atrocities', 'slowly', 'repairs', 'rooms', 'conditions', 'cavaliers', 'alaina', 'twinsburg', 'pr', 'dedmin', 'discerningdaughters', 'excerpted', 'commonsense', 'gracepoint', 'lidcombe', 'gddiv', 'sherilyn', 'secularism', 'treated', 'equally', 'constitution', 'sharia', 'sadat', 'inserted', 'sectarian', 'egyptian', 'amended', 'shari', 'ahs', 'treaties', 'legislation', 'nyagatare', 'ntidendeza', 'mukundwa', 'kaliza', 'gikundiro', 'bahizi', 'carrie', 'plaguing', 'corrupting', 'addictions', 'backed', 'enemies', 'policemen', 'corrupted', 'acquaintances', 'suspecting', 'smugglers', 'believable', 'madness', 'hookman', 'grabs', 'pits', 'nascar', 'northland', 'lansdale', 'cromwell', 'pillsbury', 'passed', 'tourist', 'speechless', 'steven', 'chapman', 'unveiled', 'objects', 'affection', 'heavenward', 'ucla', 'pentacostals', 'embassy', 'voa', 'eve', 'dwight', 'angelo', 'hallettsville', 'bees', 'bereavement', 'kerrville', 'ham', 'operator', 'fearless', 'defenders', 'longevity', 'champions', 'mankind', 'features', 'selfie', 'transphobic', 'rant', 'neutral', 'bathrooms', 'representatives', 'donation', 'parenthood', 'successor', 'rousing', 'occasional', 'waning', 'sham', 'tow', 'sweetzer', 'nell', 'bargained', 'affirming', 'overnight', 'flourished', 'chriskratzer', 'shadows', 'oppressed', 'residing', 'dialogues', 'etiquette', 'terri', 'deuteronomistic', 'investigate', 'stubbornly', 'conceptions', 'condemn', 'disseminate', 'fallacies', 'disrupt', 'jarvis', 'scouts', 'asociacion', 'ministros', 'evangelicos', 'amedal', 'merrimack', 'apoyo', 'erie', 'nyack', 'cults', 'sunset', 'swope', 'warfare', 'paranormal', 'fayetteville', 'humanities', 'conway', 'dealing', 'tackles', 'influx', 'genre', 'evans', 'bessey', 'complementarian', 'egalitarian', 'commented', 'alarming', 'mistreated', 'stereotypes', 'emerita', 'everist', 'enhance', 'traveller', 'outlets', 'finish', 'showers', 'drives', 'shower', 'hygiene', 'supplies', 'greener', 'grass', 'conspiracy', 'gallery', 'owners', 'faulkner', 'margaret', 'archambault', 'relocate', 'responded', 'recruiter', 'provisions', 'odom', 'karis', 'penelope', 'relocating', 'advisor', 'brentwood', 'katherine', 'cheesehead', 'tomball', 'courtney', 'artista', 'videography', 'smile', 'breaks', 'garage', 'transforms', 'treasures', 'eastland', 'oru', 'magnolia', 'mpcpnpa', 'muchison', 'inaction', 'negatively', 'midwest', 'drea', 'rovc', 'ridiculously', 'doting', 'grandma', 'hospitalization', 'pen', 'dowell', 'shepherdess', 'hobby', 'huffpost', 'q', 'beng', 'choo', 'zephaniah', 'ondo', 'accountant', 'biyi', 'daniels', 'rejoice', 'informs', 'sally', 'behaviors', 'jamaica', 'reared', 'genuine', 'centennial', 'westchester', 'dixon', 'intelligence', 'beaufort', 'judah', 'draven', 'shark', 'paramilitary', 'destroyed', 'violated', 'beatings', 'sabotaging', 'divisiveness', 'jail', 'tacf', 'sells', 'products', 'dvds', 'endorsements', 'commissioning', 'bently', 'update', 'wondering', 'hurricane', 'disaster', 'hurricanes', 'anecdotal', 'readable', 'barnes', 'bout', 'citrus', 'bancheros', 'itinerant', 'orphanology', 'platt', 'musicology', 'composers', 'hymnody', 'carl', 'schalk', 'walter', 'bouman', 'progress', 'appreciate', 'familial', 'powerlifting', 'amateur', 'imperfect', 'sequel', 'motivate', 'northridge', 'circleville', 'stony', 'referees', 'theme', 'publish', 'traditions', 'exposited', 'humanity', 'hendrickson', 'behold', 'christologies', 'macquarrie', 'wolfhart', 'pannenburg', 'emotions', 'onecry', 'awakening', 'complacency', 'pointed', 'defines', 'bridgeport', 'location', 'toni', 'abigail', 'josiah', 'motorcycles', 'tailor', 'debi', 'douglas', 'complement', 'neuro', 'delray', 'emphasizes', 'components', 'astute', 'businessman', 'ina', 'kosa', 'kantaka', 'surprise', 'gtu', 'survived', 'counsels', 'clients', 'acknowledges', 'indebtedness', 'peacemaker', 'margie', 'tommy', 'note', 'suni', 'islamist', 'militant', 'julius', 'lifting', 'extemporaneous', 'leonard', 'birthed', 'tiny', 'bakery', 'ends', 'disciplines', 'mershimer', 'hobe', 'inspirationally', 'motivates', 'charismatically', 'uplifts', 'touches', 'psalmist', 'motivator', 'exclusively', 'declining', 'grant', 'innovator', 'preachbetweenthelines', 'pearson', 'currrently', 'oletu', 'anatomy', 'nigerian', 'prayerideas', 'fb', 'terminal', 'ironworker', 'sarnia', 'consists', 'barren', 'prevail', 'succeed', 'haul', 'discern', 'coordinate', 'niece', 'nephew', 'updating', 'kenny', 'churchonenow', 'rebuilding', 'turner', 'churched', 'circles', 'tabitha', 'treacherous', 'tiger', 'primers', 'marketed', 'inventions', 'outdoorsmen', 'certifications', 'ymtoday', 'scattering', 'specialties', 'rethinkingyouthministry', 'initially', 'croydon', 'vic', 'indooroopilly', 'qld', 'inspires', 'crosswalk', 'homelife', 'leak', 'katrina', 'mckeever', 'ielb', 'ulbra', 'semin', 'conc', 'rdia', 'leopoldo', 'hereditary', 'eye', 'slowed', 'facility', 'wanting', 'rewarding', 'danie', 'excess', 'churchlife', 'adapted', 'shannon', 'shannonblosser', 'gone', 'athletics', 'youngest', 'athlete', 'fearful', 'sway', 'prevailing', 'patriotism', 'risks', 'counteract', 'facist', 'hrer', 'manifesting', 'saintsinnerseeker', 'hungarian', 'welcomes', 'hungarians', 'foreigners', 'versa', 'demand', 'dweller', 'integration', 'capacity', 'refuel', 'uncomplicated', 'cathy', 'figured', 'plate', 'minus', 'warfield', 'summary', 'elevating', 'awakened', 'impassioned', 'revive', 'earnest', 'travailing', 'bba', 'ruzicka', 'ilikemycoffeeblack', 'kezia', 'tozer', 'iphone', 'ipad', 'shoot', 'reproductive', 'abortive', 'joost', 'spokane', 'boasted', 'schlissel', 'pamphlet', 'instructing', 'consider', 'typical', 'aol', 'usteach', 'courtship', 'daddysgirl', 'pdf', 'gideons', 'eadvocate', 'sohopeful', 'sohopefulny', 'sosen', 'caution', 'governments', 'occasions', 'merrill', 'lynch', 'sth', 'onsite', 'unaware', 'fergus', 'pfeiffer', 'misenheimer', 'drew', 'emphasized', 'qualities', 'footsteps', 'expansion', 'ajayi', 'adeniran', 'fostered', 'respite', 'protective', 'placements', 'mugabe', 'ousted', 'emmerson', 'mnangagwa', 'promised', 'mawarire', 'perelman', 'towne', 'exegetical', 'renovation', 'frazee', 'rozanne', 'paved', 'speakers', 'movieguide', 'michellelazurek', 'musicals', 'susanna', 'holmstrom', 'dooley', 'ashland', 'bev', 'singles', 'palestinians', 'symbolic', 'groves', 'resolving', 'essentials', 'arrests', 'coup', 'recep', 'tayyip', 'erdogan', 'spying', 'unnamed', 'terrorist', 'sentences', 'casper', 'finishing', 'wicked', 'carved', 'rolling', 'cherishes', 'edgebrook', 'pointe', 'aliza', 'connector', 'fulfilled', 'colby', 'cade', 'rests', 'braxton', 'climax', 'channeling', 'fosdick', 'coffin', 'bigotry', 'unions', 'imperialism', 'provocatively', 'riverside', 'condom', 'curb', 'sterns', 'churchless', 'examined', 'wichita', 'florencio', 'flores', 'euceda', 'grad', 'shores', 'cain', 'prophet', 'wimber', 'promise', 'jewel', 'merwe', 'petting', 'beer', 'proven', 'uncompromised', 'minjung', 'hermeneutic', 'levinas', 'confucianism', 'knit', 'zumba', 'intellectuals', 'flocked', 'massy', 'palaiseau', 'montpellier', 'fundavida', 'battles', 'ravages', 'outs', 'disadvantage', 'classrooms', 'samson', 'quiet', 'minimum', 'lacks', 'dilemmas', 'triumph', 'thwarted', 'dustin', 'molli', 'embittered', 'rage', 'justifies', 'proof', 'texting', 'mccranie', 'scholars', 'workforce', 'producer', 'saxton', 'pastorsteph', 'kazakhstan', 'jennie', 'brenna', 'dairy', 'ronnie', 'gerogia', 'gwinnett', 'douglasville', 'bhd', 'indigenous', 'bahasa', 'miso', 'sufferers', 'follows', 'coverage', 'misos', 'persevere', 'relativism', 'wounded', 'smashwords', 'debling', 'staffs', 'kristyn', 'investing', 'laboring', 'bikram', 'round', 'radicalized', 'politically', 'crises', 'articulate', 'ensures', 'misfortune', 'blame', 'vices', 'revenge', 'messengers', 'disturbed', 'henry', 'hoping', 'mets', 'doctrate', 'youthworker', 'ugly', 'phone', 'islington', 'wycliffe', 'fancy', 'shops', 'stores', 'apollo', 'ghanaian', 'hi', 'jake', 'jamie', 'aden', 'cosmology', 'abwe', 'hartwick', 'saucers', 'parting', 'revelations', 'expands', 'downing', 'mufon', 'aliens', 'copernican', 'quantum', 'mechanics', 'string', 'dominican', 'panama', 'achok', 'nairobi', 'sickle', 'anaemia', 'votes', 'spot', 'visionaries', 'mahairas', 'michele', 'product', 'maceo', 'pembroke', 'journeying', 'organizer', 'profess', 'witchcraft', 'celebrates', 'hallowe', 'threatened', 'wyman', 'stall', 'distributes', 'cocoa', 'continent', 'mattersey', 'narratives', 'interact', 'personnel', 'hickory', 'peg', 'bfp', 'divestment', 'brookfield', 'adolescents', 'kilometers', 'laval', 'relieve', 'muppet', 'reluctantprophets', 'promisesandperspective', 'yacht', 'li', 'ian', 'kendra', 'offshoot', 'centrepoint', 'cockburn', 'perth', 'turning', 'counsellor', 'permanent', 'voodoo', 'governmental', 'resolve', 'julio', 'endured', 'inflicted', 'lifetime', 'christwardcollective', 'teachinglikerain', 'panelist', 'edwards', 'petty', 'callahan', 'jodie', 'shippensburg', 'ballet', 'cowboy', 'globallead', 'drawn', 'multiply', 'introductory', 'endeavours', 'threat', 'stare', 'hemorrhoids', 'stool', 'bloody', 'practicums', 'beta', 'upsilon', 'chi', 'fraternity', 'normandale', 'formally', 'intervention', 'heterosexual', 'catharines', 'ntario', 'mcgill', 'demonological', 'treatise', 'stick', 'dedicates', 'eleventh', 'haight', 'hardy', 'semester', 'hispanics', 'caroline', 'chamblee', 'doraville', 'mobilizer', 'ili', 'darren', 'stirring', 'plastic', 'jaws', 'perilous', 'agonizing', 'painful', 'incomplete', 'endemic', 'routinely', 'garbage', 'dumps', 'refuses', 'ignore', 'rejects', 'showed', 'keizer', 'nonetheless', 'paschal', 'sputters', 'darkness', 'embarrassed', 'risen', 'peru', 'salguero', 'nalec', 'nae', 'espa', 'telemundo', 'brandi', 'invests', 'permeate', 'grey', 'landmark', 'paulsen', 'sonja', 'anchor', 'wbz', 'resulted', 'emmys', 'edward', 'murrow', 'rance', 'kecia', 'oprah', 'rolled', 'wall', 'conducts', 'facilitates', 'interpersonal', 'saintsbynature', 'hollow', 'signed', 'figure', 'vicki', 'wildly', 'legend', 'tract', 'cox', 'plnu', 'toughest', 'smuggle', 'bibles', 'underground', 'nsa', 'moonlight', 'yun', 'practising', 'psychiatrist', 'freddie', 'esccc', 'pets', 'kay', 'batesville', 'meridian', 'booklet', 'methodism', 'rozeboom', 'racine', 'assassination', 'segregated', 'pleuss', 'rochester', 'imagining', 'liberation', 'heartbeat', 'cells', 'meditational', 'reconnect', 'collapse', 'mixture', 'injecting', 'herion', 'gennadiy', 'appreciated', 'clarence', 'orchard', 'goodly', 'pk', 'istanbul', 'wendy', 'victories', 'perfectionism', 'discouragement', 'grady', 'celebrations', 'elaine', 'compassionate', 'notably', 'reformative', 'rtc', 'changi', 'khoo', 'offenders', 'savings', 'ppid', 'deputy', 'kigali', 'operation', 'iraqi', 'deployments', 'surgical', 'mortuary', 'usmc', 'deploying', 'branches', 'ships', 'heliclopter', 'squadrons', 'foxholes', 'zacharias', 'bother', 'sonia', 'aboriginals', 'aboriginal', 'forcibly', 'assimilate', 'volleyball', 'medals', 'changers', 'traci', 'constraints', 'agc', 'markets', 'wherever', 'debra', 'ecclesiastical', 'ruling', 'constitutional', 'printed', 'dorm', 'asb', 'discipling', 'gods', 'uptempo', 'beats', 'danceable', 'rhythms', 'colonel', 'vendesteeg', 'affiliation', 'vandesteeg', 'preside', 'subs', 'meyer', 'parished', 'hilo', 'commenter', 'lists', 'employment', 'germantown', 'sort', 'taiwo', 'dolapo', 'abeokuta', 'definite', 'adedayo', 'chronicles', 'goers', 'bizarrely', 'sued', 'dismissed', 'admonishment', 'gymnast', 'cyclist', 'oly', 'triathlete', 'brokenyethopeful', 'montero', 'overall', 'brianna', 'journaling', 'strengths', 'weaknesses', 'righteousness', 'kalaman', 'archaeological', 'excavation', 'journals', 'weeping', 'jade', 'insurance', 'creations', 'kelleybenson', 'evangelists', 'necessities', 'undermining', 'penal', 'code', 'detained', 'gia', 'lai', 'corrielus', 'deacons', 'supper', 'sister', 'meriline', 'neglected', 'visibility', 'defender', 'kyampisi', 'kcm', 'sacrificial', 'danger', 'falling', 'psychosocial', 'purchased', 'bern', 'eutin', 'hlbrand', 'beck', 'heikendorf', 'velkd', 'gnc', 'heide', 'meldorf', 'confronted', 'minnestoa', 'employed', 'valdosta', 'acquisition', 'bekah', 'woods', 'windmill', 'popping', 'surroundings', 'christa', 'edaleen', 'ice', 'cream', 'cone', 'flierl', 'maurer', 'gnostic', 'kayiwa', 'designation', 'phobice', 'tweheyo', 'samalie', 'satisfaction', 'scholarship', 'endowment', 'ravencrest', 'tactical', 'duo', 'conrad', 'billboard', 'charting', 'liam', 'minn', 'courtesy', 'marboe', 'caption', 'educates', 'wounds', 'defecting', 'megachurch', 'replaced', 'brunch', 'buffet', 'armageddon', 'color', 'rescued', 'forties', 'burning', 'puts', 'pageant', 'bearing', 'pads', 'pigeon', 'prima', 'twinkle', 'skateboard', 'dorito', 'bellflower', 'nov', 'cynthia', 'cc', 'downey', 'mirada', 'calendars', 'summers', 'ngo', 'veng', 'mathematical', 'physicist', 'sir', 'eddington', 'solar', 'eclipse', 'relativity', 'traveler', 'icf', 'storytellers', 'augsburg', 'elcic', 'subscription', 'flexible', 'sundaysandseasons', 'colorful', 'tiles', 'havana', 'illustrates', 'suzanne', 'excitement', 'narrated', 'sinise', 'forrest', 'gump', 'narration', 'minimal', 'admirers', 'mel', 'braveheart', 'ragtime', 'joplin', 'kerith', 'yea', 'bracknell', 'cricket', 'bonfires', 'pocock', 'benpocock', 'aiming', 'ciprian', 'liliana', 'humpty', 'dumpty', 'modules', 'sweeten', 'uptown', 'gabbard', 'tabernacle', 'picked', 'instruments', 'endless', 'hopeless', 'unseen', 'duyen', 'chemotherapy', 'radiation', 'praising', 'honored', 'rbergfalk', 'thereby', 'cater', 'unanticipated', 'instruction', 'xi', 'scientist', 'wyeth', 'pharmaceuticals', 'pfizer', 'yan', 'feng', 'tennis', 'tortures', 'befallen', 'neither', 'hallucination', 'physically', 'bodily', 'intact', 'wiese', 'conscious', 'harrowing', 'vashon', 'davidson', 'evangelicalsforsocialaction', 'advised', 'ted', 'cruz', 'effecting', 'championing', 'echols', 'lusaka', 'woodlands', 'mpika', 'zambia', 'oversaw', 'elisabeth', 'mbe', 'recognition', 'scroll', 'listened', 'canton', 'rosemary', 'nick', 'overflow', 'undeserved', 'beholding', 'robinson', 'sdmw', 'bakes', 'spinach', 'needles', 'maneuvers', 'exhibit', 'dekalb', 'beulah', 'dreadful', 'flood', 'washes', 'dismiss', 'kidnaps', 'flees', 'reconcile', 'wit', 'erudite', 'citizens', 'meyersdale', 'agricultural', 'retail', 'barefoot', 'getaway', 'subsidiaries', 'nasdaq', 'smucker', 'dorcas', 'eugene', 'compiled', 'shoe', 'jacalyn', 'nevertheless', 'westhampton', 'sandfields', 'sizes', 'cultures', 'extend', 'contribute', 'crs', 'splichal', 'termed', 'earthquake', 'broadcaster', 'newsreader', 'sri', 'lanka', 'preachingplatform', 'sheriah', 'sheramiah', 'peopleschurch', 'lk', 'uae', 'arab', 'emirates', 'wapahani', 'coffmans', 'grain', 'betsy', 'emmett', 'leo', 'westin', 'churchome', 'personality', 'spaces', 'glover', 'bethea', 'nypd', 'merton', 'bach', 'somehow', 'lets', 'todas', 'na', 'credo', 'extra', 'grounded', 'trails', 'commissioned', 'trustee', 'presbyteries', 'moderating', 'liaison', 'floors', 'collaborator', 'merge', 'sigma', 'harrison', 'milthaler', 'springboro', 'fbi', 'deterring', 'oscar', 'negron', 'paulskirche', 'schenefeld', 'intersections', 'salam', 'standing', 'montana', 'bristol', 'agree', 'lukan', 'psychologist', 'liminal', 'problematic', 'consultation', 'sinnott', 'parachurch', 'nagle', 'skydiving', 'kills', 'janet', 'carrying', 'upstairs', 'heartbroken', 'tillman', 'dig', 'linking', 'meticulous', 'kayak', 'canoe', 'preserver', 'reasonably', 'tastes', 'recipes', 'hawaiian', 'stewards', 'lademma', 'veritas', 'erin', 'wellness', 'kiddos', 'amanda', 'gorgeous', 'reward', 'sws', 'nobody', 'vote', 'grip', 'possibilities', 'manitoumie', 'collected', 'poet', 'ceremonies', 'rockford', 'sallyann', 'saluki', 'panther', 'unfortunate', 'kill', 'ignoring', 'dubai', 'doula', 'mobilization', 'extreme', 'treatable', 'preventable', 'totally', 'stripped', 'funding', 'ottawa', 'kenichi', 'uc', 'migratory', 'venezuelans', 'passport', 'hammond', 'tribute', 'jimmie', 'tracks', 'rutledge', 'trend', 'saxonburg', 'gentle', 'usual', 'dikaio', 'elea', 'roasting', 'nerdy', 'chic', 'restored', 'ignited', 'infused', 'equips', 'heavy', 'regionally', 'maarten', 'occurs', 'tithing', 'purposes', 'reminiscing', 'monastery', 'dharma', 'pilgrimage', 'prostrating', 'ukiah', 'sutra', 'veganism', 'kecskem', 'szabads', 'interruption', 'oct', 'inquisitive', 'throng', 'pouring', 'sanford', 'stadium', 'selflessly', 'headhearthand', 'mandolin', 'mandola', 'sang', 'baritone', 'tenor', 'sung', 'innocence', 'reclaims', 'restores', 'floundering', 'rediscovers', 'rust', 'tale', 'bind', 'bred', 'elim', 'riverwalk', 'exercise', 'willowdale', 'fredericton', 'brunswick', 'chesley', 'wilfrid', 'laurier', 'waterloo', 'albrecht', 'gilbert', 'sullivan', 'tweener', 'onebyone', 'kilns', 'paradox', 'vs', 'copy', 'appearing', 'uncovering', 'vanguard', 'tasha', 'briar', 'netflix', 'recreation', 'documentaries', 'fonts', 'leighpowers', 'pastorswives']\n"
     ]
    }
   ],
   "source": [
    "all_words = []\n",
    "for cls in range (28):\n",
    "    #all_words += list(clss_dict[cls].keys())\n",
    "    print(list(clss_dict[cls].keys()))\n",
    "    break"
   ]
  },
  {
   "cell_type": "code",
   "execution_count": 28,
   "metadata": {},
   "outputs": [
    {
     "data": {
      "text/plain": [
       "\"dict_keys(['nutrition', 'health', 'university', 'food', 'years', 'medical', 'dietitian', 'weight', 'hospital', 'also', 'science', 'healthy', 'degree', 'eating', 'diet', 'professional', 'graduated', 'information', 'dietetics', 'registered', 'book', 'dietetic', 'completed', 'management', 'clinical', 'experiences', 'center', 'diverse', 'wellness', 'doctors', 'number', 'especially', 'appointment', 'honors', 'call', 'phone', 'clients', 'specialists', 'nutritional', 'affiliates', 'education', 'cooperates', 'advises', 'bachelor', 'working', 'diabetes', 'new', 'group', 'worked', 'practice', 'master', 'experience', 'patients', 'counseling', 'program', 'internship', 'well', 'care', 'lifestyle', 'com', 'research', 'people', 'disease', 'works', 'currently', 'loss', 'state', 'sports', 'college', 'including', 'received', 'member', 'community', 'children', 'groups', 'public', 'life', 'services', 'association', 'foods', 'helping', 'help', 'time', 'medicine', 'private', 'school', 'training', 'based', 'certified', 'work', 'disorders', 'enjoys', 'york', 'cooking', 'one', 'holds', 'passion', 'clinic', 'cancer', 'many', 'ms', 'women', 'joining', 'passionate', 'without', 'body', 'provides', 'programs', 'fitness', 'since', 'therapy', 'dr', 'approach', 'specializes', 'american', 'providing', 'author', 'goals', 'two', 'nutritionist', 'www', 'family', 'academy', 'dietitians', 'treatment', 'national', 'support', 'lives', 'individuals', 'several', 'free', 'team', 'personal', 'various', 'online', 'include', 'issues', 'human', 'institute', 'variety', 'blog', 'exercise', 'masters', 'prevention', 'obesity', 'earned', 'recipes', 'consultant', 'related', 'post', 'pediatric', 'others', 'co', 'husband', 'families', 'teaching', 'practices', 'addition', 'media', 'focus', 'active', 'holistic', 'interest', 'expert', 'loves', 'b', 'make', 'athletes', 'sciences', 'achieve', 'board', 'local', 'development', 'heart', 'inc', 'helps', 'best', 'believes', 'world', 'adult', 'past', 'graduate', 'living', 'improve', 'dietary', 'changes', 'career', 'consulting', 'natural', 'needs', 'field', 'outpatient', 'diets', 'areas', 'year', 'performance', 'high', 'long', 'specialist', 'articles', 'home', 'california', 'chronic', 'provided', 'company', 'texas', 'magazine', 'find', 'recently', 'part', 'individual', 'writing', 'serves', 'teaches', 'st', 'international', 'better', 'published', 'director', 'functional', 'l', 'adults', 'eat', 'bariatric', 'surgery', 'culinary', 'offers', 'studies', 'conditions', 'follow', 'general', 'expertise', 'c', 'plans', 'good', 'first', 'real', 'disorder', 'service', 'yoga', 'website', 'learn', 'area', 'books', 'twitter', 'north', 'knowledge', 'young', 'whole', 'role', 'columbia', 'includes', 'digestive', 'llc', 'professionals', 'focuses', 'involved', 'using', 'e', 'change', 'classes', 'child', 'visit', 'founder', 'city', 'like', 'department', 'choices', 'live', 'business', 'patient', 'boston', 'san', 'numerous', 'healthcare', 'diseases', 'kids', 'coaching', 'began', 'three', 'provide', 'reach', 'undergraduate', 'gluten', 'publications', 'control', 'advice', 'developed', 'canada', 'allergies', 'doctor', 'celiac', 'special', 'cardiovascular', 'way', 'students', 'integrative', 'healthier', 'non', 'balance', 'instructor', 'day', 'settings', 'background', 'foundation', 'practical', 'certification', 'love', 'plant', 'habits', 'promotion', 'within', 'florida', 'speaker', 'throughout', 'running', 'hospitals', 'sustainable', 'prior', 'writer', 'society', 'complete', 'educator', 'mary', 'focused', 'oncology', 'evidence', 'feeding', 'served', 'rd', 'news', 'radio', 'corporate', 'delicious', 'went', 'quality', 'planning', 'meal', 'kitchen', 'helped', 'developing', 'positive', 'topics', 'pre', 'south', 'system', 'industry', 'etc', 'schools', 'great', 'coach', 'every', 'physical', 'county', 'blood', 'consultation', 'interests', 'different', 'develop', 'leading', 'relationship', 'wide', 'michigan', 'phd', 'gain', 'written', 'writes', 'extensive', 'certificate', 'educating', 'obtained', 'around', 'setting', 'study', 'create', 'washington', 'jennifer', 'policy', 'diploma', 'read', 'unique', 'uses', 'current', 'professor', 'spent', 'range', 'self', 'sc', 'instagram', 'maryland', 'magazines', 'featured', 'clinics', 'psychology', 'k', 'energy', 'president', 'today', 'show', 'facebook', 'workshops', 'bachelors', 'use', 'parents', 'applied', 'project', 'low', 'award', 'blogs', 'tips', 'scientific', 'feel', 'level', 'specific', 'social', 'childhood', 'west', 'inpatient', 'staff', 'network', 'plan', 'bsc', 'healing', 'lose', 'sarah', 'take', 'goal', 'syndrome', 'recipe', 'sport', 'guide', 'communications', 'behavior', 'dietitics', 'n', 'editor', 'practicing', 'specializing', 'lead', 'busy', 'cornell', 'london', 'found', 'mother', 'ohio', 'former', 'shares', 'regional', 'towards', 'problems', 'associate', 'america', 'arts', 'carolina', 'lectures', 'organizations', 'vegetarian', 'cook', 'promote', 'intuitive', 'available', 'authored', 'committee', 'delhi', 'associates', 'concerns', 'promoting', 'become', 'spending', 'overall', 'manage', 'guest', 'individualized', 'consultations', 'need', 'became', 'levels', 'completing', 'ages', 'regularly', 'early', 'pregnancy', 'primary', 'journal', 'elizabeth', 'optimal', 'western', 'bs', 'counselling', 'mumbai', 'old', 'metabolic', 'gastrointestinal', 'http', 'renal', 'country', 'learning', 'mom', 'uk', 'acute', 'council', 'lifestyles', 'enjoy', 'simple', 'ann', 'term', 'multiple', 'personalized', 'j', 'msc', 'massachusetts', 'products', 'taught', 'presentations', 'centers', 'television', 'regular', 'british', 'lauren', 'contributor', 'status', 'started', 'chair', 'technology', 'meals', 'behavioral', 'fit', 'presbyterian', 'chicago', 'p', 'amy', 'sugar', 'last', 'coordinator', 'communication', 'client', 'always', 'previously', 'disordered', 'top', 'meet', 'susan', 'key', 'allergy', 'making', 'four', 'supplements', 'mind', 'mission', 'following', 'hiking', 'activities', 'attended', 'physicians', 'h', 'trained', 'across', 'recognized', 'courses', 'get', 'age', 'guidance', 'companies', 'balanced', 'times', 'improving', 'managing', 'east', 'adjunct', 'often', 'go', 'sharing', 'student', 'emily', 'adolescent', 'five', 'arizona', 'lisa', 'central', 'back', 'small', 'mindful', 'pm', 'owner', 'beth', 'power', 'athletic', 'breast', 'tv', 'faculty', 'degrees', 'trainer', 'email', 'ontario', 'island', 'risk', 'illinois', 'anne', 'virginia', 'intensive', 'gained', 'office', 'joined', 'image', 'centre', 'anna', 'bodies', 'via', 'treating', 'ibs', 'fat', 'spare', 'position', 'katie', 'made', 'strong', 'events', 'kansas', 'person', 'los', 'connect', 'gut', 'pressure', 'may', 'journey', 'outside', 'manager', 'daily', 'studied', 'runs', 'hypertension', 'creating', 'projects', 'indian', 'consumer', 'evaluation', 'lecturer', 'practitioner', 'activity', 'recovery', 'diabetic', 'prevent', 'physiology', 'easy', 'campus', 'cookbook', 'vancouver', 'interested', 'motivational', 'known', 'organization', 'strategies', 'ways', 'appeared', 'colorado', 'cholesterol', 'adolescents', 'emotional', 'understanding', 'pennsylvania', 'click', 'advisor', 'dedicated', 'importance', 'along', 'karen', 'sessions', 'consults', 'fun', 'impact', 'native', 'australia', 'contact', 'product', 'large', 'tufts', 'stress', 'questions', 'reached', 'experienced', 'cardiac', 'vegan', 'thousands', 'effects', 'counsels', 'realistic', 'hiv', 'park', 'leads', 'trying', 'much', 'ny', 'bowel', 'megan', 'nhs', 'things', 'aspects', 'freelance', 'teams', 'jane', 'menu', 'right', 'order', 'pursuing', 'stephanie', 'led', 'friends', 'jersey', 'john', 'southern', 'advisory', 'please', 'done', 'angeles', 'becoming', 'understand', 'looking', 'usa', 'metabolism', 'wellbeing', 'julie', 'kelly', 'founded', 'linda', 'enjoying', 'philosophy', 'systems', 'licensed', 'comprehensive', 'administration', 'presented', 'assessment', 'traveling', 'senior', 'skills', 'r', 'therapeutic', 'little', 'wisconsin', 'erin', 'takes', 'major', 'studying', 'speaking', 'conducted', 'view', 'beauty', 'registration', 'says', 'contributing', 'latest', 'success', 'nutrient', 'wic', 'solutions', 'protein', 'sees', 'boys', 'org', 'beyond', 'specialized', 'everyday', 'shows', 'marketing', 'chef', 'particular', 'seminars', 'united', 'coaches', 'later', 'results', 'course', 'ryerson', 'teacher', 'behaviors', 'christine', 'educate', 'share', 'beach', 'awarded', 'able', 'nancy', 'size', 'india', 'month', 'formerly', 'va', 'series', 'popular', 'traditional', 'minnesota', 'biology', 'spokesperson', 'hill', 'side', 'foodservice', 'heal', 'saint', 'woman', 'nutritious', 'laura', 'rehabilitation', 'athlete', 'supplement', 'guidelines', 'achieving', 'james', 'creates', 'valley', 'kate', 'fibrosis', 'grocery', 'surgical', 'reading', 'initiatives', 'process', 'toronto', 'canadian', 'africa', 'greater', 'empowering', 'class', 'district', 'maternal', 'infant', 'techniques', 'happy', 'leadership', 'harvard', 'olympic', 'victoria', 'newspapers', 'advanced', 'tools', 'educational', 'commission', 'critical', 'dieting', 'content', 'malnutrition', 'populations', 'responsible', 'barbara', 'created', 'kidney', 'veterans', 'optimum', 'main', 'northern', 'fresh', 'employed', 'continued', 'communities', 'rachel', 'states', 'perspective', 'conferences', 'cystic', 'emphasis', 'allison', 'receiving', 'relations', 'specialty', 'environment', 'closely', 'madison', 'england', 'pain', 'michelle', 'type', 'run', 'lasting', 'recommendations', 'interventions', 'important', 'ashley', 'seven', 'academic', 'contributed', 'specialties', 'successful', 'press', 'minor', 'morning', 'rutgers', 'supports', 'see', 'challenges', 'nationally', 'diane', 'maintain', 'dialysis', 'vegetables', 'action', 'marie', 'diego', 'israel', 'memorial', 'upon', 'style', 'la', 'called', 'understands', 'fertility', 'prenatal', 'awareness', 'regarding', 'francisco', 'however', 'primarily', 'whether', 'dc', 'graduating', 'intolerances', 'teach', 'nutritionists', 'alabama', 'brings', 'maria', 'full', 'pa', 'resource', 'gi', 'owns', 'mental', 'sinai', 'makes', 'testing', 'johnson', 'cleveland', 'pilates', 'jessica', 'symptoms', 'amanda', 'everyone', 'customers', 'kim', 'taking', 'kelsey', 'mon', 'struggling', 'supporting', 'site', 'teens', 'seeking', 'ucla', 'connecticut', 'francis', 'gives', 'weekly', 'line', 'given', 'advocacy', 'manages', 'resources', 'jackie', 'talk', 'allows', 'proper', 'global', 'assist', 'stay', 'approaches', 'organic', 'counselor', 'healthful', 'ability', 'effective', 'empower', 'ph', 'intolerance', 'outreach', 'getting', 'english', 'optimize', 'heather', 'baby', 'strength', 'jamie', 'list', 'economics', 'volunteers', 'interviewing', 'african', 'lifelong', 'intervention', 'gardening', 'son', 'suffering', 'offer', 'nursing', 'big', 'strives', 'diagnosed', 'still', 'jill', 'balancing', 'fodmap', 'together', 'mr', 'researcher', 'melissa', 'g', 'innovative', 'claire', 'nourish', 'berkeley', 'finds', 'outdoors', 'https', 'club', 'named', 'appears', 'physician', 'cal', 'ideas', 'purdue', 'held', 'md', 'pediatrics', 'additionally', 'delaware', 'edge', 'fruits', 'huffington', 'restaurant', 'joseph', 'creative', 'safety', 'art', 'moved', 'followed', 'conference', 'even', 'overcome', 'market', 'sensitivities', 'inflammatory', 'ingredients', 'check', 'elite', 'cycling', 'raw', 'usda', 'infants', 'exploring', 'marathon', 'unit', 'promotes', 'develops', 'serving', 'assists', 'animal', 'assistant', 'growing', 'garden', 'wife', 'competitive', 'syracuse', 'pregnant', 'coordinated', 'table', 'tech', 'calorie', 'behind', 'technical', 'analysis', 'highly', 'carol', 'kentucky', 'head', 'daughter', 'daughters', 'mount', 'lindsay', 'green', 'starting', 'joy', 'comes', 'indiana', 'dana', 'population', 'partners', 'nicole', 'gastroenterology', 'houston', 'everything', 'pcos', 'favorite', 'ranging', 'nj', 'creator', 'inflammation', 'tennessee', 'continuing', 'used', 'shape', 'interviews', 'tours', 'methods', 'page', 'seen', 'originally', 'among', 'consumers', 'travel', 'aids', 'customized', 'address', 'learned', 'specialises', 'principles', 'austin', 'excited', 'bastyr', 'irritable', 'lynn', 'avid', 'know', 'specialization', 'trust', 'newyork', 'fellowship', 'set', 'continues', 'want', 'selling', 'marathons', 'loma', 'cincinnati', 'therapies', 'rebecca', 'photography', 'almost', 'keep', 'decided', 'store', 'directors', 'kinesiology', 'relevant', 'step', 'executive', 'doctorate', 'start', 'metropolitan', 'leader', 'security', 'born', 'talks', 'combined', 'earning', 'article', 'forward', 'vincent', 'girls', 'andrea', 'girl', 'summer', 'experts', 'grew', 'associated', 'successfully', 'eastern', 'saskatchewan', 'visited', 'george', 'journals', 'programmes', 'outcomes', 'giving', 'denver', 'alberta', 'possible', 'sat', 'dairy', 'fuel', 'positions', 'column', 'failure', 'friendly', 'superfoods', 'aging', 'bariatrics', 'acids', 'biochemistry', 'included', 'quoted', 'david', 'conducts', 'monthly', 'louis', 'cutting', 'feed', 'blogger', 'managed', 'advocate', 'teachers', 'building', 'ca', 'supervised', 'w', 'changing', 'dogs', 'relationships', 'biking', 'demonstrations', 'actively', 'sound', 'combining', 'hundreds', 'runner', 'janel', 'truly', 'men', 'wrote', 'websites', 'nationwide', 'hand', 'materials', 'eaters', 'winning', 'salt', 'mothers', 'provider', 'charge', 'fast', 'genetic', 'montana', 'happier', 'allied', 'transplant', 'dallas', 'collegiate', 'residents', 'weill', 'podcast', 'louisiana', 'guides', 'facilities', 'design', 'case', 'playing', 'form', 'corporation', 'initiative', 'monica', 'preventing', 'cross', 'liver', 'wholesome', 'concentration', 'janet', 'angela', 'thrive', 'mindfulness', 'fellow', 'u', 'honours', 'provincial', 'retail', 'cardiology', 'foodie', 'hopes', 'facility', 'web', 'extensively', 'addressing', 'video', 'treats', 'guided', 'fatty', 'vermont', 'davis', 'doctoral', 'enhance', 'combines', 'chapel', 'vast', 'shore', 'open', 'recipient', 'beverage', 'oklahoma', 'privately', 'pinterest', 'fruit', 'employee', 'reduce', 'increase', 'countries', 'ago', 'blogging', 'schedule', 'didactic', 'access', 'elderly', 'insulin', 'counseled', 'mercy', 'audiences', 'discovered', 'natal', 'nyc', 'additional', 'nourishing', 'accomplished', 'chapter', 'peer', 'improvement', 'lover', 'second', 'implementation', 'newsletter', 'cnn', 'reduction', 'accredited', 'inspire', 'neonatal', 'enteral', 'force', 'print', 'maintains', 'next', 'dietician', 'six', 'trends', 'deborah', 'less', 'point', 'benefits', 'educates', 'composition', 'melinda', 'pittsburgh', 'oil', 'sydney', 'breastfeeding', 'host', 'fish', 'discover', 'collaboration', 'internal', 'sharon', 'brigham', 'offering', 'half', 'incorporate', 'rose', 'focusing', 'mass', 'exclusively', 'graduation', 'preventative', 'de', 'centered', 'production', 'meditation', 'kathryn', 'denise', 'efforts', 'partner', 'alyssa', 'paediatric', 'empowers', 'assessments', 'sara', 'julia', 'feeling', 'internationally', 'yale', 'singapore', 'ensure', 'date', 'farm', 'model', 'timings', 'jenna', 'nagar', 'inr', 'firm', 'married', 'identify', 'treat', 'anti', 'amazon', 'luis', 'uc', 'papers', 'penn', 'universities', 'fall', 'spends', 'frequently', 'appearances', 'oz', 'f', 'particularly', 'shopping', 'au', 'sodexo', 'easily', 'missouri', 'nearly', 'decade', 'kristen', 'reviewed', 'finding', 'losing', 'build', 'portion', 'italian', 'independent', 'committed', 'realized', 'binge', 'move', 'could', 'freedom', 'ever', 'contributes', 'months', 'frequent', 'katherine', 'light', 'ten', 'paper', 'soccer', 'flexible', 'stage', 'fields', 'roles', 'survivors', 'meat', 'would', 'bestselling', 'inspiring', 'pharmaceutical', 'environmental', 'emerging', 'johns', 'hopkins', 'end', 'gmail', 'test', 'alongside', 'means', 'preparing', 'plate', 'zealand', 'previous', 'mountain', 'mayo', 'matters', 'hands', 'advising', 'instead', 'reviews', 'athletics', 'conventional', 'rotations', 'pamela', 'close', 'consulted', 'regain', 'leslie', 'cultural', 'recent', 'version', 'cleansing', 'designed', 'week', 'coordinates', 'sizes', 'history', 'baking', 'assistance', 'look', 'introduction', 'endurance', 'businesses', 'supermarket', 'ill', 'excellence', 'danielle', 'complex', 'amherst', 'motivation', 'necessary', 'receive', 'practitioners', 'returned', 'moving', 'maine', 'jewish', 'encourages', 'translating', 'cambridge', 'wales', 'map', 'anorexia', 'bulimia', 'give', 'donna', 'resides', 'culture', 'utah', 'programme', 'source', 'autoimmune', 'pc', 'water', 'implementing', 'modification', 'consultancy', 'ultimate', 'morgan', 'miami', 'spring', 'debbie', 'alternative', 'nature', 'authority', 'opportunity', 'visiting', 'messages', 'track', 'nd', 'iowa', 'maintaining', 'locations', 'going', 'clean', 'collaborative', 'boulder', 'holly', 'dublin', 'christina', 'french', 'knows', 'mississippi', 'profit', 'charity', 'true', 'arkansas', 'personalised', 'autism', 'hyderabad', 'postgraduate', 'taste', 'toward', 'agriculture', 'enjoyed', 'road', 'hannah', 'cases', 'dog', 'horses', 'zone', 'due', 'play', 'matt', 'older', 'array', 'colleges', 'santa', 'really', 'hours', 'maintenance', 'anthropology', 'dina', 'valuable', 'chemotherapy', 'caroline', 'never', 'mediterranean', 'speaks', 'government', 'explore', 'released', 'struggles', 'manhattan', 'affairs', 'triathlon', 'cookbooks', 'cbs', 'watching', 'prepare', 'williams', 'edition', 'recreational', 'friedman', 'corporations', 'outlets', 'connection', 'columnist', 'infertility', 'chocolate', 'units', 'lunch', 'alison', 'dining', 'videos', 'presents', 'homes', 'gardens', 'milk', 'short', 'prestigious', 'awards', 'needed', 'condition', 'located', 'v', 'application', 'chemistry', 'ayurvedic', 'calories', 'launched', 'fatigue', 'intern', 'di', 'nevada', 'protocols', 'review', 'guiding', 'supportive', 'tucson', 'outdoor', 'grown', 'overweight', 'polycystic', 'accurate', 'rich', 'ba', 'detox', 'lot', 'enjoyable', 'female', 'buffalo', 'whose', 'certifications', 'oregon', 'trail', 'cell', 'delivery', 'cheryl', 'parent', 'skiing', 'reserve', 'cdn', 'meeting', 'counsel', 'sought', 'presenting', 'environments', 'september', 'brittany', 'drexel', 'factors', 'tasty', 'influence', 'curriculum', 'extension', 'integrated', 'platforms', 'brands', 'motivate', 'got', 'common', 'parenteral', 'providence', 'intake', 'allowed', 'clinician', 'skype', 'seattle', 'geriatric', 'catering', 'kaiser', 'adventures', 'looks', 'counting', 'georgia', 'newsletters', 'bring', 'lower', 'presently', 'tennis', 'publication', 'restaurants', 'rhode', 'third', 'margaret', 'stony', 'brook', 'message', 'ethnic', 'fl', 'leah', 'crohn', 'patricia', 'ireland', 'coast', 'nashville', 'imbalances', 'melanie', 'cape', 'multi', 'personally', 'kristin', 'finishing', 'mainly', 'menus', 'oversees', 'blue', 'diversity', 'spirit', 'participated', 'though', 'increasing', 'serve', 'twenty', 'bc', 'anxiety', 'tara', 'sun', 'angie', 'future', 'wanted', 'street', 'involves', 'inspired', 'aaron', 'ketogenic', 'thesis', 'healthiest', 'smart', 'rehab', 'asia', 'steps', 'monitoring', 'directions', 'standards', 'encourage', 'members', 'benefit', 'delivering', 'helen', 'manitoba', 'swimming', 'fees', 'boy', 'star', 'skilled', 'psychological', 'conjunction', 'poly', 'obispo', 'charlotte', 'offered', 'markets', 'conducting', 'name', 'posts', 'animals', 'sue', 'coalition', 'alliance', 'options', 'yo', 'pounds', 'veggies', 'readers', 'designing', 'providers', 'federal', 'proud', 'operates', 'paul', 'dense', 'struggle', 'title', 'vegetable', 'outpatients', 'molly', 'triathlons', 'effect', 'jack', 'incorporating', 'wants', 'affiliate', 'soil', 'house', 'practising', 'finally', 'fight', 'hosts', 'performing', 'volunteering', 'left', 'resident', 'appropriate', 'hockey', 'diagnosis', 'raise', 'hunter', 'gastric', 'wine', 'red', 'races', 'mineral', 'weaning', 'plays', 'join', 'multidisciplinary', 'incorporates', 'allen', 'adviser', 'dealing', 'clemson', 'charleston', 'massage', 'excellent', 'treated', 'lies', 'features', 'implemented', 'premier', 'royal', 'lung', 'word', 'patterns', 'highest', 'depression', 'golf', 'walking', 'supervisor', 'op', 'devoted', 'significant', 'bar', 'nourishment', 'credentials', 'endocrinology', 'eight', 'basic', 'affected', 'northwest', 'annual', 'opportunities', 'residential', 'youth', 'channel', 'interns', 'cssd', 'fully', 'lake', 'navigate', 'covered', 'associations', 'qualified', 'come', 'muscle', 'hope', 'region', 'cum', 'laude', 'boards', 'naturopathic', 'path', 'laurie', 'implement', 'hematology', 'engaging', 'optimizing', 'lipscomb', 'cuisine', 'river', 'monday', 'covers', 'subject', 'sector', 'spectrum', 'talking', 'parenting', 'kathy', 'bank', 'informed', 'effectively', 'preceptor', 'mrs', 'authors', 'lab', 'rdn', 'regulatory', 'simmons', 'combination', 'nyu', 'vitamins', 'improved', 'anything', 'varied', 'place', 'mandy', 'thriving', 'atlantic', 'chief', 'courtney', 'vanderbilt', 'aramark', 'joanna', 'option', 'lori', 'erica', 'educators', 'literature', 'ali', 'renowned', 'indianapolis', 'milwaukee', 'sam', 'confident', 'competed', 'hormonal', 'modifications', 'medications', 'feels', 'stories', 'utilizing', 'outstanding', 'march', 'showing', 'delivers', 'dawn', 'robert', 'operations', 'jo', 'aimed', 'middle', 'put', 'roberts', 'triathlete', 'advocating', 'lived', 'philadelphia', 'keen', 'november', 'postnatal', 'policies', 'entrepreneurs', 'amazing', 'swine', 'therapist', 'consult', 'illnesses', 'customised', 'chart', 'titled', 'lybrate', 'apply', 'sleep', 'brain', 'brown', 'restrictive', 'encouraging', 'value', 'farmer', 'space', 'hospitalization', 'ate', 'mobile', 'negative', 'winter', 'april', 'info', 'deliver', 'trainings', 'obtaining', 'partial', 'games', 'satter', 'utilizes', 'natalie', 'ignou', 'taken', 'naturopathy', 'como', 'reader', 'naturally', 'hamilton', 'proven', 'carb', 'peruvian', 'sr', 'passions', 'ut', 'july', 'herald', 'glamour', 'coastal', 'tanya', 'adventure', 'wood', 'visits', 'shawn', 'distance', 'tampa', 'bay', 'mail', 'deficiencies', 'division', 'brooklyn', 'directly', 'confidence', 'net', 'travels', 'queens', 'consumption', 'constantly', 'ellen', 'bronx', 'competing', 'powerful', 'headquarters', 'tool', 'hobbies', 'participants', 'kathleen', 'fox', 'programming', 'anthony', 'princeton', 'behaviour', 'believer', 'involvement', 'player', 'assisted', 'nbc', 'appetite', 'sometimes', 'concern', 'rice', 'workshop', 'recommended', 'powered', 'vitamin', 'topic', 'babies', 'challenge', 'stroke', 'theory', 'chinese', 'stone', 'problem', 'comments', 'protected', 'arthritis', 'eve', 'beef', 'du', 'credential', 'conditioning', 'reverse', 'panel', 'entitled', 'educated', 'representative', 'interview', 'took', 'maximize', 'christian', 'ben', 'amateur', 'cost', 'inborn', 'errors', 'coordination', 'elementary', 'tina', 'champion', 'permanent', 'cyclist', 'disabilities', 'values', 'lactation', 'cedars', 'preventive', 'compassionate', 'epidemiology', 'require', 'break', 'diagnoses', 'specifically', 'grant', 'supported', 'endometriosis', 'explains', 'kay', 'pro', 'newspaper', 'cooked', 'method', 'farmers', 'serious', 'assisting', 'investigating', 'potential', 'duke', 'nurses', 'juice', 'birth', 'solution', 'matter', 'sales', 'dinners', 'stop', 'yet', 'worth', 'shannon', 'simply', 'tx', 'hard', 'category', 'stacey', 'spanish', 'sense', 'ross', 'discovery', 'aimee', 'workplace', 'complications', 'caring', 'locally', 'bone', 'moms', 'nervosa', 'opened', 'normal', 'individually', 'write', 'sons', 'professionally', 'picky', 'lewis', 'nutrients', 'permanente', 'aspect', 'colleen', 'teresa', 'listed', 'according', 'hour', 'quickly', 'studio', 'raising', 'rather', 'capacities', 'dynamic', 'marcia', 'debra', 'colitis', 'amount', 'richmond', 'desire', 'brooke', 'calgary', 'olympics', 'thyroid', 'town', 'abroad', 'researching', 'loyola', 'attention', 'collaborating', 'globe', 'spreading', 'record', 'players', 'committees', 'spend', 'funding', 'cookery', 'adam', 'ruth', 'brianna', 'tastes', 'might', 'jean', 'rocky', 'jones', 'leeds', 'came', 'wound', 'soul', 'earn', 'analyses', 'digestion', 'enthusiasm', 'pursuit', 'cause', 'mba', 'lorna', 'celebrities', 'trauma', 'decades', 'gestational', 'injury', 'overseas', 'agencies', 'volunteer', 'manual', 'mcgill', 'causes', 'belongs', 'backgrounds', 'motivated', 'illness', 'plus', 'mountains', 'hartford', 'nour', 'abuse', 'osmania', 'contribute', 'surrey', 'adhd', 'root', 'result', 'philippines', 'med', 'mood', 'chandigarh', 'apple', 'moderation', 'pursue', 'surrounding', 'cultivate', 'emergency', 'sri', 'hospitality', 'meaningful', 'recover', 'couples', 'kenya', 'wendy', 'competition', 'days', 'hotel', 'trial', 'basketball', 'dissertation', 'screening', 'symposium', 'heidi', 'pune', 'maintained', 'continue', 'manudevi', 'cristel', 'dwarka', 'backgrounding', 'honor', 'peers', 'newly', 'allowing', 'emphasizes', 'present', 'holiday', 'scientist', 'majority', 'extra', 'abc', 'partnership', 'factor', 'linkedin', 'disciplines', 'enable', 'affiliated', 'undergone', 'insights', 'coca', 'cola', 'beta', 'dangerous', 'seller', 'ice', 'trusted', 'worksite', 'addresses', 'puts', 'kati', 'livestock', 'brenda', 'guelph', 'ottawa', 'answers', 'vegetarians', 'addiction', 'hungry', 'winthrop', 'coming', 'said', 'nothing', 'something', 'importantly', 'resistance', 'changed', 'widely', 'covering', 'mason', 'impacts', 'transform', 'networks', 'pet', 'aol', 'jen', 'institutions', 'lawrence', 'koff', 'enthusiast', 'reproductive', 'june', 'limited', 'requiring', 'stacy', 'considering', 'wise', 'carried', 'participates', 'beverly', 'hills', 'stars', 'walks', 'bike', 'ethics', 'vegetarianism', 'job', 'response', 'calcium', 'newborn', 'aspen', 'weeks', 'clinicians', 'chapters', 'task', 'hospitalized', 'attending', 'journalism', 'king', 'carolyn', 'genetics', 'founding', 'presenter', 'toddler', 'physically', 'surgeons', 'travelled', 'herbal', 'lost', 'eczema', 'applying', 'birmingham', 'sweet', 'fargo', 'trainers', 'gave', 'fibromyalgia', 'played', 'justine', 'des', 'tistes', 'qu', 'bec', 'official', 'idiot', 'stevens', 'sensitivity', 'fad', 'publishes', 'southeast', 'producers', 'cattle', 'per', 'ovary', 'literacy', 'drive', 'coconut', 'framingham', 'army', 'creation', 'minority', 'acsm', 'cde', 'vibrant', 'collaboratively', 'mph', 'survivor', 'handbook', 'practicum', 'nih', 'extraordinary', 'janelle', 'component', 'camps', 'emory', 'consultants', 'deaconess', 'face', 'editorial', 'aims', 'shayne', 'officer', 'let', 'campaign', 'preparation', 'triathletes', 'runners', 'slow', 'flavor', 'visual', 'tailored', 'alike', 'industries', 'modalities', 'soon', 'choice', 'choose', 'directed', 'ministry', 'underlying', 'gerd', 'skin', 'poor', 'aiming', 'professions', 'employees', 'marshall', 'higher', 'dual', 'experimenting', 'luke', 'alaska', 'winner', 'avoid', 'perform', 'cognitive', 'designation', 'ucsf', 'vitality', 'transformational', 'trains', 'sunny', 'mi', 'tri', 'canyon', 'ranch', 'dentistry', 'credentialed', 'subscribe', 'room', 'sign', 'fermentation', 'white', 'cover', 'deep', 'respected', 'colleagues', 'hormone', 'concepts', 'lectured', 'employs', 'circle', 'rights', 'connections', 'tasting', 'completion', 'equine', 'carrie', 'supplementation', 'bio', 'strategy', 'podcasts', 'minerals', 'crystal', 'th', 'sodium', 'fueling', 'dynamics', 'wayne', 'woods', 'forum', 'bite', 'chiropractic', 'sick', 'joanne', 'fund', 'npi', 'figure', 'piece', 'pr', 'linked', 'funded', 'hunt', 'esther', 'broad', 'portland', 'bauman', 'webinars', 'bowling', 'breaking', 'forms', 'en', 'savvy', 'lessons', 'performed', 'pllc', 'restriction', 'longevity', 'dee', 'examining', 'offices', 'packed', 'abstracts', 'ranked', 'cindy', 'biomedical', 'sister', 'likes', 'powers', 'goodman', 'publishing', 'relating', 'accessible', 'championship', 'skating', 'paralympic', 'gurgaon', 'samantha', 'constance', 'inspires', 'cure', 'period', 'father', 'ultimately', 'calling', 'sheena', 'tries', 'versed', 'adams', 'gymnastics', 'software', 'william', 'marian', 'reynolds', 'shani', 'entrepreneur', 'southwest', 'lehman', 'assessing', 'peggy', 'sanford', 'attitudes', 'wonderful', 'asian', 'heritage', 'another', 'dishes', 'porter', 'motivates', 'kira', 'cycle', 'monique', 'designs', 'wordpress', 'nephrology', 'newark', 'allergic', 'fair', 'festival', 'strategic', 'chennai', 'watson', 'institutes', 'suzanne', 'maureen', 'sporting', 'duties', 'ironman', 'clark', 'esteem', 'neurological', 'ellyn', 'elaine', 'developer', 'coeliac', 'trials', 'income', 'jacqui', 'developmental', 'raised', 'extends', 'gemma', 'hall', 'contributions', 'prostate', 'empowerment', 'meg', 'crossfit', 'data', 'obese', 'wanting', 'atlanta', 'acquired', 'considers', 'sheri', 'thought', 'integration', 'profession', 'nation', 'peace', 'movement', 'undergoing', 'neck', 'shoprite', 'ovarian', 'seeing', 'pacific', 'acts', 'sally', 'mid', 'insecurity', 'basis', 'essential', 'spans', 'melbourne', 'lucy', 'translate', 'clientele', 'scientifically', 'disparities', 'leaders', 'sage', 'extremely', 'limits', 'punjab', 'engage', 'firmly', 'purpose', 'difficult', 'itunes', 'charts', 'strongly', 'eats', 'recreation', 'cardio', 'fortunate', 'districts', 'confusing', 'volunteered', 'mum', 'app', 'nam', 'ubc', 'joins', 'myths', 'jenny', 'brand', 'evening', 'starts', 'kylie', 'engagement', 'fulfilling', 'sparked', 'queensland', 'stellenbosch', 'northeastern', 'acceptance', 'survivorship', 'lean', 'sari', 'navi', 'abigail', 'fighting', 'stand', 'greek', 'hampshire', 'leaving', 'rooted', 'manipal', 'target', 'liaison', 'alone', 'reaching', 'deals', 'cultures', 'marissa', 'qualifications', 'interactive', 'perfect', 'protection', 'hunger', 'sudan', 'china', 'guru', 'inspiration', 'anita', 'principal', 'knowing', 'asset', 'established', 'greece', 'racing', 'diana', 'manner', 'gold', 'valerie', 'total', 'slimming', 'fri', 'rajasthan', 'sndt', 'clock', 'bringing', 'rhitrition', 'prachi', 'thane', 'aoibheann', 'obtain', 'safe', 'oral', 'neocate', 'sub', 'bams', 'bangalore', 'workout', 'sammi', 'seema', 'responsibilities', 'shambhala', 'newton', 'midwest', 'nebraska', 'welcomes', 'bonnie', 'friday', 'ref', 'reboot', 'supercharge', 'fullerton', 'mt', 'antonio', 'ana', 'seasonal', 'quick', 'double', 'ball', 'unc', 'sit', 'exam', 'clubs', 'fan', 'greensboro', 'malone', 'format', 'hosting', 'onto', 'nutritionals', 'rations', 'efficiency', 'costs', 'stick', 'cravings', 'drop', 'reasons', 'frozen', 'outcome', 'marisa', 'mostly', 'chain', 'send', 'milton', 'vulnerable', 'convenience', 'processed', 'cheese', 'teenage', 'overeating', 'rock', 'hobby', 'davita', 'cuny', 'box', 'tight', 'budget', 'aware', 'constant', 'lily', 'elise', 'nurse', 'greatly', 'martha', 'instrumental', 'ethiopia', 'dozens', 'processes', 'introduce', 'al', 'hyperlipidemia', 'lifespan', 'cats', 'win', 'answer', 'oprah', 'redbook', 'lifetime', 'canadians', 'dummies', 'amino', 'driven', 'encouraged', 'happiness', 'herbs', 'spoken', 'hundred', 'bypass', 'cooks', 'stays', 'location', 'aicr', 'eighteen', 'columns', 'notes', 'aspiring', 'rugby', 'beer', 'favourite', 'jacqueline', 'irving', 'superkids', 'hit', 'tonight', 'situation', 'man', 'thinks', 'trace', 'immune', 'kept', 'broadcast', 'abundance', 'earth', 'consuming', 'enough', 'section', 'planner', 'editions', 'arbor', 'eatright', 'proceedings', 'comparative', 'journalist', 'race', 'northridge', 'function', 'homeopathic', 'graham', 'therapists', 'insight', 'fiction', 'spicy', 'creators', 'gymnast', 'eventually', 'radionutrition', 'insurance', 'romaine', 'celebrity', 'bestseller', 'sainte', 'ordre', 'professionnel', 'therefore', 'msnbc', 'healthfully', 'prince', 'chemical', 'gretchen', 'sarasota', 'cancers', 'recurrence', 'vascular', 'compared', 'versus', 'grains', 'maximizing', 'entire', 'supplemental', 'gaining', 'youngstown', 'homeless', 'grandchildren', 'lack', 'bars', 'added', 'artificial', 'sweeteners', 'adopting', 'maryann', 'organized', 'sponsored', 'modified', 'glycemic', 'index', 'tertiary', 'interned', 'castle', 'nutritionally', 'error', 'reilly', 'polytechnic', 'direct', 'isak', 'baptist', 'kitchens', 'eatingwell', 'ambulatory', 'camp', 'golden', 'congenital', 'bidmc', 'daniel', 'qualitative', 'freelancer', 'responses', 'reported', 'yogi', 'basics', 'segments', 'links', 'affiliations', 'barry', 'irish', 'produce', 'minutes', 'original', 'must', 'packaged', 'meghan', 'revolution', 'faced', 'commitment', 'energetic', 'reiki', 'kennedy', 'kimberly', 'omega', 'example', 'kid', 'supermarkets', 'maggie', 'principals', 'osnpph', 'nts', 'workgroup', 'tweet', 'ii', 'migraines', 'begin', 'spread', 'severe', 'epilepsy', 'natalia', 'vending', 'dysphagia', 'pursued', 'instruction', 'joan', 'teenagers', 'breakfast', 'kris', 'explored', 'tracy', 'jr', 'jacob', 'disability', 'relocating', 'adds', 'stores', 'venture', 'facilitating', 'rowing', 'competes', 'durham', 'palo', 'alto', 'lenox', 'evaluate', 'gastroparesis', 'grow', 'juicing', 'sunnybrook', 'mexico', 'printed', 'cotton', 'finish', 'urban', 'understood', 'elect', 'preferences', 'vaidya', 'michael', 'places', 'wednesday', 'realize', 'finished', 'anabolic', 'steroids', 'properly', 'sharma', 'ochsner', 'fourth', 'ballet', 'advisors', 'feldman', 'laake', 'temple', 'launch', 'coauthored', 'deepak', 'workouts', 'departments', 'effort', 'livestrong', 'attends', 'andrew', 'bob', 'upstate', 'twin', 'believe', 'tracey', 'dignity', 'mindy', 'diller', 'fischer', 'bradford', 'penny', 'montclair', 'percent', 'report', 'dark', 'venues', 'sweetapple', 'westchester', 'psychiatry', 'agency', 'ray', 'caregivers', 'customer', 'thrilled', 'october', 'reliant', 'altru', 'montefiore', 'spiritual', 'el', 'connie', 'summit', 'italy', 'devrie', 'contacted', 'peakscoachinggroup', 'ehow', 'phoenix', 'drug', 'charles', 'fairview', 'relates', 'monash', 'bread', 'corinne', 'glass', 'jacque', 'drew', 'strengths', 'springs', 'editing', 'views', 'chester', 'walker', 'sure', 'thomas', 'amongst', 'wealth', 'genesis', 'epidemiological', 'jacksonville', 'miriam', 'god', 'dena', 'hair', 'carissa', 'judgment', 'clear', 'baylor', 'grace', 'flavorful', 'blend', 'putting', 'csu', 'lindsey', 'pomona', 'hook', 'pku', 'gobble', 'fns', 'effectiveness', 'secretary', 'facts', 'aperture', 'creations', 'busting', 'reversal', 'drugs', 'engages', 'lalevee', 'collaborated', 'dessert', 'teas', 'erika', 'aromatherapy', 'craft', 'wilmington', 'childcare', 'workers', 'stokes', 'soup', 'krista', 'northwestern', 'taylor', 'incorporated', 'pathway', 'symptom', 'carla', 'bloomington', 'gov', 'deal', 'researched', 'candidate', 'usually', 'jason', 'initially', 'creativity', 'sold', 'lauri', 'emotions', 'integrates', 'transformation', 'suburban', 'blogspot', 'margarita', 'scan', 'environmentally', 'crop', 'maximum', 'xavier', 'overland', 'rocco', 'gp', 'pharmaceuticals', 'rajni', 'hillary', 'farber', 'schmidt', 'albert', 'shane', 'joni', 'fear', 'ucl', 'swimmer', 'jdc', 'methodist', 'margot', 'requirements', 'facilitates', 'jois', 'haley', 'preaches', 'salmon', 'restrictions', 'producer', 'specialised', 'sportsmen', 'larisa', 'account', 'sacramento', 'tricks', 'segment', 'entering', 'coffee', 'sauce', 'demos', 'kroger', 'remains', 'distribution', 'lecturing', 'psychotherapy', 'terri', 'poultry', 'tyson', 'feeds', 'succeed', 'hum', 'considerable', 'seniors', 'peninsula', 'largest', 'harley', 'evelyn', 'beginning', 'recovering', 'icu', 'pritchard', 'church', 'fats', 'listening', 'strengthen', 'tackle', 'lnznutrition', 'hyperactivity', 'substance', 'lucknow', 'pantry', 'follows', 'handling', 'attain', 'shop', 'december', 'socioeconomic', 'libby', 'gyms', 'respect', 'types', 'increased', 'direction', 'pictures', 'paula', 'cert', 'sensitive', 'psychiatric', 'story', 'proclaimed', 'adrienne', 'distinguished', 'painting', 'crafting', 'formal', 'gifts', 'anyone', 'faith', 'nc', 'cf', 'demands', 'sheila', 'hosted', 'spirituality', 'worldwide', 'ne', 'carbohydrate', 'fortis', 'kolkata', 'handled', 'qua', 'fulfilled', 'sondi', 'embrace', 'presentation', 'complimentary', 'misinformation', 'although', 'collective', 'bon', 'political', 'alive', 'myanmar', 'viet', 'adolescence', 'appreciates', 'deb', 'ob', 'dozen', 'trx', 'goes', 'terms', 'il', 'majoring', 'pg', 'aim', 'label', 'strive', 'collaborates', 'air', 'introducing', 'gourmet', 'postdoctoral', 'saskatoon', 'keeps', 'membership', 'chance', 'computer', 'ific', 'vice', 'foster', 'injuries', 'cheat', 'nutri', 'cedar', 'doubts', 'cleanse', 'concentrating', 'sociology', 'facing', 'shapes', 'involving', 'glasgow', 'institution', 'ran', 'panvel', 'carole', 'tofu', 'baseball', 'determined', 'empowered', 'encouragement', 'garrett', 'assesses', 'ambassador', 'evaluating', 'anderson', 'marks', 'judy', 'complementary', 'regarded', 'holder', 'met', 'modern', 'reconnect', 'custom', 'stems', 'crafts', 'longer', 'integrating', 'contains', 'julieanna', 'vanessa', 'dakotah', 'sectors', 'roots', 'emphasizing', 'bespiced', 'youtube', 'oak', 'lydia', 'civil', 'adequate', 'tomorrow', 'ryt', 'neurology', 'globally', 'bradley', 'remember', 'block', 'selected', 'investigator', 'cassie', 'drives', 'martin', 'manufacturing', 'commercial', 'europe', 'interesting', 'ready', 'processing', 'download', 'grad', 'mindset', 'issue', 'mat', 'honored', 'osher', 'toni', 'hons', 'coursework', 'trobe', 'tele', 'talents', 'priyanka', 'discuss', 'theraphy', 'military', 'exercises', 'saturday', 'ferdeela', 'jaipur', 'patti', 'considered', 'fascinated', 'hemodialysis', 'elisa', 'refugees', 'approved', 'anthem', 'andheri', 'sloan', 'kettering', 'janice', 'tamra', 'availability', 'sustain', 'singh', 'dieticians', 'rochester', 'ease', 'hilmar', 'interdisciplinary', 'fundamental', 'mn', 'amritsar', 'apollo', 'rao', 'gandhi', 'lougheed', 'already', 'ingredient', 'nutrifoodie', 'uttam', 'thing', 'kanpur', 'taryn', 'daniella', 'etsy', 'bhms', 'bean', 'swati', 'costa', 'rica', 'dylan', 'para', 'fitbit', 'hold', 'calves', 'growth', 'multimodal', 'kara', 'travelling', 'evaluations', 'dfid', 'bgsu', 'klara', 'smiley', 'mixabar', 'elly', 'dianne', 'scheinberg', 'bosse', 'fredericksburg', 'mailed', 'lifecycle', 'facilitator', 'craving', 'nola', 'drink', 'bock', 'prescribed', 'inches', 'secrets', 'dp', 'ie', 'utf', 'qid', 'newest', 'detoxify', 'energize', 'suggestions', 'season', 'patents', 'steve', 'phinney', 'laboratories', 'stanford', 'required', 'beginner', 'exercisers', 'dtour', 'rodale', 'distributed', 'keri', 'sirius', 'xm', 'fiber', 'kayaking', 'nikki', 'relate', 'understandable', 'dello', 'junior', 'league', 'summary', 'answered', 'tremendous', 'radiation', 'rate', 'webmd', 'keeping', 'montgomery', 'cynthia', 'rangers', 'nhl', 'buys', 'wall', 'prescribing', 'subjects', 'film', 'unlimited', 'granite', 'intended', 'diagnose', 'reducing', 'micronutrient', 'celinal', 'ronni', 'concerning', 'managers', 'france', 'toby', 'meats', 'frybread', 'learns', 'sheep', 'forage', 'lane', 'consequences', 'kelowna', 'communicate', 'gale', 'lafayette', 'placed', 'bake', 'existing', 'cori', 'discussions', 'launching', 'explained', 'experiment', 'money', 'bates', 'acutely', 'bant', 'jeni', 'majored', 'listing', 'aid', 'structured', 'seton', 'brianne', 'ymca', 'concept', 'implements', 'lancaster', 'nine', 'richer', 'tier', 'stations', 'cdr', 'tao', 'acupuncture', 'kristie', 'mini', 'sonoma', 'reid', 'rebekah', 'pioneered', 'hay', 'kymythy', 'vincci', 'hoping', 'addict', 'laughter', 'themed', 'tomatoes', 'tribune', 'skepticamp', 'thinking', 'references', 'instills', 'correct', 'suit', 'resulting', 'umdnj', 'macrobiotic', 'library', 'demonstration', 'doug', 'wiley', 'creatine', 'dara', 'specialising', 'trisha', 'northeast', 'roosevelt', 'reality', 'translational', 'hollywood', 'executives', 'biggest', 'ultra', 'iron', 'trina', 'rewarding', 'accomplishment', 'cosmopolitan', 'alternatives', 'methodology', 'newborns', 'hirsch', 'beard', 'nutrigenomics', 'discipline', 'species', 'survival', 'zoo', 'focusses', 'overcoming', 'ride', 'train', 'twice', 'athens', 'holding', 'thefoodcoachblog', 'orthopedic', 'psychic', 'european', 'herbalism', 'shamanism', 'chiropractors', 'asthma', 'burgers', 'syndicate', 'drawing', 'moment', 'mushroom', 'becky', 'ada', 'lady', 'tiger', 'captain', 'interim', 'admitted', 'adamson', 'pomroy', 'chose', 'chu', 'samah', 'encompasses', 'comment', 'snack', 'ncaa', 'reno', 'vicki', 'lap', 'band', 'happily', 'rheumatoid', 'calls', 'npuap', 'incarnate', 'station', 'listeners', 'hogan', 'jim', 'mclean', 'placement', 'az', 'relaxing', 'camping', 'maricopa', 'ownership', 'hiker', 'grandmother', 'purchased', 'buy', 'corn', 'price', 'clarify', 'decisions', 'golda', 'hawthorn', 'engineering', 'nonprofit', 'wisdom', 'profile', 'pertaining', 'immigrant', 'competency', 'adventist', 'jeanne', 'endocrine', 'siu', 'npr', 'esme', 'pasadena', 'efficiently', 'lanah', 'satisfying', 'confidently', 'surveillance', 'contributors', 'anthropometrist', 'described', 'chia', 'seeds', 'ecu', 'reporter', 'introduced', 'leffler', 'paid', 'fact', 'karie', 'sussex', 'mills', 'ccp', 'republic', 'ex', 'instructors', 'bellevue', 'undergrad', 'krieger', 'least', 'ntrn', 'spinning', 'dinner', 'appealing', 'appeal', 'metro', 'pbs', 'labels', 'riding', 'flower', 'bicycle', 'adventuring', 'meghantelpner', 'continual', 'healthbarn', 'facets', 'netherlands', 'ayurveda', 'detoxification', 'keith', 'disney', 'perspectives', 'discussing', 'thirst', 'transitioned', 'alter', 'adjustments', 'surroundings', 'nuts', 'pazder', 'inova', 'nicu', 'enthusiastic', 'cafe', 'healthykids', 'portions', 'mahnke', 'intellectual', 'text', 'watch', 'rodriguez', 'seminar', 'sequence', 'elected', 'profits', 'dakota', 'thailand', 'malaysia', 'hawaii', 'unusual', 'vaughan', 'tonic', 'vrg', 'suffer', 'denton', 'highland', 'village', 'diabetics', 'amounts', 'ace', 'casein', 'falls', 'pilot', 'useful', 'nfl', 'cafes', 'square', 'upbringing', 'credibility', 'claims', 'beneficial', 'mentioned', 'brief', 'coverage', 'typically', 'uncomplicated', 'rogers', 'shannonkadlovski', 'ultrarunning', 'convention', 'nike', 'photo', 'analyze', 'brothers', 'eric', 'internist', 'tamara', 'ibd', 'fructose', 'rigorous', 'grain', 'beat', 'bites', 'queen', 'hunting', 'rancho', 'resort', 'spa', 'cards', 'podolak', 'knowledgeable', 'empathetic', 'transition', 'menopause', 'psychologists', 'coat', 'nina', 'rds', 'musc', 'marrow', 'enabled', 'perth', 'shara', 'copyright', 'reserved', 'makkieh', 'technician', 'androgens', 'believing', 'kurukshetra', 'ccs', 'constantini', 'gardache', 'saginaw', 'generation', 'phi', 'kappa', 'vivienne', 'aronowitz', 'jillwestrd', 'shriver', 'interpretation', 'agenda', 'magnolia', 'vela', 'southwestern', 'trista', 'elyce', 'prasifka', 'kensington', 'legislative', 'appointments', 'peter', 'finance', 'gabbert', 'achievable', 'mancinelli', 'cherry', 'radical', 'chopra', 'marten', 'overseeing', 'dominowski', 'url', 'idf', 'cary', 'kohlwey', 'ltd', 'solving', 'selective', 'burt', 'lemon', 'split', 'soups', 'flavors', 'rzeznik', 'yesenia', 'cihuacoatl', 'mfa', 'electronic', 'gender', 'salas', 'alix', 'lij', 'lubbock', 'teenager', 'intolerant', 'nicollet', 'intorcia', 'samaritan', 'delconte', 'cappuccino', 'bloom', 'grand', 'solly', 'calvin', 'belnap', 'registry', 'del', 'suite', 'theatre', 'silver', 'syndicated', 'reggie', 'fleck', 'kellie', 'hochhalter', 'ounce', 'likely', 'sexually', 'portals', 'londergan', 'blanchard', 'kori', 'subsequently', 'schaffler', 'mandi', 'madowicz', 'jodie', 'luidhardt', 'hazewski', 'rutland', 'ian', 'avery', 'palate', 'regina', 'schuster', 'orange', 'threatening', 'nsw', 'carbs', 'murdoch', 'reversing', 'sugars', 'reyes', 'draskovic', 'moshe', 'schlachter', 'inmay', 'macneil', 'janocha', 'punxsutawney', 'traci', 'karleen', 'thompson', 'material', 'adrian', 'tiffany', 'newenhouse', 'widener', 'warren', 'relies', 'espa', 'ol', 'telemundo', 'univision', 'orlando', 'sentinel', 'latino', 'marjorie', 'sobil', 'butler', 'signature', 'hanna', 'sarjeant', 'bloedel', 'sisters', 'geoghagan', 'eckler', 'vegh', 'dunn', 'samira', 'amlani', 'core', 'haes', 'try', 'monson', 'centracare', 'eisele', 'cottell', 'lucus', 'sutter', 'obsession', 'harwell', 'sikorski', 'muller', 'quigley', 'daly', 'equilibrium', 'marijean', 'lamoureaux', 'bucher', 'wesley', 'ingrid', 'knight', 'idaho', 'doering', 'intestinal', 'sibo', 'reflux', 'bakery', 'despite', 'vasconcellos', 'wernick', 'viterbo', 'kingsville', 'jerri', 'haindfield', 'healtheast', 'jira', 'neurosurgery', 'grounded', 'nba', 'betty', 'licciardo', 'lezly', 'hughes', 'connor', 'lsu', 'bb', 'cari', 'rivas', 'audience', 'front', 'search', 'breuer', 'builds', 'antoinette', 'richardson', 'ulster', 'solberg', 'worthy', 'feature', 'lezli', 'coates', 'marymount', 'fordham', 'danbury', 'watts', 'champlain', 'rubin', 'jefferson', 'hepatology', 'lyndsay', 'ruff', 'certain', 'tanner', 'rosenthal', 'minneapolis', 'telemaque', 'tn', 'undesired', 'disseminate', 'bound', 'championships', 'sunaina', 'profound', 'rhoades', 'wentworth', 'douglass', 'bulgrin', 'jazzercise', 'vandertie', 'orlansky', 'gottshall', 'wylie', 'largely', 'findings', 'lesley', 'kelner', 'barco', 'kelli', 'davenport', 'preschool', 'een', 'nv', 'lovelady', 'rick', 'precious', 'aspartame', 'accept', 'legitimate', 'suggest', 'showers', 'onslow', 'pang', 'plc', 'kinds', 'plum', 'mama', 'perinatal', 'lukas', 'savarese', 'schuman', 'cheshire', 'rustveld', 'canterna', 'krikorian', 'skinny', 'gessford', 'olson', 'draws', 'firstline', 'procedures', 'predispositions', 'kaitlynn', 'fortunato', 'bitzer', 'krach', 'charlet', 'tolbert', 'loschiavo', 'upper', 'scales', 'miss', 'americans', 'gym', 'goers', 'arnett', 'geary', 'phenylketonuria', 'rescue', 'dimes', 'winterton', 'ellis', 'najjar', 'ers', 'apla', 'quizon', 'economist', 'strategist', 'surrounded', 'bit', 'prescription', 'peckenpaugh', 'law', 'neuroscience', 'federation', 'cash', 'tammy', 'teri', 'cake', 'plants', 'newman', 'abused', 'cns', 'shaped', 'linzy', 'orthomolecular', 'focussed', 'objectives', 'fashion', 'cia', 'sustainability', 'givens', 'himes', 'tuitt', 'bohne', 'bednar', 'wellstar', 'marina', 'vineis', 'downs', 'levine', 'capital', 'katheryn', 'talcott', 'sharenow', 'eaton', 'ramon', 'sherri', 'clarke', 'rush', 'martodam', 'sandoz', 'donald', 'jeffrey', 'ensminger', 'haewook', 'han', 'pastry', 'planells', 'nations', 'kale', 'bacon', 'tests', 'impactful', 'january', 'cervas', 'zeleznock', 'ryder', 'mintzer', 'carrara', 'battin', 'norman', 'burman', 'allow', 'franco', 'land', 'carle', 'kings', 'initial', 'geriatrics', 'cgh', 'ami', 'sulik', 'osteoporosis', 'candice', 'bennett', 'walters', 'inspirational', 'thin', 'plates', 'gil', 'chairperson', 'pto', 'zigler', 'filkins', 'caitlin', 'boland', 'reports', 'acknowledges', 'anastasia', 'conover', 'phillip', 'kostroun', 'romer', 'shakela', 'crist', 'cauley', 'exciting', 'examines', 'huffpost', 'lamberson', 'hemmesch', 'allina', 'oliveira', 'harbor', 'hoffstetter', 'kowalski', 'skill', 'reputation', 'fonnesbeck', 'snader', 'neily', 'wheeler', 'jacobs', 'tera', 'dipuccio', 'crowley', 'returning', 'stellato', 'lussier', 'marsha', 'justus', 'visible', 'logic', 'updated', 'remarkable', 'jacobson', 'marcos', 'markuson', 'mccormack', 'basedow', 'australasian', 'rosalee', 'kamper', 'lopinski', 'infection', 'death', 'camille', 'hendsbee', 'duda', 'chelsea', 'marrone', 'knoxville', 'removing', 'morris', 'podell', 'deirdre', 'bouquet', 'kanzler', 'mendez', 'hindustan', 'roy', 'kodi', 'heckman', 'keane', 'trinity', 'ernst', 'megrette', 'fletcher', 'larissa', 'myers', 'revealed', 'meier', 'meador', 'gerontological', 'scene', 'nyp', 'stanley', 'phyllis', 'morristown', 'relief', 'radoulova', 'scottsdale', 'yulia', 'brockdorf', 'lefler', 'limper', 'adopt', 'janna', 'yamron', 'theresa', 'oxford', 'lax', 'canale', 'hoffman', 'mastectomy', 'operation', 'eager', 'schleper', 'readings', 'reason', 'lorraine', 'danowski', 'chukwuka', 'systematic', 'oriented', 'grade', 'fluent', 'agricultural', 'regions', 'mccrea', 'nalini', 'narahari', 'sud', 'tammi', 'timmler', 'cheri', 'leahy', 'mcgovern', 'kristina', 'haiti', 'prediabetes', 'kenmore', 'dubinsky', 'ulysses', 'pacheco', 'warringer', 'overgard', 'extreme', 'details', 'remedies', 'jaclyn', 'schreiner', 'immediately', 'hooked', 'sausmer', 'pageants', 'teasing', 'landmark', 'princess', 'appletoft', 'duca', 'fraser', 'russel', 'vernet', 'weiler', 'relieving', 'moderate', 'lucius', 'sheahan', 'base', 'revolutionary', 'tens', 'outlines', 'explores', 'appreciation', 'meissner', 'hackettstown', 'silverman', 'stallings', 'sushma', 'rosalyn', 'haase', 'components', 'modify', 'perusing', 'mahler', 'dammarell', 'alphonsus', 'sylvestre', 'kristi', 'sabrowsky', 'burgess', 'hayden', 'belury', 'seeks', 'models', 'georgetown', 'potomac', 'swimmers', 'builders', 'express', 'expressed', 'jeannine', 'clara', 'maas', 'interpret', 'contests', 'salvation', 'wheels', 'banks', 'viewers', 'nutritionbymia', 'infused', 'lois', 'stemmed', 'gout', 'cafenutrition', 'efficacy', 'caf', 'shopper', 'shortly', 'oh', 'turns', 'chek', 'quantitative', 'sky', 'besides', 'cares', 'customize', 'behaviours', 'smith', 'twelve', 'select', 'goods', 'enhancement', 'pants', 'karina', 'organisations', 'sufferers', 'jose', 'lovely', 'postpartum', 'leap', 'fort', 'collins', 'economic', 'bayview', 'lexington', 'oxmoor', 'navigating', 'sites', 'adhered', 'sells', 'accomplish', 'regimen', 'inpatients', 'bridgeport', 'ncr', 'kamini', 'sinha', 'heading', 'respectively', 'diagnostic', 'identical', 'protocol', 'homemade', 'ordinary', 'technologies', 'drawn', 'thru', 'crest', 'passionately', 'attainable', 'seek', 'dreams', 'detroit', 'stronger', 'retreat', 'bhf', 'entrepreneurship', 'cheyenne', 'entrepreneurial', 'interviewed', 'longstanding', 'nfi', 'whitney', 'meets', 'occupational', 'ilana', 'embraces', 'rebuild', 'typical', 'medi', 'weightloss', 'bmi', 'peters', 'asperger', 'ideal', 'genki', 'pages', 'wonder', 'ecology', 'submitted', 'cakes', 'monitors', 'formulas', 'promising', 'simplify', 'youville', 'officially', 'nicholson', 'conception', 'innovation', 'featuring', 'theme', 'exposed', 'realizing', 'actionchoices', 'max', 'livelovelose', 'huge', 'carries', 'robin', 'taipei', 'ingrained', 'appreciate', 'muslim', 'doses', 'peanut', 'mainstream', 'mealenders', 'syrian', 'enrolled', 'classic', 'grove', 'generations', 'apeksha', 'thakkar', 'kaitlyn', 'formulated', 'menstrual', 'meaghan', 'albany', 'unrealistic', 'alzheimer', 'debilitating', 'labeling', 'buying', 'ingestive', 'physiological', 'sensory', 'influences', 'determine', 'beading', 'alka', 'rules', 'wake', 'scouts', 'pines', 'govt', 'afterwards', 'commision', 'meetings', 'differences', 'paleo', 'butter', 'lyme', 'lay', 'ensuring', 'tummy', 'katescarlata', 'christy', 'paths', 'positivity', 'thus', 'undernutrition', 'waterloo', 'retreats', 'burlingame', 'ks', 'overview', 'scott', 'event', 'usual', 'worse', 'dreaming', 'deprivation', 'beet', 'statement', 'kirstin', 'representation', 'poudre', 'nobel', 'jain', 'vlcc', 'wholefoods', 'fairfield', 'boot', 'adorable', 'elysa', 'filled', 'rebalance', 'eater', 'credits', 'junk', 'pickiest', 'powerlifting', 'voice', 'fried', 'tit', 'grades', 'heirloom', 'return', 'smartee', 'glockner', 'routine', 'campuses', 'cambodia', 'indonesia', 'roger', 'unicef', 'hygiene', 'tropical', 'lenoir', 'rhyne', 'infancy', 'berkshires', 'ultrawellness', 'marg', 'favorites', 'meant', 'researchers', 'governmental', 'chris', 'fuller', 'consumed', 'blanche', 'keir', 'engagements', 'motivating', 'indulges', 'apart', 'music', 'belief', 'happyslimhealthy', 'continuum', 'mentors', 'champaign', 'invited', 'thorough', 'tract', 'beliefs', 'timely', 'external', 'feast', 'subunit', 'willamette', 'poverty', 'brescia', 'auburn', 'attitude', 'remotely', 'ageing', 'dementia', 'vedanta', 'cosmic', 'traumatic', 'opening', 'oceanside', 'quich', 'modeling', 'hudson', 'bioindividual', 'privilege', 'speak', 'occupations', 'cbc', 'montreal', 'shaelyn', 'reidhead', 'guideline', 'acting', 'heights', 'lourdes', 'virgin', 'varying', 'pippa', 'physiotherapy', 'partnered', 'chan', 'piano', 'confusion', 'provision', 'regulation', 'facilitated', 'proficiency', 'mentoring', 'deeper', 'distinction', 'achieved', 'unhealthy', 'olivia', 'immaculata', 'dimensions', 'essentials', 'foreign', 'evidenced', 'samara', 'downtown', 'implications', 'mantra', 'pleasurable', 'chefuptotheplate', 'orchard', 'depth', 'fatima', 'radhanpurwala', 'instructions', 'internet', 'proceeded', 'bed', 'update', 'outs', 'lailina', 'micronutrients', 'snacks', 'necessarily', 'nuptials', 'weddings', 'inside', 'administrative', 'court', 'farming', 'jillian', 'edward', 'cat', 'affair', 'quantity', 'lurie', 'methodologies', 'nutrigenomic', 'compulsive', 'bethany', 'carmel', 'allertrain', 'servsafe', 'buytendorp', 'centegra', 'henry', 'kalp', 'rohini', 'herrick', 'soy', 'haliburton', 'restricting', 'fabulous', 'advancing', 'disturbances', 'cnhc', 'baker', 'medically', 'lamar', 'emmy', 'lu', 'addictive', 'pottery', 'sanjana', 'insomnia', 'alleviate', 'proteins', 'ashland', 'fifteen', 'publicly', 'staying', 'notion', 'medium', 'identifying', 'tedx', 'kwazulu', 'compounds', 'achievements', 'recognition', 'competence', 'lebanon', 'jennie', 'ioc', 'virtually', 'synergy', 'credible', 'repair', 'tour', 'forest', 'spice', 'tisch', 'sonia', 'missions', 'darfur', 'instructs', 'experiencing', 'bloating', 'knew', 'difficulties', 'brazilian', 'push', 'brazil', 'equally', 'rdreciperesource', 'basc', 'acf', 'dpgs', 'egypt', 'traveled', 'memphis', 'personalize', 'alex', 'interning', 'port', 'esperanza', 'rusty', 'gets', 'far', 'swim', 'rotation', 'pan', 'donated', 'ranges', 'persons', 'ailments', 'brisbane', 'gmdi', 'translation', 'neutral', 'lens', 'messenger', 'pick', 'jaime', 'preeti', 'shukla', 'aquaculture', 'selves', 'turned', 'universit', 'rai', 'teen', 'transplantation', 'pursues', 'approachable', 'comfort', 'influential', 'someone', 'edrdpro', 'sox', 'ongoing', 'omaha', 'pattern', 'colin', 'campbell', 'watermelon', 'kind', 'ilri', 'crops', 'semi', 'forages', 'hormones', 'targeted', 'desires', 'drinking', 'immersed', 'farms', 'residency', 'hong', 'kong', 'campaigns', 'glow', 'complicated', 'fussy', 'beautiful', 'shame', 'weather', 'fiesta', 'northumbria', 'secondary', 'fundraising', 'chapman', 'mara', 'packages', 'shauna', 'accountability', 'movies', 'buzznutrition', 'pdf', 'claudia', 'antibiotics', 'stakeholders', 'establishment', 'evident', 'dannon', 'ct', 'charitable', 'las', 'vegas', 'unlv', 'practiced', 'tested', 'twist', 'battle', 'moon', 'individualizing', 'routines', 'tipswithtoni', 'correction', 'centres', 'olds', 'mend', 'colorectal', 'nausea', 'deficient', 'kpcreations', 'critically', 'kumc', 'fostering', 'marilyn', 'medalist', 'pusa', 'trails', 'mittal', 'lokendra', 'tomar', 'supervises', 'adverse', 'mexican', 'planet', 'vision', 'fee', 'abbe', 'ngo', 'sweetnutritionnyc', 'carlye', 'prepared', 'personnel', 'patriots', 'forums', 'tube', 'diarrhea', 'till', 'charges', 'microbiome', 'difference', 'reliable', 'fairchild', 'nazmul', 'partnerships', 'late', 'battles', 'adapted', 'rhiannon', 'nutrifit', 'underweight', 'malabsorption', 'deficiency', 'shanthi', 'kaavery', 'kodaikanal', 'adding', 'sylvia', 'assoc', 'badminton', 'diving', 'ft', 'chaudhary', 'charan', 'meerut', 'saifee', 'singhal', 'combine', 'showcased', 'influencers', 'alexandra', 'elissa', 'miniature', 'telemark', 'establishing', 'caregiver', 'soolman', 'wellesley', 'nirmala', 'niketan', 'sacred', 'fanelli', 'indoor', 'german', 'executing', 'aside', 'savor', 'discharge', 'arun', 'joshi', 'pcod', 'football', 'crown', 'neola', 'groh', 'wargo', 'consensus', 'cow', 'najafgarh', 'saharan', 'occasional', 'cream', 'selenium', 'tackling', 'graduates', 'wigmore', 'mindbodygreen', 'organ', 'joyful', 'standing', 'jiwaji', 'gwalior', 'chhavi', 'sarita', 'vihar', 'million', 'edmonton', 'interval', 'usat', 'alisa', 'cristina', 'fairs', 'panels', 'krishna', 'beal', 'rural', 'fnce', 'randi', 'pretty', 'establish', 'elysse', 'nicholls', 'treatments', 'manchester', 'identification', 'microbiology', 'curve', 'trudy', 'iran', 'binghamton', 'saturdays', 'rediscover', 'kemp', 'rise', 'rucker', 'shiva', 'neha', 'chandel', 'eliza', 'experimental', 'demonstrated', 'birla', 'belly', 'reaction', 'stakeholder', 'belgium', 'touro', 'infirmary', 'summa', 'cultivating', 'kirsten', 'gudgila', 'chinchwad', 'expectant', 'pigs', 'scholar', 'equation', 'chili', 'black', 'yearlong', 'ucsd', 'rio', 'janeiro', 'nice', 'module', 'informative', 'jungle', 'tommy', 'vegans', 'soya', 'requirement', 'optimization', 'hub', 'blankenship', 'licensure', 'employment', 'mo', 'archery', 'volleyball', 'chargehr', 'hamstrings', 'tacoma', 'gordon', 'feedlot', 'poster', 'exercising', 'framework', 'dionne', 'vp', 'formulations', 'johane', 'sanjay', 'geissler', 'millions', 'lulu', 'shelton', 'operatively', 'participating', 'singing', 'daphnne', 'href', 'blank', 'rel', 'noopener', 'episode', 'toobusytoeat', 'rifkin', 'concordia', 'moorhead', 'wellie', 'kaycie', 'bell', 'glucose', 'mecklenburg', 'anu', 'ifn', 'mentality', 'keto', 'competitions', 'lee', 'beheshti', 'antoniamagor', 'discrimination', 'turf', 'hea', 'sru', 'noida', 'sachin', 'brannon', 'eglin', 'afb', 'jfk', 'gila', 'alice', 'abortion', 'lucia', 'cecilia', 'pepperdine', 'communicating', 'merrimack', 'kwiatkowski', 'leisure', 'sourdough', 'monte', 'nido', 'liz', 'participation', 'preterm', 'kingdom', 'instinct', 'cottage', 'exceed', 'friedchillies', 'cold', 'fiona', 'lo', 'stout', 'jasmin', 'bisci', 'interactions', 'racial', 'liat', 'nijya', 'simon', 'cooper', 'nominated', 'brighteating', 'lance', 'amelia', 'ext', 'tuesday', 'eatingright', 'timespicayune', 'tales', 'cocktail', 'talesofthecocktail', 'congestive', 'andes', 'kristy', 'irvine', 'hectic', 'volek', 'penrose', 'monsanto', 'galileo', 'efficas', 'mit', 'er', 'hopefuls', 'quinn', 'monterey', 'ushler', 'primetime', 'satellite', 'wvfc', 'hain', 'celestial', 'marketed', 'ffactor', 'sykes', 'cone', 'cosmology', 'geology', 'fuge', 'detective', 'rawingredients', 'thekids', 'hearts', 'manhasset', 'log', 'veganrd', 'marty', 'davey', 'quantum', 'code', 'touched', 'greatest', 'gift', 'radically', 'transforming', 'theshawnstevensonmodel', 'jkcc', 'familynutrition', 'advance', 'feedyards', 'boost', 'input', 'recommends', 'agonist', 'haul', 'rays', 'mlb', 'slim', 'conquer', 'deformed', 'reportedly', 'nuke', 'plantjapan', 'underground', 'fukushimany', 'geri', 'preconception', 'preparedness', 'morsel', 'cdc', 'cheektowaga', 'revamping', 'endyke', 'ave', 'jendyke', 'fitnessunlimited', 'vijaya', 'noncommercial', 'staffing', 'presence', 'viewed', 'glutenfreerd', 'alicea', 'foodnetwork', 'univerity', 'commodity', 'potted', 'lard', 'partly', 'epidemic', 'secola', 'killed', 'indians', 'receives', 'referrals', 'aroundtheplate', 'balances', 'umpqua', 'wlane', 'rosenet', 'ethical', 'companion', 'vegfamily', 'leena', 'cory', 'wapf', 'hypnotherapy', 'exceptional', 'menlo', 'hypnotherapist', 'iguchi', 'beaufort', 'assignment', 'nights', 'weekends', 'lightening', 'termont', 'opromoboxarticle', 'nassau', 'fulfill', 'wonky', 'fantastic', 'asda', 'wrong', 'imperfect', 'wasting', 'abramson', 'desired', 'elites', 'ntc', 'greenville', 'moline', 'nathan', 'noah', 'lola', 'mvhnews', 'rounded', 'kuiken', 'rn', 'ultrahealth', 'underrated', 'phrase', 'pratt', 'csc', 'lighten', 'mayer', 'arabella', 'duffield', 'wu', 'hsing', 'rhizosphere', 'biological', 'snob', 'divadietitian', 'kidslovefood', 'doylestownnutrition', 'bucks', 'mouthwatering', 'epicures', 'fingers', 'nightly', 'couric', 'roker', 'julienegrin', 'culver', 'sourcebook', 'reviewer', 'muay', 'thai', 'vinccird', 'vinccitsui', 'eyewitness', 'fdi', 'biker', 'glad', 'question', 'quot', 'christinepalumbo', 'winnipeg', 'skeptics', 'ties', 'celebrating', 'tessa', 'relocate', 'baxter', 'wellcafe', 'prodigy', 'request', 'demystify', 'loyalty', 'preachy', 'admire', 'gentle', 'citysearch', 'cw', 'shedding', 'wedding', 'upcoming', 'handles', 'ergogenic', 'branched', 'alanine', 'dougcookrd', 'builder', 'wenatchee', 'mention', 'nascar', 'customizes', 'rma', 'trimester', 'unsurpassed', 'gray', 'mars', 'venus', 'orator', 'avocado', 'wolfe', 'tyneside', 'occasions', 'underdiagnosed', 'fundraisers', 'coronary', 'edcd', 'edcdenver', 'nestle', 'caught', 'lists', 'sort', 'bloke', 'blokes', 'clued', 'exactly', 'bionutrition', 'beller', 'loser', 'truelovehealth', 'isa', 'moskowitz', 'obsessed', 'burritos', 'dead', 'mile', 'handful', 'healthyeating', 'evaluates', 'trinar', 'vaccines', 'vaccination', 'limiting', 'calf', 'abreast', 'packaging', 'somer', 'kareen', 'iameatingright', 'scrivin', 'supplemented', 'congress', 'lymphoma', 'leukemia', 'gynecologic', 'minimizing', 'stability', 'theurer', 'younker', 'cnsc', 'publisher', 'oldways', 'judge', 'micro', 'attainability', 'masor', 'eduated', 'insectivory', 'taxon', 'aquarium', 'wildlife', 'editors', 'wild', 'mammals', 'captivity', 'scholl', 'sigma', 'xi', 'toddlers', 'bible', 'scritchfield', 'dietitianontherun', 'fernando', 'leff', 'urological', 'dance', 'instilling', 'tags', 'demonstrating', 'mainely', 'bangordailynews', 'georgiamainemsrdcde', 'belonging', 'photographers', 'stylists', 'haccp', 'foodsafety', 'yummy', 'foodess', 'sandra', 'yorkshire', 'vessel', 'oncologists', 'gps', 'cardiologists', 'healers', 'shamans', 'folk', 'functions', 'manifest', 'cured', 'massey', 'progression', 'gusto', 'therein', 'lakes', 'potato', 'fries', 'nutritionrd', 'charlyn', 'writers', 'cartoonists', 'scarsdale', 'dramatically', 'striving', 'bombarded', 'teammates', 'conclusions', 'vejle', 'denmark', 'channels', 'extend', 'luontolife', 'chaga', 'pakurik', 'biohakkerin', 'sikirja', 'teemu', 'arina', 'olli', 'sovij', 'rvi', 'degenerative', 'redmond', 'medicare', 'briarwood', 'anatomy', 'hillyer', 'busters', 'cowritten', 'sixty', 'haylie', 'actress', 'esposito', 'bethenny', 'frankel', 'lipidemia', 'weatherwax', 'beleaguered', 'gatorade', 'approval', 'geraldo', 'rivera', 'dave', 'fouts', 'allergan', 'wls', 'strike', 'alfred', 'fodmaps', 'haart', 'comfortably', 'regimens', 'coping', 'moderates', 'lfa', 'textbook', 'rheumatic', 'humana', 'lbs', 'bella', 'moore', 'ulcer', 'wslr', 'fm', 'plews', 'mails', 'greta', 'cso', 'testanutrition', 'speech', 'arlington', 'cowboys', 'fc', 'golfers', 'prompted', 'altering', 'greenwood', 'rehabilitative', 'florence', 'allegheny', 'shelter', 'navy', 'seals', 'louisville', 'daybyday', 'daybydaynutrition', 'kentuckianahealthwellness', 'outlook', 'feedstuffs', 'bushel', 'mha', 'controversial', 'minchen', 'grab', 'grassfed', 'cacao', 'gmos', 'alcohols', 'weston', 'expected', 'civic', 'technorati', 'curator', 'chicagotribune', 'harmony', 'cookinglight', 'raisehealthyeaters', 'aahp', 'paris', 'springfield', 'disorderd', 'sk', 'cellular', 'clarity', 'womens', 'veda', 'esopus', 'wean', 'oahu', 'eq', 'palm', 'desert', 'michaela', 'huntington', 'safely', 'brennan', 'apprehension', 'lafeyette', 'carrying', 'instruments', 'measurement', 'trujillo', 'lectureship', 'showcases', 'scientists', 'proportions', 'wagon', 'wheel', 'glenda', 'riley', 'lively', 'squarely', 'dutch', 'oven', 'campfire', 'searing', 'trading', 'emigrant', 'ring', 'cents', 'lessevery', 'seems', 'hype', 'hottest', 'superfood', 'acai', 'berries', 'kidpower', 'treasures', 'sickle', 'disgestive', 'ruffolo', 'encounter', 'emerson', 'neva', 'nevardld', 'nevacochranrd', 'chatelaine', 'estrogen', 'excretion', 'shepperson', 'tried', 'affect', 'knitting', 'mobilization', 'bcc', 'prism', 'guinea', 'mukenge', 'democratic', 'congo', 'zaire', 'schulmann', 'karate', 'tsk', 'sits', 'healthination', 'gojee', 'seed', 'wlts', 'spins', 'lifts', 'weights', 'personality', 'upbeat', 'noon', 'unilever', 'dole', 'citizen', 'sarahjanerd', 'ellensburg', 'recieved', 'avidly', 'obama', 'gerontology', 'cwru', 'isabel', 'parraga', 'modules', 'hss', 'cyclists', 'bmc', 'orica', 'bikeexchange', 'riders', 'broadcasts', 'mushy', 'grey', 'promises', 'colorful', 'crisp', 'retain', 'characteristics', 'texture', 'criteria', 'shoppers', 'carolinekaufman', 'flirting', 'faraway', 'lands', 'josh', 'undiet', 'completes', 'ce', 'derekjohnsonnm', 'mode', 'intensely', 'campers', 'uniquely', 'hmr', 'alarmed', 'expanding', 'gifting', 'originated', 'groningen', 'shamanic', 'cultivation', 'discovers', 'lousy', 'exerciser', 'accepts', 'insurances', 'telephone', 'healthystepnutrition', 'blvd', 'bergen', 'lesliegoldsteinrd', 'reflex', 'cra', 'homeopathy', 'kotsanis', 'homeopathics', 'brad', 'walt', 'nuval', 'scoring', 'mcgraw', 'sandy', 'herbalists', 'dbp', 'counter', 'ivanhoe', 'freshman', 'existence', 'relied', 'equals', 'servings', 'differently', 'mycoachlaurie', 'mullen', 'tribeca', 'bytes', 'bolts', 'kiwi', 'slate', 'storr', 'conn', 'fairfax', 'wvu', 'gannon', 'consultative', 'foodservices', 'directive', 'swallowing', 'thickened', 'liquids', 'colleague', 'krisha', 'mccoy', 'cooksaid', 'sprint', 'universal', 'nonverbal', 'trouble', 'stages', 'delegate', 'proprietor', 'kw', 'operators', 'redfern', 'summers', 'ranger', 'chevy', 'chase', 'nick', 'videography', 'motion', 'digital', 'marriages', 'sous', 'vide', 'carlene', 'immediate', 'linke', 'wajir', 'vegetariannutrition', 'reed', 'cities', 'mound', 'lewisville', 'laval', 'quebec', 'contain', 'umass', 'communicator', 'interacting', 'indispensable', 'employer', 'autistic', 'luana', 'display', 'thebeing', 'performs', 'brought', 'classrooms', 'dorchester', 'neighborhoods', 'codman', 'corner', 'dotwell', 'statements', 'topflight', 'jibe', 'specifics', 'questionable', 'sweeter', 'cumulative', 'blocks', 'inserted', 'skimmer', 'points', 'thirteen', 'containing', 'nncp', 'naturallysavvy', 'comspread', 'zion', 'nu', 'centennial', 'ultras', 'rrca', 'expo', 'competitor', 'escobar', 'unch', 'arroyo', 'grande', 'foothill', 'altos', 'advertisement', 'mcneil', 'bush', 'masterfoods', 'bayer', 'staffs', 'estee', 'raritan', 'slackers', 'arena', 'stamp', 'goldstein', 'gastroenterologist', 'eosinophilic', 'esophagitis', 'operative', 'lilienthal', 'epicurious', 'nutritiondata', 'harlem', 'aimeezipkin', 'agri', 'janedummer', 'philosophies', 'macrobiotics', 'ample', 'sundec', 'dic', 'oise', 'subscription', 'ezine', 'exclusive', 'prizes', 'karenlangston', 'veggie', 'frequenting', 'puerta', 'tecate', 'theveggiequeen', 'letterpress', 'pt', 'crane', 'lettra', 'flo', 'thick', 'textural', 'impression', 'warm', 'tactile', 'surface', 'zen', 'van', 'winkle', 'peak', 'posting', 'elizabetheats', 'trident', 'crowleyn', 'edu', 'counts', 'javascript', 'ante', 'leeming', 'capable', 'bev', 'ruello', 'floor', 'kaboose', 'nutcom', 'extras', 'disclaimer', 'linx', 'corp', 'holy', 'structure', 'cafeteria', 'nccu', 'androgenic', 'aas', 'steroidal', 'testosterone', 'cirrhosis', 'diffuse', 'hepatic', 'characterised', 'conversion', 'architecture', 'structurally', 'eing', 'equi', 'amymgillphd', 'shikha', 'vishvas', 'kalkaji', 'homescience', 'hau', 'hisar', 'theraputic', 'disconnect', 'lalevich', 'pacmed', 'ginger', 'convincing', 'peruse', 'dancer', 'lueckemeyer', 'gubernatorial', 'governor', 'affecting', 'matthews', 'dovetails', 'applicable', 'mj', 'hungryman', 'min', 'kwon', 'tactics', 'kristenmancinelli', 'papillion', 'radford', 'catskill', 'debuted', 'releases', 'tamarack', 'asociaci', 'protecci', 'diab', 'tico', 'argentina', 'viviant', 'viviana', 'gerri', 'parul', 'askadietitian', 'wakemed', 'gundersen', 'carrera', 'casa', 'ninos', 'nogales', 'psychologist', 'broadcaster', 'novel', 'countertop', 'lickety', 'conscious', 'slattery', 'progresso', 'mommyhood', 'nutrikiss', 'philology', 'wroclaw', 'julita', 'emblem', 'novo', 'nordisk', 'indigo', 'nall', 'creatinine', 'restaurateur', 'christopher', 'clemens', 'sexuality', 'relaxation', 'workbook', 'harbinger', 'mb', 'mbsr', 'jamaica', 'sands', 'lp', 'classroom', 'sansum', 'cdf', 'evolution', 'pearson', 'nlp', 'sea', 'southport', 'worksites', 'fleet', 'feet', 'brunswick', 'supervising', 'juan', 'capistrano', 'av', 'pat', 'bottle', 'averages', 'teaspoons', 'defined', 'sexual', 'intercourse', 'shavings', 'chailifenutritionforu', 'tutor', 'entertaining', 'missing', 'biased', 'trillium', 'mississauga', 'respirology', 'pickering', 'chairing', 'ketchum', 'rachael', 'upmc', 'defense', 'rackspace', 'cloud', 'lawless', 'redid', 'veggiecation', 'introduces', 'healthfirst', 'pleasing', 'goff', 'salve', 'quo', 'hsa', 'hachette', 'ore', 'examiner', 'sebastopol', 'halpin', 'liss', 'jules', 'bliss', 'sullivan', 'quest', 'connell', 'kang', 'rigid', 'trusting', 'pastimes', 'carving', 'proudly', 'ximena', 'americateve', 'caracol', 'wlrn', 'nuevo', 'videomd', 'sharecare', 'abnormal', 'cornwell', 'fine', 'middleberg', 'smarter', 'innate', 'treasurer', 'brokerage', 'purefit', 'purefood', 'branded', 'concise', 'beleive', 'foodies', 'deepest', 'jannette', 'oconee', 'corporati', 'azar', 'korbey', 'magnet', 'trinh', 'proponent', 'fidgeting', 'greg', 'houstonian', 'yorker', 'lip', 'synch', 'soundtrack', 'grader', 'kindergartner', 'wars', 'lovebug', 'honey', 'badger', 'quillen', 'dishner', 'dade', 'pentucket', 'universi', 'influencing', 'socioecological', 'mhe', 'healthaccess', 'dale', 'mabry', 'hwy', 'diaz', 'bacterial', 'overgrowth', 'ulcerative', 'gastroesophageal', 'reduced', 'detection', 'assessed', 'untreated', 'increases', 'attacks', 'harmful', 'consume', 'brekke', 'crosse', 'wis', 'potter', 'linseed', 'jar', 'plainview', 'adelphi', 'placid', 'donich', 'spine', 'jump', 'treatmentchiropractic', 'workspittsfield', 'allopathic', 'carmichael', 'irl', 'calibers', 'caliber', 'chaparral', 'puyallup', 'tribal', 'nysarc', 'dutchess', 'alastra', 'pennington', 'ericka', 'seidemann', 'kannapolis', 'houseguest', 'bonaventure', 'thoughts', 'westminster', 'olmsted', 'hits', 'facilitators', 'reorientation', 'targeting', 'amyotrophic', 'lateral', 'sclerosis', 'baccalaureate', 'poweroffoodeducation', 'crave', 'unfussy', 'concluded', 'tarrytown', 'prides', 'rapport', 'refocus', 'ctr', 'ritzo', 'angle', 'sugarcubes', 'bowl', 'teapot', 'karlyn', 'byte', 'fearless', 'fabulously', 'crew', 'casual', 'define', 'speed', 'biathlon', 'luge', 'nordic', 'erdman', 'barcelona', 'spain', 'khetarpal', 'intolerence', 'precocious', 'adrenal', 'pms', 'aspirus', 'closer', 'bicycling', 'lhasapoo', 'cookie', 'marys', 'laureate', 'northside', 'tracie', 'qualification', 'bridget', 'neonates', 'commenced', 'simmond', 'adjuvant', 'firms', 'oblique', 'delightful', 'hauser', 'worship', 'crumbs', 'scroll', 'benefited', 'grave', 'excessive', 'hull', 'pay', 'contemporary', 'ironwood', 'kuow', 'kiro', 'detoxes', 'savory', 'instincts', 'organics', 'nurtured', 'nurturing', 'amana', 'dartmouth', 'hitchcock', 'individualizes', 'entertainment', 'regis', 'forbes', 'grammy', 'pop', 'schupp', 'pequot', 'ebsco', 'cookin', 'newgent', 'classically', 'arrives', 'moundview', 'formally', 'afmcp', 'saratoga', 'impressive', 'relieve', 'exacting', 'rex', 'insufficiency', 'delish', 'delishknowledge', 'sac', 'hy', 'vee', 'touches', 'olympians', 'champions', 'kona', 'jeff', 'ultragenyx', 'biotechnology', 'bernardino', 'frederic', 'oversized', 'lifesaver', 'candy', 'sand', 'shults', 'portfolio', 'extramurally', 'employ', 'represents', 'coordinating', 'interagency', 'dietingeat', 'goalsincrease', 'energyreach', 'goalsmanage', 'mfenton', 'heureux', 'jheureux', 'begins', 'actually', 'addenbrooke', 'mums', 'cooker', 'hamlyn', 'weber', 'shandwick', 'unplugged', 'wedmd', 'twins', 'meme', 'outlet', 'ramblings', 'waxes', 'poetic', 'staples', 'statistics', 'ldl', 'whatsoever', 'soft', 'monsters', 'comedy', 'improv', 'ceo', 'selections', 'buffet', 'ldn', 'marriott', 'dvorak', 'analyst', 'melissadianesmith', 'againstthegrainnutrition', 'guthrie', 'lodi', 'dri', 'ndc', 'westlake', 'sur', 'prep', 'peacehealth', 'lazy', 'warned', 'sacks', 'recurring', 'bronchitis', 'pneumonia', 'encompassing', 'opinions', 'aata', 'phytotherapy', 'nooksack', 'essentia', 'innovis', 'musgrave', 'hopewell', 'enjoystraveling', 'mvhe', 'departure', 'ejgh', 'aleda', 'lutz', 'atrius', 'hispanic', 'swiss', 'ethnicity', 'resemble', 'korean', 'barbecue', 'kimchee', 'cucumber', 'salad', 'ribolita', 'cannellini', 'beans', 'tomato', 'onions', 'responsibility', 'expose', 'finger', 'shifts', 'martensen', 'roswell', 'alfediam', 'param', 'dical', 'bertoglio', 'jocelyne', 'geisinger', 'symposia', 'dried', 'charter', 'adaf', 'medallion', 'iv', 'gang', 'hevert', 'renfrew', 'hmdp', 'attachment', 'taiwan', 'shu', 'hua', 'hf', 'valuedcare', 'christ', 'minimally', 'invasive', 'dcoa', 'activist', 'reform', 'presidents', 'administrators', 'goodnessgraciousliving', 'cnpp', 'detoxing', 'genesishealingcenter', 'fits', 'glandular', 'internships', 'clinton', 'harrogate', 'ilkley', 'wetherby', 'skipton', 'pudsey', 'huddersfield', 'nutrishan', 'bardstown', 'franchise', 'upbeet', 'albemarle', 'hostess', 'clerk', 'downhome', 'corned', 'hotdogs', 'meatloaf', 'hamburger', 'patties', 'ham', 'entity', 'cdo', 'foodsphere', 'affordable', 'widespread', 'ephrata', 'owned', 'operated', 'sporadically', 'chalk', 'lorord', 'eatiny', 'ryan', 'refreshed', 'teachngs', 'enables', 'destructive', 'larios', 'butcher', 'devacaanthan', 'aacnem', 'reproduced', 'permission', 'traveler', 'picked', 'narrowly', 'avoided', 'destroyed', 'lining', 'miserable', 'northerner', 'friedrick', 'unlike', 'soluble', 'stored', 'altizer', 'organize', 'vendor', 'wyoming', 'roper', 'bauer', 'forte', 'femina', 'rediff', 'timeswellness', 'moderator', 'preethiscorner', 'molecular', 'dit', 'asst', 'indi', 'alexius', 'rowley', 'ebook', 'surely', 'pie', 'huang', 'llp', 'barren', 'uconn', 'stayed', 'komansky', 'rothschild', 'breitfeller', 'gareth', 'titles', 'rockwood', 'ps', 'bogs', 'gardeners', 'categories', 'shipping', 'beyondorganicconsulting', 'excel', 'noel', 'yeah', 'bethlehem', 'regaining', 'surgeryenrich', 'removes', 'saving', 'battling', 'leave', 'femininity', 'truyu', 'aesthetic', 'reconstruction', 'procedure', 'deetken', 'edgar', 'cayce', 'corporat', 'centred', 'justifiable', 'alleviation', 'symptomatology', 'dysfunction', 'nash', 'neuropsychiatric', 'faseb', 'suffolk', 'nhe', 'manufacturers', 'entities', 'engaged', 'kishwaukee', 'travers', 'trusts', 'marshfield', 'imogene', 'bassett', 'ifna', 'demuth', 'nivano', 'vanguard', 'lea', 'rocket', 'velopress', 'muffin', 'tin', 'mattkadey', 'lyndel', 'administers', 'sneb', 'pretending', 'thatwork', 'plymouth', 'wessex', 'southampton', 'swam', 'relay', 'veggiedietitian', 'theveganrd', 'legacy', 'philanthropy', 'bulgaria', 'daycare', 'cuba', 'martina', 'sepsis', 'immunonutrition', 'cartwright', 'jaacap', 'describe', 'proxy', 'tot', 'nuvo', 'sean', 'healthcastle', 'derry', 'einstein', 'endoscopy', 'dinsdale', 'wort', 'shown', 'mild', 'centrespring', 'getty', 'images', 'lowering', 'medication', 'influenced', 'citations', 'fetal', 'pilatesnutritionist', 'seventh', 'hos', 'joint', 'fla', 'spinal', 'cord', 'winslow', 'serena', 'mere', 'straight', 'borders', 'ihc', 'jammin', 'salmons', 'faris', 'sauk', 'mechanistic', 'generated', 'nasa', 'summerford', 'retriever', 'izzi', 'strawberry', 'metamucil', 'refiners', 'jlevinsonrd', 'nutritioulicious', 'certifi', 'cate', 'imperial', 'anaphylaxis', 'immunology', 'cosumnes', 'revolves', 'timaree', 'wintertime', 'pomegranates', 'sgh', 'ttsh', 'holmusk', 'phillies', 'healthybites', 'restart', 'hopkinton', 'thriverx', 'sbs', 'cookoff', 'cheesecake', 'mocha', 'nutritionistreviews', 'rosannerust', 'rustnutrition', 'oakwood', 'huntsville', 'aminta', 'caribbean', 'buttresses', 'skater', 'learnt', 'juhu', 'heads', 'kentuckian', 'produced', 'bookstores', 'chakra', 'natcen', 'caireen', 'survey', 'ndns', 'gena', 'handle', 'genaseraita', 'genaseraitard', 'flahive', 'confessionsofadietitian', 'sponsoring', 'speakers', 'shelves', 'distribute', 'terraform', 'botanicals', 'crafted', 'batches', 'rated', 'coomber', 'coached', 'btn', 'twinnings', 'tea', 'headline', 'sfn', 'innovate', 'psa', 'levinsohn', 'stabilizing', 'whereby', 'normalize', 'darwinian', 'eirik', 'bridge', 'gap', 'evolutionary', 'locate', 'fayetteville', 'tastybird', 'formulates', 'broiler', 'complexes', 'investigations', 'garcinia', 'cambogia', 'marketplace', 'aided', 'preference', 'lisanelsonrd', 'morrisville', 'smarty', 'interacts', 'hyperemesis', 'cda', 'paige', 'versions', 'morganstein', 'resilient', 'cluster', 'spheres', 'circulation', 'healthletter', 'coinvestigator', 'comprehensively', 'toddlerhood', 'colic', 'angelique', 'debunking', 'rumors', 'radiotherapy', 'proved', 'supplies', 'herbalife', 'distortion', 'qualifying', 'erwin', 'witimageh', 'pe', 'slope', 'stem', 'questionnaire', 'tailors', 'laurenlarsonmsrdn', 'vitamer', 'lam', 'holisticnutritionwithrisse', 'kapiolani', 'kahi', 'mohala', 'neal', 'anzai', 'bidwell', 'parital', 'teaspoonofspice', 'shortcuts', 'gretchenvannice', 'costly', 'controlled', 'medicines', 'realist', 'ai', 'croch', 'sucre', 'concentrations', 'biostatistics', 'conquering', 'alternate', 'mcdougall', 'hike', 'continental', 'divide', 'fixes', 'contagious', 'weil', 'drweil', 'healthyaging', 'dyan', 'gant', 'madonna', 'lina', 'sok', 'ahepa', 'iro', 'skiathos', 'reward', 'myth', 'lnz', 'intramural', 'acton', 'steered', 'headaches', 'herndon', 'voted', 'washingtonian', 'mbc', 'reganmillerjones', 'healthyaperture', 'thereciperedux', 'redux', 'alumnus', 'hepatitis', 'dachshunds', 'tyffanieammeter', 'charak', 'dubagga', 'induja', 'dixit', 'viddhi', 'schedules', 'lacey', 'oriental', 'michio', 'aveline', 'kushi', 'mayuri', 'aavula', 'trudiet', 'kondapur', 'bruin', 'bhip', 'curves', 'ripe', 'kosher', 'cc', 'mothering', 'hailing', 'backbone', 'clairty', 'judgemental', 'motivator', 'medford', 'rubenoff', 'pathophysiology', 'hired', 'supporter', 'ketosis', 'equipping', 'ashtead', 'runnymede', 'chertsey', 'nuffield', 'guilford', 'pleasure', 'serice', 'alvernia', 'guildford', 'katrina', 'brookline', 'glen', 'sauls', 'grime', 'rhn', 'heroin', 'vogue', 'instyle', 'ecoluxe', 'fondly', 'nigeria', 'nsn', 'biso', 'bpma', 'disposition', 'equipped', 'paradox', 'frankcooper', 'vineyard', 'monahanestate', 'asmbs', 'devotes', 'rites', 'antioxidants', 'nonfiction', 'debut', 'vindication', 'cmr', 'scheme', 'gastronomy', 'biscuits', 'confectionary', 'bakes', 'le', 'bonheur', 'intakes', 'gabby', 'spearheaded', 'produces', 'wegmans', 'folks', 'defended', 'abstract', 'markers', 'coco', 'novato', 'rosa', 'renell', 'hfs', 'commercialization', 'foodcare', 'evergrowing', 'img', 'academies', 'sickkids', 'haematology', 'stomp', 'formation', 'adulthood', 'switched', 'maxwell', 'sandrayourrdn', 'compassion', 'impassioned', 'rams', 'themaxwalker', 'releasing', 'correlation', 'dedicates', 'bipolar', 'cara', 'ship', 'ical', 'usu', 'lipid', 'hypercholesterolemia', 'mshoneknutrition', 'fermented', 'boutique', 'bluff', 'homeopath', 'hahnemann', 'murphy', 'herbalist', 'facial', 'salts', 'symbols', 'planetary', 'astrology', 'focu', 'streets', 'celebration', 'undergo', 'minimize', 'kenny', 'skinnywishes', 'collegian', 'germany', 'biomedicine', 'munich', 'sangria', 'beaching', 'intstagram', 'link', 'ultramarathons', 'kyle', 'yard', 'millennial', 'tami', 'sensible', 'usage', 'pot', 'improves', 'africadietitian', 'cajun', 'sicilian', 'grandparents', 'adapt', 'mkatiemoses', 'lighter', 'interpretations', 'valhala', 'arcadia', 'bikini', 'diva', 'adaptation', 'culturally', 'palliative', 'theralogix', 'ovasitol', 'pure', 'inositol', 'regularity', 'wearing', 'hats', 'breakout', 'session', 'bzdok', 'laid', 'hubby', 'forgetting', 'purse', 'stuffy', 'fancy', 'begun', 'inching', 'ward', 'starkist', 'driver', 'richard', 'mattes', 'tan', 'release', 'expenditure', 'substrate', 'oxidation', 'objective', 'subjective', 'selection', 'visceral', 'accelerometry', 'predicting', 'painted', 'greeting', 'paintings', 'energizes', 'think', 'creatively', 'color', 'boundaries', 'manju', 'arenas', 'triangle', 'inter', 'shuttle', 'gsnccp', 'politica', 'jumpstart', 'democracync', 'spin', 'rdelicious', 'eclectic', 'neena', 'sleeve', 'gastrectomy', 'roux', 'single', 'loop', 'endoscopic', 'weig', 'rochelle', 'proactive', 'near', 'backpacker', 'clifton', 'menorah', 'sell', 'circling', 'mirabile', 'pressured', 'fertilegirl', 'dug', 'canned', 'superfan', 'peterborough', 'colleran', 'significance', 'google', 'hot', 'inspo', 'instagam', 'loomis', 'steer', 'away', 'crayons', 'colouring', 'toys', 'accompany', 'willow', 'psych', 'chefs', 'hilton', 'dietitianonadiet', 'practicce', 'focussing', 'herswg', 'submerging', 'emyrald', 'sunkitchen', 'pureradiantself', 'neil', 'topeka', 'osage', 'samadi', 'nutroutine', 'connecting', 'eatwell', 'bewellrd', 'cmussatto', 'hotmail', 'difm', 'jarrell', 'hypoglycemia', 'hyperglycemia', 'glucagon', 'injections', 'octane', 'gradual', 'resculpting', 'organizing', 'farsi', 'persian', 'mana', 'preventionrd', 'nsca', 'cscs', 'cpsda', 'calcutta', 'pco', 'hypothyroid', 'logical', 'dealt', 'liposuction', 'expiration', 'forever', 'viewing', 'popped', 'pills', 'resection', 'fed', 'awful', 'naturopath', 'meaning', 'masking', 'tracts', 'shift', 'mindsets', 'helenagresti', 'pronutritionconsulting', 'shelters', 'publicist', 'contracts', 'workplaces', 'kellyschoice', 'endocrinologists', 'complaints', 'hartnett', 'flt', 'contracted', 'larimer', 'columbine', 'benchmark', 'rea', 'rockies', 'prescott', 'pillion', 'motorcycle', 'nutritions', 'karkardooma', 'godiets', 'spotswood', 'maryrose', 'hertfordshire', 'tumour', 'huon', 'lyndi', 'adopts', 'stripping', 'stroller', 'strides', 'weeding', 'okay', 'quite', 'elysacruserd', 'kaliegh', 'memories', 'sacrificing', 'livelytable', 'impairments', 'protective', 'controlling', 'readiness', 'entails', 'kickboxing', 'akron', 'satisfy', 'guardian', 'hallmark', 'vs', 'joe', 'digestible', 'colgate', 'maastricht', 'kathmandu', 'nepal', 'nov', 'bodybuilding', 'aapf', 'lb', 'bench', 'adamyezer', 'troponinnutrition', 'dots', 'examples', 'wills', 'kerryn', 'enthused', 'chronicle', 'montebello', 'unified', 'musd', 'lesson', 'boasts', 'varieties', 'davidson', 'sle', 'lupus', 'incurable', 'requires', 'waves', 'unpredictable', 'unwilling', 'strict', 'distaste', 'enthusiastically', 'hearty', 'batch', 'charlie', 'niece', 'proves', 'smarteeplate', 'goodreads', 'carve', 'indulge', 'unapologetically', 'kindnessonline', 'shruti', 'maheshwary', 'yarmouth', 'manageable', 'compass', 'kean', 'alexa', 'praised', 'stuff', 'bebalanacedrd', 'expertnutritionandwellness', 'ncs', 'waldoks', 'lao', 'pdr', 'malawi', 'capacity', 'zimbabwe', 'lanka', 'oslo', 'organizational', 'financing', 'hanoi', 'intensity', 'waist', 'circumference', 'abdominally', 'cycles', 'appalachian', 'affects', 'russell', 'delving', 'mcmaster', 'fht', 'afhto', 'admins', 'ihps', 'incidence', 'macrocytic', 'microcytic', 'anemia', 'ihp', 'striking', 'toll', 'functioning', 'weihofen', 'revises', 'standby', 'loved', 'deliciously', 'invented', 'preparations', 'charisma', 'intimately', 'ensures', 'keys', 'keynote', 'leeza', 'montel', 'maury', 'povich', 'possesses', 'smoking', 'cessation', 'boomer', 'rebel', 'susanpiergeorge', 'fascinating', 'nsa', 'fortmeade', 'barnes', 'noble', 'cunningham', 'valentine', 'incamden', 'bba', 'riverdale', 'ga', 'mohr', 'mohrresults', 'deloitte', 'barilla', 'guy', 'comfortable', 'nazima', 'flair', 'preoccupation', 'humor', 'diamond', 'utmost', 'improvements', 'bureau', 'acquiring', 'biotechnologist', 'wherein', 'asses', 'mehendi', 'artist', 'goqii', 'proficient', 'rewards', 'operational', 'bohemian', 'twilight', 'trucks', 'reflexology', 'urbana', 'kindergarten', 'elea', 'bless', 'demeanor', 'genuine', 'cultivated', 'loyal', 'expanded', 'counselled', 'namibia', 'geopolitical', 'obstacles', 'accessing', 'impacted', 'transmission', 'immaeatthat', 'res', 'camera', 'puppy', 'trade', 'geography', 'fbt', 'iaedp', 'renee', 'parkinson', 'hospitalizations', 'pd', 'gathering', 'fore', 'assortment', 'denominator', 'wishing', 'asked', 'morbidities', 'kacey', 'demystifying', 'raleigh', 'ngaire', 'vital', 'necessitate', 'decline', 'pushpa', 'sanskrit', 'bhagavad', 'gita', 'chinmaya', 'shekhar', 'sibley', 'bethesda', 'rory', 'acupuncturist', 'sujirtha', 'beena', 'ac', 'ptsd', 'subsequent', 'wgbh', 'parts', 'baja', 'verapaz', 'progreso', 'solol', 'jutiapa', 'gabriela', 'salud', 'camila', 'desirable', 'inquire', 'cdoe', 'routinely', 'carey', 'moreaboutthat', 'foundational', 'cbnp', 'reap', 'neither', 'truth', 'tulsa', 'cjad', 'round', 'australian', 'authorship', 'sessional', 'griffith', 'cftr', 'modulators', 'rare', 'evolve', 'representing', 'woodland', 'lufkin', 'brookshire', 'charm', 'foundations', 'un', 'ngos', 'textbooks', 'cds', 'avoidance', 'minho', 'portugal', 'perception', 'showed', 'signs', 'mme', 'hobart', 'bryanston', 'newpapers', 'biokinetics', 'johannesburg', 'pretoria', 'shield', 'employers', 'jazz', 'accordion', 'fondness', 'lasalle', 'spanning', 'postmenopausal', 'commandments', 'planted', 'equitable', 'broader', 'citygate', 'nurtures', 'moves', 'delight', 'selvera', 'siemon', 'slave', 'struggled', 'physique', 'sexes', 'healthily', 'deem', 'sligo', 'gaa', 'caledonian', 'coventry', 'altnagelvin', 'belfast', 'fooditionist', 'challenged', 'sacrifice', 'andra', 'vaclavik', 'translations', 'swade', 'cllinics', 'nutriton', 'harrigan', 'reflecting', 'property', 'schlussel', 'iris', 'sauces', 'dressings', 'adjusts', 'canton', 'hhqi', 'hhcc', 'remote', 'praise', 'incredible', 'cocktails', 'articulate', 'saying', 'prn', 'pelham', 'cuddling', 'southcoast', 'biotypes', 'strengthing', 'recessive', 'glands', 'gladulars', 'bn', 'arfid', 'mynydiet', 'derella', 'shops', 'switching', 'rower', 'manna', 'mannaliving', 'honorary', 'flavour', 'frittata', 'curries', 'chunky', 'pods', 'skimping', 'yumminess', 'seriously', 'ventured', 'unknown', 'expand', 'abilities', 'advertising', 'looked', 'encountering', 'bridal', 'sup', 'nuskin', 'differentiated', 'peco', 'meter', 'mandate', 'naturalblaze', 'frompovich', 'testimony', 'utility', 'administrator', 'buildup', 'agvocate', 'hazelmere', 'sw', 'imbalance', 'stroudsburg', 'belmont', 'hines', 'alb', 'ndiga', 'meatball', 'izzyeatsrd', 'collateral', 'barrington', 'metabolomics', 'biotransformation', 'podiatric', 'sororities', 'columbus', 'ainsley', 'couple', 'prairie', 'sodastream', 'turnbull', 'hchc', 'ccfa', 'qut', 'lynne', 'congregate', 'chartwells', 'chanika', 'customizing', 'preschoolers', 'menutrinfo', 'diligently', 'audit', 'signage', 'accuracy', 'jaylene', 'february', 'mandarin', 'mangers', 'mc', 'feedbacks', 'edrs', 'corte', 'madera', 'rafael', 'alta', 'devoting', 'cupertino', 'proctocolitis', 'firsthand', 'chairs', 'harvest', 'foodnet', 'rosie', 'calabasas', 'hamlaxing', 'hammock', 'stefhealthtips', 'islands', 'clinican', 'schneider', 'selena', 'okanagan', 'funky', 'dafne', 'sends', 'requests', 'patissier', 'apprentice', 'nutritionrx', 'fmb', 'spoiled', 'fur', 'kiki', 'brushing', 'lowcountry', 'strictly', 'wondrous', 'productive', 'topper', 'welcomgroup', 'namely', 'kmc', 'mangalore', 'corporates', 'infosys', 'nutrihealth', 'lacarte', 'actors', 'average', 'eliminating', 'passaic', 'highlands', 'smoothly', 'pin', 'dekalb', 'ed', 'kalish', 'paced', 'fork', 'alcohol', 'lighthouse', 'lri', 'doors', 'totalbodynourishment', 'utilize', 'crash', 'deprived', 'ketocalculator', 'calculating', 'ketoegnic', 'conquered', 'carbohydrates', 'wolf', 'donia', 'innovating', 'soboco', 'chard', 'racquet', 'sportsclub', 'ihrsa', 'wicked', 'wickedgoodnutrition', 'alexb', 'densie', 'webb', 'environmentalnutrition', 'botanical', 'thereby', 'revolutionizing', 'joys', 'physiologist', 'disabled', 'optumhealth', 'feb', 'stated', 'triglycerides', 'mct', 'referring', 'length', 'gfcf', 'scd', 'gaps', 'sourcing', 'lounge', 'behavioural', 'cbt', 'aberdeen', 'scotland', 'vegiterranean', 'z', 'vegnews', 'forks', 'knives', 'harvey', 'reluctantly', 'osmond', 'velez', 'mitchell', 'tasnim', 'buds', 'sights', 'sounds', 'proudest', 'cavendish', 'liu', 'exploration', 'dental', 'referral', 'catherine', 'sienna', 'smithtown', 'msu', 'informs', 'casualty', 'endeavor', 'ecsi', 'rediscovering', 'relaxed', 'vi', 'otherwise', 'michele', 'todd', 'ceasefire', 'save', 'thanks', 'hq', 'reflect', 'alimaclaine', 'btinternet', 'curling', 'kayak', 'canoe', 'infuse', 'intention', 'detriment', 'welfare', 'nutritionalanat', 'hip', 'pictured', 'nutrispeak', 'kerry', 'spices', 'sapna', 'spiced', 'formed', 'riverfront', 'endured', 'assemblies', 'deakin', 'timor', 'desserts', 'decadent', 'watchers', 'overwhelming', 'miscarriages', 'breadth', 'academics', 'sonya', 'leaky', 'kinesiologist', 'afpa', 'markita', 'identity', 'stefania', 'idec', 'nupens', 'sao', 'paulo', 'consea', 'faulkner', 'solids', 'highs', 'superkidsnutrition', 'hilary', 'molds', 'trucenutritionllc', 'pakistan', 'uganda', 'surveys', 'toxins', 'immunity', 'pioneers', 'bloated', 'achy', 'tired', 'driving', 'consistently', 'daub', 'keeley', 'kelley', 'debunks', 'guilt', 'slice', 'thenutritionguruandthechef', 'roatan', 'pier', 'honduras', 'mwph', 'denhard', 'prevents', 'osf', 'brillat', 'savarin', 'medal', 'merit', 'mtv', 'keener', 'bikes', 'millbrae', 'challenging', 'rhopewell', 'burlingameschools', 'compete', 'henderson', 'scholarships', 'advantage', 'wlsdailyplate', 'span', 'wesleyan', 'barnard', 'mealtime', 'mesenburg', 'marci', 'promotions', 'conduct', 'patrick', 'clinicaltrials', 'microryza', 'chantell', 'notably', 'sacsowach', 'ministerial', 'morbidity', 'mortality', 'commic', 'undertaking', 'regimes', 'establishments', 'classification', 'description', 'usc', 'keck', 'gonda', 'goldschmied', 'prominent', 'pathology', 'jonezi', 'fran', 'sern', 'overhaul', 'decreased', 'eliminate', 'foodasmedicinenz', 'ciara', 'aryan', 'mathur', 'magicians', 'density', 'densitometr', 'justice', 'inclusive', 'boxing', 'champs', 'manny', 'pacquiao', 'mikey', 'garcia', 'amir', 'khan', 'ufc', 'andrei', 'arlovski', 'wta', 'azarenka', 'byron', 'bynum', 'ronny', 'turiaf', 'owensboro', 'inquirer', 'happens', 'fertilitycare', 'compliment', 'cucamonga', 'normalized', 'strengthening', 'resiliency', 'bainbridge', 'wa', 'indore', 'commercially', 'cultured', 'crustaceans', 'suarez', 'aqua', 'inception', 'keene', 'holbrook', 'hybrid', 'uplifts', 'fullest', 'authentic', 'matchmaker', 'dating', 'pyramid', 'capitalizing', 'federico', 'naples', 'piemonte', 'orientale', 'alessandria', 'torino', 'messina', 'corriere', 'della', 'sera', 'transplants', 'evans', 'vestcom', 'shelf', 'maga', 'zines', 'paulunsfood', 'discovering', 'guidebook', 'sumner', 'soaking', 'eattolivehappy', 'spot', 'kalpana', 'gupta', 'shekhawat', 'choronic', 'stressful', 'instructional', 'bloomsburg', 'rudat', 'telehealth', 'credited', 'recruitment', 'lincoln', 'creighton', 'multiply', 'rostler', 'attaining', 'workdays', 'pcrm', 'rouxbe', 'congolese', 'citrus', 'grapefruit', 'mango', 'banana', 'kouamba', 'lycopene', 'antioxidant', 'reduces', 'arid', 'tropics', 'icrisat', 'efficient', 'intensifying', 'barley', 'sorghum', 'pearl', 'millet', 'groundnut', 'pigeon', 'pea', 'twickenham', 'liverpool', 'moores', 'oils', 'clinically', 'stonecrest', 'smyrna', 'independently', 'rekindle', 'century', 'kramer', 'detoxifying', 'rejuvenating', 'revitalizing', 'bioavailability', 'folates', 'synthetic', 'folic', 'acid', 'folate', 'mondays', 'racine', 'healthrd', 'biochemically', 'bondage', 'abundant', 'schooling', 'iced', 'lattes', 'similar', 'waitress', 'camden', 'nosh', 'solely', 'rescuing', 'neglected', 'heard', 'yulin', 'arrived', 'imagined', 'seventeen', 'zeetv', 'dnainfo', 'mercier', 'yotel', 'mumm', 'modeled', 'swimwear', 'tree', 'digest', 'helpful', 'asheville', 'breeders', 'growers', 'zeb', 'openly', 'honestly', 'barista', 'sheboygan', 'exchange', 'coffeehouse', 'moraine', 'replacing', 'neglect', 'negativity', 'basheerah', 'cooler', 'neonatology', 'miller', 'clec', 'offamily', 'nutritionjobs', 'exercisejobs', 'manuel', 'villacorta', 'remission', 'newcastle', 'idea', 'graphic', 'designer', 'gallatin', 'detention', 'inmates', 'facetime', 'whatsapp', 'habla', 'presta', 'todos', 'sus', 'servicios', 'este', 'idioma', 'andres', 'robles', 'purchases', 'whc', 'adopted', 'delivered', 'bias', 'stigma', 'valued', 'lopez', 'reese', 'witherspoon', 'cher', 'downey', 'raquel', 'welch', 'qualify', 'rabbit', 'staunton', 'neurofeedback', 'braintrainuk', 'wp', 'uploads', 'aap', 'conclusion', 'echo', 'raffles', 'refrigerated', 'moreover', 'proposal', 'persuade', 'superbugs', 'pork', 'preserved', 'raises', 'proposed', 'landscape', 'investment', 'interaction', 'magna', 'karp', 'migraine', 'lemond', 'plano', 'cheerleading', 'sunrise', 'cognidiet', 'august', 'suppers', 'supper', 'veronique', 'unwanted', 'pulling', 'rockville', 'ckd', 'theories', 'pound', 'breakthrough', 'makeup', 'blueprint', 'sm', 'br', 'rs', 'worrying', 'downloads', 'eleven', 'devised', 'convenient', 'guarantee', 'indeed', 'bonus', 'prove', 'technological', 'thessaloniki', 'keadd', 'attributed', 'polished', 'ef', 'nurseries', 'nursery', 'teeny', 'tummies', 'effortlessly', 'transmits', 'hata', 'cope', 'honeymoon', 'bedridden', 'unrelenting', 'mesh', 'wtop', 'cognition', 'alumna', 'clemenceau', 'beirut', 'heavily', 'jay', 'monahan', 'als', 'captures', 'restore', 'therestorecenter', 'restorecenternutrition', 'aspires', 'randomises', 'healthlinkbc', 'ksde', 'daytime', 'epigenetics', 'brighams', 'ranged', 'bantam', 'varsity', 'bchl', 'whl', 'tristaca', 'bodysense', 'irwin', 'sweetener', 'shugar', 'displayed', 'kc', 'digging', 'dose', 'skepticism', 'endless', 'curiosity', 'hitting', 'burying', 'nose', 'daydreaming', 'rit', 'purchase', 'blw', 'transferred', 'magical', 'fancies', 'bird', 'luxuries', 'guilty', 'ashamed', 'embarrassed', 'continents', 'trip', 'bests', 'assistants', 'lamza', 'bryce', 'friendship', 'inviduals', 'viha', 'elietha', 'complement', 'waldron', 'royalway', 'indirapuram', 'ghaziabad', 'harmonal', 'therapuetic', 'cosmetic', 'omni', 'kellird', 'schumacher', 'edd', 'preceptors', 'ietetics', 'scale', 'lunches', 'auto', 'scenes', 'stressed', 'reactions', 'ginny', 'nurtition', 'bloomfield', 'makeover', 'wdiv', 'wolverines', 'ended', 'converted', 'ramachandra', 'akalya', 'sampath', 'kumar', 'suzette', 'pillars', 'consciousness', 'gratitude', 'systolic', 'dash', 'worst', 'satisfaction', 'laurels', 'appreciations', 'excellency', 'wed', 'splendid', 'dreadful', 'nutribullet', 'hyman', 'lacking', 'shared', 'usp', 'modifying', 'anjum', 'lokhandwala', 'flip', 'validation', 'og', 'sakhi', 'ek', 'vishwas', 'humari', 'ummeed', 'angel', 'yournydietitian', 'baysport', 'amruta', 'bhalerao', 'paud', 'followers', 'leaves', 'satisfied', 'thesassydietitian', 'genius', 'dieters', 'handy', 'olime', 'ghana', 'creatinghealthyeaters', 'individuality', 'customise', 'advise', 'karman', 'thorne', 'totoro', 'probiotics', 'academia', 'transitions', 'crazy', 'troubleshooting', 'unhealthiest', 'guess', 'contrary', 'kitty', 'mclaren', 'cole', 'lambert', 'hattiesburg', 'examine', 'liberalizing', 'traditionally', 'resolution', 'triggers', 'kittens', 'whenever', 'reunion', 'disadvantaged', 'indigenous', 'refugee', 'cohesion', 'settlement', 'picture', 'ayla', 'seafood', 'thrift', 'gastroenterologists', 'marc', 'unnecessary', 'fluff', 'afn', 'risks', 'bps', 'dedication', 'shradha', 'srivastava', 'indira', 'cigna', 'wok', 'nut', 'tanisha', 'motive', 'user', 'monicalebre', 'ecr', 'madras', 'chenai', 'phil', 'pivonka', 'absolutely', 'antigonish', 'nova', 'scotia', 'saw', 'pres', 'opdq', 'herbert', 'synchronised', 'liyan', 'bathurst', 'glencairn', 'miriamleibowitz', 'extended', 'kasia', 'proton', 'partiqol', 'affinity', 'calumet', 'bscahn', 'mscahn', 'felicia', 'pal', 'sai', 'dramatic', 'exhaustion', 'dependency', 'colds', 'flus', 'appearing', 'drjoanna', 'sakina', 'patrawala', 'potts', 'wholefoodsexplorer', 'indicated', 'decision', 'thewholesomefork', 'license', 'messaging', 'furthering', 'leverage', 'feastofgreen', 'genitourinary', 'hematological', 'lincolnshire', 'anywhere', 'circus', 'shetlands', 'russian', 'amber', 'language', 'jonah', 'franciscan', 'manhattanites', 'atkins', 'madsen', 'initiates', 'healed', 'kinjal', 'nagda', 'discerning', 'seeker', 'labour', 'harem', 'proceeds', 'war', 'humanity', 'lend', 'laying', 'ground', 'devise', 'intercollege', 'nicosia', 'onthe', 'recommend', 'notable', 'pharmess', 'gmbh', 'adroit', 'habit', 'suitable', 'purposes', 'hood', 'intricacies', 'optimised', 'gastrostomy', 'virtual', 'khnutrition', 'fell', 'commencing', 'shortlisted', 'finalist', 'examined', 'ghansoli', 'dadar', 'nasik', 'tulane', 'greenmarkets', 'glamorous', 'rest', 'neapolitan', 'pizza', 'clothing', 'blush', 'pink', 'trench', 'disciplinary', 'calvary', 'uscategui', 'nicklaus', 'riva', 'gains', 'tailor', 'jail', 'societies', 'intense', 'pains', 'rely', 'reference', 'pocket', 'sequential', 'sos', 'toomey', 'highroads', 'hipp', 'kabrita', 'pentz', 'kluyts', 'nutricia', 'rob', 'nephews', 'payne', 'gonz', 'lez', 'carlos', 'mylimuconnection', 'shweta', 'akhilesh', 'sanjeevni', 'ranchi', 'karnataka', 'acknowledge', 'contract', 'tuberculosis', 'recovered', 'tb', 'relishing', 'indulgences', 'pursuits', 'sampling', 'combinations', 'olive', 'basil', 'haverford', 'ha', 'epidermolysis', 'bullosa', 'eb', 'phillips', 'acres', 'malta', 'miracle', 'worker', 'firstweightlossclinics', 'mankato', 'ames', 'ia', 'doctorates', 'nonella', 'chew', 'addressed', 'invaluable', 'fleur', 'jaspreet', 'kaur', 'wellskool', 'mansarover', 'mamta', 'chib', 'harkrishan', 'sahib', 'sohana', 'eye', 'super', 'speciality', 'mohali', 'gnd', 'sitaram', 'bhartia', 'lilavati', 'nutriguide', 'ambolkar', 'om', 'bhai', 'saheb', 'sawan', 'ayurved', 'pgdem', 'symbiosis', 'raigarh', 'rotary', 'composed', 'grasslands', 'rockglen', 'linking', 'mehr', 'motility', 'sheknows', 'spaulding', 'gyn', 'felt', 'valentinenutrition', 'hasmath', 'begum', 'kasturba', 'secunderabadv', 'chd', 'defects', 'bright', 'dupont', 'testimonies', 'manduva', 'hemalatha', 'truweight', 'pvt', 'nagarjuna', 'outspoken', 'nicely', 'confused', 'calmly', 'respectfully', 'queries', 'clears', 'positiveness', 'jeevan', 'sutra', 'loving', 'indulgent', 'banker', 'increasingly', 'resulted', 'georgian', 'goel', 'frustrating', 'newtown', 'feelyourbestnutrition', 'newtownnutrition', 'copies', 'yeg', 'rental', 'stanger', 'detailing', 'hsfsa', 'petersburg', 'beales', 'spearheading', 'fueled', 'editorials', 'kknott', 'southernhealth', 'pistachio', 'hypersensitivities', 'advances', 'distances', 'qualifier', 'finisher', 'esportsrd', 'caters', 'confessed', 'geek', 'perryn', 'duchess', 'tracking', 'trivia', 'contest', 'expos', 'caro', 'ayoob', 'soybean', 'kush', 'miglani', 'rajiv', 'ment', 'fever', 'nasm', 'bega', 'specialise', 'generalist', 'lifeway', 'retailers', 'oiselle', 'volee', 'foot', 'rwanda', 'rdns', 'plentiful', 'unwellness', 'ancestral', 'restricted', 'elisarossnutrition', 'banner', 'sierra', 'anticipated', 'vidyasagar', 'bengal', 'peerless', 'magic', 'pill', 'genomics', 'aumc', 'attuned', 'signals', 'majors', 'karin', 'completely', 'devote', 'nudged', 'figuring', 'statewide', 'game', 'sprat', 'wichita', 'ogram', 'ithaca', 'minors', 'gillings', 'ceed', 'puerto', 'rico', 'inherited', 'regroupement', 'maladies', 'taboliques', 'verma', 'rainbow', 'sikandra', 'agra', 'chico', 'ucdmc', 'indraprastha', 'froedtert', 'wi', 'wtmj', 'neelanjana', 'pushpawati', 'singhania', 'psri', 'sheikh', 'sarai', 'elliott', 'burnout', 'pleased', 'lancashire', 'accessed', 'minimal', 'waiting', 'hayley', 'predominantly', 'obstructive', 'pulmonary', 'danikadunn', 'meghna', 'parekh', 'sheth', 'pai', 'polyclinic', 'goregaon', 'raksha', 'nandagudi', 'cool', 'cryotherapy', 'jayanagar', 'mysore', 'pgd', 'ksou', 'airms', 'kaupb', 'catalyst', 'enhancing', 'transformations', 'ddri', 'coloradoan', 'resume', 'glendale', 'raptors', 'necessity', 'intelligently', 'thornhill', 'scuba', 'platform', 'pray', 'nutella', 'simran', 'evenings', 'kaushik', 'continuous', 'morbid', 'pharmacotherapy', 'combat', 'archana', 'agogna', 'invitehealth', 'murray', 'susie', 'buona', 'vista', 'mbant', 'diplomas', 'acquainted', 'vikas', 'puri', 'specifications', 'morrison', 'analogues', 'fake', 'remuda', 'derives', 'nilgiri', 'ecoclubs', 'panchayat', 'hyde', 'kellyn', 'fibers', 'dhss', 'dph', 'default', 'aspx', 'vermander', 'nikita', 'bansal', 'dalmia', 'heilen', 'gariahat', 'discourages', 'augment', 'philanthropist', 'walnuts', 'sunflower', 'sent', 'epinephrine', 'injured', 'motor', 'vehicle', 'accidents', 'measures', 'cimperman', 'spoke', 'interact', 'successes', 'pepper', 'party', 'decor', 'documenting', 'scrapbook', 'mycreativechat', 'goop', 'laurenconrad', 'elle', 'refinery', 'bonappetit', 'popsugar', 'breathing', 'jamee', 'otago', 'contexts', 'zambia', 'jody', 'scaling', 'secretariat', 'msps', 'msp', 'gent', 'katholiek', 'arnot', 'ogden', 'nominating', 'elmira', 'chicken', 'pic', 'nysand', 'endicott', 'kelvin', 'elusive', 'tangible', 'aha', 'ridge', 'ruhi', 'alware', 'niron', 'santacruz', 'nirna', 'zarna', 'shah', 'pooja', 'makhija', 'elevated', 'pedagogy', 'purple', 'carrot', 'trinidad', 'tobago', 'ttandi', 'permaculturist', 'rewilding', 'hieronymus', 'barnstable', 'ford', 'silky', 'escort', 'ideel', 'ida', 'updates', 'gimmicks', 'arnold', 'palmer', 'xpress', 'prescriber', 'inspector', 'inspecting', 'swathikrishna', 'juvvi', 'secunderabad', 'nutricare', 'satara', 'dy', 'patil', 'pgdems', 'ram', 'siddhartha', 'maharashtra', 'universtity', 'nashik', 'ccim', 'nima', 'sencitivity', 'requiremetns', 'chelsey', 'zoras', 'peart', 'byproduct', 'withdrawal', 'decrease', 'carcass', 'yield', 'copper', 'coble', 'pinnacle', 'nfp', 'revenue', 'profitability', 'freeman', 'seared', 'seasoned', 'smoked', 'paprika', 'powder', 'lime', 'cumin', 'chipotle', 'yogurt', 'creamy', 'coleslaw', 'leyba', 'siriusxm', 'exhale', 'sardar', 'patel', 'nazarene', 'examination', 'fears', 'sd', 'wiener', 'perhaps', 'panamerican', 'methylgenetic', 'formulator', 'givler', 'epigenetic', 'fronting', 'adequacies', 'initiating', 'puay', 'shi', 'indirect', 'calorimetry', 'comprises', 'themes', 'paired', 'rcpch', 'lactose', 'commissioned', 'nottingham', 'tally', 'therapeutically', 'explaining', 'clearing', 'yashoda', 'pushpanjali', 'hcl', 'prescribes', 'waterforhealth', 'cup', 'academically', 'carnegie', 'mellon', 'giant', 'eagle', 'adagio', 'uvita', 'pragmatic', 'sufficient', 'drinks', 'fortified', 'enhanced', 'sneak', 'seth', 'crosstrain', 'kettlebell', 'junkie', 'hater', 'connected', 'reimbursement', 'informatics', 'emphasized', 'grass', 'subcommittee', 'janine', 'carrollton', 'suhag', 'whim', 'bunny', 'bostonian', 'centenary', 'clares', 'riverside', 'medicaid', 'barriers', 'crosby', 'chip', 'churches', 'beverley', 'glikman', 'natasha', 'pharmacy', 'dayton', 'sled', 'sitting', 'polo', 'domestically', 'pyeongchang', 'korea', 'humera', 'banu', 'physiotrix', 'bowenpally', 'padmavathi', 'mahila', 'vishwa', 'vidyalam', 'aiaaro', 'stats', 'caller', 'id', 'accumulated', 'scrolling', 'progress', 'ruchi', 'malik', 'replace', 'whey', 'plasma', 'bovine', 'ayesha', 'tasneem', 'sadashivnagar', 'sadashivanagar', 'obtainable', 'loosen', 'humorous', 'ironic', 'relatively', 'softened', 'considerably', 'brandy', 'multicare', 'preemies', 'westfeeds', 'cereal', 'economically', 'inexpensive', 'retained', 'prices', 'lightweight', 'add', 'skeletal', 'compensatory', 'ideology', 'colourful', 'relatable', 'thenakedtruth', 'myflo', 'periods', 'womancode', 'caffeine', 'tourette', 'exploratory', 'neuro', 'preliminary', 'acknowledged', 'khushboo', 'sahijwani', 'languages', 'labradoodle', 'gatos', 'aparna', 'enabling', 'turn', 'drastic', 'sustained', 'babcock', 'publishers', 'bloggers', 'ilanit', 'binges', 'chertin', 'winship', 'bad', 'sifting', 'expects', 'sprout', 'resolve', 'elimination', 'finely', 'aligned', 'complexities', 'bmisr', 'timeliness', 'budgeting', 'ascend', 'ingalls', 'iop', 'ventana', 'dependencies', 'repairing', 'uckele', 'tissue', 'veterinarians', 'naturopaths', 'toledo', 'channeled', 'countless', 'argus', 'clif', 'activewear', 'lululemon', 'hint', 'popchips', 'phutane', 'homoeo', 'koramangala', 'csnc', 'escape', 'supernature', 'hotels', 'resorts', 'inaugural', 'curated', 'dates', 'lowell', 'jaques', 'thereafter', 'sentara', 'rmh', 'hahn', 'branch', 'theinternational', 'brussels', 'minds', 'ditching', 'dmv', 'nbcbetter', 'realfoodcourt', 'incentive', 'juliana', 'brides', 'toe', 'thenutritionsuite', 'mascha', 'schweitzer', 'gabon', 'chad', 'marginalized', 'humanitarian', 'hotspots', 'nomadistanutrition', 'gleaned', 'girlfriend', 'younger', 'nagpur', 'chalkhore', 'alberni', 'aboriginal', 'althea', 'separate', 'paint', 'obstetricians', 'gynecologists', 'reddy', 'ferty', 'marredpally', 'botany', 'locals', 'visitors', 'nutritionwithcaroline', 'mastermind', 'stove', 'tobacco', 'attend', 'forming', 'coccia', 'ri', 'beaton', 'bow', 'banff', 'canmore', 'saddleback', 'laguna', 'boeing', 'rei', 'faa', 'aadp', 'haasholistic', 'tobogganing', 'snowboarding', 'boating', 'trendz', 'jasper', 'rutherford', 'brooks', 'rangel', 'wishes', 'schoolers', 'premature', 'bryn', 'mawr', 'biobehavioral', 'kreft', 'concentrates', 'mellitus', 'yahoo', 'maree', 'ldcp', 'curently', 'consists', 'feedback', 'curates', 'confessionofadietitian', 'confessionofadietician', 'hacks', 'hanley', 'guesswork', 'benedictine', 'happiest', 'veg', 'curious', 'carly', 'informing', 'gibson', 'accumulating', 'saucy', 'nuanes', 'recognize', 'circumstances', 'advocates', 'reclaim', 'nourished', 'westin', 'php', 'tnt', 'balch', 'fontbonne', 'honoring', 'sources', 'cosmetics', 'safer', 'writings', 'candidates', 'slimfast', 'fortune', 'federally', 'curriculums', 'bucket', 'shelly', 'bbc', 'touts', 'winds', 'confined', 'celebrates', 'abusing', 'buddhist', 'encountered', 'teachings', 'inward', 'inner', 'lauderdale', 'daytona', 'encompassed', 'elder', 'terrier', 'earlier', 'tended', 'regardless', 'hispanics', 'pgssfn', 'pgdmlt', 'perfekt', 'disha', 'solanki', 'worries', 'compatibly', 'hangry', 'angry', 'expect', 'eliminated', 'jobs', 'mixed', 'gsma', 'accelerate', 'bangladesh', 'inka', 'convenes', 'ids', 'elena', 'bras', 'lia', 'presidency', 'determinants', 'progressive', 'realization', 'vivianna', 'wou', 'choosing', 'motto', 'khor', 'thomson', 'novena', 'hashimoto', 'permits', 'snow', 'shoeing', 'harder', 'forthcoming', 'judgments', 'authetic', 'vcu', 'interventionist', 'microscopy', 'nulife', 'burning', 'masses', 'shawnmynar', 'carolinas', 'marries', 'unbiased', 'obsessive', 'prioritizes', 'reliefs', 'sdand', 'networking', 'lhsc', 'pumping', 'solid', 'sprouts', 'croix', 'final', 'semester', 'adrc', 'quarterly', 'recruited', 'hansom', 'barre', 'chic', 'annemarie', 'considerations', 'ricci', 'succeeded', 'nakhle', 'ghadimi', 'nouran', 'investigation', 'renewed', 'uncg', 'hear', 'transcript', 'mp', 'ta', 'prime', 'object', 'globalize', 'fpies', 'eoe', 'sucrose', 'isomaltose', 'welcoming', 'honest', 'lakehead', 'stepped', 'evolving', 'nwha', 'tinton', 'riverview', 'centra', 'avon', 'gently', 'normalizing', 'pam', 'orleans', 'accreditation', 'abbey', 'ignasia', 'tjahjadi', 'rumah', 'sakit', 'ibu', 'dan', 'anak', 'hermina', 'tanjung', 'priok', 'jakarta', 'ked', 'atma', 'jaya', 'inspird', 'cedrd', 'wollongong', 'broken', 'typing', 'iii', 'standard', 'telegraph', 'slot', 'chrissy', 'breathwork', 'handmadehealthy', 'misconceptions', 'jull', 'superintendents', 'greens', 'analync', 'istrc', 'turfgrass', 'floratine', 'displaying', 'rashmi', 'cricket', 'karting', 'bout', 'livelihoods', 'spreadsheet', 'statistical', 'mark', 'slippery', 'programmatic', 'portfolios', 'surbhi', 'mitr', 'applications', 'nepean', 'directs', 'walton', 'moffitt', 'gulf', 'panama', 'forces', 'crestview', 'tenure', 'chisholm', 'miranda', 'kessel', 'grmc', 'latter', 'insects', 'waste', 'barrows', 'enviroflight', 'enterra', 'soldier', 'fly', 'veteran', 'decreasing', 'kapoor', 'sonam', 'dietery', 'consistent', 'voluntary', 'norma', 'remit', 'campaigning', 'personalizing', 'calpoly', 'paddle', 'boarding', 'attempting', 'brandeis', 'bronze', 'medals', 'organisation', 'aashna', 'keyuri', 'kotak', 'australians', 'complementing', 'comprising', 'podiatry', 'cambria', 'died', 'metastatic', 'jan', 'holistically', 'deirdrekavanagh', 'menorca', 'es', 'castell', 'repeating', 'sala', 'vecinos', 'cala', 'resilience', 'breastcancerkitchen', 'secondactkitchen', 'mlk', 'mcj', 'honoree', 'participate', 'fitlivin', 'gas', 'constipation', 'bothersome', 'labelling', 'compliance', 'translates', 'doable', 'tm', 'humber', 'tourism', 'insightful', 'weilernutrition', 'luciaweilerrd', 'accreditations', 'consideration', 'adler', 'linwood', 'montanan', 'caleb', 'healthworks', 'cchmc', 'nacogdoches', 'cecilialobatonutricion', 'pradhan', 'pioneer', 'mbbs', 'terna', 'anaesthesiology', 'lokmanya', 'tilak', 'municipal', 'sion', 'musical', 'guitar', 'songs', 'meredith', 'antonia', 'expecting', 'cbns', 'udhaya', 'offerings', 'hydration', 'euphebe', 'wellnessbyclaire', 'coretta', 'nonprofits', 'ursularidens', 'zest', 'secours', 'baltimore', 'raphael', 'precision', 'apos', 'notre', 'dame', 'battscrafts', 'handmade', 'items', 'workforce', 'preneurs', 'rapids', 'distributor', 'orthopedics', 'gow', 'rowers', 'christel', 'regatta', 'wrc', 'chronically', 'lukes', 'scope', 'users', 'santy', 'enzymes', 'elements', 'oxidants', 'wiechert', 'opti', 'danville', 'halifax', 'lynsey', 'nihr', 'autumn', 'stalls', 'comfrey', 'shampoo', 'cider', 'vinegars', 'sprouted', 'mung', 'breads', 'stall', 'clonakilty', 'fridays', 'skibbereen', 'newport', 'borra', 'divides', 'furthered', 'witness', 'backcountry', 'kary', 'deanna', 'rave', 'attendees', 'survivorships', 'accepted', 'extrauterine', 'retardation', 'retinopathy', 'prematurity', 'broadcasting', 'rebeca', 'jos', 'suffers', 'cohort', 'tygerberg', 'exposure', 'oligosaccharides', 'bode', 'laboratory', 'phs', 'corpus', 'christi', 'remaining', 'ccrc', 'schnauzers', 'agrees', 'lots', 'skipping', 'hearted', 'frustrated', 'fill', 'unmet', 'bariatricwholeliving', 'mybariarticlife', 'roehampton', 'brigitte', 'bznutritionny', 'bznutrition', 'zoe', 'tristan', 'lainey', 'flick', 'functionality', 'harold', 'alfond', 'augusta', 'bangor', 'stirling', 'theoretical', 'planned', 'netball', 'sprinters', 'aerobic', 'jake', 'tournaments', 'nand', 'eatrightnashville', 'enquiries', 'portrait', 'collection', 'imagery', 'straightforward', 'otter', 'devon', 'naomi', 'calm', 'triad', 'climbing', 'storage', 'fishing', 'unable', 'colon', 'dyslipidemia', 'deficit', 'enoch', 'disseminates', 'indulgence', 'micca', 'lying', 'undergraduates', 'eau', 'jewell', 'navigator', 'sonoran', 'universidad', 'sonora', 'limon', 'miro', 'centro', 'investigaci', 'alimentaci', 'desarrollo', 'mphil', 'migration', 'anthropometric', 'nutraceutical', 'aged', 'glasscock', 'marcus', 'wheat', 'defining', 'brit', 'winston', 'salem', 'ladybird', 'yadkin', 'edible', 'flowers', 'cuisines', 'destination', 'elli', 'fred', 'staten', 'fasting', 'thons', 'weightlifter', 'communicable', 'ncds', 'burden', 'economies', 'investigated', 'wannabe', 'yes', 'else', 'conducive', 'benedict', 'etiology', 'chai', 'cohorts', 'biomarkers', 'huddleson', 'nonalcoholic', 'alissa', 'shed', 'spotlight', 'anecdotal', 'unsupported', 'collar', 'roubex', 'golan', 'filed', 'insitution', 'purchasing', 'beaumont', 'oakland', 'anzmoss', 'daa', 'performances', 'andrews', 'londa', 'tatiana', 'samford', 'scholarship', 'cathy', 'ponteix', 'allan', 'nacho', 'excesses', 'olga', 'attached', 'hebrew', 'jerusalem', 'hadassah', 'ein', 'karem', 'brian', 'lawson', 'governing', 'financial', 'brookfield', 'cfo', 'dorado', 'escorts', 'alchemist', 'punchhi', 'nanak', 'dev', 'words', 'oppose', 'activecare', 'seizure', 'waking'])\""
      ]
     },
     "execution_count": 28,
     "metadata": {},
     "output_type": "execute_result"
    }
   ],
   "source": [
    "str(clss_dict[cls].keys())"
   ]
  },
  {
   "cell_type": "code",
   "execution_count": 26,
   "metadata": {},
   "outputs": [],
   "source": [
    "all_words = set(all_words)"
   ]
  },
  {
   "cell_type": "code",
   "execution_count": 9,
   "metadata": {},
   "outputs": [],
   "source": [
    "for cls in range (28):\n",
    "    for key in list(all_words):\n",
    "        if key not in clss_dict[cls]:\n",
    "            clss_dict[cls][key] = 0\n",
    "            "
   ]
  },
  {
   "cell_type": "code",
   "execution_count": 27,
   "metadata": {},
   "outputs": [
    {
     "data": {
      "text/plain": [
       "{' ',\n",
       " \"'\",\n",
       " '(',\n",
       " ')',\n",
       " ',',\n",
       " '[',\n",
       " ']',\n",
       " '_',\n",
       " 'a',\n",
       " 'b',\n",
       " 'c',\n",
       " 'd',\n",
       " 'e',\n",
       " 'f',\n",
       " 'g',\n",
       " 'h',\n",
       " 'i',\n",
       " 'j',\n",
       " 'k',\n",
       " 'l',\n",
       " 'm',\n",
       " 'n',\n",
       " 'o',\n",
       " 'p',\n",
       " 'q',\n",
       " 'r',\n",
       " 's',\n",
       " 't',\n",
       " 'u',\n",
       " 'v',\n",
       " 'w',\n",
       " 'x',\n",
       " 'y',\n",
       " 'z'}"
      ]
     },
     "execution_count": 27,
     "metadata": {},
     "output_type": "execute_result"
    }
   ],
   "source": [
    "all_words"
   ]
  },
  {
   "cell_type": "code",
   "execution_count": 7,
   "metadata": {},
   "outputs": [
    {
     "data": {
      "text/plain": [
       "11068"
      ]
     },
     "execution_count": 7,
     "metadata": {},
     "output_type": "execute_result"
    }
   ],
   "source": [
    "len(clss_dict[0])"
   ]
  },
  {
   "cell_type": "code",
   "execution_count": 11,
   "metadata": {},
   "outputs": [],
   "source": [
    "res = []\n",
    "for cls in range (28):\n",
    "    res.append(pd.DataFrame(list(clss_dict[0].items()),columns=['word','proba']))\n"
   ]
  },
  {
   "cell_type": "code",
   "execution_count": 15,
   "metadata": {},
   "outputs": [
    {
     "data": {
      "text/html": [
       "<div>\n",
       "<style scoped>\n",
       "    .dataframe tbody tr th:only-of-type {\n",
       "        vertical-align: middle;\n",
       "    }\n",
       "\n",
       "    .dataframe tbody tr th {\n",
       "        vertical-align: top;\n",
       "    }\n",
       "\n",
       "    .dataframe thead th {\n",
       "        text-align: right;\n",
       "    }\n",
       "</style>\n",
       "<table border=\"1\" class=\"dataframe\">\n",
       "  <thead>\n",
       "    <tr style=\"text-align: right;\">\n",
       "      <th></th>\n",
       "      <th>word</th>\n",
       "      <th>proba</th>\n",
       "    </tr>\n",
       "  </thead>\n",
       "  <tbody>\n",
       "    <tr>\n",
       "      <th>8878</th>\n",
       "      <td>aa</td>\n",
       "      <td>1</td>\n",
       "    </tr>\n",
       "    <tr>\n",
       "      <th>100344</th>\n",
       "      <td>aaa</td>\n",
       "      <td>0</td>\n",
       "    </tr>\n",
       "    <tr>\n",
       "      <th>94727</th>\n",
       "      <td>aaaa</td>\n",
       "      <td>0</td>\n",
       "    </tr>\n",
       "    <tr>\n",
       "      <th>328162</th>\n",
       "      <td>aaaahc</td>\n",
       "      <td>0</td>\n",
       "    </tr>\n",
       "    <tr>\n",
       "      <th>55246</th>\n",
       "      <td>aaaai</td>\n",
       "      <td>0</td>\n",
       "    </tr>\n",
       "    <tr>\n",
       "      <th>351724</th>\n",
       "      <td>aaaajreceived</td>\n",
       "      <td>0</td>\n",
       "    </tr>\n",
       "    <tr>\n",
       "      <th>75240</th>\n",
       "      <td>aaaasf</td>\n",
       "      <td>0</td>\n",
       "    </tr>\n",
       "    <tr>\n",
       "      <th>23999</th>\n",
       "      <td>aaacd</td>\n",
       "      <td>0</td>\n",
       "    </tr>\n",
       "    <tr>\n",
       "      <th>317392</th>\n",
       "      <td>aaae</td>\n",
       "      <td>0</td>\n",
       "    </tr>\n",
       "    <tr>\n",
       "      <th>53414</th>\n",
       "      <td>aaai</td>\n",
       "      <td>0</td>\n",
       "    </tr>\n",
       "    <tr>\n",
       "      <th>265909</th>\n",
       "      <td>aaaiauthor</td>\n",
       "      <td>0</td>\n",
       "    </tr>\n",
       "    <tr>\n",
       "      <th>125617</th>\n",
       "      <td>aaaipast</td>\n",
       "      <td>0</td>\n",
       "    </tr>\n",
       "    <tr>\n",
       "      <th>290551</th>\n",
       "      <td>aaaireceived</td>\n",
       "      <td>0</td>\n",
       "    </tr>\n",
       "    <tr>\n",
       "      <th>219186</th>\n",
       "      <td>aaairesearch</td>\n",
       "      <td>0</td>\n",
       "    </tr>\n",
       "    <tr>\n",
       "      <th>295193</th>\n",
       "      <td>aaaj</td>\n",
       "      <td>0</td>\n",
       "    </tr>\n",
       "    <tr>\n",
       "      <th>191486</th>\n",
       "      <td>aaal</td>\n",
       "      <td>0</td>\n",
       "    </tr>\n",
       "    <tr>\n",
       "      <th>262237</th>\n",
       "      <td>aaalac</td>\n",
       "      <td>0</td>\n",
       "    </tr>\n",
       "    <tr>\n",
       "      <th>329614</th>\n",
       "      <td>aaar</td>\n",
       "      <td>0</td>\n",
       "    </tr>\n",
       "    <tr>\n",
       "      <th>148135</th>\n",
       "      <td>aaari</td>\n",
       "      <td>0</td>\n",
       "    </tr>\n",
       "    <tr>\n",
       "      <th>39510</th>\n",
       "      <td>aaas</td>\n",
       "      <td>0</td>\n",
       "    </tr>\n",
       "    <tr>\n",
       "      <th>321635</th>\n",
       "      <td>aaasf</td>\n",
       "      <td>0</td>\n",
       "    </tr>\n",
       "    <tr>\n",
       "      <th>144341</th>\n",
       "      <td>aaasp</td>\n",
       "      <td>0</td>\n",
       "    </tr>\n",
       "    <tr>\n",
       "      <th>105328</th>\n",
       "      <td>aaasspecializes</td>\n",
       "      <td>0</td>\n",
       "    </tr>\n",
       "    <tr>\n",
       "      <th>186579</th>\n",
       "      <td>aab</td>\n",
       "      <td>0</td>\n",
       "    </tr>\n",
       "    <tr>\n",
       "      <th>262510</th>\n",
       "      <td>aaba</td>\n",
       "      <td>0</td>\n",
       "    </tr>\n",
       "    <tr>\n",
       "      <th>258135</th>\n",
       "      <td>aabb</td>\n",
       "      <td>0</td>\n",
       "    </tr>\n",
       "    <tr>\n",
       "      <th>300139</th>\n",
       "      <td>aabcap</td>\n",
       "      <td>0</td>\n",
       "    </tr>\n",
       "    <tr>\n",
       "      <th>106059</th>\n",
       "      <td>aabet</td>\n",
       "      <td>0</td>\n",
       "    </tr>\n",
       "    <tr>\n",
       "      <th>148567</th>\n",
       "      <td>aabha</td>\n",
       "      <td>0</td>\n",
       "    </tr>\n",
       "    <tr>\n",
       "      <th>307882</th>\n",
       "      <td>aabhar</td>\n",
       "      <td>0</td>\n",
       "    </tr>\n",
       "    <tr>\n",
       "      <th>290990</th>\n",
       "      <td>aabj</td>\n",
       "      <td>0</td>\n",
       "    </tr>\n",
       "    <tr>\n",
       "      <th>209705</th>\n",
       "      <td>aaborn</td>\n",
       "      <td>0</td>\n",
       "    </tr>\n",
       "    <tr>\n",
       "      <th>311327</th>\n",
       "      <td>aabt</td>\n",
       "      <td>0</td>\n",
       "    </tr>\n",
       "    <tr>\n",
       "      <th>268122</th>\n",
       "      <td>aac</td>\n",
       "      <td>0</td>\n",
       "    </tr>\n",
       "    <tr>\n",
       "      <th>247476</th>\n",
       "      <td>aacap</td>\n",
       "      <td>0</td>\n",
       "    </tr>\n",
       "    <tr>\n",
       "      <th>297893</th>\n",
       "      <td>aacc</td>\n",
       "      <td>0</td>\n",
       "    </tr>\n",
       "    <tr>\n",
       "      <th>29089</th>\n",
       "      <td>aacd</td>\n",
       "      <td>0</td>\n",
       "    </tr>\n",
       "    <tr>\n",
       "      <th>229167</th>\n",
       "      <td>aacdprocedures</td>\n",
       "      <td>0</td>\n",
       "    </tr>\n",
       "    <tr>\n",
       "      <th>325659</th>\n",
       "      <td>aacds</td>\n",
       "      <td>0</td>\n",
       "    </tr>\n",
       "    <tr>\n",
       "      <th>322421</th>\n",
       "      <td>aace</td>\n",
       "      <td>0</td>\n",
       "    </tr>\n",
       "    <tr>\n",
       "      <th>287285</th>\n",
       "      <td>aacelicensed</td>\n",
       "      <td>0</td>\n",
       "    </tr>\n",
       "    <tr>\n",
       "      <th>291854</th>\n",
       "      <td>aachen</td>\n",
       "      <td>0</td>\n",
       "    </tr>\n",
       "    <tr>\n",
       "      <th>230224</th>\n",
       "      <td>aaci</td>\n",
       "      <td>0</td>\n",
       "    </tr>\n",
       "    <tr>\n",
       "      <th>220102</th>\n",
       "      <td>aacio</td>\n",
       "      <td>0</td>\n",
       "    </tr>\n",
       "    <tr>\n",
       "      <th>346705</th>\n",
       "      <td>aacm</td>\n",
       "      <td>0</td>\n",
       "    </tr>\n",
       "    <tr>\n",
       "      <th>36112</th>\n",
       "      <td>aacn</td>\n",
       "      <td>0</td>\n",
       "    </tr>\n",
       "    <tr>\n",
       "      <th>137086</th>\n",
       "      <td>aacnem</td>\n",
       "      <td>0</td>\n",
       "    </tr>\n",
       "    <tr>\n",
       "      <th>286136</th>\n",
       "      <td>aacnmichigan</td>\n",
       "      <td>0</td>\n",
       "    </tr>\n",
       "    <tr>\n",
       "      <th>347564</th>\n",
       "      <td>aacnpractice</td>\n",
       "      <td>0</td>\n",
       "    </tr>\n",
       "    <tr>\n",
       "      <th>52071</th>\n",
       "      <td>aacnsusan</td>\n",
       "      <td>0</td>\n",
       "    </tr>\n",
       "  </tbody>\n",
       "</table>\n",
       "</div>"
      ],
      "text/plain": [
       "                   word  proba\n",
       "8878                 aa      1\n",
       "100344              aaa      0\n",
       "94727              aaaa      0\n",
       "328162           aaaahc      0\n",
       "55246             aaaai      0\n",
       "351724    aaaajreceived      0\n",
       "75240            aaaasf      0\n",
       "23999             aaacd      0\n",
       "317392             aaae      0\n",
       "53414              aaai      0\n",
       "265909       aaaiauthor      0\n",
       "125617         aaaipast      0\n",
       "290551     aaaireceived      0\n",
       "219186     aaairesearch      0\n",
       "295193             aaaj      0\n",
       "191486             aaal      0\n",
       "262237           aaalac      0\n",
       "329614             aaar      0\n",
       "148135            aaari      0\n",
       "39510              aaas      0\n",
       "321635            aaasf      0\n",
       "144341            aaasp      0\n",
       "105328  aaasspecializes      0\n",
       "186579              aab      0\n",
       "262510             aaba      0\n",
       "258135             aabb      0\n",
       "300139           aabcap      0\n",
       "106059            aabet      0\n",
       "148567            aabha      0\n",
       "307882           aabhar      0\n",
       "290990             aabj      0\n",
       "209705           aaborn      0\n",
       "311327             aabt      0\n",
       "268122              aac      0\n",
       "247476            aacap      0\n",
       "297893             aacc      0\n",
       "29089              aacd      0\n",
       "229167   aacdprocedures      0\n",
       "325659            aacds      0\n",
       "322421             aace      0\n",
       "287285     aacelicensed      0\n",
       "291854           aachen      0\n",
       "230224             aaci      0\n",
       "220102            aacio      0\n",
       "346705             aacm      0\n",
       "36112              aacn      0\n",
       "137086           aacnem      0\n",
       "286136     aacnmichigan      0\n",
       "347564     aacnpractice      0\n",
       "52071         aacnsusan      0"
      ]
     },
     "execution_count": 15,
     "metadata": {},
     "output_type": "execute_result"
    }
   ],
   "source": [
    "res[0].sort_values(by=['word']).head(50)"
   ]
  },
  {
   "cell_type": "code",
   "execution_count": 35,
   "metadata": {},
   "outputs": [
    {
     "name": "stdout",
     "output_type": "stream",
     "text": [
      "professor\n",
      "prof\n"
     ]
    },
    {
     "name": "stderr",
     "output_type": "stream",
     "text": [
      "[nltk_data] Downloading package wordnet to /home/adil/nltk_data...\n",
      "[nltk_data]   Package wordnet is already up-to-date!\n"
     ]
    }
   ],
   "source": [
    "from nltk.corpus import wordnet as wn\n",
    "import nltk\n",
    "nltk.download('wordnet')\n",
    "for synset in wn.synsets(''):\n",
    "    for lemma in synset.lemmas():\n",
    "        print(lemma.name())"
   ]
  },
  {
   "cell_type": "code",
   "execution_count": 16,
   "metadata": {},
   "outputs": [],
   "source": [
    "k=0"
   ]
  },
  {
   "cell_type": "code",
   "execution_count": 22,
   "metadata": {},
   "outputs": [
    {
     "name": "stdout",
     "output_type": "stream",
     "text": [
      " He provides individual, family, and group therapy to children, adolescents, and adults through his private practice. Dr. Sheppard supervises clinical staff and graduate students in both Kentucky and Indiana. Group Psychotherapy with Children, a training curriculum authored by Dr. Sheppard, was published in 2008 by the American Group Psychotherapy Association (AGPA). This organization honored Dr. Sheppard in 2012 by naming him a Fellow (FAGPA). Dr. Sheppard teaches in the School of Professional Psychology at Spalding University and teaches, presents, and lectures at the local, state, and national levels.\n",
      "22\n"
     ]
    }
   ],
   "source": [
    "k = np.random.randint(train_df.shape[0])\n",
    "print(train_df['description'].iloc[k])\n",
    "print(train_label['Category'].iloc[k])"
   ]
  },
  {
   "cell_type": "code",
   "execution_count": 3,
   "metadata": {
    "executionInfo": {
     "elapsed": 768,
     "status": "ok",
     "timestamp": 1603037531395,
     "user": {
      "displayName": "Zouitine Mehdi",
      "photoUrl": "",
      "userId": "12448681489671159026"
     },
     "user_tz": -120
    },
    "id": "aY3LqdoF21U3"
   },
   "outputs": [],
   "source": [
    "train, val, train_labels, val_labels = train_test_split(train_df,train_label['Category'],test_size=0.2,stratify=train_label['Category'])"
   ]
  },
  {
   "cell_type": "code",
   "execution_count": 4,
   "metadata": {},
   "outputs": [],
   "source": [
    "# tokenizer = DistilBertTokenizerFast.from_pretrained('distilbert-base-uncased')\n",
    "# train_encoding = tokenizer.batch_encode_plus(train['description'].to_list(),max_length = 170\\\n",
    "#                                              ,padding=True,truncation=True)\n",
    "# val_encoding = tokenizer.batch_encode_plus(val['description'].to_list(),max_length = 170\\\n",
    "#                                              ,padding=True,truncation=True)\n",
    "\n",
    "tokenizer = BertTokenizerFast.from_pretrained('bert-base-uncased')\n",
    "train_encoding = tokenizer.batch_encode_plus(train['description'].to_list(),max_length = 170\\\n",
    "                                              ,padding=True,truncation=True)\n",
    "val_encoding = tokenizer.batch_encode_plus(val['description'].to_list(),max_length = 170\\\n",
    "                                              ,padding=True,truncation=True)"
   ]
  },
  {
   "cell_type": "code",
   "execution_count": 5,
   "metadata": {
    "executionInfo": {
     "elapsed": 1083,
     "status": "ok",
     "timestamp": 1603037533061,
     "user": {
      "displayName": "Zouitine Mehdi",
      "photoUrl": "",
      "userId": "12448681489671159026"
     },
     "user_tz": -120
    },
    "id": "Eb_H2z1v-ThR"
   },
   "outputs": [],
   "source": [
    "class NlpTrainDataset(Dataset):\n",
    "    def __init__(self,Id,labels,encodings):\n",
    "        self.labels = labels.tolist()\n",
    "        self.encodings = encodings\n",
    "        self.Id  = Id.to_list()\n",
    "\n",
    "    def __getitem__(self,idx):\n",
    "        item = {key: torch.tensor(val[idx]) for key, val in self.encodings.items()}\n",
    "        item['labels'] = torch.tensor(self.labels[idx])\n",
    "        item['Id'] = self.Id[idx]\n",
    "        return item\n",
    "\n",
    "    def __len__(self):\n",
    "        return len(self.labels)\n",
    "\n",
    "    "
   ]
  },
  {
   "cell_type": "code",
   "execution_count": 6,
   "metadata": {
    "colab": {
     "base_uri": "https://localhost:8080/",
     "height": 282
    },
    "executionInfo": {
     "elapsed": 1727,
     "status": "ok",
     "timestamp": 1603037536226,
     "user": {
      "displayName": "Zouitine Mehdi",
      "photoUrl": "",
      "userId": "12448681489671159026"
     },
     "user_tz": -120
    },
    "id": "TipgG2nrXrgj",
    "outputId": "0dfc2038-0c3f-4cf4-ff9b-9292346ffc6d"
   },
   "outputs": [
    {
     "data": {
      "text/plain": [
       "<AxesSubplot:>"
      ]
     },
     "execution_count": 6,
     "metadata": {},
     "output_type": "execute_result"
    },
    {
     "data": {
      "image/png": "[encoded data removed]",
      "text/plain": [
       "<Figure size 432x288 with 1 Axes>"
      ]
     },
     "metadata": {
      "needs_background": "light"
     },
     "output_type": "display_data"
    }
   ],
   "source": [
    "seq_len = [len(i.split()) for i in train['description']]\n",
    "\n",
    "pd.Series(seq_len).hist(bins = 30)"
   ]
  },
  {
   "cell_type": "code",
   "execution_count": 7,
   "metadata": {
    "executionInfo": {
     "elapsed": 48876,
     "status": "ok",
     "timestamp": 1603037586059,
     "user": {
      "displayName": "Zouitine Mehdi",
      "photoUrl": "",
      "userId": "12448681489671159026"
     },
     "user_tz": -120
    },
    "id": "Wv7Ene96AcX3"
   },
   "outputs": [],
   "source": [
    "train_dataset = NlpTrainDataset(train['Id'],train_labels,train_encoding)\n",
    "val_dataset = NlpTrainDataset(val['Id'],val_labels,val_encoding)"
   ]
  },
  {
   "cell_type": "code",
   "execution_count": 8,
   "metadata": {},
   "outputs": [
    {
     "data": {
      "text/plain": [
       "43440"
      ]
     },
     "execution_count": 8,
     "metadata": {},
     "output_type": "execute_result"
    }
   ],
   "source": [
    "len(val_dataset)"
   ]
  },
  {
   "cell_type": "code",
   "execution_count": 9,
   "metadata": {
    "executionInfo": {
     "elapsed": 795,
     "status": "ok",
     "timestamp": 1603037665309,
     "user": {
      "displayName": "Zouitine Mehdi",
      "photoUrl": "",
      "userId": "12448681489671159026"
     },
     "user_tz": -120
    },
    "id": "yI12K1OTUlhL"
   },
   "outputs": [],
   "source": [
    "train_dataloader = DataLoader(train_dataset, batch_size=128, shuffle=True,num_workers=8)\n",
    "val_dataloader = DataLoader(val_dataset, batch_size=128, shuffle=True,num_workers=8)"
   ]
  },
  {
   "cell_type": "code",
   "execution_count": 10,
   "metadata": {
    "executionInfo": {
     "elapsed": 842,
     "status": "ok",
     "timestamp": 1603036462933,
     "user": {
      "displayName": "Zouitine Mehdi",
      "photoUrl": "",
      "userId": "12448681489671159026"
     },
     "user_tz": -120
    },
    "id": "8Zlos0FoDLQk"
   },
   "outputs": [],
   "source": [
    "class BertClf(nn.Module):\n",
    "\n",
    "    def __init__(self, bert):\n",
    "\n",
    "        super(BertClf, self).__init__()\n",
    "\n",
    "        self.bert = bert \n",
    "        self.dropout1 = nn.Dropout(0.6)\n",
    "        self.dropout2 = nn.Dropout(0.1)\n",
    "        self.bn1 = nn.BatchNorm1d(512)\n",
    "        self.bn2 = nn.BatchNorm1d(256)\n",
    "        self.bn3 = nn.BatchNorm1d(128)\n",
    "        self.relu =  nn.ReLU()\n",
    "        self.fc1 = nn.Linear(768,512)\n",
    "        self.fc2 = nn.Linear(512,256)\n",
    "        self.fc3 = nn.Linear(256,128)\n",
    "        self.fc4 = nn.Linear(128,28)\n",
    "#         self.softmax = nn.LogSoftmax(dim=1)\n",
    "\n",
    "    def forward(self, sent_id, mask):\n",
    "\n",
    "        #pass the inputs to the model\n",
    "#         _, cls_hs = self.bert(sent_id, attention_mask=mask)\n",
    "#         cls_hs = self.bert(sent_id, attention_mask=mask)[0][:,0] distil\n",
    "        _,cls_hs = self.bert(sent_id, attention_mask=mask)\n",
    "        x = self.fc1(cls_hs)\n",
    "        x = self.relu(x)\n",
    "#         x = self.bn1(x)\n",
    "#         x = self.dropout1(x)\n",
    "        \n",
    "        x = self.fc2(x)\n",
    "        x = self.relu(x)\n",
    "#         x = self.bn2(x)\n",
    "#         x = self.dropout2(x)\n",
    "        \n",
    "        x = self.fc3(x)\n",
    "        x = self.relu(x)\n",
    "#         x = self.bn3(x)\n",
    "#         x = self.dropout2(x)\n",
    "        \n",
    "        x = self.fc4(x)\n",
    "        x = self.relu(x)\n",
    "#         x = self.softmax(x)\n",
    "\n",
    "        return x"
   ]
  },
  {
   "cell_type": "code",
   "execution_count": 11,
   "metadata": {
    "colab": {
     "base_uri": "https://localhost:8080/",
     "height": 114,
     "referenced_widgets": [
      "f20931b8c05142efaf97886e434435ea",
      "7859513cebd24a3eaab1cbd63da0e24c",
      "d51ed6dc16d24ab491a6ec33d5ab7250",
      "9223b8a8577641e2b361437bc4e23555",
      "4b46df27e84343a6ac2a27847645a863",
      "068aa434c73a48248a247bf3bb00219e",
      "627719943ff94ab39c1f5560d3a0a1dc",
      "f67ebf385e09474db0b1b2817591944c",
      "681fdd42ad9448b68ad5b665dc6d1857",
      "307834e91d584b2f9d55e5d381d0d31c",
      "0869726f74204fe898f99523abcc1121",
      "34a342d97640460b908d872874c547c0",
      "eea2477986584b27998809147e6516b6",
      "de1a481186884024bd7157dfbb310b3e",
      "6f200e0903b44bbea01df7dde02b9a65",
      "e114e39bf66b4b92ad1465dd0ae76ea8"
     ]
    },
    "executionInfo": {
     "elapsed": 14500,
     "status": "ok",
     "timestamp": 1603034297169,
     "user": {
      "displayName": "Zouitine Mehdi",
      "photoUrl": "",
      "userId": "12448681489671159026"
     },
     "user_tz": -120
    },
    "id": "AA-xp7HnFPt3",
    "outputId": "3218aaf8-aa6d-42fb-af31-7dc586cfdd4d"
   },
   "outputs": [],
   "source": [
    "bert = AutoModel.from_pretrained('bert-base-uncased')\n",
    "# configuration = BertConfig()\n",
    "# model = BertModel(configuration)\n",
    "for param in bert.parameters():\n",
    "    param.requires_grad = False"
   ]
  },
  {
   "cell_type": "code",
   "execution_count": 12,
   "metadata": {
    "executionInfo": {
     "elapsed": 741,
     "status": "ok",
     "timestamp": 1603034433059,
     "user": {
      "displayName": "Zouitine Mehdi",
      "photoUrl": "",
      "userId": "12448681489671159026"
     },
     "user_tz": -120
    },
    "id": "ViKKlzRJRsXr"
   },
   "outputs": [],
   "source": [
    "device = torch.device('cuda:0' if torch.cuda.is_available() else 'cpu')"
   ]
  },
  {
   "cell_type": "code",
   "execution_count": 13,
   "metadata": {},
   "outputs": [],
   "source": [
    "# my_list = ['fc1.weight','fc1.bias','fc2.weight','fc2.bias',\\\n",
    "#            'fc3.weight','fc3.bias','fc4.weight','fc4.bias',\\\n",
    "#           'bn1.weight','bn1.bias','bn2.weight','bn2.bias','bn3.weight','bn3.bias']\n",
    "# params = list(filter(lambda kv: kv[0] in my_list, model.named_parameters()))\n",
    "# base_params = list(filter(lambda kv: kv[0] not in my_list, model.named_parameters()))"
   ]
  },
  {
   "cell_type": "code",
   "execution_count": 14,
   "metadata": {
    "executionInfo": {
     "elapsed": 763,
     "status": "ok",
     "timestamp": 1603034497768,
     "user": {
      "displayName": "Zouitine Mehdi",
      "photoUrl": "",
      "userId": "12448681489671159026"
     },
     "user_tz": -120
    },
    "id": "RaJdExwpTELs"
   },
   "outputs": [],
   "source": [
    "model = BertClf(bert)\n",
    "model = model.to(device)\n",
    "# optimizer = AdamW([{'params': model.bert.parameters(),'lr':1e-5, 'weight_decay':0.02}],lr=1e-3)\n",
    "optimizer = AdamW(model.parameters(),lr = 1e-4)\n",
    "# scheduler = StepLR(optimizer, step_size=1, gamma=0.9)"
   ]
  },
  {
   "cell_type": "code",
   "execution_count": 15,
   "metadata": {
    "colab": {
     "base_uri": "https://localhost:8080/",
     "height": 101
    },
    "executionInfo": {
     "elapsed": 845,
     "status": "ok",
     "timestamp": 1603034679744,
     "user": {
      "displayName": "Zouitine Mehdi",
      "photoUrl": "",
      "userId": "12448681489671159026"
     },
     "user_tz": -120
    },
    "id": "jYtiIxIiTI-c",
    "outputId": "8f27cbe3-f4a2-4fb8-84fa-5c472867e9dd"
   },
   "outputs": [
    {
     "name": "stdout",
     "output_type": "stream",
     "text": [
      "Class Weights: [5.17997257 1.88505685 8.21934721 0.84822405 9.60620301 1.67855211\n",
      " 0.6309076  9.04607455 1.17241775 2.48522513 9.33174006 0.66834757\n",
      " 4.73349134 1.91059333 0.6145991  1.80763389 1.42330439 5.51609524\n",
      " 1.88105703 0.11078869 0.52962423 9.91311045 0.7464943  8.01758029\n",
      " 1.32797071 2.28483326 0.41216838 3.39104215]\n"
     ]
    }
   ],
   "source": [
    "class_weights = compute_class_weight(class_weight='balanced', classes=np.unique(train_labels), y=train_labels.values)\n",
    "\n",
    "print(\"Class Weights:\",class_weights)"
   ]
  },
  {
   "cell_type": "code",
   "execution_count": 16,
   "metadata": {
    "executionInfo": {
     "elapsed": 875,
     "status": "ok",
     "timestamp": 1603034704375,
     "user": {
      "displayName": "Zouitine Mehdi",
      "photoUrl": "",
      "userId": "12448681489671159026"
     },
     "user_tz": -120
    },
    "id": "z3YMWmDUTdGk"
   },
   "outputs": [],
   "source": [
    "\n",
    "# push to GPU\n",
    "weights = weights.to(device)        \n",
    "\n",
    "\n",
    "\n",
    "\n",
    "# number of training epochs\n",
    "epochs = 50"
   ]
  },
  {
   "cell_type": "code",
   "execution_count": 17,
   "metadata": {
    "id": "HipQ8MD5UGYs"
   },
   "outputs": [],
   "source": [
    "def train():\n",
    "  \n",
    "    model.train()\n",
    "\n",
    "    total_loss, total_accuracy = 0, 0\n",
    "\n",
    "    # empty list to save model predictions\n",
    "    total_preds=[]\n",
    "    total_labels = []\n",
    "\n",
    "    # iterate over batches\n",
    "    for step,batch in enumerate(train_dataloader):\n",
    "\n",
    "        # progress update after every 50 batches.\n",
    "        if step % 50 == 0 and not step == 0:\n",
    "            print('  Batch {:>5,}  of  {:>5,}.'.format(step, len(train_dataloader)))\n",
    "\n",
    "        # push the batch to gpu\n",
    "#         for key,value in batch.items():\n",
    "#             batch[key] = batch[key].to(device)\n",
    "            \n",
    "        sent_id = batch['input_ids'].to(device)\n",
    "        mask = batch['attention_mask'].to(device)\n",
    "        labels = batch['labels'].to(device)\n",
    "\n",
    "        # clear previously calculated gradients \n",
    "        model.zero_grad()        \n",
    "\n",
    "        # get model predictions for the current batch\n",
    "        preds = model(sent_id, mask)\n",
    "        \n",
    "        # compute the loss between actual and predicted values\n",
    "        loss = cross_entropy(preds, labels)\n",
    "        # add on to the total loss\n",
    "        total_loss = total_loss + loss.item()\n",
    "\n",
    "        # backward pass to calculate the gradients\n",
    "        loss.backward()\n",
    "        # clip the the gradients to 1.0. It helps in preventing the exploding gradient problem\n",
    "        torch.nn.utils.clip_grad_norm_(model.parameters(), 1.0)\n",
    "\n",
    "        # update parameters\n",
    "        optimizer.step()\n",
    "        \n",
    "        \n",
    "\n",
    "        # model predictions are stored on GPU. So, push it to CPU\n",
    "        preds=preds.detach().cpu().numpy()\n",
    "        \n",
    "        labels = labels.detach().cpu().numpy().tolist()\n",
    "        \n",
    "        # append the model predictions\n",
    "        total_preds.append(preds)\n",
    "        \n",
    "        total_labels+= labels\n",
    "    # compute the training loss of the epoch\n",
    "    avg_loss = total_loss / len(train_dataloader)\n",
    "\n",
    "    # predictions are in the form of (no. of batches, size of batch, no. of classes).\n",
    "    # reshape the predictions in form of (number of samples, no. of classes)\n",
    "    total_preds  = np.concatenate(total_preds, axis=0)\n",
    "\n",
    "    #returns the loss and predictions\n",
    "    return avg_loss, total_preds, total_labels"
   ]
  },
  {
   "cell_type": "code",
   "execution_count": 18,
   "metadata": {},
   "outputs": [],
   "source": [
    "# function for evaluating the model\n",
    "def evaluate():\n",
    "  \n",
    "    print(\"\\nEvaluating...\")\n",
    "\n",
    "    # deactivate dropout layers\n",
    "    model.eval()\n",
    "\n",
    "    total_loss, total_accuracy = 0, 0\n",
    "\n",
    "    # empty list to save the model predictions\n",
    "    total_preds = []\n",
    "    total_labels = []\n",
    "\n",
    "    # iterate over batches\n",
    "    for step,batch in enumerate(val_dataloader):\n",
    "\n",
    "    # Progress update every 50 batches.\n",
    "        if step % 50 == 0 and not step == 0:\n",
    "\n",
    "          # Report progress.\n",
    "          print('  Batch {:>5,}  of  {:>5,}.'.format(step, len(val_dataloader)))\n",
    "\n",
    "        # push the batch to gpu\n",
    "        sent_id = batch['input_ids'].to(device)\n",
    "        mask = batch['attention_mask'].to(device)\n",
    "        labels = batch['labels'].to(device)\n",
    "\n",
    "        # deactivate autograd\n",
    "        with torch.no_grad():\n",
    "\n",
    "            # model predictions\n",
    "            preds = model(sent_id, mask)\n",
    "            \n",
    "            # compute the validation loss between actual and predicted values\n",
    "            loss = cross_entropy(preds,labels)\n",
    "            total_loss = total_loss + loss.item()\n",
    "\n",
    "            preds = preds.detach().cpu().numpy()\n",
    "            \n",
    "            labels = labels.detach().cpu().numpy().tolist()\n",
    "            \n",
    "\n",
    "            total_preds.append(preds)\n",
    "            total_labels+=labels\n",
    "            \n",
    "            \n",
    "            \n",
    "\n",
    "    # compute the validation loss of the epoch\n",
    "    avg_loss = total_loss / len(val_dataloader) \n",
    "\n",
    "    # reshape the predictions in form of (number of samples, no. of classes)\n",
    "    total_preds  = np.concatenate(total_preds, axis=0)\n",
    "\n",
    "    return avg_loss, total_preds, total_labels"
   ]
  },
  {
   "cell_type": "code",
   "execution_count": 19,
   "metadata": {
    "id": "19yFAn75kWri",
    "scrolled": false
   },
   "outputs": [
    {
     "name": "stdout",
     "output_type": "stream",
     "text": [
      "\n",
      " Epoch 1 / 50\n",
      "  Batch    50  of  1,358.\n",
      "  Batch   100  of  1,358.\n",
      "  Batch   150  of  1,358.\n",
      "  Batch   200  of  1,358.\n",
      "  Batch   250  of  1,358.\n",
      "  Batch   300  of  1,358.\n",
      "  Batch   350  of  1,358.\n",
      "  Batch   400  of  1,358.\n",
      "  Batch   450  of  1,358.\n",
      "  Batch   500  of  1,358.\n",
      "  Batch   550  of  1,358.\n",
      "  Batch   600  of  1,358.\n",
      "  Batch   650  of  1,358.\n",
      "  Batch   700  of  1,358.\n",
      "  Batch   750  of  1,358.\n",
      "  Batch   800  of  1,358.\n",
      "  Batch   850  of  1,358.\n",
      "  Batch   900  of  1,358.\n",
      "  Batch   950  of  1,358.\n",
      "  Batch 1,000  of  1,358.\n",
      "  Batch 1,050  of  1,358.\n",
      "  Batch 1,100  of  1,358.\n",
      "  Batch 1,150  of  1,358.\n",
      "  Batch 1,200  of  1,358.\n",
      "  Batch 1,250  of  1,358.\n",
      "  Batch 1,300  of  1,358.\n",
      "  Batch 1,350  of  1,358.\n",
      "\n",
      "Evaluating...\n",
      "  Batch    50  of    340.\n",
      "  Batch   100  of    340.\n",
      "  Batch   150  of    340.\n",
      "  Batch   200  of    340.\n",
      "  Batch   250  of    340.\n",
      "  Batch   300  of    340.\n",
      "\n",
      "Training Loss: 3.010, Training f1 : 0.12193084409610958\n",
      "Validation Loss: 2.763, Validation f1 : 0.21551091862131738\n",
      "\n",
      " Epoch 2 / 50\n",
      "  Batch    50  of  1,358.\n",
      "  Batch   100  of  1,358.\n",
      "  Batch   150  of  1,358.\n",
      "  Batch   200  of  1,358.\n",
      "  Batch   250  of  1,358.\n",
      "  Batch   300  of  1,358.\n",
      "  Batch   350  of  1,358.\n",
      "  Batch   400  of  1,358.\n",
      "  Batch   450  of  1,358.\n",
      "  Batch   500  of  1,358.\n",
      "  Batch   550  of  1,358.\n",
      "  Batch   600  of  1,358.\n",
      "  Batch   650  of  1,358.\n",
      "  Batch   700  of  1,358.\n",
      "  Batch   750  of  1,358.\n",
      "  Batch   800  of  1,358.\n",
      "  Batch   850  of  1,358.\n",
      "  Batch   900  of  1,358.\n",
      "  Batch   950  of  1,358.\n",
      "  Batch 1,000  of  1,358.\n",
      "  Batch 1,050  of  1,358.\n",
      "  Batch 1,100  of  1,358.\n",
      "  Batch 1,150  of  1,358.\n",
      "  Batch 1,200  of  1,358.\n",
      "  Batch 1,250  of  1,358.\n",
      "  Batch 1,300  of  1,358.\n",
      "  Batch 1,350  of  1,358.\n",
      "\n",
      "Evaluating...\n",
      "  Batch    50  of    340.\n",
      "  Batch   100  of    340.\n",
      "  Batch   150  of    340.\n",
      "  Batch   200  of    340.\n",
      "  Batch   250  of    340.\n",
      "  Batch   300  of    340.\n",
      "\n",
      "Training Loss: 2.678, Training f1 : 0.21647007755977893\n",
      "Validation Loss: 2.636, Validation f1 : 0.23882416891947128\n",
      "\n",
      " Epoch 3 / 50\n",
      "  Batch    50  of  1,358.\n",
      "  Batch   100  of  1,358.\n",
      "  Batch   150  of  1,358.\n",
      "  Batch   200  of  1,358.\n",
      "  Batch   250  of  1,358.\n",
      "  Batch   300  of  1,358.\n",
      "  Batch   350  of  1,358.\n",
      "  Batch   400  of  1,358.\n",
      "  Batch   450  of  1,358.\n",
      "  Batch   500  of  1,358.\n",
      "  Batch   550  of  1,358.\n",
      "  Batch   600  of  1,358.\n",
      "  Batch   650  of  1,358.\n",
      "  Batch   700  of  1,358.\n",
      "  Batch   750  of  1,358.\n",
      "  Batch   800  of  1,358.\n",
      "  Batch   850  of  1,358.\n",
      "  Batch   900  of  1,358.\n",
      "  Batch   950  of  1,358.\n",
      "  Batch 1,000  of  1,358.\n",
      "  Batch 1,050  of  1,358.\n",
      "  Batch 1,100  of  1,358.\n",
      "  Batch 1,150  of  1,358.\n",
      "  Batch 1,200  of  1,358.\n",
      "  Batch 1,250  of  1,358.\n",
      "  Batch 1,300  of  1,358.\n",
      "  Batch 1,350  of  1,358.\n",
      "\n",
      "Evaluating...\n",
      "  Batch    50  of    340.\n",
      "  Batch   100  of    340.\n",
      "  Batch   150  of    340.\n",
      "  Batch   200  of    340.\n",
      "  Batch   250  of    340.\n",
      "  Batch   300  of    340.\n",
      "\n",
      "Training Loss: 2.549, Training f1 : 0.24835607520060904\n",
      "Validation Loss: 2.455, Validation f1 : 0.2712405650415205\n",
      "\n",
      " Epoch 4 / 50\n",
      "  Batch    50  of  1,358.\n",
      "  Batch   100  of  1,358.\n",
      "  Batch   150  of  1,358.\n",
      "  Batch   200  of  1,358.\n",
      "  Batch   250  of  1,358.\n",
      "  Batch   300  of  1,358.\n",
      "  Batch   350  of  1,358.\n",
      "  Batch   400  of  1,358.\n",
      "  Batch   450  of  1,358.\n",
      "  Batch   500  of  1,358.\n",
      "  Batch   550  of  1,358.\n",
      "  Batch   600  of  1,358.\n",
      "  Batch   650  of  1,358.\n",
      "  Batch   700  of  1,358.\n",
      "  Batch   750  of  1,358.\n",
      "  Batch   800  of  1,358.\n",
      "  Batch   850  of  1,358.\n",
      "  Batch   900  of  1,358.\n",
      "  Batch   950  of  1,358.\n",
      "  Batch 1,000  of  1,358.\n",
      "  Batch 1,050  of  1,358.\n",
      "  Batch 1,100  of  1,358.\n",
      "  Batch 1,150  of  1,358.\n",
      "  Batch 1,200  of  1,358.\n",
      "  Batch 1,250  of  1,358.\n",
      "  Batch 1,300  of  1,358.\n",
      "  Batch 1,350  of  1,358.\n",
      "\n",
      "Evaluating...\n",
      "  Batch    50  of    340.\n",
      "  Batch   100  of    340.\n",
      "  Batch   150  of    340.\n",
      "  Batch   200  of    340.\n",
      "  Batch   250  of    340.\n",
      "  Batch   300  of    340.\n",
      "\n",
      "Training Loss: 2.476, Training f1 : 0.26554079415319126\n",
      "Validation Loss: 2.412, Validation f1 : 0.26225313618199836\n",
      "\n",
      " Epoch 5 / 50\n",
      "  Batch    50  of  1,358.\n",
      "  Batch   100  of  1,358.\n",
      "  Batch   150  of  1,358.\n",
      "  Batch   200  of  1,358.\n",
      "  Batch   250  of  1,358.\n",
      "  Batch   300  of  1,358.\n",
      "  Batch   350  of  1,358.\n",
      "  Batch   400  of  1,358.\n",
      "  Batch   450  of  1,358.\n",
      "  Batch   500  of  1,358.\n",
      "  Batch   550  of  1,358.\n",
      "  Batch   600  of  1,358.\n",
      "  Batch   650  of  1,358.\n",
      "  Batch   700  of  1,358.\n",
      "  Batch   750  of  1,358.\n",
      "  Batch   800  of  1,358.\n",
      "  Batch   850  of  1,358.\n",
      "  Batch   900  of  1,358.\n",
      "  Batch   950  of  1,358.\n",
      "  Batch 1,000  of  1,358.\n",
      "  Batch 1,050  of  1,358.\n",
      "  Batch 1,100  of  1,358.\n",
      "  Batch 1,150  of  1,358.\n",
      "  Batch 1,200  of  1,358.\n",
      "  Batch 1,250  of  1,358.\n",
      "  Batch 1,300  of  1,358.\n",
      "  Batch 1,350  of  1,358.\n",
      "\n",
      "Evaluating...\n",
      "  Batch    50  of    340.\n",
      "  Batch   100  of    340.\n",
      "  Batch   150  of    340.\n",
      "  Batch   200  of    340.\n",
      "  Batch   250  of    340.\n",
      "  Batch   300  of    340.\n",
      "\n",
      "Training Loss: 2.431, Training f1 : 0.27587243182190513\n",
      "Validation Loss: 2.383, Validation f1 : 0.2799796501695688\n",
      "\n",
      " Epoch 6 / 50\n",
      "  Batch    50  of  1,358.\n",
      "  Batch   100  of  1,358.\n",
      "  Batch   150  of  1,358.\n",
      "  Batch   200  of  1,358.\n"
     ]
    },
    {
     "ename": "KeyboardInterrupt",
     "evalue": "",
     "output_type": "error",
     "traceback": [
      "\u001b[0;31m---------------------------------------------------------------------------\u001b[0m",
      "\u001b[0;31mKeyboardInterrupt\u001b[0m                         Traceback (most recent call last)",
      "\u001b[0;32m<ipython-input-19-f2c7972de6fb>\u001b[0m in \u001b[0;36m<module>\u001b[0;34m\u001b[0m\n\u001b[1;32m     12\u001b[0m \u001b[0;34m\u001b[0m\u001b[0m\n\u001b[1;32m     13\u001b[0m     \u001b[0;31m#train model\u001b[0m\u001b[0;34m\u001b[0m\u001b[0;34m\u001b[0m\u001b[0;34m\u001b[0m\u001b[0m\n\u001b[0;32m---> 14\u001b[0;31m     \u001b[0mtrain_loss\u001b[0m\u001b[0;34m,\u001b[0m \u001b[0mtrain_pred\u001b[0m\u001b[0;34m,\u001b[0m \u001b[0mtrain_lab\u001b[0m \u001b[0;34m=\u001b[0m \u001b[0mtrain\u001b[0m\u001b[0;34m(\u001b[0m\u001b[0;34m)\u001b[0m\u001b[0;34m\u001b[0m\u001b[0;34m\u001b[0m\u001b[0m\n\u001b[0m\u001b[1;32m     15\u001b[0m \u001b[0;34m\u001b[0m\u001b[0m\n\u001b[1;32m     16\u001b[0m     \u001b[0;31m#evaluate model\u001b[0m\u001b[0;34m\u001b[0m\u001b[0;34m\u001b[0m\u001b[0;34m\u001b[0m\u001b[0m\n",
      "\u001b[0;32m<ipython-input-17-610722c8f21c>\u001b[0m in \u001b[0;36mtrain\u001b[0;34m()\u001b[0m\n\u001b[1;32m     33\u001b[0m         \u001b[0mloss\u001b[0m \u001b[0;34m=\u001b[0m \u001b[0mcross_entropy\u001b[0m\u001b[0;34m(\u001b[0m\u001b[0mpreds\u001b[0m\u001b[0;34m,\u001b[0m \u001b[0mlabels\u001b[0m\u001b[0;34m)\u001b[0m\u001b[0;34m\u001b[0m\u001b[0;34m\u001b[0m\u001b[0m\n\u001b[1;32m     34\u001b[0m         \u001b[0;31m# add on to the total loss\u001b[0m\u001b[0;34m\u001b[0m\u001b[0;34m\u001b[0m\u001b[0;34m\u001b[0m\u001b[0m\n\u001b[0;32m---> 35\u001b[0;31m         \u001b[0mtotal_loss\u001b[0m \u001b[0;34m=\u001b[0m \u001b[0mtotal_loss\u001b[0m \u001b[0;34m+\u001b[0m \u001b[0mloss\u001b[0m\u001b[0;34m.\u001b[0m\u001b[0mitem\u001b[0m\u001b[0;34m(\u001b[0m\u001b[0;34m)\u001b[0m\u001b[0;34m\u001b[0m\u001b[0;34m\u001b[0m\u001b[0m\n\u001b[0m\u001b[1;32m     36\u001b[0m \u001b[0;34m\u001b[0m\u001b[0m\n\u001b[1;32m     37\u001b[0m         \u001b[0;31m# backward pass to calculate the gradients\u001b[0m\u001b[0;34m\u001b[0m\u001b[0;34m\u001b[0m\u001b[0;34m\u001b[0m\u001b[0m\n",
      "\u001b[0;31mKeyboardInterrupt\u001b[0m: "
     ]
    }
   ],
   "source": [
    "# set initial loss to infinite\n",
    "best_valid_loss = float('inf')\n",
    "\n",
    "# empty lists to store training and validation loss of each epoch\n",
    "train_losses=[]\n",
    "valid_losses=[]\n",
    "\n",
    "#for each epoch\n",
    "for epoch in range(epochs):\n",
    "     \n",
    "    print('\\n Epoch {:} / {:}'.format(epoch + 1, epochs))\n",
    "    \n",
    "    #train model\n",
    "    train_loss, train_pred, train_lab = train()\n",
    "    \n",
    "    #evaluate model\n",
    "    valid_loss, val_pred, val_lab = evaluate()\n",
    "    \n",
    "    \n",
    "    res_train = np.argmax(train_pred,axis=1).tolist()\n",
    "    res_val = np.argmax(val_pred,axis=1).tolist()\n",
    "    \n",
    "    f1_train = f1_score(train_lab, res_train,average='macro')\n",
    "    f1_val = f1_score(val_lab, res_val,average='macro')\n",
    "    \n",
    "    #save the best model\n",
    "    \n",
    "#     scheduler.step()\n",
    "    torch.save(model.state_dict(), f'models/saved_weights_{epoch}_train_{train_loss:.3f}_valid_{valid_loss:.3f}.pt')\n",
    "    \n",
    "    # append training and validation loss\n",
    "    train_losses.append(train_loss)\n",
    "    valid_losses.append(valid_loss)\n",
    "    \n",
    "    \n",
    "    \n",
    "    print(f'\\nTraining Loss: {train_loss:.3f}, Training f1 : {f1_train}')\n",
    "    print(f'Validation Loss: {valid_loss:.3f}, Validation f1 : {f1_val}')"
   ]
  },
  {
   "cell_type": "code",
   "execution_count": null,
   "metadata": {},
   "outputs": [],
   "source": [
    "plt.plot(valid_losses)\n",
    "plt.plot(train_losses)"
   ]
  },
  {
   "cell_type": "code",
   "execution_count": null,
   "metadata": {
    "id": "sFrTIAKAkd6Y"
   },
   "outputs": [],
   "source": [
    "#load weights of best model\n",
    "path = 'models/saved_weights_0_train_2.459_valid_1.417.pt'\n",
    "model.load_state_dict(torch.load(path))"
   ]
  },
  {
   "cell_type": "code",
   "execution_count": null,
   "metadata": {},
   "outputs": [],
   "source": [
    "class NlpTrainDataset(Dataset):\n",
    "    def __init__(self,encodings):\n",
    "        self.encodings = encodings\n",
    "\n",
    "    def __getitem__(self,idx):\n",
    "        item = {key: torch.tensor(val[idx]) for key, val in self.encodings.items()}\n",
    "        return {'input_ids' : item['input_ids'].to(device), 'attention_mask' : item['attention_mask'].to(device)}\n",
    "\n",
    "    def __len__(self):\n",
    "        return len(self.encodings['input_ids'])"
   ]
  },
  {
   "cell_type": "code",
   "execution_count": null,
   "metadata": {},
   "outputs": [],
   "source": [
    "sent_id = val_encoding['input_ids']\n",
    "mask = val_encoding['attention_mask']"
   ]
  },
  {
   "cell_type": "code",
   "execution_count": null,
   "metadata": {},
   "outputs": [],
   "source": [
    "testdata = NlpTrainDataset(val_encoding)\n",
    "val_dataloader = DataLoader(testdata, batch_size=1)"
   ]
  },
  {
   "cell_type": "code",
   "execution_count": null,
   "metadata": {},
   "outputs": [],
   "source": [
    "total_preds = []\n",
    "for batch in tqdm(val_dataloader):\n",
    "    preds = model(batch['input_ids'], batch['attention_mask'])\n",
    "    preds = preds.detach().cpu().numpy()\n",
    "    total_preds.append(preds)\n",
    "    del preds\n",
    "    "
   ]
  },
  {
   "cell_type": "code",
   "execution_count": null,
   "metadata": {},
   "outputs": [],
   "source": [
    "preds = [np.exp(pred) for pred in total_preds]\n",
    "preds = [np.argmax(pred) for pred in total_preds]"
   ]
  },
  {
   "cell_type": "code",
   "execution_count": 26,
   "metadata": {},
   "outputs": [
    {
     "data": {
      "text/plain": [
       "0.4257129975680609"
      ]
     },
     "execution_count": 26,
     "metadata": {},
     "output_type": "execute_result"
    }
   ],
   "source": [
    "f1_score(val_labels.to_list(), preds,average='macro')"
   ]
  },
  {
   "cell_type": "code",
   "execution_count": 25,
   "metadata": {},
   "outputs": [],
   "source": [
    "test_encoding = tokenizer.batch_encode_plus(test_df['description'].to_list(),max_length = 170\\\n",
    "                                             ,padding=True,truncation=True)"
   ]
  },
  {
   "cell_type": "code",
   "execution_count": 26,
   "metadata": {},
   "outputs": [],
   "source": [
    "testdata = NlpTrainDataset(test_encoding)\n",
    "test_dataloader = DataLoader(testdata, batch_size=1)"
   ]
  },
  {
   "cell_type": "code",
   "execution_count": 27,
   "metadata": {},
   "outputs": [
    {
     "name": "stderr",
     "output_type": "stream",
     "text": [
      "  0%|          | 0/54300 [00:00<?, ?it/s]\n"
     ]
    },
    {
     "ename": "ValueError",
     "evalue": "Expected more than 1 value per channel when training, got input size torch.Size([1, 512])",
     "output_type": "error",
     "traceback": [
      "\u001b[0;31m---------------------------------------------------------------------------\u001b[0m",
      "\u001b[0;31mValueError\u001b[0m                                Traceback (most recent call last)",
      "\u001b[0;32m<ipython-input-27-b2f24bd14560>\u001b[0m in \u001b[0;36m<module>\u001b[0;34m\u001b[0m\n\u001b[1;32m      1\u001b[0m \u001b[0mtotal_preds\u001b[0m \u001b[0;34m=\u001b[0m \u001b[0;34m[\u001b[0m\u001b[0;34m]\u001b[0m\u001b[0;34m\u001b[0m\u001b[0;34m\u001b[0m\u001b[0m\n\u001b[1;32m      2\u001b[0m \u001b[0;32mfor\u001b[0m \u001b[0mbatch\u001b[0m \u001b[0;32min\u001b[0m \u001b[0mtqdm\u001b[0m\u001b[0;34m(\u001b[0m\u001b[0mtest_dataloader\u001b[0m\u001b[0;34m)\u001b[0m\u001b[0;34m:\u001b[0m\u001b[0;34m\u001b[0m\u001b[0;34m\u001b[0m\u001b[0m\n\u001b[0;32m----> 3\u001b[0;31m     \u001b[0mpreds\u001b[0m \u001b[0;34m=\u001b[0m \u001b[0mmodel\u001b[0m\u001b[0;34m(\u001b[0m\u001b[0mbatch\u001b[0m\u001b[0;34m[\u001b[0m\u001b[0;34m'input_ids'\u001b[0m\u001b[0;34m]\u001b[0m\u001b[0;34m,\u001b[0m \u001b[0mbatch\u001b[0m\u001b[0;34m[\u001b[0m\u001b[0;34m'attention_mask'\u001b[0m\u001b[0;34m]\u001b[0m\u001b[0;34m)\u001b[0m\u001b[0;34m\u001b[0m\u001b[0;34m\u001b[0m\u001b[0m\n\u001b[0m\u001b[1;32m      4\u001b[0m     \u001b[0mpreds\u001b[0m \u001b[0;34m=\u001b[0m \u001b[0mpreds\u001b[0m\u001b[0;34m.\u001b[0m\u001b[0mdetach\u001b[0m\u001b[0;34m(\u001b[0m\u001b[0;34m)\u001b[0m\u001b[0;34m.\u001b[0m\u001b[0mcpu\u001b[0m\u001b[0;34m(\u001b[0m\u001b[0;34m)\u001b[0m\u001b[0;34m.\u001b[0m\u001b[0mnumpy\u001b[0m\u001b[0;34m(\u001b[0m\u001b[0;34m)\u001b[0m\u001b[0;34m\u001b[0m\u001b[0;34m\u001b[0m\u001b[0m\n\u001b[1;32m      5\u001b[0m     \u001b[0mtotal_preds\u001b[0m\u001b[0;34m.\u001b[0m\u001b[0mappend\u001b[0m\u001b[0;34m(\u001b[0m\u001b[0mpreds\u001b[0m\u001b[0;34m)\u001b[0m\u001b[0;34m\u001b[0m\u001b[0;34m\u001b[0m\u001b[0m\n",
      "\u001b[0;32m~/anaconda3/envs/ma-gym/lib/python3.7/site-packages/torch/nn/modules/module.py\u001b[0m in \u001b[0;36m_call_impl\u001b[0;34m(self, *input, **kwargs)\u001b[0m\n\u001b[1;32m    720\u001b[0m             \u001b[0mresult\u001b[0m \u001b[0;34m=\u001b[0m \u001b[0mself\u001b[0m\u001b[0;34m.\u001b[0m\u001b[0m_slow_forward\u001b[0m\u001b[0;34m(\u001b[0m\u001b[0;34m*\u001b[0m\u001b[0minput\u001b[0m\u001b[0;34m,\u001b[0m \u001b[0;34m**\u001b[0m\u001b[0mkwargs\u001b[0m\u001b[0;34m)\u001b[0m\u001b[0;34m\u001b[0m\u001b[0;34m\u001b[0m\u001b[0m\n\u001b[1;32m    721\u001b[0m         \u001b[0;32melse\u001b[0m\u001b[0;34m:\u001b[0m\u001b[0;34m\u001b[0m\u001b[0;34m\u001b[0m\u001b[0m\n\u001b[0;32m--> 722\u001b[0;31m             \u001b[0mresult\u001b[0m \u001b[0;34m=\u001b[0m \u001b[0mself\u001b[0m\u001b[0;34m.\u001b[0m\u001b[0mforward\u001b[0m\u001b[0;34m(\u001b[0m\u001b[0;34m*\u001b[0m\u001b[0minput\u001b[0m\u001b[0;34m,\u001b[0m \u001b[0;34m**\u001b[0m\u001b[0mkwargs\u001b[0m\u001b[0;34m)\u001b[0m\u001b[0;34m\u001b[0m\u001b[0;34m\u001b[0m\u001b[0m\n\u001b[0m\u001b[1;32m    723\u001b[0m         for hook in itertools.chain(\n\u001b[1;32m    724\u001b[0m                 \u001b[0m_global_forward_hooks\u001b[0m\u001b[0;34m.\u001b[0m\u001b[0mvalues\u001b[0m\u001b[0;34m(\u001b[0m\u001b[0;34m)\u001b[0m\u001b[0;34m,\u001b[0m\u001b[0;34m\u001b[0m\u001b[0;34m\u001b[0m\u001b[0m\n",
      "\u001b[0;32m<ipython-input-10-3ff7fac325b0>\u001b[0m in \u001b[0;36mforward\u001b[0;34m(self, sent_id, mask)\u001b[0m\n\u001b[1;32m     26\u001b[0m         \u001b[0mx\u001b[0m \u001b[0;34m=\u001b[0m \u001b[0mself\u001b[0m\u001b[0;34m.\u001b[0m\u001b[0mfc1\u001b[0m\u001b[0;34m(\u001b[0m\u001b[0mcls_hs\u001b[0m\u001b[0;34m)\u001b[0m\u001b[0;34m\u001b[0m\u001b[0;34m\u001b[0m\u001b[0m\n\u001b[1;32m     27\u001b[0m         \u001b[0mx\u001b[0m \u001b[0;34m=\u001b[0m \u001b[0mself\u001b[0m\u001b[0;34m.\u001b[0m\u001b[0mrelu\u001b[0m\u001b[0;34m(\u001b[0m\u001b[0mx\u001b[0m\u001b[0;34m)\u001b[0m\u001b[0;34m\u001b[0m\u001b[0;34m\u001b[0m\u001b[0m\n\u001b[0;32m---> 28\u001b[0;31m         \u001b[0mx\u001b[0m \u001b[0;34m=\u001b[0m \u001b[0mself\u001b[0m\u001b[0;34m.\u001b[0m\u001b[0mbn1\u001b[0m\u001b[0;34m(\u001b[0m\u001b[0mx\u001b[0m\u001b[0;34m)\u001b[0m\u001b[0;34m\u001b[0m\u001b[0;34m\u001b[0m\u001b[0m\n\u001b[0m\u001b[1;32m     29\u001b[0m         \u001b[0mx\u001b[0m \u001b[0;34m=\u001b[0m \u001b[0mself\u001b[0m\u001b[0;34m.\u001b[0m\u001b[0mdropout1\u001b[0m\u001b[0;34m(\u001b[0m\u001b[0mx\u001b[0m\u001b[0;34m)\u001b[0m\u001b[0;34m\u001b[0m\u001b[0;34m\u001b[0m\u001b[0m\n\u001b[1;32m     30\u001b[0m \u001b[0;34m\u001b[0m\u001b[0m\n",
      "\u001b[0;32m~/anaconda3/envs/ma-gym/lib/python3.7/site-packages/torch/nn/modules/module.py\u001b[0m in \u001b[0;36m_call_impl\u001b[0;34m(self, *input, **kwargs)\u001b[0m\n\u001b[1;32m    720\u001b[0m             \u001b[0mresult\u001b[0m \u001b[0;34m=\u001b[0m \u001b[0mself\u001b[0m\u001b[0;34m.\u001b[0m\u001b[0m_slow_forward\u001b[0m\u001b[0;34m(\u001b[0m\u001b[0;34m*\u001b[0m\u001b[0minput\u001b[0m\u001b[0;34m,\u001b[0m \u001b[0;34m**\u001b[0m\u001b[0mkwargs\u001b[0m\u001b[0;34m)\u001b[0m\u001b[0;34m\u001b[0m\u001b[0;34m\u001b[0m\u001b[0m\n\u001b[1;32m    721\u001b[0m         \u001b[0;32melse\u001b[0m\u001b[0;34m:\u001b[0m\u001b[0;34m\u001b[0m\u001b[0;34m\u001b[0m\u001b[0m\n\u001b[0;32m--> 722\u001b[0;31m             \u001b[0mresult\u001b[0m \u001b[0;34m=\u001b[0m \u001b[0mself\u001b[0m\u001b[0;34m.\u001b[0m\u001b[0mforward\u001b[0m\u001b[0;34m(\u001b[0m\u001b[0;34m*\u001b[0m\u001b[0minput\u001b[0m\u001b[0;34m,\u001b[0m \u001b[0;34m**\u001b[0m\u001b[0mkwargs\u001b[0m\u001b[0;34m)\u001b[0m\u001b[0;34m\u001b[0m\u001b[0;34m\u001b[0m\u001b[0m\n\u001b[0m\u001b[1;32m    723\u001b[0m         for hook in itertools.chain(\n\u001b[1;32m    724\u001b[0m                 \u001b[0m_global_forward_hooks\u001b[0m\u001b[0;34m.\u001b[0m\u001b[0mvalues\u001b[0m\u001b[0;34m(\u001b[0m\u001b[0;34m)\u001b[0m\u001b[0;34m,\u001b[0m\u001b[0;34m\u001b[0m\u001b[0;34m\u001b[0m\u001b[0m\n",
      "\u001b[0;32m~/anaconda3/envs/ma-gym/lib/python3.7/site-packages/torch/nn/modules/batchnorm.py\u001b[0m in \u001b[0;36mforward\u001b[0;34m(self, input)\u001b[0m\n\u001b[1;32m    134\u001b[0m             \u001b[0mself\u001b[0m\u001b[0;34m.\u001b[0m\u001b[0mrunning_mean\u001b[0m \u001b[0;32mif\u001b[0m \u001b[0;32mnot\u001b[0m \u001b[0mself\u001b[0m\u001b[0;34m.\u001b[0m\u001b[0mtraining\u001b[0m \u001b[0;32mor\u001b[0m \u001b[0mself\u001b[0m\u001b[0;34m.\u001b[0m\u001b[0mtrack_running_stats\u001b[0m \u001b[0;32melse\u001b[0m \u001b[0;32mNone\u001b[0m\u001b[0;34m,\u001b[0m\u001b[0;34m\u001b[0m\u001b[0;34m\u001b[0m\u001b[0m\n\u001b[1;32m    135\u001b[0m             \u001b[0mself\u001b[0m\u001b[0;34m.\u001b[0m\u001b[0mrunning_var\u001b[0m \u001b[0;32mif\u001b[0m \u001b[0;32mnot\u001b[0m \u001b[0mself\u001b[0m\u001b[0;34m.\u001b[0m\u001b[0mtraining\u001b[0m \u001b[0;32mor\u001b[0m \u001b[0mself\u001b[0m\u001b[0;34m.\u001b[0m\u001b[0mtrack_running_stats\u001b[0m \u001b[0;32melse\u001b[0m \u001b[0;32mNone\u001b[0m\u001b[0;34m,\u001b[0m\u001b[0;34m\u001b[0m\u001b[0;34m\u001b[0m\u001b[0m\n\u001b[0;32m--> 136\u001b[0;31m             self.weight, self.bias, bn_training, exponential_average_factor, self.eps)\n\u001b[0m\u001b[1;32m    137\u001b[0m \u001b[0;34m\u001b[0m\u001b[0m\n\u001b[1;32m    138\u001b[0m \u001b[0;34m\u001b[0m\u001b[0m\n",
      "\u001b[0;32m~/anaconda3/envs/ma-gym/lib/python3.7/site-packages/torch/nn/functional.py\u001b[0m in \u001b[0;36mbatch_norm\u001b[0;34m(input, running_mean, running_var, weight, bias, training, momentum, eps)\u001b[0m\n\u001b[1;32m   2010\u001b[0m                 bias=bias, training=training, momentum=momentum, eps=eps)\n\u001b[1;32m   2011\u001b[0m     \u001b[0;32mif\u001b[0m \u001b[0mtraining\u001b[0m\u001b[0;34m:\u001b[0m\u001b[0;34m\u001b[0m\u001b[0;34m\u001b[0m\u001b[0m\n\u001b[0;32m-> 2012\u001b[0;31m         \u001b[0m_verify_batch_size\u001b[0m\u001b[0;34m(\u001b[0m\u001b[0minput\u001b[0m\u001b[0;34m.\u001b[0m\u001b[0msize\u001b[0m\u001b[0;34m(\u001b[0m\u001b[0;34m)\u001b[0m\u001b[0;34m)\u001b[0m\u001b[0;34m\u001b[0m\u001b[0;34m\u001b[0m\u001b[0m\n\u001b[0m\u001b[1;32m   2013\u001b[0m \u001b[0;34m\u001b[0m\u001b[0m\n\u001b[1;32m   2014\u001b[0m     return torch.batch_norm(\n",
      "\u001b[0;32m~/anaconda3/envs/ma-gym/lib/python3.7/site-packages/torch/nn/functional.py\u001b[0m in \u001b[0;36m_verify_batch_size\u001b[0;34m(size)\u001b[0m\n\u001b[1;32m   1993\u001b[0m         \u001b[0msize_prods\u001b[0m \u001b[0;34m*=\u001b[0m \u001b[0msize\u001b[0m\u001b[0;34m[\u001b[0m\u001b[0mi\u001b[0m \u001b[0;34m+\u001b[0m \u001b[0;36m2\u001b[0m\u001b[0;34m]\u001b[0m\u001b[0;34m\u001b[0m\u001b[0;34m\u001b[0m\u001b[0m\n\u001b[1;32m   1994\u001b[0m     \u001b[0;32mif\u001b[0m \u001b[0msize_prods\u001b[0m \u001b[0;34m==\u001b[0m \u001b[0;36m1\u001b[0m\u001b[0;34m:\u001b[0m\u001b[0;34m\u001b[0m\u001b[0;34m\u001b[0m\u001b[0m\n\u001b[0;32m-> 1995\u001b[0;31m         \u001b[0;32mraise\u001b[0m \u001b[0mValueError\u001b[0m\u001b[0;34m(\u001b[0m\u001b[0;34m'Expected more than 1 value per channel when training, got input size {}'\u001b[0m\u001b[0;34m.\u001b[0m\u001b[0mformat\u001b[0m\u001b[0;34m(\u001b[0m\u001b[0msize\u001b[0m\u001b[0;34m)\u001b[0m\u001b[0;34m)\u001b[0m\u001b[0;34m\u001b[0m\u001b[0;34m\u001b[0m\u001b[0m\n\u001b[0m\u001b[1;32m   1996\u001b[0m \u001b[0;34m\u001b[0m\u001b[0m\n\u001b[1;32m   1997\u001b[0m \u001b[0;34m\u001b[0m\u001b[0m\n",
      "\u001b[0;31mValueError\u001b[0m: Expected more than 1 value per channel when training, got input size torch.Size([1, 512])"
     ]
    }
   ],
   "source": [
    "total_preds = []\n",
    "for batch in tqdm(test_dataloader):\n",
    "    preds = model(batch['input_ids'], batch['attention_mask'])\n",
    "    preds = preds.detach().cpu().numpy()\n",
    "    total_preds.append(preds)\n",
    "    del preds"
   ]
  },
  {
   "cell_type": "code",
   "execution_count": 30,
   "metadata": {},
   "outputs": [],
   "source": [
    "preds = [np.exp(pred) for pred in total_preds]\n",
    "preds = [np.argmax(pred) for pred in total_preds]"
   ]
  },
  {
   "cell_type": "code",
   "execution_count": 31,
   "metadata": {},
   "outputs": [],
   "source": [
    "submission = pd.DataFrame()"
   ]
  },
  {
   "cell_type": "code",
   "execution_count": 32,
   "metadata": {},
   "outputs": [],
   "source": [
    "submission['Id'] = test_df['Id']\n",
    "submission['Category'] = preds"
   ]
  },
  {
   "cell_type": "code",
   "execution_count": 33,
   "metadata": {},
   "outputs": [],
   "source": [
    "submission.to_csv('random_soum.csv',index=False)"
   ]
  },
  {
   "cell_type": "code",
   "execution_count": null,
   "metadata": {},
   "outputs": [],
   "source": []
  }
 ],
 "metadata": {
  "colab": {
   "authorship_tag": "ABX9TyOiFO7kH8BNJnrr5sQt7ela",
   "collapsed_sections": [],
   "mount_file_id": "1kUrM1YVCeGVysEaGY6DaOnx8EG1oho0T",
   "name": "defi_ia_notebook.ipynb",
   "provenance": []
  },
  "kernelspec": {
   "display_name": "Python 3.7.9 64-bit ('ma-gym': conda)",
   "language": "python",
   "name": "python37964bitmagymcondad4f0966e43384e928899b2eef06108e5"
  },
  "language_info": {
   "codemirror_mode": {
    "name": "ipython",
    "version": 3
   },
   "file_extension": ".py",
   "mimetype": "text/x-python",
   "name": "python",
   "nbconvert_exporter": "python",
   "pygments_lexer": "ipython3",
   "version": "3.7.9"
  },
  "widgets": {
   "application/vnd.jupyter.widget-state+json": {
    "068aa434c73a48248a247bf3bb00219e": {
     "model_module": "@jupyter-widgets/base",
     "model_name": "LayoutModel",
     "state": {
      "_model_module": "@jupyter-widgets/base",
      "_model_module_version": "1.2.0",
      "_model_name": "LayoutModel",
      "_view_count": null,
      "_view_module": "@jupyter-widgets/base",
      "_view_module_version": "1.2.0",
      "_view_name": "LayoutView",
      "align_content": null,
      "align_items": null,
      "align_self": null,
      "border": null,
      "bottom": null,
      "display": null,
      "flex": null,
      "flex_flow": null,
      "grid_area": null,
      "grid_auto_columns": null,
      "grid_auto_flow": null,
      "grid_auto_rows": null,
      "grid_column": null,
      "grid_gap": null,
      "grid_row": null,
      "grid_template_areas": null,
      "grid_template_columns": null,
      "grid_template_rows": null,
      "height": null,
      "justify_content": null,
      "justify_items": null,
      "left": null,
      "margin": null,
      "max_height": null,
      "max_width": null,
      "min_height": null,
      "min_width": null,
      "object_fit": null,
      "object_position": null,
      "order": null,
      "overflow": null,
      "overflow_x": null,
      "overflow_y": null,
      "padding": null,
      "right": null,
      "top": null,
      "visibility": null,
      "width": null
     }
    },
    "0869726f74204fe898f99523abcc1121": {
     "model_module": "@jupyter-widgets/controls",
     "model_name": "FloatProgressModel",
     "state": {
      "_dom_classes": [],
      "_model_module": "@jupyter-widgets/controls",
      "_model_module_version": "1.5.0",
      "_model_name": "FloatProgressModel",
      "_view_count": null,
      "_view_module": "@jupyter-widgets/controls",
      "_view_module_version": "1.5.0",
      "_view_name": "ProgressView",
      "bar_style": "success",
      "description": "Downloading: 100%",
      "description_tooltip": null,
      "layout": "IPY_MODEL_de1a481186884024bd7157dfbb310b3e",
      "max": 440473133,
      "min": 0,
      "orientation": "horizontal",
      "style": "IPY_MODEL_eea2477986584b27998809147e6516b6",
      "value": 440473133
     }
    },
    "307834e91d584b2f9d55e5d381d0d31c": {
     "model_module": "@jupyter-widgets/base",
     "model_name": "LayoutModel",
     "state": {
      "_model_module": "@jupyter-widgets/base",
      "_model_module_version": "1.2.0",
      "_model_name": "LayoutModel",
      "_view_count": null,
      "_view_module": "@jupyter-widgets/base",
      "_view_module_version": "1.2.0",
      "_view_name": "LayoutView",
      "align_content": null,
      "align_items": null,
      "align_self": null,
      "border": null,
      "bottom": null,
      "display": null,
      "flex": null,
      "flex_flow": null,
      "grid_area": null,
      "grid_auto_columns": null,
      "grid_auto_flow": null,
      "grid_auto_rows": null,
      "grid_column": null,
      "grid_gap": null,
      "grid_row": null,
      "grid_template_areas": null,
      "grid_template_columns": null,
      "grid_template_rows": null,
      "height": null,
      "justify_content": null,
      "justify_items": null,
      "left": null,
      "margin": null,
      "max_height": null,
      "max_width": null,
      "min_height": null,
      "min_width": null,
      "object_fit": null,
      "object_position": null,
      "order": null,
      "overflow": null,
      "overflow_x": null,
      "overflow_y": null,
      "padding": null,
      "right": null,
      "top": null,
      "visibility": null,
      "width": null
     }
    },
    "34a342d97640460b908d872874c547c0": {
     "model_module": "@jupyter-widgets/controls",
     "model_name": "HTMLModel",
     "state": {
      "_dom_classes": [],
      "_model_module": "@jupyter-widgets/controls",
      "_model_module_version": "1.5.0",
      "_model_name": "HTMLModel",
      "_view_count": null,
      "_view_module": "@jupyter-widgets/controls",
      "_view_module_version": "1.5.0",
      "_view_name": "HTMLView",
      "description": "",
      "description_tooltip": null,
      "layout": "IPY_MODEL_e114e39bf66b4b92ad1465dd0ae76ea8",
      "placeholder": "​",
      "style": "IPY_MODEL_6f200e0903b44bbea01df7dde02b9a65",
      "value": " 440M/440M [10:15&lt;00:00, 716kB/s]"
     }
    },
    "4b46df27e84343a6ac2a27847645a863": {
     "model_module": "@jupyter-widgets/controls",
     "model_name": "ProgressStyleModel",
     "state": {
      "_model_module": "@jupyter-widgets/controls",
      "_model_module_version": "1.5.0",
      "_model_name": "ProgressStyleModel",
      "_view_count": null,
      "_view_module": "@jupyter-widgets/base",
      "_view_module_version": "1.2.0",
      "_view_name": "StyleView",
      "bar_color": null,
      "description_width": "initial"
     }
    },
    "627719943ff94ab39c1f5560d3a0a1dc": {
     "model_module": "@jupyter-widgets/controls",
     "model_name": "DescriptionStyleModel",
     "state": {
      "_model_module": "@jupyter-widgets/controls",
      "_model_module_version": "1.5.0",
      "_model_name": "DescriptionStyleModel",
      "_view_count": null,
      "_view_module": "@jupyter-widgets/base",
      "_view_module_version": "1.2.0",
      "_view_name": "StyleView",
      "description_width": ""
     }
    },
    "681fdd42ad9448b68ad5b665dc6d1857": {
     "model_module": "@jupyter-widgets/controls",
     "model_name": "HBoxModel",
     "state": {
      "_dom_classes": [],
      "_model_module": "@jupyter-widgets/controls",
      "_model_module_version": "1.5.0",
      "_model_name": "HBoxModel",
      "_view_count": null,
      "_view_module": "@jupyter-widgets/controls",
      "_view_module_version": "1.5.0",
      "_view_name": "HBoxView",
      "box_style": "",
      "children": [
       "IPY_MODEL_0869726f74204fe898f99523abcc1121",
       "IPY_MODEL_34a342d97640460b908d872874c547c0"
      ],
      "layout": "IPY_MODEL_307834e91d584b2f9d55e5d381d0d31c"
     }
    },
    "6f200e0903b44bbea01df7dde02b9a65": {
     "model_module": "@jupyter-widgets/controls",
     "model_name": "DescriptionStyleModel",
     "state": {
      "_model_module": "@jupyter-widgets/controls",
      "_model_module_version": "1.5.0",
      "_model_name": "DescriptionStyleModel",
      "_view_count": null,
      "_view_module": "@jupyter-widgets/base",
      "_view_module_version": "1.2.0",
      "_view_name": "StyleView",
      "description_width": ""
     }
    },
    "7859513cebd24a3eaab1cbd63da0e24c": {
     "model_module": "@jupyter-widgets/base",
     "model_name": "LayoutModel",
     "state": {
      "_model_module": "@jupyter-widgets/base",
      "_model_module_version": "1.2.0",
      "_model_name": "LayoutModel",
      "_view_count": null,
      "_view_module": "@jupyter-widgets/base",
      "_view_module_version": "1.2.0",
      "_view_name": "LayoutView",
      "align_content": null,
      "align_items": null,
      "align_self": null,
      "border": null,
      "bottom": null,
      "display": null,
      "flex": null,
      "flex_flow": null,
      "grid_area": null,
      "grid_auto_columns": null,
      "grid_auto_flow": null,
      "grid_auto_rows": null,
      "grid_column": null,
      "grid_gap": null,
      "grid_row": null,
      "grid_template_areas": null,
      "grid_template_columns": null,
      "grid_template_rows": null,
      "height": null,
      "justify_content": null,
      "justify_items": null,
      "left": null,
      "margin": null,
      "max_height": null,
      "max_width": null,
      "min_height": null,
      "min_width": null,
      "object_fit": null,
      "object_position": null,
      "order": null,
      "overflow": null,
      "overflow_x": null,
      "overflow_y": null,
      "padding": null,
      "right": null,
      "top": null,
      "visibility": null,
      "width": null
     }
    },
    "9223b8a8577641e2b361437bc4e23555": {
     "model_module": "@jupyter-widgets/controls",
     "model_name": "HTMLModel",
     "state": {
      "_dom_classes": [],
      "_model_module": "@jupyter-widgets/controls",
      "_model_module_version": "1.5.0",
      "_model_name": "HTMLModel",
      "_view_count": null,
      "_view_module": "@jupyter-widgets/controls",
      "_view_module_version": "1.5.0",
      "_view_name": "HTMLView",
      "description": "",
      "description_tooltip": null,
      "layout": "IPY_MODEL_f67ebf385e09474db0b1b2817591944c",
      "placeholder": "​",
      "style": "IPY_MODEL_627719943ff94ab39c1f5560d3a0a1dc",
      "value": " 433/433 [00:00&lt;00:00, 849B/s]"
     }
    },
    "d51ed6dc16d24ab491a6ec33d5ab7250": {
     "model_module": "@jupyter-widgets/controls",
     "model_name": "FloatProgressModel",
     "state": {
      "_dom_classes": [],
      "_model_module": "@jupyter-widgets/controls",
      "_model_module_version": "1.5.0",
      "_model_name": "FloatProgressModel",
      "_view_count": null,
      "_view_module": "@jupyter-widgets/controls",
      "_view_module_version": "1.5.0",
      "_view_name": "ProgressView",
      "bar_style": "success",
      "description": "Downloading: 100%",
      "description_tooltip": null,
      "layout": "IPY_MODEL_068aa434c73a48248a247bf3bb00219e",
      "max": 433,
      "min": 0,
      "orientation": "horizontal",
      "style": "IPY_MODEL_4b46df27e84343a6ac2a27847645a863",
      "value": 433
     }
    },
    "de1a481186884024bd7157dfbb310b3e": {
     "model_module": "@jupyter-widgets/base",
     "model_name": "LayoutModel",
     "state": {
      "_model_module": "@jupyter-widgets/base",
      "_model_module_version": "1.2.0",
      "_model_name": "LayoutModel",
      "_view_count": null,
      "_view_module": "@jupyter-widgets/base",
      "_view_module_version": "1.2.0",
      "_view_name": "LayoutView",
      "align_content": null,
      "align_items": null,
      "align_self": null,
      "border": null,
      "bottom": null,
      "display": null,
      "flex": null,
      "flex_flow": null,
      "grid_area": null,
      "grid_auto_columns": null,
      "grid_auto_flow": null,
      "grid_auto_rows": null,
      "grid_column": null,
      "grid_gap": null,
      "grid_row": null,
      "grid_template_areas": null,
      "grid_template_columns": null,
      "grid_template_rows": null,
      "height": null,
      "justify_content": null,
      "justify_items": null,
      "left": null,
      "margin": null,
      "max_height": null,
      "max_width": null,
      "min_height": null,
      "min_width": null,
      "object_fit": null,
      "object_position": null,
      "order": null,
      "overflow": null,
      "overflow_x": null,
      "overflow_y": null,
      "padding": null,
      "right": null,
      "top": null,
      "visibility": null,
      "width": null
     }
    },
    "e114e39bf66b4b92ad1465dd0ae76ea8": {
     "model_module": "@jupyter-widgets/base",
     "model_name": "LayoutModel",
     "state": {
      "_model_module": "@jupyter-widgets/base",
      "_model_module_version": "1.2.0",
      "_model_name": "LayoutModel",
      "_view_count": null,
      "_view_module": "@jupyter-widgets/base",
      "_view_module_version": "1.2.0",
      "_view_name": "LayoutView",
      "align_content": null,
      "align_items": null,
      "align_self": null,
      "border": null,
      "bottom": null,
      "display": null,
      "flex": null,
      "flex_flow": null,
      "grid_area": null,
      "grid_auto_columns": null,
      "grid_auto_flow": null,
      "grid_auto_rows": null,
      "grid_column": null,
      "grid_gap": null,
      "grid_row": null,
      "grid_template_areas": null,
      "grid_template_columns": null,
      "grid_template_rows": null,
      "height": null,
      "justify_content": null,
      "justify_items": null,
      "left": null,
      "margin": null,
      "max_height": null,
      "max_width": null,
      "min_height": null,
      "min_width": null,
      "object_fit": null,
      "object_position": null,
      "order": null,
      "overflow": null,
      "overflow_x": null,
      "overflow_y": null,
      "padding": null,
      "right": null,
      "top": null,
      "visibility": null,
      "width": null
     }
    },
    "eea2477986584b27998809147e6516b6": {
     "model_module": "@jupyter-widgets/controls",
     "model_name": "ProgressStyleModel",
     "state": {
      "_model_module": "@jupyter-widgets/controls",
      "_model_module_version": "1.5.0",
      "_model_name": "ProgressStyleModel",
      "_view_count": null,
      "_view_module": "@jupyter-widgets/base",
      "_view_module_version": "1.2.0",
      "_view_name": "StyleView",
      "bar_color": null,
      "description_width": "initial"
     }
    },
    "f20931b8c05142efaf97886e434435ea": {
     "model_module": "@jupyter-widgets/controls",
     "model_name": "HBoxModel",
     "state": {
      "_dom_classes": [],
      "_model_module": "@jupyter-widgets/controls",
      "_model_module_version": "1.5.0",
      "_model_name": "HBoxModel",
      "_view_count": null,
      "_view_module": "@jupyter-widgets/controls",
      "_view_module_version": "1.5.0",
      "_view_name": "HBoxView",
      "box_style": "",
      "children": [
       "IPY_MODEL_d51ed6dc16d24ab491a6ec33d5ab7250",
       "IPY_MODEL_9223b8a8577641e2b361437bc4e23555"
      ],
      "layout": "IPY_MODEL_7859513cebd24a3eaab1cbd63da0e24c"
     }
    },
    "f67ebf385e09474db0b1b2817591944c": {
     "model_module": "@jupyter-widgets/base",
     "model_name": "LayoutModel",
     "state": {
      "_model_module": "@jupyter-widgets/base",
      "_model_module_version": "1.2.0",
      "_model_name": "LayoutModel",
      "_view_count": null,
      "_view_module": "@jupyter-widgets/base",
      "_view_module_version": "1.2.0",
      "_view_name": "LayoutView",
      "align_content": null,
      "align_items": null,
      "align_self": null,
      "border": null,
      "bottom": null,
      "display": null,
      "flex": null,
      "flex_flow": null,
      "grid_area": null,
      "grid_auto_columns": null,
      "grid_auto_flow": null,
      "grid_auto_rows": null,
      "grid_column": null,
      "grid_gap": null,
      "grid_row": null,
      "grid_template_areas": null,
      "grid_template_columns": null,
      "grid_template_rows": null,
      "height": null,
      "justify_content": null,
      "justify_items": null,
      "left": null,
      "margin": null,
      "max_height": null,
      "max_width": null,
      "min_height": null,
      "min_width": null,
      "object_fit": null,
      "object_position": null,
      "order": null,
      "overflow": null,
      "overflow_x": null,
      "overflow_y": null,
      "padding": null,
      "right": null,
      "top": null,
      "visibility": null,
      "width": null
     }
    }
   }
  }
 },
 "nbformat": 4,
 "nbformat_minor": 1
}
